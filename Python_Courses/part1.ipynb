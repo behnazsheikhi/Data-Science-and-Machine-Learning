{
 "cells": [
  {
   "cell_type": "code",
   "execution_count": 20,
   "id": "01514109",
   "metadata": {},
   "outputs": [],
   "source": [
    "name=\"Behnaz\"\n",
    "age=32"
   ]
  },
  {
   "cell_type": "code",
   "execution_count": 21,
   "id": "79c3aac5",
   "metadata": {},
   "outputs": [
    {
     "data": {
      "text/plain": [
       "'My name is Behnaz and my family is 32'"
      ]
     },
     "execution_count": 21,
     "metadata": {},
     "output_type": "execute_result"
    }
   ],
   "source": [
    "\"My name is {} and my family is {}\".format(name,age)"
   ]
  },
  {
   "cell_type": "code",
   "execution_count": 24,
   "id": "c3f7aef2",
   "metadata": {},
   "outputs": [
    {
     "name": "stdout",
     "output_type": "stream",
     "text": [
      "My name is Behnaz and my family is 32\n"
     ]
    }
   ],
   "source": [
    "print(\"My name is {} and my family is {}\".format(name,age))"
   ]
  },
  {
   "cell_type": "code",
   "execution_count": 25,
   "id": "b2baf34e",
   "metadata": {},
   "outputs": [
    {
     "name": "stdout",
     "output_type": "stream",
     "text": [
      "my name is Behnaz and my age is 32\n"
     ]
    }
   ],
   "source": [
    "print(\"my name is {n} and my age is {a}\".format(n=name,a=age))"
   ]
  },
  {
   "cell_type": "code",
   "execution_count": 23,
   "id": "75494c0f",
   "metadata": {},
   "outputs": [
    {
     "name": "stdout",
     "output_type": "stream",
     "text": [
      "my name is Behnaz and my age is 32\n"
     ]
    }
   ],
   "source": [
    "print(f\"my name is {name} and my age is {age}\")"
   ]
  },
  {
   "cell_type": "code",
   "execution_count": 28,
   "id": "4ff7a00c",
   "metadata": {},
   "outputs": [],
   "source": [
    "name_male=\"Alireza\"\n"
   ]
  },
  {
   "cell_type": "code",
   "execution_count": 33,
   "id": "5f48cdc9",
   "metadata": {},
   "outputs": [
    {
     "data": {
      "text/plain": [
       "'A l i r e z a'"
      ]
     },
     "execution_count": 33,
     "metadata": {},
     "output_type": "execute_result"
    }
   ],
   "source": [
    "\" \".join(name_male)"
   ]
  },
  {
   "cell_type": "code",
   "execution_count": 34,
   "id": "75e96943",
   "metadata": {},
   "outputs": [
    {
     "data": {
      "text/plain": [
       "'azerilA'"
      ]
     },
     "execution_count": 34,
     "metadata": {},
     "output_type": "execute_result"
    }
   ],
   "source": [
    "name_male[::-1]"
   ]
  },
  {
   "cell_type": "code",
   "execution_count": 37,
   "id": "30b4449c",
   "metadata": {},
   "outputs": [],
   "source": [
    "dic={\"key1\":\"value1\",\"Key2\":123}"
   ]
  },
  {
   "cell_type": "code",
   "execution_count": 38,
   "id": "009b9965",
   "metadata": {},
   "outputs": [
    {
     "data": {
      "text/plain": [
       "{'key1': 'value1', 'Key2': 123}"
      ]
     },
     "execution_count": 38,
     "metadata": {},
     "output_type": "execute_result"
    }
   ],
   "source": [
    "dic"
   ]
  },
  {
   "cell_type": "code",
   "execution_count": 44,
   "id": "71f087d9",
   "metadata": {},
   "outputs": [
    {
     "data": {
      "text/plain": [
       "'value1'"
      ]
     },
     "execution_count": 44,
     "metadata": {},
     "output_type": "execute_result"
    }
   ],
   "source": [
    "dic['key1']"
   ]
  },
  {
   "cell_type": "code",
   "execution_count": 45,
   "id": "a47ed49c",
   "metadata": {},
   "outputs": [
    {
     "data": {
      "text/plain": [
       "'hello'"
      ]
     },
     "execution_count": 45,
     "metadata": {},
     "output_type": "execute_result"
    }
   ],
   "source": [
    "dic[\"key1\"]=\"hello\"\n",
    "dic[\"key1\"]"
   ]
  },
  {
   "cell_type": "code",
   "execution_count": null,
   "id": "f4c404af",
   "metadata": {},
   "outputs": [],
   "source": []
  },
  {
   "cell_type": "code",
   "execution_count": 40,
   "id": "c8ba3529",
   "metadata": {},
   "outputs": [],
   "source": [
    "s={1,1,1,2,2,5,5,3}"
   ]
  },
  {
   "cell_type": "code",
   "execution_count": 41,
   "id": "266e4282",
   "metadata": {},
   "outputs": [
    {
     "data": {
      "text/plain": [
       "{1, 2, 3, 5}"
      ]
     },
     "execution_count": 41,
     "metadata": {},
     "output_type": "execute_result"
    }
   ],
   "source": [
    "s"
   ]
  },
  {
   "cell_type": "code",
   "execution_count": 42,
   "id": "2418ae55",
   "metadata": {},
   "outputs": [
    {
     "data": {
      "text/plain": [
       "{1, 2, 3, 5, 6}"
      ]
     },
     "execution_count": 42,
     "metadata": {},
     "output_type": "execute_result"
    }
   ],
   "source": [
    "s.add(6)\n",
    "s"
   ]
  },
  {
   "cell_type": "code",
   "execution_count": 43,
   "id": "0e2c2f13",
   "metadata": {},
   "outputs": [
    {
     "data": {
      "text/plain": [
       "{1, 3, 7, 8}"
      ]
     },
     "execution_count": 43,
     "metadata": {},
     "output_type": "execute_result"
    }
   ],
   "source": [
    "b=set([1,8,7,1,1,8,7,3])\n",
    "b"
   ]
  },
  {
   "cell_type": "code",
   "execution_count": 46,
   "id": "d81e23d5",
   "metadata": {},
   "outputs": [
    {
     "data": {
      "text/plain": [
       "[1, 2, 6]"
      ]
     },
     "execution_count": 46,
     "metadata": {},
     "output_type": "execute_result"
    }
   ],
   "source": [
    "r=[1,2,6]\n",
    "r"
   ]
  },
  {
   "cell_type": "code",
   "execution_count": 48,
   "id": "3dea9023",
   "metadata": {},
   "outputs": [
    {
     "data": {
      "text/plain": [
       "[1, 2, 6, 3, 3]"
      ]
     },
     "execution_count": 48,
     "metadata": {},
     "output_type": "execute_result"
    }
   ],
   "source": [
    "r.append(3)\n",
    "r"
   ]
  },
  {
   "cell_type": "code",
   "execution_count": 50,
   "id": "0a2e06a0",
   "metadata": {},
   "outputs": [
    {
     "data": {
      "text/plain": [
       "[1, 2, 6, 'hello', 3]"
      ]
     },
     "execution_count": 50,
     "metadata": {},
     "output_type": "execute_result"
    }
   ],
   "source": [
    "r[3]=\"hello\"\n",
    "r"
   ]
  },
  {
   "cell_type": "code",
   "execution_count": 53,
   "id": "67d41777",
   "metadata": {},
   "outputs": [
    {
     "data": {
      "text/plain": [
       "(1, 2, 3, 6)"
      ]
     },
     "execution_count": 53,
     "metadata": {},
     "output_type": "execute_result"
    }
   ],
   "source": [
    "t=(1,2,3,6)\n",
    "t"
   ]
  },
  {
   "cell_type": "markdown",
   "id": "9b02a262",
   "metadata": {},
   "source": [
    "tuples are immutable"
   ]
  },
  {
   "cell_type": "code",
   "execution_count": 52,
   "id": "bfc582f2",
   "metadata": {
    "scrolled": true
   },
   "outputs": [
    {
     "ename": "TypeError",
     "evalue": "'tuple' object does not support item assignment",
     "output_type": "error",
     "traceback": [
      "\u001b[0;31m---------------------------------------------------------------------------\u001b[0m",
      "\u001b[0;31mTypeError\u001b[0m                                 Traceback (most recent call last)",
      "\u001b[0;32m<ipython-input-52-da9a15fa6954>\u001b[0m in \u001b[0;36m<module>\u001b[0;34m\u001b[0m\n\u001b[0;32m----> 1\u001b[0;31m \u001b[0mt\u001b[0m\u001b[0;34m[\u001b[0m\u001b[0;36m3\u001b[0m\u001b[0;34m]\u001b[0m\u001b[0;34m=\u001b[0m\u001b[0;34m\"hello\"\u001b[0m\u001b[0;34m\u001b[0m\u001b[0;34m\u001b[0m\u001b[0m\n\u001b[0m\u001b[1;32m      2\u001b[0m \u001b[0mt\u001b[0m\u001b[0;34m\u001b[0m\u001b[0;34m\u001b[0m\u001b[0m\n",
      "\u001b[0;31mTypeError\u001b[0m: 'tuple' object does not support item assignment"
     ]
    }
   ],
   "source": [
    "t[3]=\"hello\"\n",
    "t"
   ]
  },
  {
   "cell_type": "code",
   "execution_count": 54,
   "id": "e3e584a8",
   "metadata": {},
   "outputs": [
    {
     "data": {
      "text/plain": [
       "[0, 1, 2, 3, 4]"
      ]
     },
     "execution_count": 54,
     "metadata": {},
     "output_type": "execute_result"
    }
   ],
   "source": [
    "x=[x for x in range(5)]\n",
    "x"
   ]
  },
  {
   "cell_type": "code",
   "execution_count": 56,
   "id": "aa9e4df8",
   "metadata": {},
   "outputs": [
    {
     "data": {
      "text/plain": [
       "[0, 2, 4]"
      ]
     },
     "execution_count": 56,
     "metadata": {},
     "output_type": "execute_result"
    }
   ],
   "source": [
    "y=[x for x in range(5) if x%2==0]\n",
    "y"
   ]
  },
  {
   "cell_type": "code",
   "execution_count": 58,
   "id": "538a21da",
   "metadata": {},
   "outputs": [],
   "source": [
    "def my_func(name):\n",
    "    \"\"\"  these are the documentation of the file \n",
    "    \"\"\"  \n",
    "    return name"
   ]
  },
  {
   "cell_type": "code",
   "execution_count": 59,
   "id": "cef856cc",
   "metadata": {},
   "outputs": [
    {
     "data": {
      "text/plain": [
       "'Behnaz'"
      ]
     },
     "execution_count": 59,
     "metadata": {},
     "output_type": "execute_result"
    }
   ],
   "source": [
    "name=my_func(\"Behnaz\")\n",
    "name"
   ]
  },
  {
   "cell_type": "code",
   "execution_count": 60,
   "id": "95f12fed",
   "metadata": {},
   "outputs": [],
   "source": [
    "def my_func_two(num):\n",
    "    return num**2"
   ]
  },
  {
   "cell_type": "code",
   "execution_count": null,
   "id": "f150aa11",
   "metadata": {},
   "outputs": [],
   "source": []
  },
  {
   "cell_type": "code",
   "execution_count": 61,
   "id": "8bdcd01b",
   "metadata": {},
   "outputs": [
    {
     "name": "stdout",
     "output_type": "stream",
     "text": [
      "16\n"
     ]
    }
   ],
   "source": [
    "result=my_func_two(4)\n",
    "print(result)"
   ]
  },
  {
   "cell_type": "code",
   "execution_count": 63,
   "id": "2c73bc22",
   "metadata": {},
   "outputs": [
    {
     "name": "stdout",
     "output_type": "stream",
     "text": [
      "[1, 4, 9, 16]\n"
     ]
    }
   ],
   "source": [
    "new_array=[1,2,3,4]\n",
    "result=list(map(my_func_two,new_array))\n",
    "print(result)"
   ]
  },
  {
   "cell_type": "markdown",
   "id": "a0690f4c",
   "metadata": {},
   "source": [
    "Change function to lambda\n"
   ]
  },
  {
   "cell_type": "code",
   "execution_count": 64,
   "id": "7c7ddc7c",
   "metadata": {},
   "outputs": [],
   "source": [
    "t=lambda num:num**2"
   ]
  },
  {
   "cell_type": "code",
   "execution_count": 65,
   "id": "2443ba65",
   "metadata": {},
   "outputs": [
    {
     "name": "stdout",
     "output_type": "stream",
     "text": [
      "[1, 4, 9, 16]\n"
     ]
    }
   ],
   "source": [
    "result=list(map(t,new_array))\n",
    "print(result)"
   ]
  },
  {
   "cell_type": "code",
   "execution_count": 66,
   "id": "4fe3a361",
   "metadata": {},
   "outputs": [
    {
     "name": "stdout",
     "output_type": "stream",
     "text": [
      "[1, 8, 27, 64]\n"
     ]
    }
   ],
   "source": [
    "result=list(map( lambda num:num**3,new_array))\n",
    "print(result)"
   ]
  },
  {
   "cell_type": "code",
   "execution_count": 69,
   "id": "04bb0793",
   "metadata": {},
   "outputs": [],
   "source": [
    "def my_func_three(num):\n",
    "    return num%2==0"
   ]
  },
  {
   "cell_type": "code",
   "execution_count": 72,
   "id": "b4edbfb8",
   "metadata": {},
   "outputs": [
    {
     "name": "stdout",
     "output_type": "stream",
     "text": [
      "[2, 8]\n"
     ]
    }
   ],
   "source": [
    "new_array=[1,2,5,8]\n",
    "result=list(filter(my_func_three,new_array))\n",
    "print(result)"
   ]
  },
  {
   "cell_type": "code",
   "execution_count": 73,
   "id": "4c73e88a",
   "metadata": {},
   "outputs": [
    {
     "name": "stdout",
     "output_type": "stream",
     "text": [
      "[2, 8]\n"
     ]
    }
   ],
   "source": [
    "new_array=[1,2,5,8]\n",
    "result=list(filter(lambda num:num%2==0,new_array))\n",
    "print(result)"
   ]
  }
 ],
 "metadata": {
  "kernelspec": {
   "display_name": "Python 3",
   "language": "python",
   "name": "python3"
  },
  "language_info": {
   "codemirror_mode": {
    "name": "ipython",
    "version": 3
   },
   "file_extension": ".py",
   "mimetype": "text/x-python",
   "name": "python",
   "nbconvert_exporter": "python",
   "pygments_lexer": "ipython3",
   "version": "3.8.8"
  }
 },
 "nbformat": 4,
 "nbformat_minor": 5
}
