{
 "cells": [
  {
   "cell_type": "code",
   "execution_count": 3,
   "id": "8c24751a",
   "metadata": {},
   "outputs": [],
   "source": [
    "import numpy as np\n",
    "import pandas as pd\n",
    "from plotly import __version__\n",
    "import chart_studio.plotly as py\n",
    "import cufflinks as  cf\n",
    "from plotly.offline import download_plotlyjs,init_notebook_mode,plot,iplot"
   ]
  },
  {
   "cell_type": "code",
   "execution_count": 11,
   "id": "d3fdd88c",
   "metadata": {},
   "outputs": [],
   "source": [
    "from plotly.offline import download_plotlyjs,init_notebook_mode,plot,iplot\n",
    "%matplotlib inline"
   ]
  },
  {
   "cell_type": "code",
   "execution_count": 2,
   "id": "907a566d",
   "metadata": {},
   "outputs": [
    {
     "name": "stdout",
     "output_type": "stream",
     "text": [
      "5.1.0\n"
     ]
    }
   ],
   "source": [
    "print(__version__)"
   ]
  },
  {
   "cell_type": "code",
   "execution_count": 5,
   "id": "e6323583",
   "metadata": {},
   "outputs": [
    {
     "data": {
      "text/html": [
       "        <script type=\"text/javascript\">\n",
       "        window.PlotlyConfig = {MathJaxConfig: 'local'};\n",
       "        if (window.MathJax) {MathJax.Hub.Config({SVG: {font: \"STIX-Web\"}});}\n",
       "        if (typeof require !== 'undefined') {\n",
       "        require.undef(\"plotly\");\n",
       "        requirejs.config({\n",
       "            paths: {\n",
       "                'plotly': ['https://cdn.plot.ly/plotly-2.2.0.min']\n",
       "            }\n",
       "        });\n",
       "        require(['plotly'], function(Plotly) {\n",
       "            window._Plotly = Plotly;\n",
       "        });\n",
       "        }\n",
       "        </script>\n",
       "        "
      ]
     },
     "metadata": {},
     "output_type": "display_data"
    }
   ],
   "source": [
    "init_notebook_mode(connected=True)"
   ]
  },
  {
   "cell_type": "code",
   "execution_count": 6,
   "id": "37287052",
   "metadata": {},
   "outputs": [
    {
     "data": {
      "text/html": [
       "        <script type=\"text/javascript\">\n",
       "        window.PlotlyConfig = {MathJaxConfig: 'local'};\n",
       "        if (window.MathJax) {MathJax.Hub.Config({SVG: {font: \"STIX-Web\"}});}\n",
       "        if (typeof require !== 'undefined') {\n",
       "        require.undef(\"plotly\");\n",
       "        requirejs.config({\n",
       "            paths: {\n",
       "                'plotly': ['https://cdn.plot.ly/plotly-2.2.0.min']\n",
       "            }\n",
       "        });\n",
       "        require(['plotly'], function(Plotly) {\n",
       "            window._Plotly = Plotly;\n",
       "        });\n",
       "        }\n",
       "        </script>\n",
       "        "
      ]
     },
     "metadata": {},
     "output_type": "display_data"
    }
   ],
   "source": [
    "cf.go_offline()"
   ]
  },
  {
   "cell_type": "code",
   "execution_count": 8,
   "id": "d81eb0d7",
   "metadata": {},
   "outputs": [
    {
     "data": {
      "text/html": [
       "<div>\n",
       "<style scoped>\n",
       "    .dataframe tbody tr th:only-of-type {\n",
       "        vertical-align: middle;\n",
       "    }\n",
       "\n",
       "    .dataframe tbody tr th {\n",
       "        vertical-align: top;\n",
       "    }\n",
       "\n",
       "    .dataframe thead th {\n",
       "        text-align: right;\n",
       "    }\n",
       "</style>\n",
       "<table border=\"1\" class=\"dataframe\">\n",
       "  <thead>\n",
       "    <tr style=\"text-align: right;\">\n",
       "      <th></th>\n",
       "      <th>A</th>\n",
       "      <th>B</th>\n",
       "      <th>C</th>\n",
       "      <th>D</th>\n",
       "    </tr>\n",
       "  </thead>\n",
       "  <tbody>\n",
       "    <tr>\n",
       "      <th>0</th>\n",
       "      <td>0.208589</td>\n",
       "      <td>-1.089994</td>\n",
       "      <td>-0.605098</td>\n",
       "      <td>-1.728346</td>\n",
       "    </tr>\n",
       "    <tr>\n",
       "      <th>1</th>\n",
       "      <td>-0.434266</td>\n",
       "      <td>-0.328343</td>\n",
       "      <td>-0.903548</td>\n",
       "      <td>0.792267</td>\n",
       "    </tr>\n",
       "    <tr>\n",
       "      <th>2</th>\n",
       "      <td>0.152244</td>\n",
       "      <td>0.924972</td>\n",
       "      <td>1.399906</td>\n",
       "      <td>0.332725</td>\n",
       "    </tr>\n",
       "    <tr>\n",
       "      <th>3</th>\n",
       "      <td>-1.407636</td>\n",
       "      <td>2.265847</td>\n",
       "      <td>0.203266</td>\n",
       "      <td>-0.864678</td>\n",
       "    </tr>\n",
       "    <tr>\n",
       "      <th>4</th>\n",
       "      <td>-1.878713</td>\n",
       "      <td>-1.967975</td>\n",
       "      <td>0.774866</td>\n",
       "      <td>-0.553328</td>\n",
       "    </tr>\n",
       "    <tr>\n",
       "      <th>...</th>\n",
       "      <td>...</td>\n",
       "      <td>...</td>\n",
       "      <td>...</td>\n",
       "      <td>...</td>\n",
       "    </tr>\n",
       "    <tr>\n",
       "      <th>95</th>\n",
       "      <td>0.426872</td>\n",
       "      <td>-0.574476</td>\n",
       "      <td>-1.460722</td>\n",
       "      <td>1.089493</td>\n",
       "    </tr>\n",
       "    <tr>\n",
       "      <th>96</th>\n",
       "      <td>-2.323478</td>\n",
       "      <td>-1.289017</td>\n",
       "      <td>-0.946019</td>\n",
       "      <td>1.050856</td>\n",
       "    </tr>\n",
       "    <tr>\n",
       "      <th>97</th>\n",
       "      <td>1.839098</td>\n",
       "      <td>-0.839750</td>\n",
       "      <td>-1.460715</td>\n",
       "      <td>0.178009</td>\n",
       "    </tr>\n",
       "    <tr>\n",
       "      <th>98</th>\n",
       "      <td>1.263968</td>\n",
       "      <td>-0.270319</td>\n",
       "      <td>0.336236</td>\n",
       "      <td>1.218131</td>\n",
       "    </tr>\n",
       "    <tr>\n",
       "      <th>99</th>\n",
       "      <td>1.654235</td>\n",
       "      <td>0.400649</td>\n",
       "      <td>0.371780</td>\n",
       "      <td>0.384321</td>\n",
       "    </tr>\n",
       "  </tbody>\n",
       "</table>\n",
       "<p>100 rows × 4 columns</p>\n",
       "</div>"
      ],
      "text/plain": [
       "           A         B         C         D\n",
       "0   0.208589 -1.089994 -0.605098 -1.728346\n",
       "1  -0.434266 -0.328343 -0.903548  0.792267\n",
       "2   0.152244  0.924972  1.399906  0.332725\n",
       "3  -1.407636  2.265847  0.203266 -0.864678\n",
       "4  -1.878713 -1.967975  0.774866 -0.553328\n",
       "..       ...       ...       ...       ...\n",
       "95  0.426872 -0.574476 -1.460722  1.089493\n",
       "96 -2.323478 -1.289017 -0.946019  1.050856\n",
       "97  1.839098 -0.839750 -1.460715  0.178009\n",
       "98  1.263968 -0.270319  0.336236  1.218131\n",
       "99  1.654235  0.400649  0.371780  0.384321\n",
       "\n",
       "[100 rows x 4 columns]"
      ]
     },
     "execution_count": 8,
     "metadata": {},
     "output_type": "execute_result"
    }
   ],
   "source": [
    "df=pd.DataFrame(np.random.randn(100,4),columns='A B C D'.split())\n",
    "df"
   ]
  },
  {
   "cell_type": "code",
   "execution_count": 9,
   "id": "b823e9b1",
   "metadata": {},
   "outputs": [
    {
     "data": {
      "text/html": [
       "<div>\n",
       "<style scoped>\n",
       "    .dataframe tbody tr th:only-of-type {\n",
       "        vertical-align: middle;\n",
       "    }\n",
       "\n",
       "    .dataframe tbody tr th {\n",
       "        vertical-align: top;\n",
       "    }\n",
       "\n",
       "    .dataframe thead th {\n",
       "        text-align: right;\n",
       "    }\n",
       "</style>\n",
       "<table border=\"1\" class=\"dataframe\">\n",
       "  <thead>\n",
       "    <tr style=\"text-align: right;\">\n",
       "      <th></th>\n",
       "      <th>A</th>\n",
       "      <th>B</th>\n",
       "      <th>C</th>\n",
       "      <th>D</th>\n",
       "    </tr>\n",
       "  </thead>\n",
       "  <tbody>\n",
       "    <tr>\n",
       "      <th>0</th>\n",
       "      <td>0.208589</td>\n",
       "      <td>-1.089994</td>\n",
       "      <td>-0.605098</td>\n",
       "      <td>-1.728346</td>\n",
       "    </tr>\n",
       "    <tr>\n",
       "      <th>1</th>\n",
       "      <td>-0.434266</td>\n",
       "      <td>-0.328343</td>\n",
       "      <td>-0.903548</td>\n",
       "      <td>0.792267</td>\n",
       "    </tr>\n",
       "    <tr>\n",
       "      <th>2</th>\n",
       "      <td>0.152244</td>\n",
       "      <td>0.924972</td>\n",
       "      <td>1.399906</td>\n",
       "      <td>0.332725</td>\n",
       "    </tr>\n",
       "    <tr>\n",
       "      <th>3</th>\n",
       "      <td>-1.407636</td>\n",
       "      <td>2.265847</td>\n",
       "      <td>0.203266</td>\n",
       "      <td>-0.864678</td>\n",
       "    </tr>\n",
       "    <tr>\n",
       "      <th>4</th>\n",
       "      <td>-1.878713</td>\n",
       "      <td>-1.967975</td>\n",
       "      <td>0.774866</td>\n",
       "      <td>-0.553328</td>\n",
       "    </tr>\n",
       "  </tbody>\n",
       "</table>\n",
       "</div>"
      ],
      "text/plain": [
       "          A         B         C         D\n",
       "0  0.208589 -1.089994 -0.605098 -1.728346\n",
       "1 -0.434266 -0.328343 -0.903548  0.792267\n",
       "2  0.152244  0.924972  1.399906  0.332725\n",
       "3 -1.407636  2.265847  0.203266 -0.864678\n",
       "4 -1.878713 -1.967975  0.774866 -0.553328"
      ]
     },
     "execution_count": 9,
     "metadata": {},
     "output_type": "execute_result"
    }
   ],
   "source": [
    "df.head()"
   ]
  },
  {
   "cell_type": "code",
   "execution_count": 10,
   "id": "b747da87",
   "metadata": {},
   "outputs": [
    {
     "data": {
      "text/html": [
       "<div>\n",
       "<style scoped>\n",
       "    .dataframe tbody tr th:only-of-type {\n",
       "        vertical-align: middle;\n",
       "    }\n",
       "\n",
       "    .dataframe tbody tr th {\n",
       "        vertical-align: top;\n",
       "    }\n",
       "\n",
       "    .dataframe thead th {\n",
       "        text-align: right;\n",
       "    }\n",
       "</style>\n",
       "<table border=\"1\" class=\"dataframe\">\n",
       "  <thead>\n",
       "    <tr style=\"text-align: right;\">\n",
       "      <th></th>\n",
       "      <th>category</th>\n",
       "      <th>values</th>\n",
       "    </tr>\n",
       "  </thead>\n",
       "  <tbody>\n",
       "    <tr>\n",
       "      <th>0</th>\n",
       "      <td>A</td>\n",
       "      <td>12</td>\n",
       "    </tr>\n",
       "    <tr>\n",
       "      <th>1</th>\n",
       "      <td>B</td>\n",
       "      <td>14</td>\n",
       "    </tr>\n",
       "    <tr>\n",
       "      <th>2</th>\n",
       "      <td>C</td>\n",
       "      <td>16</td>\n",
       "    </tr>\n",
       "    <tr>\n",
       "      <th>3</th>\n",
       "      <td>D</td>\n",
       "      <td>50</td>\n",
       "    </tr>\n",
       "  </tbody>\n",
       "</table>\n",
       "</div>"
      ],
      "text/plain": [
       "  category  values\n",
       "0        A      12\n",
       "1        B      14\n",
       "2        C      16\n",
       "3        D      50"
      ]
     },
     "execution_count": 10,
     "metadata": {},
     "output_type": "execute_result"
    }
   ],
   "source": [
    "df2=pd.DataFrame({'category':['A','B','C','D'],'values':[12,14,16,50]})\n",
    "df2"
   ]
  },
  {
   "cell_type": "code",
   "execution_count": 12,
   "id": "a92fc358",
   "metadata": {},
   "outputs": [
    {
     "data": {
      "text/plain": [
       "<AxesSubplot:>"
      ]
     },
     "execution_count": 12,
     "metadata": {},
     "output_type": "execute_result"
    },
    {
     "data": {
      "image/png": "[encoded data removed]",
      "text/plain": [
       "<Figure size 432x288 with 1 Axes>"
      ]
     },
     "metadata": {
      "needs_background": "light"
     },
     "output_type": "display_data"
    }
   ],
   "source": [
    "df.plot()"
   ]
  },
  {
   "cell_type": "code",
   "execution_count": 14,
   "id": "1a1e7878",
   "metadata": {},
   "outputs": [
    {
     "data": {
      "application/vnd.plotly.v1+json": {
       "config": {
        "linkText": "Export to plot.ly",
        "plotlyServerURL": "https://plot.ly",
        "showLink": true
       },
       "data": [
        {
         "line": {
          "color": "rgba(255, 153, 51, 1.0)",
          "dash": "solid",
          "shape": "linear",
          "width": 1.3
         },
         "mode": "lines",
         "name": "A",
         "text": "",
         "type": "scatter",
         "x": [
          0,
          1,
          2,
          3,
          4,
          5,
          6,
          7,
          8,
          9,
          10,
          11,
          12,
          13,
          14,
          15,
          16,
          17,
          18,
          19,
          20,
          21,
          22,
          23,
          24,
          25,
          26,
          27,
          28,
          29,
          30,
          31,
          32,
          33,
          34,
          35,
          36,
          37,
          38,
          39,
          40,
          41,
          42,
          43,
          44,
          45,
          46,
          47,
          48,
          49,
          50,
          51,
          52,
          53,
          54,
          55,
          56,
          57,
          58,
          59,
          60,
          61,
          62,
          63,
          64,
          65,
          66,
          67,
          68,
          69,
          70,
          71,
          72,
          73,
          74,
          75,
          76,
          77,
          78,
          79,
          80,
          81,
          82,
          83,
          84,
          85,
          86,
          87,
          88,
          89,
          90,
          91,
          92,
          93,
          94,
          95,
          96,
          97,
          98,
          99
         ],
         "y": [
          0.20858928925374165,
          -0.4342659365804992,
          0.15224425972204558,
          -1.4076364859048878,
          -1.8787133030357686,
          1.1141016130474,
          -0.014856903124838405,
          2.2980934492830407,
          -0.04537892657460305,
          0.37251593394002713,
          1.3160112807008706,
          -0.17426433245318806,
          -1.0676051347476219,
          0.35048603503154846,
          1.3995954370148027,
          0.31417325524307427,
          -0.03901252898133603,
          -0.7815522712797063,
          -1.4657470354223352,
          -0.10963875683423577,
          0.3414618118686473,
          1.8556025363714947,
          0.3857059012861465,
          0.9980034374445319,
          1.2369036414452386,
          -2.2112045923282877,
          -0.8039465980537963,
          1.2501257231512457,
          0.28072647683673607,
          0.8479650419673018,
          0.821856776990302,
          0.33703944666886576,
          0.2994135796999949,
          -1.0020739050520817,
          1.0492375923262964,
          1.4499683923774385,
          0.6771778865444542,
          -1.174173436607878,
          0.9380903401986462,
          0.7830429803693706,
          1.5612080447999004,
          -0.689867946889579,
          -0.012595428200974368,
          -0.07720029034540583,
          1.4459983734283515,
          -0.9818107095001324,
          1.192692753425027,
          -0.0427350127227039,
          -0.770256799555548,
          -2.325516663796394,
          -0.6431928762709359,
          0.3153997366164689,
          0.3874379394644579,
          1.039847925443799,
          -0.9392276561472361,
          0.030043034312859172,
          1.1374541985603328,
          -0.6299169960910088,
          -0.9632572236552438,
          0.46429902371477966,
          -0.21188270820025484,
          -1.071565489388745,
          -0.18972067388602754,
          -1.2528521719399608,
          0.15881994888242676,
          -0.0378086230861681,
          1.1167572500107146,
          0.0006074965995330983,
          -0.15191943738908428,
          1.55982623930444,
          0.6060812113709677,
          0.07197403153804605,
          -0.1892256296041631,
          0.3744916234702504,
          0.5371723431024327,
          0.3056813222755168,
          3.2724431765187476,
          0.5606360026261016,
          0.0797615201136642,
          2.1426154923643996,
          0.595063512231104,
          -2.0077243015777624,
          -1.3920962454797994,
          -1.496551961908376,
          0.7760365739615019,
          0.8822518019486779,
          1.0019935837931249,
          -0.6634189590571933,
          0.07849718855217555,
          0.059596466005808625,
          1.075688755634055,
          1.9898092690768672,
          0.05738664500122117,
          -1.1337520231610325,
          -0.25843487309297164,
          0.4268716302195559,
          -2.323477988994405,
          1.8390982353041838,
          1.2639675884889168,
          1.654235242842938
         ]
        },
        {
         "line": {
          "color": "rgba(55, 128, 191, 1.0)",
          "dash": "solid",
          "shape": "linear",
          "width": 1.3
         },
         "mode": "lines",
         "name": "B",
         "text": "",
         "type": "scatter",
         "x": [
          0,
          1,
          2,
          3,
          4,
          5,
          6,
          7,
          8,
          9,
          10,
          11,
          12,
          13,
          14,
          15,
          16,
          17,
          18,
          19,
          20,
          21,
          22,
          23,
          24,
          25,
          26,
          27,
          28,
          29,
          30,
          31,
          32,
          33,
          34,
          35,
          36,
          37,
          38,
          39,
          40,
          41,
          42,
          43,
          44,
          45,
          46,
          47,
          48,
          49,
          50,
          51,
          52,
          53,
          54,
          55,
          56,
          57,
          58,
          59,
          60,
          61,
          62,
          63,
          64,
          65,
          66,
          67,
          68,
          69,
          70,
          71,
          72,
          73,
          74,
          75,
          76,
          77,
          78,
          79,
          80,
          81,
          82,
          83,
          84,
          85,
          86,
          87,
          88,
          89,
          90,
          91,
          92,
          93,
          94,
          95,
          96,
          97,
          98,
          99
         ],
         "y": [
          -1.0899935075648546,
          -0.3283429263413677,
          0.9249715866272701,
          2.265847442190619,
          -1.9679748652286901,
          0.3522242836497475,
          -0.7922871395287938,
          -0.9258406713634908,
          0.8115272195253244,
          -1.477270976719303,
          0.1618159952438024,
          -0.4331539457009914,
          0.039311567111366276,
          -0.02441439939200614,
          0.6172117332234927,
          -2.340081944963553,
          3.1702114209761914,
          -0.36332764722503386,
          -0.4907725595838416,
          0.7908863334448771,
          -1.3709915008208202,
          0.5630076301719508,
          -0.08132772990151602,
          0.23855039987494617,
          -0.36783653113759457,
          -2.0583162396779198,
          0.41011426019927305,
          0.7360262123316557,
          0.8578455480892391,
          0.6692212126530874,
          -0.29193924207135413,
          -0.010428464535667108,
          0.5827342576436385,
          0.8631295668999309,
          -0.3887628842023507,
          0.5621355659822822,
          0.41242643202681245,
          0.5400452510501995,
          -0.8622450348007333,
          0.8373961616003691,
          0.7075403616234199,
          1.50682059694962,
          -0.8579989529337081,
          1.966217498627032,
          -0.8842888279114438,
          -0.14063222009410747,
          0.1560775565914649,
          -1.0318998613338433,
          0.6938332181045966,
          0.34902727031895114,
          -1.2083396070051455,
          2.2505048443521325,
          1.4625590755465416,
          -0.7392605820861616,
          1.290122175953878,
          0.03743177695407034,
          0.15447966905151658,
          -0.5941001153821971,
          0.41401637666917435,
          0.43185474659107764,
          -0.48564289964242224,
          0.2120732808572052,
          -1.2176504747328385,
          -0.15447459880849224,
          0.04952072542198867,
          0.016467999256636306,
          -0.5074883377420486,
          0.2853198976723749,
          1.617705760844643,
          1.677555201770505,
          0.27528939747803033,
          1.2810400539729732,
          -0.33070951242102525,
          1.044671936262385,
          0.07747716330923368,
          0.3114697652518498,
          -1.156964461310973,
          0.7046737117632361,
          0.17166399704921553,
          0.046391761412236276,
          2.0237011484840295,
          1.0508124503427356,
          0.7633037621767298,
          0.910230795208631,
          -0.6860382779231162,
          0.8414355798852678,
          0.20068154971940383,
          -0.43766497984189995,
          -1.4456137666739453,
          0.04206249677159624,
          -1.7378780010870498,
          0.3317607911741303,
          -0.3960625890982911,
          0.20891188425239193,
          1.7533600297381258,
          -0.5744757529482349,
          -1.2890173304854928,
          -0.8397499635573618,
          -0.2703194128703838,
          0.4006493372053976
         ]
        },
        {
         "line": {
          "color": "rgba(50, 171, 96, 1.0)",
          "dash": "solid",
          "shape": "linear",
          "width": 1.3
         },
         "mode": "lines",
         "name": "C",
         "text": "",
         "type": "scatter",
         "x": [
          0,
          1,
          2,
          3,
          4,
          5,
          6,
          7,
          8,
          9,
          10,
          11,
          12,
          13,
          14,
          15,
          16,
          17,
          18,
          19,
          20,
          21,
          22,
          23,
          24,
          25,
          26,
          27,
          28,
          29,
          30,
          31,
          32,
          33,
          34,
          35,
          36,
          37,
          38,
          39,
          40,
          41,
          42,
          43,
          44,
          45,
          46,
          47,
          48,
          49,
          50,
          51,
          52,
          53,
          54,
          55,
          56,
          57,
          58,
          59,
          60,
          61,
          62,
          63,
          64,
          65,
          66,
          67,
          68,
          69,
          70,
          71,
          72,
          73,
          74,
          75,
          76,
          77,
          78,
          79,
          80,
          81,
          82,
          83,
          84,
          85,
          86,
          87,
          88,
          89,
          90,
          91,
          92,
          93,
          94,
          95,
          96,
          97,
          98,
          99
         ],
         "y": [
          -0.6050978556691786,
          -0.9035483715588414,
          1.3999062316779856,
          0.20326625575656562,
          0.7748660360296203,
          1.382118835963103,
          -0.3449663271423684,
          -0.3125784862581155,
          -0.3921021582767679,
          -0.4672365319648652,
          -0.9176971919965744,
          -0.9407683863484179,
          -0.02051094093615628,
          -0.4845090081884112,
          -0.9027760486508982,
          0.45408000372627855,
          1.7797168946307709,
          -0.849954913019187,
          -0.9497738918589689,
          1.115584553680479,
          0.47623968737877737,
          0.6777243804013798,
          -2.423385402585716,
          -0.05998903497391833,
          0.9528474830183917,
          1.9451072560078173,
          -0.7205616932622801,
          0.24869698730886125,
          0.12593843046885547,
          -0.7613039250440969,
          -1.1934815064129642,
          0.32847093291618723,
          0.03042686379748063,
          0.3638589261743581,
          0.8672123584073379,
          -0.5191918572545234,
          0.045873495741145395,
          -0.4991378312981569,
          0.4760864075563409,
          2.133103606272648,
          -1.6368622660538275,
          -0.8647663574169911,
          -0.2386827785058121,
          0.6514580767202643,
          -2.39366962919686,
          0.7847164416846397,
          1.4776485033235072,
          -0.8468678129426838,
          -0.1399453487715599,
          -1.4576847799303292,
          -0.16729265391285816,
          0.8104599304351691,
          0.44724150958933034,
          -0.239863791295954,
          -0.39865955278054077,
          0.392382842023195,
          0.21053559716010317,
          -0.7026716843649459,
          0.20157416306770357,
          -1.2431794473942575,
          0.9913120029212691,
          -0.17674562111069766,
          -0.8865370921684598,
          1.2678131780640376,
          0.6474985704541698,
          -0.675859866962432,
          2.2130088393476632,
          -0.8751745286308837,
          -0.7309748412210775,
          -0.7061573864067572,
          1.7191649168663734,
          -0.90654523833935,
          0.9234141064550748,
          -1.006326053603848,
          -0.15565505313829398,
          1.258680446450928,
          -0.82459549301541,
          -0.6941048482250396,
          -1.1526300782529277,
          -1.9408024035122222,
          -0.7066046066198953,
          -0.13820084983001243,
          0.33007567967062035,
          0.20516895683465802,
          0.7541000686165579,
          -0.3309113870390968,
          -0.4936760267518312,
          2.572271277233446,
          -0.02605875203151911,
          0.08045314789924392,
          0.1584800938610056,
          0.6803979387509251,
          -1.3445148460765042,
          1.3938329499040125,
          -0.799184564003873,
          -1.4607223497438997,
          -0.9460192341940437,
          -1.4607146767131882,
          0.33623646045912176,
          0.3717802061751832
         ]
        },
        {
         "line": {
          "color": "rgba(128, 0, 128, 1.0)",
          "dash": "solid",
          "shape": "linear",
          "width": 1.3
         },
         "mode": "lines",
         "name": "D",
         "text": "",
         "type": "scatter",
         "x": [
          0,
          1,
          2,
          3,
          4,
          5,
          6,
          7,
          8,
          9,
          10,
          11,
          12,
          13,
          14,
          15,
          16,
          17,
          18,
          19,
          20,
          21,
          22,
          23,
          24,
          25,
          26,
          27,
          28,
          29,
          30,
          31,
          32,
          33,
          34,
          35,
          36,
          37,
          38,
          39,
          40,
          41,
          42,
          43,
          44,
          45,
          46,
          47,
          48,
          49,
          50,
          51,
          52,
          53,
          54,
          55,
          56,
          57,
          58,
          59,
          60,
          61,
          62,
          63,
          64,
          65,
          66,
          67,
          68,
          69,
          70,
          71,
          72,
          73,
          74,
          75,
          76,
          77,
          78,
          79,
          80,
          81,
          82,
          83,
          84,
          85,
          86,
          87,
          88,
          89,
          90,
          91,
          92,
          93,
          94,
          95,
          96,
          97,
          98,
          99
         ],
         "y": [
          -1.7283455634015321,
          0.7922665076440077,
          0.3327252928057696,
          -0.8646777098209107,
          -0.5533280925795223,
          -0.7426238658744095,
          -0.6321761148537716,
          0.23147476775382012,
          -0.20636980974607427,
          -0.8524000612482501,
          1.6127960625700868,
          -1.2494970560420666,
          2.117783435195244,
          -1.4261041758635733,
          -0.8427016784683329,
          -0.41215725897321814,
          1.482039530159061,
          -0.8294156366297977,
          -1.7444749996017128,
          -1.1463065894063043,
          -0.23140954513387316,
          0.04924343091891973,
          -0.7911997067028309,
          0.2542396734334467,
          -0.42101767485548325,
          0.0343237840568151,
          0.016933566682258896,
          1.3545581510054157,
          0.4476058590792905,
          0.22846633647061299,
          -0.6360477412520456,
          0.3247900932617839,
          -0.13851588260334996,
          0.19749265328712912,
          0.2551145633023773,
          -0.6318291814297596,
          -0.05162998288644609,
          0.29304285314602707,
          0.6519757198392621,
          0.362920745861988,
          2.3164946789860945,
          3.0661980875647856,
          -0.2963504023189624,
          -0.8127184586877536,
          -2.2064787773448824,
          -0.7134226445069347,
          -0.043722477341506236,
          -0.7139044754895482,
          -0.538276291943493,
          1.4108829924568982,
          1.251182397487324,
          0.17089238880915805,
          0.07540264426533289,
          0.19832996717543896,
          0.056562449238566036,
          0.7629953537674873,
          0.6954930495616684,
          0.8775097179137081,
          0.4712989663064789,
          0.7950901130031898,
          -0.42165087555391284,
          -1.341972307314644,
          -0.26419586310475707,
          1.2067552694961743,
          -1.107541927537456,
          0.30012534153536796,
          0.8901680688026227,
          0.7432940876917533,
          -0.5969048140606085,
          -1.1202383151916753,
          0.09471779691404093,
          -0.47167306445998836,
          -1.3923362588099217,
          0.714730829804552,
          0.1628551757050395,
          2.850378514067846,
          -0.5917785616485799,
          0.7138285756081543,
          0.5268855062743794,
          0.07111881361464277,
          -0.5760903855312549,
          -0.860973377436933,
          -1.058674135434395,
          0.18239213480830674,
          1.4508107303228437,
          0.8075923242860772,
          -1.062296403867526,
          0.49907103447837614,
          -0.4316824341811029,
          -0.6290765911934332,
          -0.9120857969862319,
          -0.23865807635605688,
          0.3266174181627085,
          -0.06769282445930531,
          -0.15757269703186888,
          1.0894928964241457,
          1.0508563645876903,
          0.1780094976605929,
          1.218131315660249,
          0.38432102125585577
         ]
        }
       ],
       "layout": {
        "legend": {
         "bgcolor": "#F5F6F9",
         "font": {
          "color": "#4D5663"
         }
        },
        "paper_bgcolor": "#F5F6F9",
        "plot_bgcolor": "#F5F6F9",
        "template": {
         "data": {
          "bar": [
           {
            "error_x": {
             "color": "#2a3f5f"
            },
            "error_y": {
             "color": "#2a3f5f"
            },
            "marker": {
             "line": {
              "color": "#E5ECF6",
              "width": 0.5
             },
             "pattern": {
              "fillmode": "overlay",
              "size": 10,
              "solidity": 0.2
             }
            },
            "type": "bar"
           }
          ],
          "barpolar": [
           {
            "marker": {
             "line": {
              "color": "#E5ECF6",
              "width": 0.5
             },
             "pattern": {
              "fillmode": "overlay",
              "size": 10,
              "solidity": 0.2
             }
            },
            "type": "barpolar"
           }
          ],
          "carpet": [
           {
            "aaxis": {
             "endlinecolor": "#2a3f5f",
             "gridcolor": "white",
             "linecolor": "white",
             "minorgridcolor": "white",
             "startlinecolor": "#2a3f5f"
            },
            "baxis": {
             "endlinecolor": "#2a3f5f",
             "gridcolor": "white",
             "linecolor": "white",
             "minorgridcolor": "white",
             "startlinecolor": "#2a3f5f"
            },
            "type": "carpet"
           }
          ],
          "choropleth": [
           {
            "colorbar": {
             "outlinewidth": 0,
             "ticks": ""
            },
            "type": "choropleth"
           }
          ],
          "contour": [
           {
            "colorbar": {
             "outlinewidth": 0,
             "ticks": ""
            },
            "colorscale": [
             [
              0,
              "#0d0887"
             ],
             [
              0.1111111111111111,
              "#46039f"
             ],
             [
              0.2222222222222222,
              "#7201a8"
             ],
             [
              0.3333333333333333,
              "#9c179e"
             ],
             [
              0.4444444444444444,
              "#bd3786"
             ],
             [
              0.5555555555555556,
              "#d8576b"
             ],
             [
              0.6666666666666666,
              "#ed7953"
             ],
             [
              0.7777777777777778,
              "#fb9f3a"
             ],
             [
              0.8888888888888888,
              "#fdca26"
             ],
             [
              1,
              "#f0f921"
             ]
            ],
            "type": "contour"
           }
          ],
          "contourcarpet": [
           {
            "colorbar": {
             "outlinewidth": 0,
             "ticks": ""
            },
            "type": "contourcarpet"
           }
          ],
          "heatmap": [
           {
            "colorbar": {
             "outlinewidth": 0,
             "ticks": ""
            },
            "colorscale": [
             [
              0,
              "#0d0887"
             ],
             [
              0.1111111111111111,
              "#46039f"
             ],
             [
              0.2222222222222222,
              "#7201a8"
             ],
             [
              0.3333333333333333,
              "#9c179e"
             ],
             [
              0.4444444444444444,
              "#bd3786"
             ],
             [
              0.5555555555555556,
              "#d8576b"
             ],
             [
              0.6666666666666666,
              "#ed7953"
             ],
             [
              0.7777777777777778,
              "#fb9f3a"
             ],
             [
              0.8888888888888888,
              "#fdca26"
             ],
             [
              1,
              "#f0f921"
             ]
            ],
            "type": "heatmap"
           }
          ],
          "heatmapgl": [
           {
            "colorbar": {
             "outlinewidth": 0,
             "ticks": ""
            },
            "colorscale": [
             [
              0,
              "#0d0887"
             ],
             [
              0.1111111111111111,
              "#46039f"
             ],
             [
              0.2222222222222222,
              "#7201a8"
             ],
             [
              0.3333333333333333,
              "#9c179e"
             ],
             [
              0.4444444444444444,
              "#bd3786"
             ],
             [
              0.5555555555555556,
              "#d8576b"
             ],
             [
              0.6666666666666666,
              "#ed7953"
             ],
             [
              0.7777777777777778,
              "#fb9f3a"
             ],
             [
              0.8888888888888888,
              "#fdca26"
             ],
             [
              1,
              "#f0f921"
             ]
            ],
            "type": "heatmapgl"
           }
          ],
          "histogram": [
           {
            "marker": {
             "pattern": {
              "fillmode": "overlay",
              "size": 10,
              "solidity": 0.2
             }
            },
            "type": "histogram"
           }
          ],
          "histogram2d": [
           {
            "colorbar": {
             "outlinewidth": 0,
             "ticks": ""
            },
            "colorscale": [
             [
              0,
              "#0d0887"
             ],
             [
              0.1111111111111111,
              "#46039f"
             ],
             [
              0.2222222222222222,
              "#7201a8"
             ],
             [
              0.3333333333333333,
              "#9c179e"
             ],
             [
              0.4444444444444444,
              "#bd3786"
             ],
             [
              0.5555555555555556,
              "#d8576b"
             ],
             [
              0.6666666666666666,
              "#ed7953"
             ],
             [
              0.7777777777777778,
              "#fb9f3a"
             ],
             [
              0.8888888888888888,
              "#fdca26"
             ],
             [
              1,
              "#f0f921"
             ]
            ],
            "type": "histogram2d"
           }
          ],
          "histogram2dcontour": [
           {
            "colorbar": {
             "outlinewidth": 0,
             "ticks": ""
            },
            "colorscale": [
             [
              0,
              "#0d0887"
             ],
             [
              0.1111111111111111,
              "#46039f"
             ],
             [
              0.2222222222222222,
              "#7201a8"
             ],
             [
              0.3333333333333333,
              "#9c179e"
             ],
             [
              0.4444444444444444,
              "#bd3786"
             ],
             [
              0.5555555555555556,
              "#d8576b"
             ],
             [
              0.6666666666666666,
              "#ed7953"
             ],
             [
              0.7777777777777778,
              "#fb9f3a"
             ],
             [
              0.8888888888888888,
              "#fdca26"
             ],
             [
              1,
              "#f0f921"
             ]
            ],
            "type": "histogram2dcontour"
           }
          ],
          "mesh3d": [
           {
            "colorbar": {
             "outlinewidth": 0,
             "ticks": ""
            },
            "type": "mesh3d"
           }
          ],
          "parcoords": [
           {
            "line": {
             "colorbar": {
              "outlinewidth": 0,
              "ticks": ""
             }
            },
            "type": "parcoords"
           }
          ],
          "pie": [
           {
            "automargin": true,
            "type": "pie"
           }
          ],
          "scatter": [
           {
            "marker": {
             "colorbar": {
              "outlinewidth": 0,
              "ticks": ""
             }
            },
            "type": "scatter"
           }
          ],
          "scatter3d": [
           {
            "line": {
             "colorbar": {
              "outlinewidth": 0,
              "ticks": ""
             }
            },
            "marker": {
             "colorbar": {
              "outlinewidth": 0,
              "ticks": ""
             }
            },
            "type": "scatter3d"
           }
          ],
          "scattercarpet": [
           {
            "marker": {
             "colorbar": {
              "outlinewidth": 0,
              "ticks": ""
             }
            },
            "type": "scattercarpet"
           }
          ],
          "scattergeo": [
           {
            "marker": {
             "colorbar": {
              "outlinewidth": 0,
              "ticks": ""
             }
            },
            "type": "scattergeo"
           }
          ],
          "scattergl": [
           {
            "marker": {
             "colorbar": {
              "outlinewidth": 0,
              "ticks": ""
             }
            },
            "type": "scattergl"
           }
          ],
          "scattermapbox": [
           {
            "marker": {
             "colorbar": {
              "outlinewidth": 0,
              "ticks": ""
             }
            },
            "type": "scattermapbox"
           }
          ],
          "scatterpolar": [
           {
            "marker": {
             "colorbar": {
              "outlinewidth": 0,
              "ticks": ""
             }
            },
            "type": "scatterpolar"
           }
          ],
          "scatterpolargl": [
           {
            "marker": {
             "colorbar": {
              "outlinewidth": 0,
              "ticks": ""
             }
            },
            "type": "scatterpolargl"
           }
          ],
          "scatterternary": [
           {
            "marker": {
             "colorbar": {
              "outlinewidth": 0,
              "ticks": ""
             }
            },
            "type": "scatterternary"
           }
          ],
          "surface": [
           {
            "colorbar": {
             "outlinewidth": 0,
             "ticks": ""
            },
            "colorscale": [
             [
              0,
              "#0d0887"
             ],
             [
              0.1111111111111111,
              "#46039f"
             ],
             [
              0.2222222222222222,
              "#7201a8"
             ],
             [
              0.3333333333333333,
              "#9c179e"
             ],
             [
              0.4444444444444444,
              "#bd3786"
             ],
             [
              0.5555555555555556,
              "#d8576b"
             ],
             [
              0.6666666666666666,
              "#ed7953"
             ],
             [
              0.7777777777777778,
              "#fb9f3a"
             ],
             [
              0.8888888888888888,
              "#fdca26"
             ],
             [
              1,
              "#f0f921"
             ]
            ],
            "type": "surface"
           }
          ],
          "table": [
           {
            "cells": {
             "fill": {
              "color": "#EBF0F8"
             },
             "line": {
              "color": "white"
             }
            },
            "header": {
             "fill": {
              "color": "#C8D4E3"
             },
             "line": {
              "color": "white"
             }
            },
            "type": "table"
           }
          ]
         },
         "layout": {
          "annotationdefaults": {
           "arrowcolor": "#2a3f5f",
           "arrowhead": 0,
           "arrowwidth": 1
          },
          "autotypenumbers": "strict",
          "coloraxis": {
           "colorbar": {
            "outlinewidth": 0,
            "ticks": ""
           }
          },
          "colorscale": {
           "diverging": [
            [
             0,
             "#8e0152"
            ],
            [
             0.1,
             "#c51b7d"
            ],
            [
             0.2,
             "#de77ae"
            ],
            [
             0.3,
             "#f1b6da"
            ],
            [
             0.4,
             "#fde0ef"
            ],
            [
             0.5,
             "#f7f7f7"
            ],
            [
             0.6,
             "#e6f5d0"
            ],
            [
             0.7,
             "#b8e186"
            ],
            [
             0.8,
             "#7fbc41"
            ],
            [
             0.9,
             "#4d9221"
            ],
            [
             1,
             "#276419"
            ]
           ],
           "sequential": [
            [
             0,
             "#0d0887"
            ],
            [
             0.1111111111111111,
             "#46039f"
            ],
            [
             0.2222222222222222,
             "#7201a8"
            ],
            [
             0.3333333333333333,
             "#9c179e"
            ],
            [
             0.4444444444444444,
             "#bd3786"
            ],
            [
             0.5555555555555556,
             "#d8576b"
            ],
            [
             0.6666666666666666,
             "#ed7953"
            ],
            [
             0.7777777777777778,
             "#fb9f3a"
            ],
            [
             0.8888888888888888,
             "#fdca26"
            ],
            [
             1,
             "#f0f921"
            ]
           ],
           "sequentialminus": [
            [
             0,
             "#0d0887"
            ],
            [
             0.1111111111111111,
             "#46039f"
            ],
            [
             0.2222222222222222,
             "#7201a8"
            ],
            [
             0.3333333333333333,
             "#9c179e"
            ],
            [
             0.4444444444444444,
             "#bd3786"
            ],
            [
             0.5555555555555556,
             "#d8576b"
            ],
            [
             0.6666666666666666,
             "#ed7953"
            ],
            [
             0.7777777777777778,
             "#fb9f3a"
            ],
            [
             0.8888888888888888,
             "#fdca26"
            ],
            [
             1,
             "#f0f921"
            ]
           ]
          },
          "colorway": [
           "#636efa",
           "#EF553B",
           "#00cc96",
           "#ab63fa",
           "#FFA15A",
           "#19d3f3",
           "#FF6692",
           "#B6E880",
           "#FF97FF",
           "#FECB52"
          ],
          "font": {
           "color": "#2a3f5f"
          },
          "geo": {
           "bgcolor": "white",
           "lakecolor": "white",
           "landcolor": "#E5ECF6",
           "showlakes": true,
           "showland": true,
           "subunitcolor": "white"
          },
          "hoverlabel": {
           "align": "left"
          },
          "hovermode": "closest",
          "mapbox": {
           "style": "light"
          },
          "paper_bgcolor": "white",
          "plot_bgcolor": "#E5ECF6",
          "polar": {
           "angularaxis": {
            "gridcolor": "white",
            "linecolor": "white",
            "ticks": ""
           },
           "bgcolor": "#E5ECF6",
           "radialaxis": {
            "gridcolor": "white",
            "linecolor": "white",
            "ticks": ""
           }
          },
          "scene": {
           "xaxis": {
            "backgroundcolor": "#E5ECF6",
            "gridcolor": "white",
            "gridwidth": 2,
            "linecolor": "white",
            "showbackground": true,
            "ticks": "",
            "zerolinecolor": "white"
           },
           "yaxis": {
            "backgroundcolor": "#E5ECF6",
            "gridcolor": "white",
            "gridwidth": 2,
            "linecolor": "white",
            "showbackground": true,
            "ticks": "",
            "zerolinecolor": "white"
           },
           "zaxis": {
            "backgroundcolor": "#E5ECF6",
            "gridcolor": "white",
            "gridwidth": 2,
            "linecolor": "white",
            "showbackground": true,
            "ticks": "",
            "zerolinecolor": "white"
           }
          },
          "shapedefaults": {
           "line": {
            "color": "#2a3f5f"
           }
          },
          "ternary": {
           "aaxis": {
            "gridcolor": "white",
            "linecolor": "white",
            "ticks": ""
           },
           "baxis": {
            "gridcolor": "white",
            "linecolor": "white",
            "ticks": ""
           },
           "bgcolor": "#E5ECF6",
           "caxis": {
            "gridcolor": "white",
            "linecolor": "white",
            "ticks": ""
           }
          },
          "title": {
           "x": 0.05
          },
          "xaxis": {
           "automargin": true,
           "gridcolor": "white",
           "linecolor": "white",
           "ticks": "",
           "title": {
            "standoff": 15
           },
           "zerolinecolor": "white",
           "zerolinewidth": 2
          },
          "yaxis": {
           "automargin": true,
           "gridcolor": "white",
           "linecolor": "white",
           "ticks": "",
           "title": {
            "standoff": 15
           },
           "zerolinecolor": "white",
           "zerolinewidth": 2
          }
         }
        },
        "title": {
         "font": {
          "color": "#4D5663"
         }
        },
        "xaxis": {
         "gridcolor": "#E1E5ED",
         "showgrid": true,
         "tickfont": {
          "color": "#4D5663"
         },
         "title": {
          "font": {
           "color": "#4D5663"
          },
          "text": ""
         },
         "zerolinecolor": "#E1E5ED"
        },
        "yaxis": {
         "gridcolor": "#E1E5ED",
         "showgrid": true,
         "tickfont": {
          "color": "#4D5663"
         },
         "title": {
          "font": {
           "color": "#4D5663"
          },
          "text": ""
         },
         "zerolinecolor": "#E1E5ED"
        }
       }
      },
      "text/html": [
       "<div>                            <div id=\"6025f145-7074-43ae-8575-6e678d67453f\" class=\"plotly-graph-div\" style=\"height:525px; width:100%;\"></div>            <script type=\"text/javascript\">                require([\"plotly\"], function(Plotly) {                    window.PLOTLYENV=window.PLOTLYENV || {};\n",
       "                    window.PLOTLYENV.BASE_URL='https://plot.ly';                                    if (document.getElementById(\"6025f145-7074-43ae-8575-6e678d67453f\")) {                    Plotly.newPlot(                        \"6025f145-7074-43ae-8575-6e678d67453f\",                        [{\"line\":{\"color\":\"rgba(255, 153, 51, 1.0)\",\"dash\":\"solid\",\"shape\":\"linear\",\"width\":1.3},\"mode\":\"lines\",\"name\":\"A\",\"text\":\"\",\"type\":\"scatter\",\"x\":[0,1,2,3,4,5,6,7,8,9,10,11,12,13,14,15,16,17,18,19,20,21,22,23,24,25,26,27,28,29,30,31,32,33,34,35,36,37,38,39,40,41,42,43,44,45,46,47,48,49,50,51,52,53,54,55,56,57,58,59,60,61,62,63,64,65,66,67,68,69,70,71,72,73,74,75,76,77,78,79,80,81,82,83,84,85,86,87,88,89,90,91,92,93,94,95,96,97,98,99],\"y\":[0.20858928925374165,-0.4342659365804992,0.15224425972204558,-1.4076364859048878,-1.8787133030357686,1.1141016130474,-0.014856903124838405,2.2980934492830407,-0.04537892657460305,0.37251593394002713,1.3160112807008706,-0.17426433245318806,-1.0676051347476219,0.35048603503154846,1.3995954370148027,0.31417325524307427,-0.03901252898133603,-0.7815522712797063,-1.4657470354223352,-0.10963875683423577,0.3414618118686473,1.8556025363714947,0.3857059012861465,0.9980034374445319,1.2369036414452386,-2.2112045923282877,-0.8039465980537963,1.2501257231512457,0.28072647683673607,0.8479650419673018,0.821856776990302,0.33703944666886576,0.2994135796999949,-1.0020739050520817,1.0492375923262964,1.4499683923774385,0.6771778865444542,-1.174173436607878,0.9380903401986462,0.7830429803693706,1.5612080447999004,-0.689867946889579,-0.012595428200974368,-0.07720029034540583,1.4459983734283515,-0.9818107095001324,1.192692753425027,-0.0427350127227039,-0.770256799555548,-2.325516663796394,-0.6431928762709359,0.3153997366164689,0.3874379394644579,1.039847925443799,-0.9392276561472361,0.030043034312859172,1.1374541985603328,-0.6299169960910088,-0.9632572236552438,0.46429902371477966,-0.21188270820025484,-1.071565489388745,-0.18972067388602754,-1.2528521719399608,0.15881994888242676,-0.0378086230861681,1.1167572500107146,0.0006074965995330983,-0.15191943738908428,1.55982623930444,0.6060812113709677,0.07197403153804605,-0.1892256296041631,0.3744916234702504,0.5371723431024327,0.3056813222755168,3.2724431765187476,0.5606360026261016,0.0797615201136642,2.1426154923643996,0.595063512231104,-2.0077243015777624,-1.3920962454797994,-1.496551961908376,0.7760365739615019,0.8822518019486779,1.0019935837931249,-0.6634189590571933,0.07849718855217555,0.059596466005808625,1.075688755634055,1.9898092690768672,0.05738664500122117,-1.1337520231610325,-0.25843487309297164,0.4268716302195559,-2.323477988994405,1.8390982353041838,1.2639675884889168,1.654235242842938]},{\"line\":{\"color\":\"rgba(55, 128, 191, 1.0)\",\"dash\":\"solid\",\"shape\":\"linear\",\"width\":1.3},\"mode\":\"lines\",\"name\":\"B\",\"text\":\"\",\"type\":\"scatter\",\"x\":[0,1,2,3,4,5,6,7,8,9,10,11,12,13,14,15,16,17,18,19,20,21,22,23,24,25,26,27,28,29,30,31,32,33,34,35,36,37,38,39,40,41,42,43,44,45,46,47,48,49,50,51,52,53,54,55,56,57,58,59,60,61,62,63,64,65,66,67,68,69,70,71,72,73,74,75,76,77,78,79,80,81,82,83,84,85,86,87,88,89,90,91,92,93,94,95,96,97,98,99],\"y\":[-1.0899935075648546,-0.3283429263413677,0.9249715866272701,2.265847442190619,-1.9679748652286901,0.3522242836497475,-0.7922871395287938,-0.9258406713634908,0.8115272195253244,-1.477270976719303,0.1618159952438024,-0.4331539457009914,0.039311567111366276,-0.02441439939200614,0.6172117332234927,-2.340081944963553,3.1702114209761914,-0.36332764722503386,-0.4907725595838416,0.7908863334448771,-1.3709915008208202,0.5630076301719508,-0.08132772990151602,0.23855039987494617,-0.36783653113759457,-2.0583162396779198,0.41011426019927305,0.7360262123316557,0.8578455480892391,0.6692212126530874,-0.29193924207135413,-0.010428464535667108,0.5827342576436385,0.8631295668999309,-0.3887628842023507,0.5621355659822822,0.41242643202681245,0.5400452510501995,-0.8622450348007333,0.8373961616003691,0.7075403616234199,1.50682059694962,-0.8579989529337081,1.966217498627032,-0.8842888279114438,-0.14063222009410747,0.1560775565914649,-1.0318998613338433,0.6938332181045966,0.34902727031895114,-1.2083396070051455,2.2505048443521325,1.4625590755465416,-0.7392605820861616,1.290122175953878,0.03743177695407034,0.15447966905151658,-0.5941001153821971,0.41401637666917435,0.43185474659107764,-0.48564289964242224,0.2120732808572052,-1.2176504747328385,-0.15447459880849224,0.04952072542198867,0.016467999256636306,-0.5074883377420486,0.2853198976723749,1.617705760844643,1.677555201770505,0.27528939747803033,1.2810400539729732,-0.33070951242102525,1.044671936262385,0.07747716330923368,0.3114697652518498,-1.156964461310973,0.7046737117632361,0.17166399704921553,0.046391761412236276,2.0237011484840295,1.0508124503427356,0.7633037621767298,0.910230795208631,-0.6860382779231162,0.8414355798852678,0.20068154971940383,-0.43766497984189995,-1.4456137666739453,0.04206249677159624,-1.7378780010870498,0.3317607911741303,-0.3960625890982911,0.20891188425239193,1.7533600297381258,-0.5744757529482349,-1.2890173304854928,-0.8397499635573618,-0.2703194128703838,0.4006493372053976]},{\"line\":{\"color\":\"rgba(50, 171, 96, 1.0)\",\"dash\":\"solid\",\"shape\":\"linear\",\"width\":1.3},\"mode\":\"lines\",\"name\":\"C\",\"text\":\"\",\"type\":\"scatter\",\"x\":[0,1,2,3,4,5,6,7,8,9,10,11,12,13,14,15,16,17,18,19,20,21,22,23,24,25,26,27,28,29,30,31,32,33,34,35,36,37,38,39,40,41,42,43,44,45,46,47,48,49,50,51,52,53,54,55,56,57,58,59,60,61,62,63,64,65,66,67,68,69,70,71,72,73,74,75,76,77,78,79,80,81,82,83,84,85,86,87,88,89,90,91,92,93,94,95,96,97,98,99],\"y\":[-0.6050978556691786,-0.9035483715588414,1.3999062316779856,0.20326625575656562,0.7748660360296203,1.382118835963103,-0.3449663271423684,-0.3125784862581155,-0.3921021582767679,-0.4672365319648652,-0.9176971919965744,-0.9407683863484179,-0.02051094093615628,-0.4845090081884112,-0.9027760486508982,0.45408000372627855,1.7797168946307709,-0.849954913019187,-0.9497738918589689,1.115584553680479,0.47623968737877737,0.6777243804013798,-2.423385402585716,-0.05998903497391833,0.9528474830183917,1.9451072560078173,-0.7205616932622801,0.24869698730886125,0.12593843046885547,-0.7613039250440969,-1.1934815064129642,0.32847093291618723,0.03042686379748063,0.3638589261743581,0.8672123584073379,-0.5191918572545234,0.045873495741145395,-0.4991378312981569,0.4760864075563409,2.133103606272648,-1.6368622660538275,-0.8647663574169911,-0.2386827785058121,0.6514580767202643,-2.39366962919686,0.7847164416846397,1.4776485033235072,-0.8468678129426838,-0.1399453487715599,-1.4576847799303292,-0.16729265391285816,0.8104599304351691,0.44724150958933034,-0.239863791295954,-0.39865955278054077,0.392382842023195,0.21053559716010317,-0.7026716843649459,0.20157416306770357,-1.2431794473942575,0.9913120029212691,-0.17674562111069766,-0.8865370921684598,1.2678131780640376,0.6474985704541698,-0.675859866962432,2.2130088393476632,-0.8751745286308837,-0.7309748412210775,-0.7061573864067572,1.7191649168663734,-0.90654523833935,0.9234141064550748,-1.006326053603848,-0.15565505313829398,1.258680446450928,-0.82459549301541,-0.6941048482250396,-1.1526300782529277,-1.9408024035122222,-0.7066046066198953,-0.13820084983001243,0.33007567967062035,0.20516895683465802,0.7541000686165579,-0.3309113870390968,-0.4936760267518312,2.572271277233446,-0.02605875203151911,0.08045314789924392,0.1584800938610056,0.6803979387509251,-1.3445148460765042,1.3938329499040125,-0.799184564003873,-1.4607223497438997,-0.9460192341940437,-1.4607146767131882,0.33623646045912176,0.3717802061751832]},{\"line\":{\"color\":\"rgba(128, 0, 128, 1.0)\",\"dash\":\"solid\",\"shape\":\"linear\",\"width\":1.3},\"mode\":\"lines\",\"name\":\"D\",\"text\":\"\",\"type\":\"scatter\",\"x\":[0,1,2,3,4,5,6,7,8,9,10,11,12,13,14,15,16,17,18,19,20,21,22,23,24,25,26,27,28,29,30,31,32,33,34,35,36,37,38,39,40,41,42,43,44,45,46,47,48,49,50,51,52,53,54,55,56,57,58,59,60,61,62,63,64,65,66,67,68,69,70,71,72,73,74,75,76,77,78,79,80,81,82,83,84,85,86,87,88,89,90,91,92,93,94,95,96,97,98,99],\"y\":[-1.7283455634015321,0.7922665076440077,0.3327252928057696,-0.8646777098209107,-0.5533280925795223,-0.7426238658744095,-0.6321761148537716,0.23147476775382012,-0.20636980974607427,-0.8524000612482501,1.6127960625700868,-1.2494970560420666,2.117783435195244,-1.4261041758635733,-0.8427016784683329,-0.41215725897321814,1.482039530159061,-0.8294156366297977,-1.7444749996017128,-1.1463065894063043,-0.23140954513387316,0.04924343091891973,-0.7911997067028309,0.2542396734334467,-0.42101767485548325,0.0343237840568151,0.016933566682258896,1.3545581510054157,0.4476058590792905,0.22846633647061299,-0.6360477412520456,0.3247900932617839,-0.13851588260334996,0.19749265328712912,0.2551145633023773,-0.6318291814297596,-0.05162998288644609,0.29304285314602707,0.6519757198392621,0.362920745861988,2.3164946789860945,3.0661980875647856,-0.2963504023189624,-0.8127184586877536,-2.2064787773448824,-0.7134226445069347,-0.043722477341506236,-0.7139044754895482,-0.538276291943493,1.4108829924568982,1.251182397487324,0.17089238880915805,0.07540264426533289,0.19832996717543896,0.056562449238566036,0.7629953537674873,0.6954930495616684,0.8775097179137081,0.4712989663064789,0.7950901130031898,-0.42165087555391284,-1.341972307314644,-0.26419586310475707,1.2067552694961743,-1.107541927537456,0.30012534153536796,0.8901680688026227,0.7432940876917533,-0.5969048140606085,-1.1202383151916753,0.09471779691404093,-0.47167306445998836,-1.3923362588099217,0.714730829804552,0.1628551757050395,2.850378514067846,-0.5917785616485799,0.7138285756081543,0.5268855062743794,0.07111881361464277,-0.5760903855312549,-0.860973377436933,-1.058674135434395,0.18239213480830674,1.4508107303228437,0.8075923242860772,-1.062296403867526,0.49907103447837614,-0.4316824341811029,-0.6290765911934332,-0.9120857969862319,-0.23865807635605688,0.3266174181627085,-0.06769282445930531,-0.15757269703186888,1.0894928964241457,1.0508563645876903,0.1780094976605929,1.218131315660249,0.38432102125585577]}],                        {\"legend\":{\"bgcolor\":\"#F5F6F9\",\"font\":{\"color\":\"#4D5663\"}},\"paper_bgcolor\":\"#F5F6F9\",\"plot_bgcolor\":\"#F5F6F9\",\"template\":{\"data\":{\"bar\":[{\"error_x\":{\"color\":\"#2a3f5f\"},\"error_y\":{\"color\":\"#2a3f5f\"},\"marker\":{\"line\":{\"color\":\"#E5ECF6\",\"width\":0.5},\"pattern\":{\"fillmode\":\"overlay\",\"size\":10,\"solidity\":0.2}},\"type\":\"bar\"}],\"barpolar\":[{\"marker\":{\"line\":{\"color\":\"#E5ECF6\",\"width\":0.5},\"pattern\":{\"fillmode\":\"overlay\",\"size\":10,\"solidity\":0.2}},\"type\":\"barpolar\"}],\"carpet\":[{\"aaxis\":{\"endlinecolor\":\"#2a3f5f\",\"gridcolor\":\"white\",\"linecolor\":\"white\",\"minorgridcolor\":\"white\",\"startlinecolor\":\"#2a3f5f\"},\"baxis\":{\"endlinecolor\":\"#2a3f5f\",\"gridcolor\":\"white\",\"linecolor\":\"white\",\"minorgridcolor\":\"white\",\"startlinecolor\":\"#2a3f5f\"},\"type\":\"carpet\"}],\"choropleth\":[{\"colorbar\":{\"outlinewidth\":0,\"ticks\":\"\"},\"type\":\"choropleth\"}],\"contour\":[{\"colorbar\":{\"outlinewidth\":0,\"ticks\":\"\"},\"colorscale\":[[0.0,\"#0d0887\"],[0.1111111111111111,\"#46039f\"],[0.2222222222222222,\"#7201a8\"],[0.3333333333333333,\"#9c179e\"],[0.4444444444444444,\"#bd3786\"],[0.5555555555555556,\"#d8576b\"],[0.6666666666666666,\"#ed7953\"],[0.7777777777777778,\"#fb9f3a\"],[0.8888888888888888,\"#fdca26\"],[1.0,\"#f0f921\"]],\"type\":\"contour\"}],\"contourcarpet\":[{\"colorbar\":{\"outlinewidth\":0,\"ticks\":\"\"},\"type\":\"contourcarpet\"}],\"heatmap\":[{\"colorbar\":{\"outlinewidth\":0,\"ticks\":\"\"},\"colorscale\":[[0.0,\"#0d0887\"],[0.1111111111111111,\"#46039f\"],[0.2222222222222222,\"#7201a8\"],[0.3333333333333333,\"#9c179e\"],[0.4444444444444444,\"#bd3786\"],[0.5555555555555556,\"#d8576b\"],[0.6666666666666666,\"#ed7953\"],[0.7777777777777778,\"#fb9f3a\"],[0.8888888888888888,\"#fdca26\"],[1.0,\"#f0f921\"]],\"type\":\"heatmap\"}],\"heatmapgl\":[{\"colorbar\":{\"outlinewidth\":0,\"ticks\":\"\"},\"colorscale\":[[0.0,\"#0d0887\"],[0.1111111111111111,\"#46039f\"],[0.2222222222222222,\"#7201a8\"],[0.3333333333333333,\"#9c179e\"],[0.4444444444444444,\"#bd3786\"],[0.5555555555555556,\"#d8576b\"],[0.6666666666666666,\"#ed7953\"],[0.7777777777777778,\"#fb9f3a\"],[0.8888888888888888,\"#fdca26\"],[1.0,\"#f0f921\"]],\"type\":\"heatmapgl\"}],\"histogram\":[{\"marker\":{\"pattern\":{\"fillmode\":\"overlay\",\"size\":10,\"solidity\":0.2}},\"type\":\"histogram\"}],\"histogram2d\":[{\"colorbar\":{\"outlinewidth\":0,\"ticks\":\"\"},\"colorscale\":[[0.0,\"#0d0887\"],[0.1111111111111111,\"#46039f\"],[0.2222222222222222,\"#7201a8\"],[0.3333333333333333,\"#9c179e\"],[0.4444444444444444,\"#bd3786\"],[0.5555555555555556,\"#d8576b\"],[0.6666666666666666,\"#ed7953\"],[0.7777777777777778,\"#fb9f3a\"],[0.8888888888888888,\"#fdca26\"],[1.0,\"#f0f921\"]],\"type\":\"histogram2d\"}],\"histogram2dcontour\":[{\"colorbar\":{\"outlinewidth\":0,\"ticks\":\"\"},\"colorscale\":[[0.0,\"#0d0887\"],[0.1111111111111111,\"#46039f\"],[0.2222222222222222,\"#7201a8\"],[0.3333333333333333,\"#9c179e\"],[0.4444444444444444,\"#bd3786\"],[0.5555555555555556,\"#d8576b\"],[0.6666666666666666,\"#ed7953\"],[0.7777777777777778,\"#fb9f3a\"],[0.8888888888888888,\"#fdca26\"],[1.0,\"#f0f921\"]],\"type\":\"histogram2dcontour\"}],\"mesh3d\":[{\"colorbar\":{\"outlinewidth\":0,\"ticks\":\"\"},\"type\":\"mesh3d\"}],\"parcoords\":[{\"line\":{\"colorbar\":{\"outlinewidth\":0,\"ticks\":\"\"}},\"type\":\"parcoords\"}],\"pie\":[{\"automargin\":true,\"type\":\"pie\"}],\"scatter\":[{\"marker\":{\"colorbar\":{\"outlinewidth\":0,\"ticks\":\"\"}},\"type\":\"scatter\"}],\"scatter3d\":[{\"line\":{\"colorbar\":{\"outlinewidth\":0,\"ticks\":\"\"}},\"marker\":{\"colorbar\":{\"outlinewidth\":0,\"ticks\":\"\"}},\"type\":\"scatter3d\"}],\"scattercarpet\":[{\"marker\":{\"colorbar\":{\"outlinewidth\":0,\"ticks\":\"\"}},\"type\":\"scattercarpet\"}],\"scattergeo\":[{\"marker\":{\"colorbar\":{\"outlinewidth\":0,\"ticks\":\"\"}},\"type\":\"scattergeo\"}],\"scattergl\":[{\"marker\":{\"colorbar\":{\"outlinewidth\":0,\"ticks\":\"\"}},\"type\":\"scattergl\"}],\"scattermapbox\":[{\"marker\":{\"colorbar\":{\"outlinewidth\":0,\"ticks\":\"\"}},\"type\":\"scattermapbox\"}],\"scatterpolar\":[{\"marker\":{\"colorbar\":{\"outlinewidth\":0,\"ticks\":\"\"}},\"type\":\"scatterpolar\"}],\"scatterpolargl\":[{\"marker\":{\"colorbar\":{\"outlinewidth\":0,\"ticks\":\"\"}},\"type\":\"scatterpolargl\"}],\"scatterternary\":[{\"marker\":{\"colorbar\":{\"outlinewidth\":0,\"ticks\":\"\"}},\"type\":\"scatterternary\"}],\"surface\":[{\"colorbar\":{\"outlinewidth\":0,\"ticks\":\"\"},\"colorscale\":[[0.0,\"#0d0887\"],[0.1111111111111111,\"#46039f\"],[0.2222222222222222,\"#7201a8\"],[0.3333333333333333,\"#9c179e\"],[0.4444444444444444,\"#bd3786\"],[0.5555555555555556,\"#d8576b\"],[0.6666666666666666,\"#ed7953\"],[0.7777777777777778,\"#fb9f3a\"],[0.8888888888888888,\"#fdca26\"],[1.0,\"#f0f921\"]],\"type\":\"surface\"}],\"table\":[{\"cells\":{\"fill\":{\"color\":\"#EBF0F8\"},\"line\":{\"color\":\"white\"}},\"header\":{\"fill\":{\"color\":\"#C8D4E3\"},\"line\":{\"color\":\"white\"}},\"type\":\"table\"}]},\"layout\":{\"annotationdefaults\":{\"arrowcolor\":\"#2a3f5f\",\"arrowhead\":0,\"arrowwidth\":1},\"autotypenumbers\":\"strict\",\"coloraxis\":{\"colorbar\":{\"outlinewidth\":0,\"ticks\":\"\"}},\"colorscale\":{\"diverging\":[[0,\"#8e0152\"],[0.1,\"#c51b7d\"],[0.2,\"#de77ae\"],[0.3,\"#f1b6da\"],[0.4,\"#fde0ef\"],[0.5,\"#f7f7f7\"],[0.6,\"#e6f5d0\"],[0.7,\"#b8e186\"],[0.8,\"#7fbc41\"],[0.9,\"#4d9221\"],[1,\"#276419\"]],\"sequential\":[[0.0,\"#0d0887\"],[0.1111111111111111,\"#46039f\"],[0.2222222222222222,\"#7201a8\"],[0.3333333333333333,\"#9c179e\"],[0.4444444444444444,\"#bd3786\"],[0.5555555555555556,\"#d8576b\"],[0.6666666666666666,\"#ed7953\"],[0.7777777777777778,\"#fb9f3a\"],[0.8888888888888888,\"#fdca26\"],[1.0,\"#f0f921\"]],\"sequentialminus\":[[0.0,\"#0d0887\"],[0.1111111111111111,\"#46039f\"],[0.2222222222222222,\"#7201a8\"],[0.3333333333333333,\"#9c179e\"],[0.4444444444444444,\"#bd3786\"],[0.5555555555555556,\"#d8576b\"],[0.6666666666666666,\"#ed7953\"],[0.7777777777777778,\"#fb9f3a\"],[0.8888888888888888,\"#fdca26\"],[1.0,\"#f0f921\"]]},\"colorway\":[\"#636efa\",\"#EF553B\",\"#00cc96\",\"#ab63fa\",\"#FFA15A\",\"#19d3f3\",\"#FF6692\",\"#B6E880\",\"#FF97FF\",\"#FECB52\"],\"font\":{\"color\":\"#2a3f5f\"},\"geo\":{\"bgcolor\":\"white\",\"lakecolor\":\"white\",\"landcolor\":\"#E5ECF6\",\"showlakes\":true,\"showland\":true,\"subunitcolor\":\"white\"},\"hoverlabel\":{\"align\":\"left\"},\"hovermode\":\"closest\",\"mapbox\":{\"style\":\"light\"},\"paper_bgcolor\":\"white\",\"plot_bgcolor\":\"#E5ECF6\",\"polar\":{\"angularaxis\":{\"gridcolor\":\"white\",\"linecolor\":\"white\",\"ticks\":\"\"},\"bgcolor\":\"#E5ECF6\",\"radialaxis\":{\"gridcolor\":\"white\",\"linecolor\":\"white\",\"ticks\":\"\"}},\"scene\":{\"xaxis\":{\"backgroundcolor\":\"#E5ECF6\",\"gridcolor\":\"white\",\"gridwidth\":2,\"linecolor\":\"white\",\"showbackground\":true,\"ticks\":\"\",\"zerolinecolor\":\"white\"},\"yaxis\":{\"backgroundcolor\":\"#E5ECF6\",\"gridcolor\":\"white\",\"gridwidth\":2,\"linecolor\":\"white\",\"showbackground\":true,\"ticks\":\"\",\"zerolinecolor\":\"white\"},\"zaxis\":{\"backgroundcolor\":\"#E5ECF6\",\"gridcolor\":\"white\",\"gridwidth\":2,\"linecolor\":\"white\",\"showbackground\":true,\"ticks\":\"\",\"zerolinecolor\":\"white\"}},\"shapedefaults\":{\"line\":{\"color\":\"#2a3f5f\"}},\"ternary\":{\"aaxis\":{\"gridcolor\":\"white\",\"linecolor\":\"white\",\"ticks\":\"\"},\"baxis\":{\"gridcolor\":\"white\",\"linecolor\":\"white\",\"ticks\":\"\"},\"bgcolor\":\"#E5ECF6\",\"caxis\":{\"gridcolor\":\"white\",\"linecolor\":\"white\",\"ticks\":\"\"}},\"title\":{\"x\":0.05},\"xaxis\":{\"automargin\":true,\"gridcolor\":\"white\",\"linecolor\":\"white\",\"ticks\":\"\",\"title\":{\"standoff\":15},\"zerolinecolor\":\"white\",\"zerolinewidth\":2},\"yaxis\":{\"automargin\":true,\"gridcolor\":\"white\",\"linecolor\":\"white\",\"ticks\":\"\",\"title\":{\"standoff\":15},\"zerolinecolor\":\"white\",\"zerolinewidth\":2}}},\"title\":{\"font\":{\"color\":\"#4D5663\"}},\"xaxis\":{\"gridcolor\":\"#E1E5ED\",\"showgrid\":true,\"tickfont\":{\"color\":\"#4D5663\"},\"title\":{\"font\":{\"color\":\"#4D5663\"},\"text\":\"\"},\"zerolinecolor\":\"#E1E5ED\"},\"yaxis\":{\"gridcolor\":\"#E1E5ED\",\"showgrid\":true,\"tickfont\":{\"color\":\"#4D5663\"},\"title\":{\"font\":{\"color\":\"#4D5663\"},\"text\":\"\"},\"zerolinecolor\":\"#E1E5ED\"}},                        {\"showLink\": true, \"linkText\": \"Export to plot.ly\", \"plotlyServerURL\": \"https://plot.ly\", \"responsive\": true}                    ).then(function(){\n",
       "                            \n",
       "var gd = document.getElementById('6025f145-7074-43ae-8575-6e678d67453f');\n",
       "var x = new MutationObserver(function (mutations, observer) {{\n",
       "        var display = window.getComputedStyle(gd).display;\n",
       "        if (!display || display === 'none') {{\n",
       "            console.log([gd, 'removed!']);\n",
       "            Plotly.purge(gd);\n",
       "            observer.disconnect();\n",
       "        }}\n",
       "}});\n",
       "\n",
       "// Listen for the removal of the full notebook cells\n",
       "var notebookContainer = gd.closest('#notebook-container');\n",
       "if (notebookContainer) {{\n",
       "    x.observe(notebookContainer, {childList: true});\n",
       "}}\n",
       "\n",
       "// Listen for the clearing of the current output cell\n",
       "var outputEl = gd.closest('.output');\n",
       "if (outputEl) {{\n",
       "    x.observe(outputEl, {childList: true});\n",
       "}}\n",
       "\n",
       "                        })                };                });            </script>        </div>"
      ]
     },
     "metadata": {},
     "output_type": "display_data"
    }
   ],
   "source": [
    "df.iplot()"
   ]
  },
  {
   "cell_type": "code",
   "execution_count": 15,
   "id": "d47191d3",
   "metadata": {},
   "outputs": [
    {
     "data": {
      "application/vnd.plotly.v1+json": {
       "config": {
        "linkText": "Export to plot.ly",
        "plotlyServerURL": "https://plot.ly",
        "showLink": true
       },
       "data": [
        {
         "line": {
          "color": "rgba(255, 153, 51, 1.0)",
          "dash": "solid",
          "shape": "linear",
          "width": 1.3
         },
         "marker": {
          "size": 20,
          "symbol": "circle"
         },
         "mode": "markers",
         "name": "B",
         "text": "",
         "type": "scatter",
         "x": [
          0.20858928925374165,
          -0.4342659365804992,
          0.15224425972204558,
          -1.4076364859048878,
          -1.8787133030357686,
          1.1141016130474,
          -0.014856903124838405,
          2.2980934492830407,
          -0.04537892657460305,
          0.37251593394002713,
          1.3160112807008706,
          -0.17426433245318806,
          -1.0676051347476219,
          0.35048603503154846,
          1.3995954370148027,
          0.31417325524307427,
          -0.03901252898133603,
          -0.7815522712797063,
          -1.4657470354223352,
          -0.10963875683423577,
          0.3414618118686473,
          1.8556025363714947,
          0.3857059012861465,
          0.9980034374445319,
          1.2369036414452386,
          -2.2112045923282877,
          -0.8039465980537963,
          1.2501257231512457,
          0.28072647683673607,
          0.8479650419673018,
          0.821856776990302,
          0.33703944666886576,
          0.2994135796999949,
          -1.0020739050520817,
          1.0492375923262964,
          1.4499683923774385,
          0.6771778865444542,
          -1.174173436607878,
          0.9380903401986462,
          0.7830429803693706,
          1.5612080447999004,
          -0.689867946889579,
          -0.012595428200974368,
          -0.07720029034540583,
          1.4459983734283515,
          -0.9818107095001324,
          1.192692753425027,
          -0.0427350127227039,
          -0.770256799555548,
          -2.325516663796394,
          -0.6431928762709359,
          0.3153997366164689,
          0.3874379394644579,
          1.039847925443799,
          -0.9392276561472361,
          0.030043034312859172,
          1.1374541985603328,
          -0.6299169960910088,
          -0.9632572236552438,
          0.46429902371477966,
          -0.21188270820025484,
          -1.071565489388745,
          -0.18972067388602754,
          -1.2528521719399608,
          0.15881994888242676,
          -0.0378086230861681,
          1.1167572500107146,
          0.0006074965995330983,
          -0.15191943738908428,
          1.55982623930444,
          0.6060812113709677,
          0.07197403153804605,
          -0.1892256296041631,
          0.3744916234702504,
          0.5371723431024327,
          0.3056813222755168,
          3.2724431765187476,
          0.5606360026261016,
          0.0797615201136642,
          2.1426154923643996,
          0.595063512231104,
          -2.0077243015777624,
          -1.3920962454797994,
          -1.496551961908376,
          0.7760365739615019,
          0.8822518019486779,
          1.0019935837931249,
          -0.6634189590571933,
          0.07849718855217555,
          0.059596466005808625,
          1.075688755634055,
          1.9898092690768672,
          0.05738664500122117,
          -1.1337520231610325,
          -0.25843487309297164,
          0.4268716302195559,
          -2.323477988994405,
          1.8390982353041838,
          1.2639675884889168,
          1.654235242842938
         ],
         "y": [
          -1.0899935075648546,
          -0.3283429263413677,
          0.9249715866272701,
          2.265847442190619,
          -1.9679748652286901,
          0.3522242836497475,
          -0.7922871395287938,
          -0.9258406713634908,
          0.8115272195253244,
          -1.477270976719303,
          0.1618159952438024,
          -0.4331539457009914,
          0.039311567111366276,
          -0.02441439939200614,
          0.6172117332234927,
          -2.340081944963553,
          3.1702114209761914,
          -0.36332764722503386,
          -0.4907725595838416,
          0.7908863334448771,
          -1.3709915008208202,
          0.5630076301719508,
          -0.08132772990151602,
          0.23855039987494617,
          -0.36783653113759457,
          -2.0583162396779198,
          0.41011426019927305,
          0.7360262123316557,
          0.8578455480892391,
          0.6692212126530874,
          -0.29193924207135413,
          -0.010428464535667108,
          0.5827342576436385,
          0.8631295668999309,
          -0.3887628842023507,
          0.5621355659822822,
          0.41242643202681245,
          0.5400452510501995,
          -0.8622450348007333,
          0.8373961616003691,
          0.7075403616234199,
          1.50682059694962,
          -0.8579989529337081,
          1.966217498627032,
          -0.8842888279114438,
          -0.14063222009410747,
          0.1560775565914649,
          -1.0318998613338433,
          0.6938332181045966,
          0.34902727031895114,
          -1.2083396070051455,
          2.2505048443521325,
          1.4625590755465416,
          -0.7392605820861616,
          1.290122175953878,
          0.03743177695407034,
          0.15447966905151658,
          -0.5941001153821971,
          0.41401637666917435,
          0.43185474659107764,
          -0.48564289964242224,
          0.2120732808572052,
          -1.2176504747328385,
          -0.15447459880849224,
          0.04952072542198867,
          0.016467999256636306,
          -0.5074883377420486,
          0.2853198976723749,
          1.617705760844643,
          1.677555201770505,
          0.27528939747803033,
          1.2810400539729732,
          -0.33070951242102525,
          1.044671936262385,
          0.07747716330923368,
          0.3114697652518498,
          -1.156964461310973,
          0.7046737117632361,
          0.17166399704921553,
          0.046391761412236276,
          2.0237011484840295,
          1.0508124503427356,
          0.7633037621767298,
          0.910230795208631,
          -0.6860382779231162,
          0.8414355798852678,
          0.20068154971940383,
          -0.43766497984189995,
          -1.4456137666739453,
          0.04206249677159624,
          -1.7378780010870498,
          0.3317607911741303,
          -0.3960625890982911,
          0.20891188425239193,
          1.7533600297381258,
          -0.5744757529482349,
          -1.2890173304854928,
          -0.8397499635573618,
          -0.2703194128703838,
          0.4006493372053976
         ]
        }
       ],
       "layout": {
        "legend": {
         "bgcolor": "#F5F6F9",
         "font": {
          "color": "#4D5663"
         }
        },
        "paper_bgcolor": "#F5F6F9",
        "plot_bgcolor": "#F5F6F9",
        "template": {
         "data": {
          "bar": [
           {
            "error_x": {
             "color": "#2a3f5f"
            },
            "error_y": {
             "color": "#2a3f5f"
            },
            "marker": {
             "line": {
              "color": "#E5ECF6",
              "width": 0.5
             },
             "pattern": {
              "fillmode": "overlay",
              "size": 10,
              "solidity": 0.2
             }
            },
            "type": "bar"
           }
          ],
          "barpolar": [
           {
            "marker": {
             "line": {
              "color": "#E5ECF6",
              "width": 0.5
             },
             "pattern": {
              "fillmode": "overlay",
              "size": 10,
              "solidity": 0.2
             }
            },
            "type": "barpolar"
           }
          ],
          "carpet": [
           {
            "aaxis": {
             "endlinecolor": "#2a3f5f",
             "gridcolor": "white",
             "linecolor": "white",
             "minorgridcolor": "white",
             "startlinecolor": "#2a3f5f"
            },
            "baxis": {
             "endlinecolor": "#2a3f5f",
             "gridcolor": "white",
             "linecolor": "white",
             "minorgridcolor": "white",
             "startlinecolor": "#2a3f5f"
            },
            "type": "carpet"
           }
          ],
          "choropleth": [
           {
            "colorbar": {
             "outlinewidth": 0,
             "ticks": ""
            },
            "type": "choropleth"
           }
          ],
          "contour": [
           {
            "colorbar": {
             "outlinewidth": 0,
             "ticks": ""
            },
            "colorscale": [
             [
              0,
              "#0d0887"
             ],
             [
              0.1111111111111111,
              "#46039f"
             ],
             [
              0.2222222222222222,
              "#7201a8"
             ],
             [
              0.3333333333333333,
              "#9c179e"
             ],
             [
              0.4444444444444444,
              "#bd3786"
             ],
             [
              0.5555555555555556,
              "#d8576b"
             ],
             [
              0.6666666666666666,
              "#ed7953"
             ],
             [
              0.7777777777777778,
              "#fb9f3a"
             ],
             [
              0.8888888888888888,
              "#fdca26"
             ],
             [
              1,
              "#f0f921"
             ]
            ],
            "type": "contour"
           }
          ],
          "contourcarpet": [
           {
            "colorbar": {
             "outlinewidth": 0,
             "ticks": ""
            },
            "type": "contourcarpet"
           }
          ],
          "heatmap": [
           {
            "colorbar": {
             "outlinewidth": 0,
             "ticks": ""
            },
            "colorscale": [
             [
              0,
              "#0d0887"
             ],
             [
              0.1111111111111111,
              "#46039f"
             ],
             [
              0.2222222222222222,
              "#7201a8"
             ],
             [
              0.3333333333333333,
              "#9c179e"
             ],
             [
              0.4444444444444444,
              "#bd3786"
             ],
             [
              0.5555555555555556,
              "#d8576b"
             ],
             [
              0.6666666666666666,
              "#ed7953"
             ],
             [
              0.7777777777777778,
              "#fb9f3a"
             ],
             [
              0.8888888888888888,
              "#fdca26"
             ],
             [
              1,
              "#f0f921"
             ]
            ],
            "type": "heatmap"
           }
          ],
          "heatmapgl": [
           {
            "colorbar": {
             "outlinewidth": 0,
             "ticks": ""
            },
            "colorscale": [
             [
              0,
              "#0d0887"
             ],
             [
              0.1111111111111111,
              "#46039f"
             ],
             [
              0.2222222222222222,
              "#7201a8"
             ],
             [
              0.3333333333333333,
              "#9c179e"
             ],
             [
              0.4444444444444444,
              "#bd3786"
             ],
             [
              0.5555555555555556,
              "#d8576b"
             ],
             [
              0.6666666666666666,
              "#ed7953"
             ],
             [
              0.7777777777777778,
              "#fb9f3a"
             ],
             [
              0.8888888888888888,
              "#fdca26"
             ],
             [
              1,
              "#f0f921"
             ]
            ],
            "type": "heatmapgl"
           }
          ],
          "histogram": [
           {
            "marker": {
             "pattern": {
              "fillmode": "overlay",
              "size": 10,
              "solidity": 0.2
             }
            },
            "type": "histogram"
           }
          ],
          "histogram2d": [
           {
            "colorbar": {
             "outlinewidth": 0,
             "ticks": ""
            },
            "colorscale": [
             [
              0,
              "#0d0887"
             ],
             [
              0.1111111111111111,
              "#46039f"
             ],
             [
              0.2222222222222222,
              "#7201a8"
             ],
             [
              0.3333333333333333,
              "#9c179e"
             ],
             [
              0.4444444444444444,
              "#bd3786"
             ],
             [
              0.5555555555555556,
              "#d8576b"
             ],
             [
              0.6666666666666666,
              "#ed7953"
             ],
             [
              0.7777777777777778,
              "#fb9f3a"
             ],
             [
              0.8888888888888888,
              "#fdca26"
             ],
             [
              1,
              "#f0f921"
             ]
            ],
            "type": "histogram2d"
           }
          ],
          "histogram2dcontour": [
           {
            "colorbar": {
             "outlinewidth": 0,
             "ticks": ""
            },
            "colorscale": [
             [
              0,
              "#0d0887"
             ],
             [
              0.1111111111111111,
              "#46039f"
             ],
             [
              0.2222222222222222,
              "#7201a8"
             ],
             [
              0.3333333333333333,
              "#9c179e"
             ],
             [
              0.4444444444444444,
              "#bd3786"
             ],
             [
              0.5555555555555556,
              "#d8576b"
             ],
             [
              0.6666666666666666,
              "#ed7953"
             ],
             [
              0.7777777777777778,
              "#fb9f3a"
             ],
             [
              0.8888888888888888,
              "#fdca26"
             ],
             [
              1,
              "#f0f921"
             ]
            ],
            "type": "histogram2dcontour"
           }
          ],
          "mesh3d": [
           {
            "colorbar": {
             "outlinewidth": 0,
             "ticks": ""
            },
            "type": "mesh3d"
           }
          ],
          "parcoords": [
           {
            "line": {
             "colorbar": {
              "outlinewidth": 0,
              "ticks": ""
             }
            },
            "type": "parcoords"
           }
          ],
          "pie": [
           {
            "automargin": true,
            "type": "pie"
           }
          ],
          "scatter": [
           {
            "marker": {
             "colorbar": {
              "outlinewidth": 0,
              "ticks": ""
             }
            },
            "type": "scatter"
           }
          ],
          "scatter3d": [
           {
            "line": {
             "colorbar": {
              "outlinewidth": 0,
              "ticks": ""
             }
            },
            "marker": {
             "colorbar": {
              "outlinewidth": 0,
              "ticks": ""
             }
            },
            "type": "scatter3d"
           }
          ],
          "scattercarpet": [
           {
            "marker": {
             "colorbar": {
              "outlinewidth": 0,
              "ticks": ""
             }
            },
            "type": "scattercarpet"
           }
          ],
          "scattergeo": [
           {
            "marker": {
             "colorbar": {
              "outlinewidth": 0,
              "ticks": ""
             }
            },
            "type": "scattergeo"
           }
          ],
          "scattergl": [
           {
            "marker": {
             "colorbar": {
              "outlinewidth": 0,
              "ticks": ""
             }
            },
            "type": "scattergl"
           }
          ],
          "scattermapbox": [
           {
            "marker": {
             "colorbar": {
              "outlinewidth": 0,
              "ticks": ""
             }
            },
            "type": "scattermapbox"
           }
          ],
          "scatterpolar": [
           {
            "marker": {
             "colorbar": {
              "outlinewidth": 0,
              "ticks": ""
             }
            },
            "type": "scatterpolar"
           }
          ],
          "scatterpolargl": [
           {
            "marker": {
             "colorbar": {
              "outlinewidth": 0,
              "ticks": ""
             }
            },
            "type": "scatterpolargl"
           }
          ],
          "scatterternary": [
           {
            "marker": {
             "colorbar": {
              "outlinewidth": 0,
              "ticks": ""
             }
            },
            "type": "scatterternary"
           }
          ],
          "surface": [
           {
            "colorbar": {
             "outlinewidth": 0,
             "ticks": ""
            },
            "colorscale": [
             [
              0,
              "#0d0887"
             ],
             [
              0.1111111111111111,
              "#46039f"
             ],
             [
              0.2222222222222222,
              "#7201a8"
             ],
             [
              0.3333333333333333,
              "#9c179e"
             ],
             [
              0.4444444444444444,
              "#bd3786"
             ],
             [
              0.5555555555555556,
              "#d8576b"
             ],
             [
              0.6666666666666666,
              "#ed7953"
             ],
             [
              0.7777777777777778,
              "#fb9f3a"
             ],
             [
              0.8888888888888888,
              "#fdca26"
             ],
             [
              1,
              "#f0f921"
             ]
            ],
            "type": "surface"
           }
          ],
          "table": [
           {
            "cells": {
             "fill": {
              "color": "#EBF0F8"
             },
             "line": {
              "color": "white"
             }
            },
            "header": {
             "fill": {
              "color": "#C8D4E3"
             },
             "line": {
              "color": "white"
             }
            },
            "type": "table"
           }
          ]
         },
         "layout": {
          "annotationdefaults": {
           "arrowcolor": "#2a3f5f",
           "arrowhead": 0,
           "arrowwidth": 1
          },
          "autotypenumbers": "strict",
          "coloraxis": {
           "colorbar": {
            "outlinewidth": 0,
            "ticks": ""
           }
          },
          "colorscale": {
           "diverging": [
            [
             0,
             "#8e0152"
            ],
            [
             0.1,
             "#c51b7d"
            ],
            [
             0.2,
             "#de77ae"
            ],
            [
             0.3,
             "#f1b6da"
            ],
            [
             0.4,
             "#fde0ef"
            ],
            [
             0.5,
             "#f7f7f7"
            ],
            [
             0.6,
             "#e6f5d0"
            ],
            [
             0.7,
             "#b8e186"
            ],
            [
             0.8,
             "#7fbc41"
            ],
            [
             0.9,
             "#4d9221"
            ],
            [
             1,
             "#276419"
            ]
           ],
           "sequential": [
            [
             0,
             "#0d0887"
            ],
            [
             0.1111111111111111,
             "#46039f"
            ],
            [
             0.2222222222222222,
             "#7201a8"
            ],
            [
             0.3333333333333333,
             "#9c179e"
            ],
            [
             0.4444444444444444,
             "#bd3786"
            ],
            [
             0.5555555555555556,
             "#d8576b"
            ],
            [
             0.6666666666666666,
             "#ed7953"
            ],
            [
             0.7777777777777778,
             "#fb9f3a"
            ],
            [
             0.8888888888888888,
             "#fdca26"
            ],
            [
             1,
             "#f0f921"
            ]
           ],
           "sequentialminus": [
            [
             0,
             "#0d0887"
            ],
            [
             0.1111111111111111,
             "#46039f"
            ],
            [
             0.2222222222222222,
             "#7201a8"
            ],
            [
             0.3333333333333333,
             "#9c179e"
            ],
            [
             0.4444444444444444,
             "#bd3786"
            ],
            [
             0.5555555555555556,
             "#d8576b"
            ],
            [
             0.6666666666666666,
             "#ed7953"
            ],
            [
             0.7777777777777778,
             "#fb9f3a"
            ],
            [
             0.8888888888888888,
             "#fdca26"
            ],
            [
             1,
             "#f0f921"
            ]
           ]
          },
          "colorway": [
           "#636efa",
           "#EF553B",
           "#00cc96",
           "#ab63fa",
           "#FFA15A",
           "#19d3f3",
           "#FF6692",
           "#B6E880",
           "#FF97FF",
           "#FECB52"
          ],
          "font": {
           "color": "#2a3f5f"
          },
          "geo": {
           "bgcolor": "white",
           "lakecolor": "white",
           "landcolor": "#E5ECF6",
           "showlakes": true,
           "showland": true,
           "subunitcolor": "white"
          },
          "hoverlabel": {
           "align": "left"
          },
          "hovermode": "closest",
          "mapbox": {
           "style": "light"
          },
          "paper_bgcolor": "white",
          "plot_bgcolor": "#E5ECF6",
          "polar": {
           "angularaxis": {
            "gridcolor": "white",
            "linecolor": "white",
            "ticks": ""
           },
           "bgcolor": "#E5ECF6",
           "radialaxis": {
            "gridcolor": "white",
            "linecolor": "white",
            "ticks": ""
           }
          },
          "scene": {
           "xaxis": {
            "backgroundcolor": "#E5ECF6",
            "gridcolor": "white",
            "gridwidth": 2,
            "linecolor": "white",
            "showbackground": true,
            "ticks": "",
            "zerolinecolor": "white"
           },
           "yaxis": {
            "backgroundcolor": "#E5ECF6",
            "gridcolor": "white",
            "gridwidth": 2,
            "linecolor": "white",
            "showbackground": true,
            "ticks": "",
            "zerolinecolor": "white"
           },
           "zaxis": {
            "backgroundcolor": "#E5ECF6",
            "gridcolor": "white",
            "gridwidth": 2,
            "linecolor": "white",
            "showbackground": true,
            "ticks": "",
            "zerolinecolor": "white"
           }
          },
          "shapedefaults": {
           "line": {
            "color": "#2a3f5f"
           }
          },
          "ternary": {
           "aaxis": {
            "gridcolor": "white",
            "linecolor": "white",
            "ticks": ""
           },
           "baxis": {
            "gridcolor": "white",
            "linecolor": "white",
            "ticks": ""
           },
           "bgcolor": "#E5ECF6",
           "caxis": {
            "gridcolor": "white",
            "linecolor": "white",
            "ticks": ""
           }
          },
          "title": {
           "x": 0.05
          },
          "xaxis": {
           "automargin": true,
           "gridcolor": "white",
           "linecolor": "white",
           "ticks": "",
           "title": {
            "standoff": 15
           },
           "zerolinecolor": "white",
           "zerolinewidth": 2
          },
          "yaxis": {
           "automargin": true,
           "gridcolor": "white",
           "linecolor": "white",
           "ticks": "",
           "title": {
            "standoff": 15
           },
           "zerolinecolor": "white",
           "zerolinewidth": 2
          }
         }
        },
        "title": {
         "font": {
          "color": "#4D5663"
         }
        },
        "xaxis": {
         "gridcolor": "#E1E5ED",
         "showgrid": true,
         "tickfont": {
          "color": "#4D5663"
         },
         "title": {
          "font": {
           "color": "#4D5663"
          },
          "text": ""
         },
         "zerolinecolor": "#E1E5ED"
        },
        "yaxis": {
         "gridcolor": "#E1E5ED",
         "showgrid": true,
         "tickfont": {
          "color": "#4D5663"
         },
         "title": {
          "font": {
           "color": "#4D5663"
          },
          "text": ""
         },
         "zerolinecolor": "#E1E5ED"
        }
       }
      },
      "text/html": [
       "<div>                            <div id=\"c6e2d52a-1e62-4bfd-9bd9-71368da40bdb\" class=\"plotly-graph-div\" style=\"height:525px; width:100%;\"></div>            <script type=\"text/javascript\">                require([\"plotly\"], function(Plotly) {                    window.PLOTLYENV=window.PLOTLYENV || {};\n",
       "                    window.PLOTLYENV.BASE_URL='https://plot.ly';                                    if (document.getElementById(\"c6e2d52a-1e62-4bfd-9bd9-71368da40bdb\")) {                    Plotly.newPlot(                        \"c6e2d52a-1e62-4bfd-9bd9-71368da40bdb\",                        [{\"line\":{\"color\":\"rgba(255, 153, 51, 1.0)\",\"dash\":\"solid\",\"shape\":\"linear\",\"width\":1.3},\"marker\":{\"size\":20,\"symbol\":\"circle\"},\"mode\":\"markers\",\"name\":\"B\",\"text\":\"\",\"type\":\"scatter\",\"x\":[0.20858928925374165,-0.4342659365804992,0.15224425972204558,-1.4076364859048878,-1.8787133030357686,1.1141016130474,-0.014856903124838405,2.2980934492830407,-0.04537892657460305,0.37251593394002713,1.3160112807008706,-0.17426433245318806,-1.0676051347476219,0.35048603503154846,1.3995954370148027,0.31417325524307427,-0.03901252898133603,-0.7815522712797063,-1.4657470354223352,-0.10963875683423577,0.3414618118686473,1.8556025363714947,0.3857059012861465,0.9980034374445319,1.2369036414452386,-2.2112045923282877,-0.8039465980537963,1.2501257231512457,0.28072647683673607,0.8479650419673018,0.821856776990302,0.33703944666886576,0.2994135796999949,-1.0020739050520817,1.0492375923262964,1.4499683923774385,0.6771778865444542,-1.174173436607878,0.9380903401986462,0.7830429803693706,1.5612080447999004,-0.689867946889579,-0.012595428200974368,-0.07720029034540583,1.4459983734283515,-0.9818107095001324,1.192692753425027,-0.0427350127227039,-0.770256799555548,-2.325516663796394,-0.6431928762709359,0.3153997366164689,0.3874379394644579,1.039847925443799,-0.9392276561472361,0.030043034312859172,1.1374541985603328,-0.6299169960910088,-0.9632572236552438,0.46429902371477966,-0.21188270820025484,-1.071565489388745,-0.18972067388602754,-1.2528521719399608,0.15881994888242676,-0.0378086230861681,1.1167572500107146,0.0006074965995330983,-0.15191943738908428,1.55982623930444,0.6060812113709677,0.07197403153804605,-0.1892256296041631,0.3744916234702504,0.5371723431024327,0.3056813222755168,3.2724431765187476,0.5606360026261016,0.0797615201136642,2.1426154923643996,0.595063512231104,-2.0077243015777624,-1.3920962454797994,-1.496551961908376,0.7760365739615019,0.8822518019486779,1.0019935837931249,-0.6634189590571933,0.07849718855217555,0.059596466005808625,1.075688755634055,1.9898092690768672,0.05738664500122117,-1.1337520231610325,-0.25843487309297164,0.4268716302195559,-2.323477988994405,1.8390982353041838,1.2639675884889168,1.654235242842938],\"y\":[-1.0899935075648546,-0.3283429263413677,0.9249715866272701,2.265847442190619,-1.9679748652286901,0.3522242836497475,-0.7922871395287938,-0.9258406713634908,0.8115272195253244,-1.477270976719303,0.1618159952438024,-0.4331539457009914,0.039311567111366276,-0.02441439939200614,0.6172117332234927,-2.340081944963553,3.1702114209761914,-0.36332764722503386,-0.4907725595838416,0.7908863334448771,-1.3709915008208202,0.5630076301719508,-0.08132772990151602,0.23855039987494617,-0.36783653113759457,-2.0583162396779198,0.41011426019927305,0.7360262123316557,0.8578455480892391,0.6692212126530874,-0.29193924207135413,-0.010428464535667108,0.5827342576436385,0.8631295668999309,-0.3887628842023507,0.5621355659822822,0.41242643202681245,0.5400452510501995,-0.8622450348007333,0.8373961616003691,0.7075403616234199,1.50682059694962,-0.8579989529337081,1.966217498627032,-0.8842888279114438,-0.14063222009410747,0.1560775565914649,-1.0318998613338433,0.6938332181045966,0.34902727031895114,-1.2083396070051455,2.2505048443521325,1.4625590755465416,-0.7392605820861616,1.290122175953878,0.03743177695407034,0.15447966905151658,-0.5941001153821971,0.41401637666917435,0.43185474659107764,-0.48564289964242224,0.2120732808572052,-1.2176504747328385,-0.15447459880849224,0.04952072542198867,0.016467999256636306,-0.5074883377420486,0.2853198976723749,1.617705760844643,1.677555201770505,0.27528939747803033,1.2810400539729732,-0.33070951242102525,1.044671936262385,0.07747716330923368,0.3114697652518498,-1.156964461310973,0.7046737117632361,0.17166399704921553,0.046391761412236276,2.0237011484840295,1.0508124503427356,0.7633037621767298,0.910230795208631,-0.6860382779231162,0.8414355798852678,0.20068154971940383,-0.43766497984189995,-1.4456137666739453,0.04206249677159624,-1.7378780010870498,0.3317607911741303,-0.3960625890982911,0.20891188425239193,1.7533600297381258,-0.5744757529482349,-1.2890173304854928,-0.8397499635573618,-0.2703194128703838,0.4006493372053976]}],                        {\"legend\":{\"bgcolor\":\"#F5F6F9\",\"font\":{\"color\":\"#4D5663\"}},\"paper_bgcolor\":\"#F5F6F9\",\"plot_bgcolor\":\"#F5F6F9\",\"template\":{\"data\":{\"bar\":[{\"error_x\":{\"color\":\"#2a3f5f\"},\"error_y\":{\"color\":\"#2a3f5f\"},\"marker\":{\"line\":{\"color\":\"#E5ECF6\",\"width\":0.5},\"pattern\":{\"fillmode\":\"overlay\",\"size\":10,\"solidity\":0.2}},\"type\":\"bar\"}],\"barpolar\":[{\"marker\":{\"line\":{\"color\":\"#E5ECF6\",\"width\":0.5},\"pattern\":{\"fillmode\":\"overlay\",\"size\":10,\"solidity\":0.2}},\"type\":\"barpolar\"}],\"carpet\":[{\"aaxis\":{\"endlinecolor\":\"#2a3f5f\",\"gridcolor\":\"white\",\"linecolor\":\"white\",\"minorgridcolor\":\"white\",\"startlinecolor\":\"#2a3f5f\"},\"baxis\":{\"endlinecolor\":\"#2a3f5f\",\"gridcolor\":\"white\",\"linecolor\":\"white\",\"minorgridcolor\":\"white\",\"startlinecolor\":\"#2a3f5f\"},\"type\":\"carpet\"}],\"choropleth\":[{\"colorbar\":{\"outlinewidth\":0,\"ticks\":\"\"},\"type\":\"choropleth\"}],\"contour\":[{\"colorbar\":{\"outlinewidth\":0,\"ticks\":\"\"},\"colorscale\":[[0.0,\"#0d0887\"],[0.1111111111111111,\"#46039f\"],[0.2222222222222222,\"#7201a8\"],[0.3333333333333333,\"#9c179e\"],[0.4444444444444444,\"#bd3786\"],[0.5555555555555556,\"#d8576b\"],[0.6666666666666666,\"#ed7953\"],[0.7777777777777778,\"#fb9f3a\"],[0.8888888888888888,\"#fdca26\"],[1.0,\"#f0f921\"]],\"type\":\"contour\"}],\"contourcarpet\":[{\"colorbar\":{\"outlinewidth\":0,\"ticks\":\"\"},\"type\":\"contourcarpet\"}],\"heatmap\":[{\"colorbar\":{\"outlinewidth\":0,\"ticks\":\"\"},\"colorscale\":[[0.0,\"#0d0887\"],[0.1111111111111111,\"#46039f\"],[0.2222222222222222,\"#7201a8\"],[0.3333333333333333,\"#9c179e\"],[0.4444444444444444,\"#bd3786\"],[0.5555555555555556,\"#d8576b\"],[0.6666666666666666,\"#ed7953\"],[0.7777777777777778,\"#fb9f3a\"],[0.8888888888888888,\"#fdca26\"],[1.0,\"#f0f921\"]],\"type\":\"heatmap\"}],\"heatmapgl\":[{\"colorbar\":{\"outlinewidth\":0,\"ticks\":\"\"},\"colorscale\":[[0.0,\"#0d0887\"],[0.1111111111111111,\"#46039f\"],[0.2222222222222222,\"#7201a8\"],[0.3333333333333333,\"#9c179e\"],[0.4444444444444444,\"#bd3786\"],[0.5555555555555556,\"#d8576b\"],[0.6666666666666666,\"#ed7953\"],[0.7777777777777778,\"#fb9f3a\"],[0.8888888888888888,\"#fdca26\"],[1.0,\"#f0f921\"]],\"type\":\"heatmapgl\"}],\"histogram\":[{\"marker\":{\"pattern\":{\"fillmode\":\"overlay\",\"size\":10,\"solidity\":0.2}},\"type\":\"histogram\"}],\"histogram2d\":[{\"colorbar\":{\"outlinewidth\":0,\"ticks\":\"\"},\"colorscale\":[[0.0,\"#0d0887\"],[0.1111111111111111,\"#46039f\"],[0.2222222222222222,\"#7201a8\"],[0.3333333333333333,\"#9c179e\"],[0.4444444444444444,\"#bd3786\"],[0.5555555555555556,\"#d8576b\"],[0.6666666666666666,\"#ed7953\"],[0.7777777777777778,\"#fb9f3a\"],[0.8888888888888888,\"#fdca26\"],[1.0,\"#f0f921\"]],\"type\":\"histogram2d\"}],\"histogram2dcontour\":[{\"colorbar\":{\"outlinewidth\":0,\"ticks\":\"\"},\"colorscale\":[[0.0,\"#0d0887\"],[0.1111111111111111,\"#46039f\"],[0.2222222222222222,\"#7201a8\"],[0.3333333333333333,\"#9c179e\"],[0.4444444444444444,\"#bd3786\"],[0.5555555555555556,\"#d8576b\"],[0.6666666666666666,\"#ed7953\"],[0.7777777777777778,\"#fb9f3a\"],[0.8888888888888888,\"#fdca26\"],[1.0,\"#f0f921\"]],\"type\":\"histogram2dcontour\"}],\"mesh3d\":[{\"colorbar\":{\"outlinewidth\":0,\"ticks\":\"\"},\"type\":\"mesh3d\"}],\"parcoords\":[{\"line\":{\"colorbar\":{\"outlinewidth\":0,\"ticks\":\"\"}},\"type\":\"parcoords\"}],\"pie\":[{\"automargin\":true,\"type\":\"pie\"}],\"scatter\":[{\"marker\":{\"colorbar\":{\"outlinewidth\":0,\"ticks\":\"\"}},\"type\":\"scatter\"}],\"scatter3d\":[{\"line\":{\"colorbar\":{\"outlinewidth\":0,\"ticks\":\"\"}},\"marker\":{\"colorbar\":{\"outlinewidth\":0,\"ticks\":\"\"}},\"type\":\"scatter3d\"}],\"scattercarpet\":[{\"marker\":{\"colorbar\":{\"outlinewidth\":0,\"ticks\":\"\"}},\"type\":\"scattercarpet\"}],\"scattergeo\":[{\"marker\":{\"colorbar\":{\"outlinewidth\":0,\"ticks\":\"\"}},\"type\":\"scattergeo\"}],\"scattergl\":[{\"marker\":{\"colorbar\":{\"outlinewidth\":0,\"ticks\":\"\"}},\"type\":\"scattergl\"}],\"scattermapbox\":[{\"marker\":{\"colorbar\":{\"outlinewidth\":0,\"ticks\":\"\"}},\"type\":\"scattermapbox\"}],\"scatterpolar\":[{\"marker\":{\"colorbar\":{\"outlinewidth\":0,\"ticks\":\"\"}},\"type\":\"scatterpolar\"}],\"scatterpolargl\":[{\"marker\":{\"colorbar\":{\"outlinewidth\":0,\"ticks\":\"\"}},\"type\":\"scatterpolargl\"}],\"scatterternary\":[{\"marker\":{\"colorbar\":{\"outlinewidth\":0,\"ticks\":\"\"}},\"type\":\"scatterternary\"}],\"surface\":[{\"colorbar\":{\"outlinewidth\":0,\"ticks\":\"\"},\"colorscale\":[[0.0,\"#0d0887\"],[0.1111111111111111,\"#46039f\"],[0.2222222222222222,\"#7201a8\"],[0.3333333333333333,\"#9c179e\"],[0.4444444444444444,\"#bd3786\"],[0.5555555555555556,\"#d8576b\"],[0.6666666666666666,\"#ed7953\"],[0.7777777777777778,\"#fb9f3a\"],[0.8888888888888888,\"#fdca26\"],[1.0,\"#f0f921\"]],\"type\":\"surface\"}],\"table\":[{\"cells\":{\"fill\":{\"color\":\"#EBF0F8\"},\"line\":{\"color\":\"white\"}},\"header\":{\"fill\":{\"color\":\"#C8D4E3\"},\"line\":{\"color\":\"white\"}},\"type\":\"table\"}]},\"layout\":{\"annotationdefaults\":{\"arrowcolor\":\"#2a3f5f\",\"arrowhead\":0,\"arrowwidth\":1},\"autotypenumbers\":\"strict\",\"coloraxis\":{\"colorbar\":{\"outlinewidth\":0,\"ticks\":\"\"}},\"colorscale\":{\"diverging\":[[0,\"#8e0152\"],[0.1,\"#c51b7d\"],[0.2,\"#de77ae\"],[0.3,\"#f1b6da\"],[0.4,\"#fde0ef\"],[0.5,\"#f7f7f7\"],[0.6,\"#e6f5d0\"],[0.7,\"#b8e186\"],[0.8,\"#7fbc41\"],[0.9,\"#4d9221\"],[1,\"#276419\"]],\"sequential\":[[0.0,\"#0d0887\"],[0.1111111111111111,\"#46039f\"],[0.2222222222222222,\"#7201a8\"],[0.3333333333333333,\"#9c179e\"],[0.4444444444444444,\"#bd3786\"],[0.5555555555555556,\"#d8576b\"],[0.6666666666666666,\"#ed7953\"],[0.7777777777777778,\"#fb9f3a\"],[0.8888888888888888,\"#fdca26\"],[1.0,\"#f0f921\"]],\"sequentialminus\":[[0.0,\"#0d0887\"],[0.1111111111111111,\"#46039f\"],[0.2222222222222222,\"#7201a8\"],[0.3333333333333333,\"#9c179e\"],[0.4444444444444444,\"#bd3786\"],[0.5555555555555556,\"#d8576b\"],[0.6666666666666666,\"#ed7953\"],[0.7777777777777778,\"#fb9f3a\"],[0.8888888888888888,\"#fdca26\"],[1.0,\"#f0f921\"]]},\"colorway\":[\"#636efa\",\"#EF553B\",\"#00cc96\",\"#ab63fa\",\"#FFA15A\",\"#19d3f3\",\"#FF6692\",\"#B6E880\",\"#FF97FF\",\"#FECB52\"],\"font\":{\"color\":\"#2a3f5f\"},\"geo\":{\"bgcolor\":\"white\",\"lakecolor\":\"white\",\"landcolor\":\"#E5ECF6\",\"showlakes\":true,\"showland\":true,\"subunitcolor\":\"white\"},\"hoverlabel\":{\"align\":\"left\"},\"hovermode\":\"closest\",\"mapbox\":{\"style\":\"light\"},\"paper_bgcolor\":\"white\",\"plot_bgcolor\":\"#E5ECF6\",\"polar\":{\"angularaxis\":{\"gridcolor\":\"white\",\"linecolor\":\"white\",\"ticks\":\"\"},\"bgcolor\":\"#E5ECF6\",\"radialaxis\":{\"gridcolor\":\"white\",\"linecolor\":\"white\",\"ticks\":\"\"}},\"scene\":{\"xaxis\":{\"backgroundcolor\":\"#E5ECF6\",\"gridcolor\":\"white\",\"gridwidth\":2,\"linecolor\":\"white\",\"showbackground\":true,\"ticks\":\"\",\"zerolinecolor\":\"white\"},\"yaxis\":{\"backgroundcolor\":\"#E5ECF6\",\"gridcolor\":\"white\",\"gridwidth\":2,\"linecolor\":\"white\",\"showbackground\":true,\"ticks\":\"\",\"zerolinecolor\":\"white\"},\"zaxis\":{\"backgroundcolor\":\"#E5ECF6\",\"gridcolor\":\"white\",\"gridwidth\":2,\"linecolor\":\"white\",\"showbackground\":true,\"ticks\":\"\",\"zerolinecolor\":\"white\"}},\"shapedefaults\":{\"line\":{\"color\":\"#2a3f5f\"}},\"ternary\":{\"aaxis\":{\"gridcolor\":\"white\",\"linecolor\":\"white\",\"ticks\":\"\"},\"baxis\":{\"gridcolor\":\"white\",\"linecolor\":\"white\",\"ticks\":\"\"},\"bgcolor\":\"#E5ECF6\",\"caxis\":{\"gridcolor\":\"white\",\"linecolor\":\"white\",\"ticks\":\"\"}},\"title\":{\"x\":0.05},\"xaxis\":{\"automargin\":true,\"gridcolor\":\"white\",\"linecolor\":\"white\",\"ticks\":\"\",\"title\":{\"standoff\":15},\"zerolinecolor\":\"white\",\"zerolinewidth\":2},\"yaxis\":{\"automargin\":true,\"gridcolor\":\"white\",\"linecolor\":\"white\",\"ticks\":\"\",\"title\":{\"standoff\":15},\"zerolinecolor\":\"white\",\"zerolinewidth\":2}}},\"title\":{\"font\":{\"color\":\"#4D5663\"}},\"xaxis\":{\"gridcolor\":\"#E1E5ED\",\"showgrid\":true,\"tickfont\":{\"color\":\"#4D5663\"},\"title\":{\"font\":{\"color\":\"#4D5663\"},\"text\":\"\"},\"zerolinecolor\":\"#E1E5ED\"},\"yaxis\":{\"gridcolor\":\"#E1E5ED\",\"showgrid\":true,\"tickfont\":{\"color\":\"#4D5663\"},\"title\":{\"font\":{\"color\":\"#4D5663\"},\"text\":\"\"},\"zerolinecolor\":\"#E1E5ED\"}},                        {\"showLink\": true, \"linkText\": \"Export to plot.ly\", \"plotlyServerURL\": \"https://plot.ly\", \"responsive\": true}                    ).then(function(){\n",
       "                            \n",
       "var gd = document.getElementById('c6e2d52a-1e62-4bfd-9bd9-71368da40bdb');\n",
       "var x = new MutationObserver(function (mutations, observer) {{\n",
       "        var display = window.getComputedStyle(gd).display;\n",
       "        if (!display || display === 'none') {{\n",
       "            console.log([gd, 'removed!']);\n",
       "            Plotly.purge(gd);\n",
       "            observer.disconnect();\n",
       "        }}\n",
       "}});\n",
       "\n",
       "// Listen for the removal of the full notebook cells\n",
       "var notebookContainer = gd.closest('#notebook-container');\n",
       "if (notebookContainer) {{\n",
       "    x.observe(notebookContainer, {childList: true});\n",
       "}}\n",
       "\n",
       "// Listen for the clearing of the current output cell\n",
       "var outputEl = gd.closest('.output');\n",
       "if (outputEl) {{\n",
       "    x.observe(outputEl, {childList: true});\n",
       "}}\n",
       "\n",
       "                        })                };                });            </script>        </div>"
      ]
     },
     "metadata": {},
     "output_type": "display_data"
    }
   ],
   "source": [
    "df.iplot(kind='scatter',x='A',y='B',mode='markers',size=20)"
   ]
  },
  {
   "cell_type": "code",
   "execution_count": 18,
   "id": "3af37579",
   "metadata": {},
   "outputs": [
    {
     "data": {
      "text/html": [
       "<div>\n",
       "<style scoped>\n",
       "    .dataframe tbody tr th:only-of-type {\n",
       "        vertical-align: middle;\n",
       "    }\n",
       "\n",
       "    .dataframe tbody tr th {\n",
       "        vertical-align: top;\n",
       "    }\n",
       "\n",
       "    .dataframe thead th {\n",
       "        text-align: right;\n",
       "    }\n",
       "</style>\n",
       "<table border=\"1\" class=\"dataframe\">\n",
       "  <thead>\n",
       "    <tr style=\"text-align: right;\">\n",
       "      <th></th>\n",
       "      <th>category</th>\n",
       "      <th>values</th>\n",
       "    </tr>\n",
       "  </thead>\n",
       "  <tbody>\n",
       "    <tr>\n",
       "      <th>0</th>\n",
       "      <td>A</td>\n",
       "      <td>12</td>\n",
       "    </tr>\n",
       "    <tr>\n",
       "      <th>1</th>\n",
       "      <td>B</td>\n",
       "      <td>14</td>\n",
       "    </tr>\n",
       "    <tr>\n",
       "      <th>2</th>\n",
       "      <td>C</td>\n",
       "      <td>16</td>\n",
       "    </tr>\n",
       "    <tr>\n",
       "      <th>3</th>\n",
       "      <td>D</td>\n",
       "      <td>50</td>\n",
       "    </tr>\n",
       "  </tbody>\n",
       "</table>\n",
       "</div>"
      ],
      "text/plain": [
       "  category  values\n",
       "0        A      12\n",
       "1        B      14\n",
       "2        C      16\n",
       "3        D      50"
      ]
     },
     "execution_count": 18,
     "metadata": {},
     "output_type": "execute_result"
    }
   ],
   "source": [
    "df2.head()"
   ]
  },
  {
   "cell_type": "code",
   "execution_count": 19,
   "id": "70358853",
   "metadata": {},
   "outputs": [
    {
     "data": {
      "application/vnd.plotly.v1+json": {
       "config": {
        "linkText": "Export to plot.ly",
        "plotlyServerURL": "https://plot.ly",
        "showLink": true
       },
       "data": [
        {
         "marker": {
          "color": "rgba(255, 153, 51, 0.6)",
          "line": {
           "color": "rgba(255, 153, 51, 1.0)",
           "width": 1
          }
         },
         "name": "values",
         "orientation": "v",
         "text": "",
         "type": "bar",
         "x": [
          "A",
          "B",
          "C",
          "D"
         ],
         "y": [
          12,
          14,
          16,
          50
         ]
        }
       ],
       "layout": {
        "legend": {
         "bgcolor": "#F5F6F9",
         "font": {
          "color": "#4D5663"
         }
        },
        "paper_bgcolor": "#F5F6F9",
        "plot_bgcolor": "#F5F6F9",
        "template": {
         "data": {
          "bar": [
           {
            "error_x": {
             "color": "#2a3f5f"
            },
            "error_y": {
             "color": "#2a3f5f"
            },
            "marker": {
             "line": {
              "color": "#E5ECF6",
              "width": 0.5
             },
             "pattern": {
              "fillmode": "overlay",
              "size": 10,
              "solidity": 0.2
             }
            },
            "type": "bar"
           }
          ],
          "barpolar": [
           {
            "marker": {
             "line": {
              "color": "#E5ECF6",
              "width": 0.5
             },
             "pattern": {
              "fillmode": "overlay",
              "size": 10,
              "solidity": 0.2
             }
            },
            "type": "barpolar"
           }
          ],
          "carpet": [
           {
            "aaxis": {
             "endlinecolor": "#2a3f5f",
             "gridcolor": "white",
             "linecolor": "white",
             "minorgridcolor": "white",
             "startlinecolor": "#2a3f5f"
            },
            "baxis": {
             "endlinecolor": "#2a3f5f",
             "gridcolor": "white",
             "linecolor": "white",
             "minorgridcolor": "white",
             "startlinecolor": "#2a3f5f"
            },
            "type": "carpet"
           }
          ],
          "choropleth": [
           {
            "colorbar": {
             "outlinewidth": 0,
             "ticks": ""
            },
            "type": "choropleth"
           }
          ],
          "contour": [
           {
            "colorbar": {
             "outlinewidth": 0,
             "ticks": ""
            },
            "colorscale": [
             [
              0,
              "#0d0887"
             ],
             [
              0.1111111111111111,
              "#46039f"
             ],
             [
              0.2222222222222222,
              "#7201a8"
             ],
             [
              0.3333333333333333,
              "#9c179e"
             ],
             [
              0.4444444444444444,
              "#bd3786"
             ],
             [
              0.5555555555555556,
              "#d8576b"
             ],
             [
              0.6666666666666666,
              "#ed7953"
             ],
             [
              0.7777777777777778,
              "#fb9f3a"
             ],
             [
              0.8888888888888888,
              "#fdca26"
             ],
             [
              1,
              "#f0f921"
             ]
            ],
            "type": "contour"
           }
          ],
          "contourcarpet": [
           {
            "colorbar": {
             "outlinewidth": 0,
             "ticks": ""
            },
            "type": "contourcarpet"
           }
          ],
          "heatmap": [
           {
            "colorbar": {
             "outlinewidth": 0,
             "ticks": ""
            },
            "colorscale": [
             [
              0,
              "#0d0887"
             ],
             [
              0.1111111111111111,
              "#46039f"
             ],
             [
              0.2222222222222222,
              "#7201a8"
             ],
             [
              0.3333333333333333,
              "#9c179e"
             ],
             [
              0.4444444444444444,
              "#bd3786"
             ],
             [
              0.5555555555555556,
              "#d8576b"
             ],
             [
              0.6666666666666666,
              "#ed7953"
             ],
             [
              0.7777777777777778,
              "#fb9f3a"
             ],
             [
              0.8888888888888888,
              "#fdca26"
             ],
             [
              1,
              "#f0f921"
             ]
            ],
            "type": "heatmap"
           }
          ],
          "heatmapgl": [
           {
            "colorbar": {
             "outlinewidth": 0,
             "ticks": ""
            },
            "colorscale": [
             [
              0,
              "#0d0887"
             ],
             [
              0.1111111111111111,
              "#46039f"
             ],
             [
              0.2222222222222222,
              "#7201a8"
             ],
             [
              0.3333333333333333,
              "#9c179e"
             ],
             [
              0.4444444444444444,
              "#bd3786"
             ],
             [
              0.5555555555555556,
              "#d8576b"
             ],
             [
              0.6666666666666666,
              "#ed7953"
             ],
             [
              0.7777777777777778,
              "#fb9f3a"
             ],
             [
              0.8888888888888888,
              "#fdca26"
             ],
             [
              1,
              "#f0f921"
             ]
            ],
            "type": "heatmapgl"
           }
          ],
          "histogram": [
           {
            "marker": {
             "pattern": {
              "fillmode": "overlay",
              "size": 10,
              "solidity": 0.2
             }
            },
            "type": "histogram"
           }
          ],
          "histogram2d": [
           {
            "colorbar": {
             "outlinewidth": 0,
             "ticks": ""
            },
            "colorscale": [
             [
              0,
              "#0d0887"
             ],
             [
              0.1111111111111111,
              "#46039f"
             ],
             [
              0.2222222222222222,
              "#7201a8"
             ],
             [
              0.3333333333333333,
              "#9c179e"
             ],
             [
              0.4444444444444444,
              "#bd3786"
             ],
             [
              0.5555555555555556,
              "#d8576b"
             ],
             [
              0.6666666666666666,
              "#ed7953"
             ],
             [
              0.7777777777777778,
              "#fb9f3a"
             ],
             [
              0.8888888888888888,
              "#fdca26"
             ],
             [
              1,
              "#f0f921"
             ]
            ],
            "type": "histogram2d"
           }
          ],
          "histogram2dcontour": [
           {
            "colorbar": {
             "outlinewidth": 0,
             "ticks": ""
            },
            "colorscale": [
             [
              0,
              "#0d0887"
             ],
             [
              0.1111111111111111,
              "#46039f"
             ],
             [
              0.2222222222222222,
              "#7201a8"
             ],
             [
              0.3333333333333333,
              "#9c179e"
             ],
             [
              0.4444444444444444,
              "#bd3786"
             ],
             [
              0.5555555555555556,
              "#d8576b"
             ],
             [
              0.6666666666666666,
              "#ed7953"
             ],
             [
              0.7777777777777778,
              "#fb9f3a"
             ],
             [
              0.8888888888888888,
              "#fdca26"
             ],
             [
              1,
              "#f0f921"
             ]
            ],
            "type": "histogram2dcontour"
           }
          ],
          "mesh3d": [
           {
            "colorbar": {
             "outlinewidth": 0,
             "ticks": ""
            },
            "type": "mesh3d"
           }
          ],
          "parcoords": [
           {
            "line": {
             "colorbar": {
              "outlinewidth": 0,
              "ticks": ""
             }
            },
            "type": "parcoords"
           }
          ],
          "pie": [
           {
            "automargin": true,
            "type": "pie"
           }
          ],
          "scatter": [
           {
            "marker": {
             "colorbar": {
              "outlinewidth": 0,
              "ticks": ""
             }
            },
            "type": "scatter"
           }
          ],
          "scatter3d": [
           {
            "line": {
             "colorbar": {
              "outlinewidth": 0,
              "ticks": ""
             }
            },
            "marker": {
             "colorbar": {
              "outlinewidth": 0,
              "ticks": ""
             }
            },
            "type": "scatter3d"
           }
          ],
          "scattercarpet": [
           {
            "marker": {
             "colorbar": {
              "outlinewidth": 0,
              "ticks": ""
             }
            },
            "type": "scattercarpet"
           }
          ],
          "scattergeo": [
           {
            "marker": {
             "colorbar": {
              "outlinewidth": 0,
              "ticks": ""
             }
            },
            "type": "scattergeo"
           }
          ],
          "scattergl": [
           {
            "marker": {
             "colorbar": {
              "outlinewidth": 0,
              "ticks": ""
             }
            },
            "type": "scattergl"
           }
          ],
          "scattermapbox": [
           {
            "marker": {
             "colorbar": {
              "outlinewidth": 0,
              "ticks": ""
             }
            },
            "type": "scattermapbox"
           }
          ],
          "scatterpolar": [
           {
            "marker": {
             "colorbar": {
              "outlinewidth": 0,
              "ticks": ""
             }
            },
            "type": "scatterpolar"
           }
          ],
          "scatterpolargl": [
           {
            "marker": {
             "colorbar": {
              "outlinewidth": 0,
              "ticks": ""
             }
            },
            "type": "scatterpolargl"
           }
          ],
          "scatterternary": [
           {
            "marker": {
             "colorbar": {
              "outlinewidth": 0,
              "ticks": ""
             }
            },
            "type": "scatterternary"
           }
          ],
          "surface": [
           {
            "colorbar": {
             "outlinewidth": 0,
             "ticks": ""
            },
            "colorscale": [
             [
              0,
              "#0d0887"
             ],
             [
              0.1111111111111111,
              "#46039f"
             ],
             [
              0.2222222222222222,
              "#7201a8"
             ],
             [
              0.3333333333333333,
              "#9c179e"
             ],
             [
              0.4444444444444444,
              "#bd3786"
             ],
             [
              0.5555555555555556,
              "#d8576b"
             ],
             [
              0.6666666666666666,
              "#ed7953"
             ],
             [
              0.7777777777777778,
              "#fb9f3a"
             ],
             [
              0.8888888888888888,
              "#fdca26"
             ],
             [
              1,
              "#f0f921"
             ]
            ],
            "type": "surface"
           }
          ],
          "table": [
           {
            "cells": {
             "fill": {
              "color": "#EBF0F8"
             },
             "line": {
              "color": "white"
             }
            },
            "header": {
             "fill": {
              "color": "#C8D4E3"
             },
             "line": {
              "color": "white"
             }
            },
            "type": "table"
           }
          ]
         },
         "layout": {
          "annotationdefaults": {
           "arrowcolor": "#2a3f5f",
           "arrowhead": 0,
           "arrowwidth": 1
          },
          "autotypenumbers": "strict",
          "coloraxis": {
           "colorbar": {
            "outlinewidth": 0,
            "ticks": ""
           }
          },
          "colorscale": {
           "diverging": [
            [
             0,
             "#8e0152"
            ],
            [
             0.1,
             "#c51b7d"
            ],
            [
             0.2,
             "#de77ae"
            ],
            [
             0.3,
             "#f1b6da"
            ],
            [
             0.4,
             "#fde0ef"
            ],
            [
             0.5,
             "#f7f7f7"
            ],
            [
             0.6,
             "#e6f5d0"
            ],
            [
             0.7,
             "#b8e186"
            ],
            [
             0.8,
             "#7fbc41"
            ],
            [
             0.9,
             "#4d9221"
            ],
            [
             1,
             "#276419"
            ]
           ],
           "sequential": [
            [
             0,
             "#0d0887"
            ],
            [
             0.1111111111111111,
             "#46039f"
            ],
            [
             0.2222222222222222,
             "#7201a8"
            ],
            [
             0.3333333333333333,
             "#9c179e"
            ],
            [
             0.4444444444444444,
             "#bd3786"
            ],
            [
             0.5555555555555556,
             "#d8576b"
            ],
            [
             0.6666666666666666,
             "#ed7953"
            ],
            [
             0.7777777777777778,
             "#fb9f3a"
            ],
            [
             0.8888888888888888,
             "#fdca26"
            ],
            [
             1,
             "#f0f921"
            ]
           ],
           "sequentialminus": [
            [
             0,
             "#0d0887"
            ],
            [
             0.1111111111111111,
             "#46039f"
            ],
            [
             0.2222222222222222,
             "#7201a8"
            ],
            [
             0.3333333333333333,
             "#9c179e"
            ],
            [
             0.4444444444444444,
             "#bd3786"
            ],
            [
             0.5555555555555556,
             "#d8576b"
            ],
            [
             0.6666666666666666,
             "#ed7953"
            ],
            [
             0.7777777777777778,
             "#fb9f3a"
            ],
            [
             0.8888888888888888,
             "#fdca26"
            ],
            [
             1,
             "#f0f921"
            ]
           ]
          },
          "colorway": [
           "#636efa",
           "#EF553B",
           "#00cc96",
           "#ab63fa",
           "#FFA15A",
           "#19d3f3",
           "#FF6692",
           "#B6E880",
           "#FF97FF",
           "#FECB52"
          ],
          "font": {
           "color": "#2a3f5f"
          },
          "geo": {
           "bgcolor": "white",
           "lakecolor": "white",
           "landcolor": "#E5ECF6",
           "showlakes": true,
           "showland": true,
           "subunitcolor": "white"
          },
          "hoverlabel": {
           "align": "left"
          },
          "hovermode": "closest",
          "mapbox": {
           "style": "light"
          },
          "paper_bgcolor": "white",
          "plot_bgcolor": "#E5ECF6",
          "polar": {
           "angularaxis": {
            "gridcolor": "white",
            "linecolor": "white",
            "ticks": ""
           },
           "bgcolor": "#E5ECF6",
           "radialaxis": {
            "gridcolor": "white",
            "linecolor": "white",
            "ticks": ""
           }
          },
          "scene": {
           "xaxis": {
            "backgroundcolor": "#E5ECF6",
            "gridcolor": "white",
            "gridwidth": 2,
            "linecolor": "white",
            "showbackground": true,
            "ticks": "",
            "zerolinecolor": "white"
           },
           "yaxis": {
            "backgroundcolor": "#E5ECF6",
            "gridcolor": "white",
            "gridwidth": 2,
            "linecolor": "white",
            "showbackground": true,
            "ticks": "",
            "zerolinecolor": "white"
           },
           "zaxis": {
            "backgroundcolor": "#E5ECF6",
            "gridcolor": "white",
            "gridwidth": 2,
            "linecolor": "white",
            "showbackground": true,
            "ticks": "",
            "zerolinecolor": "white"
           }
          },
          "shapedefaults": {
           "line": {
            "color": "#2a3f5f"
           }
          },
          "ternary": {
           "aaxis": {
            "gridcolor": "white",
            "linecolor": "white",
            "ticks": ""
           },
           "baxis": {
            "gridcolor": "white",
            "linecolor": "white",
            "ticks": ""
           },
           "bgcolor": "#E5ECF6",
           "caxis": {
            "gridcolor": "white",
            "linecolor": "white",
            "ticks": ""
           }
          },
          "title": {
           "x": 0.05
          },
          "xaxis": {
           "automargin": true,
           "gridcolor": "white",
           "linecolor": "white",
           "ticks": "",
           "title": {
            "standoff": 15
           },
           "zerolinecolor": "white",
           "zerolinewidth": 2
          },
          "yaxis": {
           "automargin": true,
           "gridcolor": "white",
           "linecolor": "white",
           "ticks": "",
           "title": {
            "standoff": 15
           },
           "zerolinecolor": "white",
           "zerolinewidth": 2
          }
         }
        },
        "title": {
         "font": {
          "color": "#4D5663"
         }
        },
        "xaxis": {
         "gridcolor": "#E1E5ED",
         "showgrid": true,
         "tickfont": {
          "color": "#4D5663"
         },
         "title": {
          "font": {
           "color": "#4D5663"
          },
          "text": ""
         },
         "zerolinecolor": "#E1E5ED"
        },
        "yaxis": {
         "gridcolor": "#E1E5ED",
         "showgrid": true,
         "tickfont": {
          "color": "#4D5663"
         },
         "title": {
          "font": {
           "color": "#4D5663"
          },
          "text": ""
         },
         "zerolinecolor": "#E1E5ED"
        }
       }
      },
      "text/html": [
       "<div>                            <div id=\"3171a89f-4f67-4953-912a-79826ed9f89e\" class=\"plotly-graph-div\" style=\"height:525px; width:100%;\"></div>            <script type=\"text/javascript\">                require([\"plotly\"], function(Plotly) {                    window.PLOTLYENV=window.PLOTLYENV || {};\n",
       "                    window.PLOTLYENV.BASE_URL='https://plot.ly';                                    if (document.getElementById(\"3171a89f-4f67-4953-912a-79826ed9f89e\")) {                    Plotly.newPlot(                        \"3171a89f-4f67-4953-912a-79826ed9f89e\",                        [{\"marker\":{\"color\":\"rgba(255, 153, 51, 0.6)\",\"line\":{\"color\":\"rgba(255, 153, 51, 1.0)\",\"width\":1}},\"name\":\"values\",\"orientation\":\"v\",\"text\":\"\",\"type\":\"bar\",\"x\":[\"A\",\"B\",\"C\",\"D\"],\"y\":[12,14,16,50]}],                        {\"legend\":{\"bgcolor\":\"#F5F6F9\",\"font\":{\"color\":\"#4D5663\"}},\"paper_bgcolor\":\"#F5F6F9\",\"plot_bgcolor\":\"#F5F6F9\",\"template\":{\"data\":{\"bar\":[{\"error_x\":{\"color\":\"#2a3f5f\"},\"error_y\":{\"color\":\"#2a3f5f\"},\"marker\":{\"line\":{\"color\":\"#E5ECF6\",\"width\":0.5},\"pattern\":{\"fillmode\":\"overlay\",\"size\":10,\"solidity\":0.2}},\"type\":\"bar\"}],\"barpolar\":[{\"marker\":{\"line\":{\"color\":\"#E5ECF6\",\"width\":0.5},\"pattern\":{\"fillmode\":\"overlay\",\"size\":10,\"solidity\":0.2}},\"type\":\"barpolar\"}],\"carpet\":[{\"aaxis\":{\"endlinecolor\":\"#2a3f5f\",\"gridcolor\":\"white\",\"linecolor\":\"white\",\"minorgridcolor\":\"white\",\"startlinecolor\":\"#2a3f5f\"},\"baxis\":{\"endlinecolor\":\"#2a3f5f\",\"gridcolor\":\"white\",\"linecolor\":\"white\",\"minorgridcolor\":\"white\",\"startlinecolor\":\"#2a3f5f\"},\"type\":\"carpet\"}],\"choropleth\":[{\"colorbar\":{\"outlinewidth\":0,\"ticks\":\"\"},\"type\":\"choropleth\"}],\"contour\":[{\"colorbar\":{\"outlinewidth\":0,\"ticks\":\"\"},\"colorscale\":[[0.0,\"#0d0887\"],[0.1111111111111111,\"#46039f\"],[0.2222222222222222,\"#7201a8\"],[0.3333333333333333,\"#9c179e\"],[0.4444444444444444,\"#bd3786\"],[0.5555555555555556,\"#d8576b\"],[0.6666666666666666,\"#ed7953\"],[0.7777777777777778,\"#fb9f3a\"],[0.8888888888888888,\"#fdca26\"],[1.0,\"#f0f921\"]],\"type\":\"contour\"}],\"contourcarpet\":[{\"colorbar\":{\"outlinewidth\":0,\"ticks\":\"\"},\"type\":\"contourcarpet\"}],\"heatmap\":[{\"colorbar\":{\"outlinewidth\":0,\"ticks\":\"\"},\"colorscale\":[[0.0,\"#0d0887\"],[0.1111111111111111,\"#46039f\"],[0.2222222222222222,\"#7201a8\"],[0.3333333333333333,\"#9c179e\"],[0.4444444444444444,\"#bd3786\"],[0.5555555555555556,\"#d8576b\"],[0.6666666666666666,\"#ed7953\"],[0.7777777777777778,\"#fb9f3a\"],[0.8888888888888888,\"#fdca26\"],[1.0,\"#f0f921\"]],\"type\":\"heatmap\"}],\"heatmapgl\":[{\"colorbar\":{\"outlinewidth\":0,\"ticks\":\"\"},\"colorscale\":[[0.0,\"#0d0887\"],[0.1111111111111111,\"#46039f\"],[0.2222222222222222,\"#7201a8\"],[0.3333333333333333,\"#9c179e\"],[0.4444444444444444,\"#bd3786\"],[0.5555555555555556,\"#d8576b\"],[0.6666666666666666,\"#ed7953\"],[0.7777777777777778,\"#fb9f3a\"],[0.8888888888888888,\"#fdca26\"],[1.0,\"#f0f921\"]],\"type\":\"heatmapgl\"}],\"histogram\":[{\"marker\":{\"pattern\":{\"fillmode\":\"overlay\",\"size\":10,\"solidity\":0.2}},\"type\":\"histogram\"}],\"histogram2d\":[{\"colorbar\":{\"outlinewidth\":0,\"ticks\":\"\"},\"colorscale\":[[0.0,\"#0d0887\"],[0.1111111111111111,\"#46039f\"],[0.2222222222222222,\"#7201a8\"],[0.3333333333333333,\"#9c179e\"],[0.4444444444444444,\"#bd3786\"],[0.5555555555555556,\"#d8576b\"],[0.6666666666666666,\"#ed7953\"],[0.7777777777777778,\"#fb9f3a\"],[0.8888888888888888,\"#fdca26\"],[1.0,\"#f0f921\"]],\"type\":\"histogram2d\"}],\"histogram2dcontour\":[{\"colorbar\":{\"outlinewidth\":0,\"ticks\":\"\"},\"colorscale\":[[0.0,\"#0d0887\"],[0.1111111111111111,\"#46039f\"],[0.2222222222222222,\"#7201a8\"],[0.3333333333333333,\"#9c179e\"],[0.4444444444444444,\"#bd3786\"],[0.5555555555555556,\"#d8576b\"],[0.6666666666666666,\"#ed7953\"],[0.7777777777777778,\"#fb9f3a\"],[0.8888888888888888,\"#fdca26\"],[1.0,\"#f0f921\"]],\"type\":\"histogram2dcontour\"}],\"mesh3d\":[{\"colorbar\":{\"outlinewidth\":0,\"ticks\":\"\"},\"type\":\"mesh3d\"}],\"parcoords\":[{\"line\":{\"colorbar\":{\"outlinewidth\":0,\"ticks\":\"\"}},\"type\":\"parcoords\"}],\"pie\":[{\"automargin\":true,\"type\":\"pie\"}],\"scatter\":[{\"marker\":{\"colorbar\":{\"outlinewidth\":0,\"ticks\":\"\"}},\"type\":\"scatter\"}],\"scatter3d\":[{\"line\":{\"colorbar\":{\"outlinewidth\":0,\"ticks\":\"\"}},\"marker\":{\"colorbar\":{\"outlinewidth\":0,\"ticks\":\"\"}},\"type\":\"scatter3d\"}],\"scattercarpet\":[{\"marker\":{\"colorbar\":{\"outlinewidth\":0,\"ticks\":\"\"}},\"type\":\"scattercarpet\"}],\"scattergeo\":[{\"marker\":{\"colorbar\":{\"outlinewidth\":0,\"ticks\":\"\"}},\"type\":\"scattergeo\"}],\"scattergl\":[{\"marker\":{\"colorbar\":{\"outlinewidth\":0,\"ticks\":\"\"}},\"type\":\"scattergl\"}],\"scattermapbox\":[{\"marker\":{\"colorbar\":{\"outlinewidth\":0,\"ticks\":\"\"}},\"type\":\"scattermapbox\"}],\"scatterpolar\":[{\"marker\":{\"colorbar\":{\"outlinewidth\":0,\"ticks\":\"\"}},\"type\":\"scatterpolar\"}],\"scatterpolargl\":[{\"marker\":{\"colorbar\":{\"outlinewidth\":0,\"ticks\":\"\"}},\"type\":\"scatterpolargl\"}],\"scatterternary\":[{\"marker\":{\"colorbar\":{\"outlinewidth\":0,\"ticks\":\"\"}},\"type\":\"scatterternary\"}],\"surface\":[{\"colorbar\":{\"outlinewidth\":0,\"ticks\":\"\"},\"colorscale\":[[0.0,\"#0d0887\"],[0.1111111111111111,\"#46039f\"],[0.2222222222222222,\"#7201a8\"],[0.3333333333333333,\"#9c179e\"],[0.4444444444444444,\"#bd3786\"],[0.5555555555555556,\"#d8576b\"],[0.6666666666666666,\"#ed7953\"],[0.7777777777777778,\"#fb9f3a\"],[0.8888888888888888,\"#fdca26\"],[1.0,\"#f0f921\"]],\"type\":\"surface\"}],\"table\":[{\"cells\":{\"fill\":{\"color\":\"#EBF0F8\"},\"line\":{\"color\":\"white\"}},\"header\":{\"fill\":{\"color\":\"#C8D4E3\"},\"line\":{\"color\":\"white\"}},\"type\":\"table\"}]},\"layout\":{\"annotationdefaults\":{\"arrowcolor\":\"#2a3f5f\",\"arrowhead\":0,\"arrowwidth\":1},\"autotypenumbers\":\"strict\",\"coloraxis\":{\"colorbar\":{\"outlinewidth\":0,\"ticks\":\"\"}},\"colorscale\":{\"diverging\":[[0,\"#8e0152\"],[0.1,\"#c51b7d\"],[0.2,\"#de77ae\"],[0.3,\"#f1b6da\"],[0.4,\"#fde0ef\"],[0.5,\"#f7f7f7\"],[0.6,\"#e6f5d0\"],[0.7,\"#b8e186\"],[0.8,\"#7fbc41\"],[0.9,\"#4d9221\"],[1,\"#276419\"]],\"sequential\":[[0.0,\"#0d0887\"],[0.1111111111111111,\"#46039f\"],[0.2222222222222222,\"#7201a8\"],[0.3333333333333333,\"#9c179e\"],[0.4444444444444444,\"#bd3786\"],[0.5555555555555556,\"#d8576b\"],[0.6666666666666666,\"#ed7953\"],[0.7777777777777778,\"#fb9f3a\"],[0.8888888888888888,\"#fdca26\"],[1.0,\"#f0f921\"]],\"sequentialminus\":[[0.0,\"#0d0887\"],[0.1111111111111111,\"#46039f\"],[0.2222222222222222,\"#7201a8\"],[0.3333333333333333,\"#9c179e\"],[0.4444444444444444,\"#bd3786\"],[0.5555555555555556,\"#d8576b\"],[0.6666666666666666,\"#ed7953\"],[0.7777777777777778,\"#fb9f3a\"],[0.8888888888888888,\"#fdca26\"],[1.0,\"#f0f921\"]]},\"colorway\":[\"#636efa\",\"#EF553B\",\"#00cc96\",\"#ab63fa\",\"#FFA15A\",\"#19d3f3\",\"#FF6692\",\"#B6E880\",\"#FF97FF\",\"#FECB52\"],\"font\":{\"color\":\"#2a3f5f\"},\"geo\":{\"bgcolor\":\"white\",\"lakecolor\":\"white\",\"landcolor\":\"#E5ECF6\",\"showlakes\":true,\"showland\":true,\"subunitcolor\":\"white\"},\"hoverlabel\":{\"align\":\"left\"},\"hovermode\":\"closest\",\"mapbox\":{\"style\":\"light\"},\"paper_bgcolor\":\"white\",\"plot_bgcolor\":\"#E5ECF6\",\"polar\":{\"angularaxis\":{\"gridcolor\":\"white\",\"linecolor\":\"white\",\"ticks\":\"\"},\"bgcolor\":\"#E5ECF6\",\"radialaxis\":{\"gridcolor\":\"white\",\"linecolor\":\"white\",\"ticks\":\"\"}},\"scene\":{\"xaxis\":{\"backgroundcolor\":\"#E5ECF6\",\"gridcolor\":\"white\",\"gridwidth\":2,\"linecolor\":\"white\",\"showbackground\":true,\"ticks\":\"\",\"zerolinecolor\":\"white\"},\"yaxis\":{\"backgroundcolor\":\"#E5ECF6\",\"gridcolor\":\"white\",\"gridwidth\":2,\"linecolor\":\"white\",\"showbackground\":true,\"ticks\":\"\",\"zerolinecolor\":\"white\"},\"zaxis\":{\"backgroundcolor\":\"#E5ECF6\",\"gridcolor\":\"white\",\"gridwidth\":2,\"linecolor\":\"white\",\"showbackground\":true,\"ticks\":\"\",\"zerolinecolor\":\"white\"}},\"shapedefaults\":{\"line\":{\"color\":\"#2a3f5f\"}},\"ternary\":{\"aaxis\":{\"gridcolor\":\"white\",\"linecolor\":\"white\",\"ticks\":\"\"},\"baxis\":{\"gridcolor\":\"white\",\"linecolor\":\"white\",\"ticks\":\"\"},\"bgcolor\":\"#E5ECF6\",\"caxis\":{\"gridcolor\":\"white\",\"linecolor\":\"white\",\"ticks\":\"\"}},\"title\":{\"x\":0.05},\"xaxis\":{\"automargin\":true,\"gridcolor\":\"white\",\"linecolor\":\"white\",\"ticks\":\"\",\"title\":{\"standoff\":15},\"zerolinecolor\":\"white\",\"zerolinewidth\":2},\"yaxis\":{\"automargin\":true,\"gridcolor\":\"white\",\"linecolor\":\"white\",\"ticks\":\"\",\"title\":{\"standoff\":15},\"zerolinecolor\":\"white\",\"zerolinewidth\":2}}},\"title\":{\"font\":{\"color\":\"#4D5663\"}},\"xaxis\":{\"gridcolor\":\"#E1E5ED\",\"showgrid\":true,\"tickfont\":{\"color\":\"#4D5663\"},\"title\":{\"font\":{\"color\":\"#4D5663\"},\"text\":\"\"},\"zerolinecolor\":\"#E1E5ED\"},\"yaxis\":{\"gridcolor\":\"#E1E5ED\",\"showgrid\":true,\"tickfont\":{\"color\":\"#4D5663\"},\"title\":{\"font\":{\"color\":\"#4D5663\"},\"text\":\"\"},\"zerolinecolor\":\"#E1E5ED\"}},                        {\"showLink\": true, \"linkText\": \"Export to plot.ly\", \"plotlyServerURL\": \"https://plot.ly\", \"responsive\": true}                    ).then(function(){\n",
       "                            \n",
       "var gd = document.getElementById('3171a89f-4f67-4953-912a-79826ed9f89e');\n",
       "var x = new MutationObserver(function (mutations, observer) {{\n",
       "        var display = window.getComputedStyle(gd).display;\n",
       "        if (!display || display === 'none') {{\n",
       "            console.log([gd, 'removed!']);\n",
       "            Plotly.purge(gd);\n",
       "            observer.disconnect();\n",
       "        }}\n",
       "}});\n",
       "\n",
       "// Listen for the removal of the full notebook cells\n",
       "var notebookContainer = gd.closest('#notebook-container');\n",
       "if (notebookContainer) {{\n",
       "    x.observe(notebookContainer, {childList: true});\n",
       "}}\n",
       "\n",
       "// Listen for the clearing of the current output cell\n",
       "var outputEl = gd.closest('.output');\n",
       "if (outputEl) {{\n",
       "    x.observe(outputEl, {childList: true});\n",
       "}}\n",
       "\n",
       "                        })                };                });            </script>        </div>"
      ]
     },
     "metadata": {},
     "output_type": "display_data"
    }
   ],
   "source": [
    "df2.iplot(kind='bar',x='category',y='values')"
   ]
  },
  {
   "cell_type": "code",
   "execution_count": 20,
   "id": "f6347348",
   "metadata": {},
   "outputs": [
    {
     "data": {
      "text/html": [
       "<div>\n",
       "<style scoped>\n",
       "    .dataframe tbody tr th:only-of-type {\n",
       "        vertical-align: middle;\n",
       "    }\n",
       "\n",
       "    .dataframe tbody tr th {\n",
       "        vertical-align: top;\n",
       "    }\n",
       "\n",
       "    .dataframe thead th {\n",
       "        text-align: right;\n",
       "    }\n",
       "</style>\n",
       "<table border=\"1\" class=\"dataframe\">\n",
       "  <thead>\n",
       "    <tr style=\"text-align: right;\">\n",
       "      <th></th>\n",
       "      <th>A</th>\n",
       "      <th>B</th>\n",
       "      <th>C</th>\n",
       "      <th>D</th>\n",
       "    </tr>\n",
       "  </thead>\n",
       "  <tbody>\n",
       "    <tr>\n",
       "      <th>0</th>\n",
       "      <td>0.208589</td>\n",
       "      <td>-1.089994</td>\n",
       "      <td>-0.605098</td>\n",
       "      <td>-1.728346</td>\n",
       "    </tr>\n",
       "    <tr>\n",
       "      <th>1</th>\n",
       "      <td>-0.434266</td>\n",
       "      <td>-0.328343</td>\n",
       "      <td>-0.903548</td>\n",
       "      <td>0.792267</td>\n",
       "    </tr>\n",
       "    <tr>\n",
       "      <th>2</th>\n",
       "      <td>0.152244</td>\n",
       "      <td>0.924972</td>\n",
       "      <td>1.399906</td>\n",
       "      <td>0.332725</td>\n",
       "    </tr>\n",
       "    <tr>\n",
       "      <th>3</th>\n",
       "      <td>-1.407636</td>\n",
       "      <td>2.265847</td>\n",
       "      <td>0.203266</td>\n",
       "      <td>-0.864678</td>\n",
       "    </tr>\n",
       "    <tr>\n",
       "      <th>4</th>\n",
       "      <td>-1.878713</td>\n",
       "      <td>-1.967975</td>\n",
       "      <td>0.774866</td>\n",
       "      <td>-0.553328</td>\n",
       "    </tr>\n",
       "    <tr>\n",
       "      <th>...</th>\n",
       "      <td>...</td>\n",
       "      <td>...</td>\n",
       "      <td>...</td>\n",
       "      <td>...</td>\n",
       "    </tr>\n",
       "    <tr>\n",
       "      <th>95</th>\n",
       "      <td>0.426872</td>\n",
       "      <td>-0.574476</td>\n",
       "      <td>-1.460722</td>\n",
       "      <td>1.089493</td>\n",
       "    </tr>\n",
       "    <tr>\n",
       "      <th>96</th>\n",
       "      <td>-2.323478</td>\n",
       "      <td>-1.289017</td>\n",
       "      <td>-0.946019</td>\n",
       "      <td>1.050856</td>\n",
       "    </tr>\n",
       "    <tr>\n",
       "      <th>97</th>\n",
       "      <td>1.839098</td>\n",
       "      <td>-0.839750</td>\n",
       "      <td>-1.460715</td>\n",
       "      <td>0.178009</td>\n",
       "    </tr>\n",
       "    <tr>\n",
       "      <th>98</th>\n",
       "      <td>1.263968</td>\n",
       "      <td>-0.270319</td>\n",
       "      <td>0.336236</td>\n",
       "      <td>1.218131</td>\n",
       "    </tr>\n",
       "    <tr>\n",
       "      <th>99</th>\n",
       "      <td>1.654235</td>\n",
       "      <td>0.400649</td>\n",
       "      <td>0.371780</td>\n",
       "      <td>0.384321</td>\n",
       "    </tr>\n",
       "  </tbody>\n",
       "</table>\n",
       "<p>100 rows × 4 columns</p>\n",
       "</div>"
      ],
      "text/plain": [
       "           A         B         C         D\n",
       "0   0.208589 -1.089994 -0.605098 -1.728346\n",
       "1  -0.434266 -0.328343 -0.903548  0.792267\n",
       "2   0.152244  0.924972  1.399906  0.332725\n",
       "3  -1.407636  2.265847  0.203266 -0.864678\n",
       "4  -1.878713 -1.967975  0.774866 -0.553328\n",
       "..       ...       ...       ...       ...\n",
       "95  0.426872 -0.574476 -1.460722  1.089493\n",
       "96 -2.323478 -1.289017 -0.946019  1.050856\n",
       "97  1.839098 -0.839750 -1.460715  0.178009\n",
       "98  1.263968 -0.270319  0.336236  1.218131\n",
       "99  1.654235  0.400649  0.371780  0.384321\n",
       "\n",
       "[100 rows x 4 columns]"
      ]
     },
     "execution_count": 20,
     "metadata": {},
     "output_type": "execute_result"
    }
   ],
   "source": [
    "df"
   ]
  },
  {
   "cell_type": "code",
   "execution_count": 24,
   "id": "db9a45cb",
   "metadata": {},
   "outputs": [
    {
     "data": {
      "application/vnd.plotly.v1+json": {
       "config": {
        "linkText": "Export to plot.ly",
        "plotlyServerURL": "https://plot.ly",
        "showLink": true
       },
       "data": [
        {
         "marker": {
          "color": "rgba(255, 153, 51, 0.6)",
          "line": {
           "color": "rgba(255, 153, 51, 1.0)",
           "width": 1
          }
         },
         "name": "None",
         "orientation": "v",
         "text": "",
         "type": "bar",
         "x": [
          "A",
          "B",
          "C",
          "D"
         ],
         "y": [
          18.07379846286443,
          11.473776988480438,
          -6.376601731975703,
          3.8900819850048682
         ]
        }
       ],
       "layout": {
        "legend": {
         "bgcolor": "#F5F6F9",
         "font": {
          "color": "#4D5663"
         }
        },
        "paper_bgcolor": "#F5F6F9",
        "plot_bgcolor": "#F5F6F9",
        "template": {
         "data": {
          "bar": [
           {
            "error_x": {
             "color": "#2a3f5f"
            },
            "error_y": {
             "color": "#2a3f5f"
            },
            "marker": {
             "line": {
              "color": "#E5ECF6",
              "width": 0.5
             },
             "pattern": {
              "fillmode": "overlay",
              "size": 10,
              "solidity": 0.2
             }
            },
            "type": "bar"
           }
          ],
          "barpolar": [
           {
            "marker": {
             "line": {
              "color": "#E5ECF6",
              "width": 0.5
             },
             "pattern": {
              "fillmode": "overlay",
              "size": 10,
              "solidity": 0.2
             }
            },
            "type": "barpolar"
           }
          ],
          "carpet": [
           {
            "aaxis": {
             "endlinecolor": "#2a3f5f",
             "gridcolor": "white",
             "linecolor": "white",
             "minorgridcolor": "white",
             "startlinecolor": "#2a3f5f"
            },
            "baxis": {
             "endlinecolor": "#2a3f5f",
             "gridcolor": "white",
             "linecolor": "white",
             "minorgridcolor": "white",
             "startlinecolor": "#2a3f5f"
            },
            "type": "carpet"
           }
          ],
          "choropleth": [
           {
            "colorbar": {
             "outlinewidth": 0,
             "ticks": ""
            },
            "type": "choropleth"
           }
          ],
          "contour": [
           {
            "colorbar": {
             "outlinewidth": 0,
             "ticks": ""
            },
            "colorscale": [
             [
              0,
              "#0d0887"
             ],
             [
              0.1111111111111111,
              "#46039f"
             ],
             [
              0.2222222222222222,
              "#7201a8"
             ],
             [
              0.3333333333333333,
              "#9c179e"
             ],
             [
              0.4444444444444444,
              "#bd3786"
             ],
             [
              0.5555555555555556,
              "#d8576b"
             ],
             [
              0.6666666666666666,
              "#ed7953"
             ],
             [
              0.7777777777777778,
              "#fb9f3a"
             ],
             [
              0.8888888888888888,
              "#fdca26"
             ],
             [
              1,
              "#f0f921"
             ]
            ],
            "type": "contour"
           }
          ],
          "contourcarpet": [
           {
            "colorbar": {
             "outlinewidth": 0,
             "ticks": ""
            },
            "type": "contourcarpet"
           }
          ],
          "heatmap": [
           {
            "colorbar": {
             "outlinewidth": 0,
             "ticks": ""
            },
            "colorscale": [
             [
              0,
              "#0d0887"
             ],
             [
              0.1111111111111111,
              "#46039f"
             ],
             [
              0.2222222222222222,
              "#7201a8"
             ],
             [
              0.3333333333333333,
              "#9c179e"
             ],
             [
              0.4444444444444444,
              "#bd3786"
             ],
             [
              0.5555555555555556,
              "#d8576b"
             ],
             [
              0.6666666666666666,
              "#ed7953"
             ],
             [
              0.7777777777777778,
              "#fb9f3a"
             ],
             [
              0.8888888888888888,
              "#fdca26"
             ],
             [
              1,
              "#f0f921"
             ]
            ],
            "type": "heatmap"
           }
          ],
          "heatmapgl": [
           {
            "colorbar": {
             "outlinewidth": 0,
             "ticks": ""
            },
            "colorscale": [
             [
              0,
              "#0d0887"
             ],
             [
              0.1111111111111111,
              "#46039f"
             ],
             [
              0.2222222222222222,
              "#7201a8"
             ],
             [
              0.3333333333333333,
              "#9c179e"
             ],
             [
              0.4444444444444444,
              "#bd3786"
             ],
             [
              0.5555555555555556,
              "#d8576b"
             ],
             [
              0.6666666666666666,
              "#ed7953"
             ],
             [
              0.7777777777777778,
              "#fb9f3a"
             ],
             [
              0.8888888888888888,
              "#fdca26"
             ],
             [
              1,
              "#f0f921"
             ]
            ],
            "type": "heatmapgl"
           }
          ],
          "histogram": [
           {
            "marker": {
             "pattern": {
              "fillmode": "overlay",
              "size": 10,
              "solidity": 0.2
             }
            },
            "type": "histogram"
           }
          ],
          "histogram2d": [
           {
            "colorbar": {
             "outlinewidth": 0,
             "ticks": ""
            },
            "colorscale": [
             [
              0,
              "#0d0887"
             ],
             [
              0.1111111111111111,
              "#46039f"
             ],
             [
              0.2222222222222222,
              "#7201a8"
             ],
             [
              0.3333333333333333,
              "#9c179e"
             ],
             [
              0.4444444444444444,
              "#bd3786"
             ],
             [
              0.5555555555555556,
              "#d8576b"
             ],
             [
              0.6666666666666666,
              "#ed7953"
             ],
             [
              0.7777777777777778,
              "#fb9f3a"
             ],
             [
              0.8888888888888888,
              "#fdca26"
             ],
             [
              1,
              "#f0f921"
             ]
            ],
            "type": "histogram2d"
           }
          ],
          "histogram2dcontour": [
           {
            "colorbar": {
             "outlinewidth": 0,
             "ticks": ""
            },
            "colorscale": [
             [
              0,
              "#0d0887"
             ],
             [
              0.1111111111111111,
              "#46039f"
             ],
             [
              0.2222222222222222,
              "#7201a8"
             ],
             [
              0.3333333333333333,
              "#9c179e"
             ],
             [
              0.4444444444444444,
              "#bd3786"
             ],
             [
              0.5555555555555556,
              "#d8576b"
             ],
             [
              0.6666666666666666,
              "#ed7953"
             ],
             [
              0.7777777777777778,
              "#fb9f3a"
             ],
             [
              0.8888888888888888,
              "#fdca26"
             ],
             [
              1,
              "#f0f921"
             ]
            ],
            "type": "histogram2dcontour"
           }
          ],
          "mesh3d": [
           {
            "colorbar": {
             "outlinewidth": 0,
             "ticks": ""
            },
            "type": "mesh3d"
           }
          ],
          "parcoords": [
           {
            "line": {
             "colorbar": {
              "outlinewidth": 0,
              "ticks": ""
             }
            },
            "type": "parcoords"
           }
          ],
          "pie": [
           {
            "automargin": true,
            "type": "pie"
           }
          ],
          "scatter": [
           {
            "marker": {
             "colorbar": {
              "outlinewidth": 0,
              "ticks": ""
             }
            },
            "type": "scatter"
           }
          ],
          "scatter3d": [
           {
            "line": {
             "colorbar": {
              "outlinewidth": 0,
              "ticks": ""
             }
            },
            "marker": {
             "colorbar": {
              "outlinewidth": 0,
              "ticks": ""
             }
            },
            "type": "scatter3d"
           }
          ],
          "scattercarpet": [
           {
            "marker": {
             "colorbar": {
              "outlinewidth": 0,
              "ticks": ""
             }
            },
            "type": "scattercarpet"
           }
          ],
          "scattergeo": [
           {
            "marker": {
             "colorbar": {
              "outlinewidth": 0,
              "ticks": ""
             }
            },
            "type": "scattergeo"
           }
          ],
          "scattergl": [
           {
            "marker": {
             "colorbar": {
              "outlinewidth": 0,
              "ticks": ""
             }
            },
            "type": "scattergl"
           }
          ],
          "scattermapbox": [
           {
            "marker": {
             "colorbar": {
              "outlinewidth": 0,
              "ticks": ""
             }
            },
            "type": "scattermapbox"
           }
          ],
          "scatterpolar": [
           {
            "marker": {
             "colorbar": {
              "outlinewidth": 0,
              "ticks": ""
             }
            },
            "type": "scatterpolar"
           }
          ],
          "scatterpolargl": [
           {
            "marker": {
             "colorbar": {
              "outlinewidth": 0,
              "ticks": ""
             }
            },
            "type": "scatterpolargl"
           }
          ],
          "scatterternary": [
           {
            "marker": {
             "colorbar": {
              "outlinewidth": 0,
              "ticks": ""
             }
            },
            "type": "scatterternary"
           }
          ],
          "surface": [
           {
            "colorbar": {
             "outlinewidth": 0,
             "ticks": ""
            },
            "colorscale": [
             [
              0,
              "#0d0887"
             ],
             [
              0.1111111111111111,
              "#46039f"
             ],
             [
              0.2222222222222222,
              "#7201a8"
             ],
             [
              0.3333333333333333,
              "#9c179e"
             ],
             [
              0.4444444444444444,
              "#bd3786"
             ],
             [
              0.5555555555555556,
              "#d8576b"
             ],
             [
              0.6666666666666666,
              "#ed7953"
             ],
             [
              0.7777777777777778,
              "#fb9f3a"
             ],
             [
              0.8888888888888888,
              "#fdca26"
             ],
             [
              1,
              "#f0f921"
             ]
            ],
            "type": "surface"
           }
          ],
          "table": [
           {
            "cells": {
             "fill": {
              "color": "#EBF0F8"
             },
             "line": {
              "color": "white"
             }
            },
            "header": {
             "fill": {
              "color": "#C8D4E3"
             },
             "line": {
              "color": "white"
             }
            },
            "type": "table"
           }
          ]
         },
         "layout": {
          "annotationdefaults": {
           "arrowcolor": "#2a3f5f",
           "arrowhead": 0,
           "arrowwidth": 1
          },
          "autotypenumbers": "strict",
          "coloraxis": {
           "colorbar": {
            "outlinewidth": 0,
            "ticks": ""
           }
          },
          "colorscale": {
           "diverging": [
            [
             0,
             "#8e0152"
            ],
            [
             0.1,
             "#c51b7d"
            ],
            [
             0.2,
             "#de77ae"
            ],
            [
             0.3,
             "#f1b6da"
            ],
            [
             0.4,
             "#fde0ef"
            ],
            [
             0.5,
             "#f7f7f7"
            ],
            [
             0.6,
             "#e6f5d0"
            ],
            [
             0.7,
             "#b8e186"
            ],
            [
             0.8,
             "#7fbc41"
            ],
            [
             0.9,
             "#4d9221"
            ],
            [
             1,
             "#276419"
            ]
           ],
           "sequential": [
            [
             0,
             "#0d0887"
            ],
            [
             0.1111111111111111,
             "#46039f"
            ],
            [
             0.2222222222222222,
             "#7201a8"
            ],
            [
             0.3333333333333333,
             "#9c179e"
            ],
            [
             0.4444444444444444,
             "#bd3786"
            ],
            [
             0.5555555555555556,
             "#d8576b"
            ],
            [
             0.6666666666666666,
             "#ed7953"
            ],
            [
             0.7777777777777778,
             "#fb9f3a"
            ],
            [
             0.8888888888888888,
             "#fdca26"
            ],
            [
             1,
             "#f0f921"
            ]
           ],
           "sequentialminus": [
            [
             0,
             "#0d0887"
            ],
            [
             0.1111111111111111,
             "#46039f"
            ],
            [
             0.2222222222222222,
             "#7201a8"
            ],
            [
             0.3333333333333333,
             "#9c179e"
            ],
            [
             0.4444444444444444,
             "#bd3786"
            ],
            [
             0.5555555555555556,
             "#d8576b"
            ],
            [
             0.6666666666666666,
             "#ed7953"
            ],
            [
             0.7777777777777778,
             "#fb9f3a"
            ],
            [
             0.8888888888888888,
             "#fdca26"
            ],
            [
             1,
             "#f0f921"
            ]
           ]
          },
          "colorway": [
           "#636efa",
           "#EF553B",
           "#00cc96",
           "#ab63fa",
           "#FFA15A",
           "#19d3f3",
           "#FF6692",
           "#B6E880",
           "#FF97FF",
           "#FECB52"
          ],
          "font": {
           "color": "#2a3f5f"
          },
          "geo": {
           "bgcolor": "white",
           "lakecolor": "white",
           "landcolor": "#E5ECF6",
           "showlakes": true,
           "showland": true,
           "subunitcolor": "white"
          },
          "hoverlabel": {
           "align": "left"
          },
          "hovermode": "closest",
          "mapbox": {
           "style": "light"
          },
          "paper_bgcolor": "white",
          "plot_bgcolor": "#E5ECF6",
          "polar": {
           "angularaxis": {
            "gridcolor": "white",
            "linecolor": "white",
            "ticks": ""
           },
           "bgcolor": "#E5ECF6",
           "radialaxis": {
            "gridcolor": "white",
            "linecolor": "white",
            "ticks": ""
           }
          },
          "scene": {
           "xaxis": {
            "backgroundcolor": "#E5ECF6",
            "gridcolor": "white",
            "gridwidth": 2,
            "linecolor": "white",
            "showbackground": true,
            "ticks": "",
            "zerolinecolor": "white"
           },
           "yaxis": {
            "backgroundcolor": "#E5ECF6",
            "gridcolor": "white",
            "gridwidth": 2,
            "linecolor": "white",
            "showbackground": true,
            "ticks": "",
            "zerolinecolor": "white"
           },
           "zaxis": {
            "backgroundcolor": "#E5ECF6",
            "gridcolor": "white",
            "gridwidth": 2,
            "linecolor": "white",
            "showbackground": true,
            "ticks": "",
            "zerolinecolor": "white"
           }
          },
          "shapedefaults": {
           "line": {
            "color": "#2a3f5f"
           }
          },
          "ternary": {
           "aaxis": {
            "gridcolor": "white",
            "linecolor": "white",
            "ticks": ""
           },
           "baxis": {
            "gridcolor": "white",
            "linecolor": "white",
            "ticks": ""
           },
           "bgcolor": "#E5ECF6",
           "caxis": {
            "gridcolor": "white",
            "linecolor": "white",
            "ticks": ""
           }
          },
          "title": {
           "x": 0.05
          },
          "xaxis": {
           "automargin": true,
           "gridcolor": "white",
           "linecolor": "white",
           "ticks": "",
           "title": {
            "standoff": 15
           },
           "zerolinecolor": "white",
           "zerolinewidth": 2
          },
          "yaxis": {
           "automargin": true,
           "gridcolor": "white",
           "linecolor": "white",
           "ticks": "",
           "title": {
            "standoff": 15
           },
           "zerolinecolor": "white",
           "zerolinewidth": 2
          }
         }
        },
        "title": {
         "font": {
          "color": "#4D5663"
         }
        },
        "xaxis": {
         "gridcolor": "#E1E5ED",
         "showgrid": true,
         "tickfont": {
          "color": "#4D5663"
         },
         "title": {
          "font": {
           "color": "#4D5663"
          },
          "text": ""
         },
         "zerolinecolor": "#E1E5ED"
        },
        "yaxis": {
         "gridcolor": "#E1E5ED",
         "showgrid": true,
         "tickfont": {
          "color": "#4D5663"
         },
         "title": {
          "font": {
           "color": "#4D5663"
          },
          "text": ""
         },
         "zerolinecolor": "#E1E5ED"
        }
       }
      },
      "text/html": [
       "<div>                            <div id=\"9c2a7040-5ab4-48e0-9fe3-fd2e53b4615e\" class=\"plotly-graph-div\" style=\"height:525px; width:100%;\"></div>            <script type=\"text/javascript\">                require([\"plotly\"], function(Plotly) {                    window.PLOTLYENV=window.PLOTLYENV || {};\n",
       "                    window.PLOTLYENV.BASE_URL='https://plot.ly';                                    if (document.getElementById(\"9c2a7040-5ab4-48e0-9fe3-fd2e53b4615e\")) {                    Plotly.newPlot(                        \"9c2a7040-5ab4-48e0-9fe3-fd2e53b4615e\",                        [{\"marker\":{\"color\":\"rgba(255, 153, 51, 0.6)\",\"line\":{\"color\":\"rgba(255, 153, 51, 1.0)\",\"width\":1}},\"name\":\"None\",\"orientation\":\"v\",\"text\":\"\",\"type\":\"bar\",\"x\":[\"A\",\"B\",\"C\",\"D\"],\"y\":[18.07379846286443,11.473776988480438,-6.376601731975703,3.8900819850048682]}],                        {\"legend\":{\"bgcolor\":\"#F5F6F9\",\"font\":{\"color\":\"#4D5663\"}},\"paper_bgcolor\":\"#F5F6F9\",\"plot_bgcolor\":\"#F5F6F9\",\"template\":{\"data\":{\"bar\":[{\"error_x\":{\"color\":\"#2a3f5f\"},\"error_y\":{\"color\":\"#2a3f5f\"},\"marker\":{\"line\":{\"color\":\"#E5ECF6\",\"width\":0.5},\"pattern\":{\"fillmode\":\"overlay\",\"size\":10,\"solidity\":0.2}},\"type\":\"bar\"}],\"barpolar\":[{\"marker\":{\"line\":{\"color\":\"#E5ECF6\",\"width\":0.5},\"pattern\":{\"fillmode\":\"overlay\",\"size\":10,\"solidity\":0.2}},\"type\":\"barpolar\"}],\"carpet\":[{\"aaxis\":{\"endlinecolor\":\"#2a3f5f\",\"gridcolor\":\"white\",\"linecolor\":\"white\",\"minorgridcolor\":\"white\",\"startlinecolor\":\"#2a3f5f\"},\"baxis\":{\"endlinecolor\":\"#2a3f5f\",\"gridcolor\":\"white\",\"linecolor\":\"white\",\"minorgridcolor\":\"white\",\"startlinecolor\":\"#2a3f5f\"},\"type\":\"carpet\"}],\"choropleth\":[{\"colorbar\":{\"outlinewidth\":0,\"ticks\":\"\"},\"type\":\"choropleth\"}],\"contour\":[{\"colorbar\":{\"outlinewidth\":0,\"ticks\":\"\"},\"colorscale\":[[0.0,\"#0d0887\"],[0.1111111111111111,\"#46039f\"],[0.2222222222222222,\"#7201a8\"],[0.3333333333333333,\"#9c179e\"],[0.4444444444444444,\"#bd3786\"],[0.5555555555555556,\"#d8576b\"],[0.6666666666666666,\"#ed7953\"],[0.7777777777777778,\"#fb9f3a\"],[0.8888888888888888,\"#fdca26\"],[1.0,\"#f0f921\"]],\"type\":\"contour\"}],\"contourcarpet\":[{\"colorbar\":{\"outlinewidth\":0,\"ticks\":\"\"},\"type\":\"contourcarpet\"}],\"heatmap\":[{\"colorbar\":{\"outlinewidth\":0,\"ticks\":\"\"},\"colorscale\":[[0.0,\"#0d0887\"],[0.1111111111111111,\"#46039f\"],[0.2222222222222222,\"#7201a8\"],[0.3333333333333333,\"#9c179e\"],[0.4444444444444444,\"#bd3786\"],[0.5555555555555556,\"#d8576b\"],[0.6666666666666666,\"#ed7953\"],[0.7777777777777778,\"#fb9f3a\"],[0.8888888888888888,\"#fdca26\"],[1.0,\"#f0f921\"]],\"type\":\"heatmap\"}],\"heatmapgl\":[{\"colorbar\":{\"outlinewidth\":0,\"ticks\":\"\"},\"colorscale\":[[0.0,\"#0d0887\"],[0.1111111111111111,\"#46039f\"],[0.2222222222222222,\"#7201a8\"],[0.3333333333333333,\"#9c179e\"],[0.4444444444444444,\"#bd3786\"],[0.5555555555555556,\"#d8576b\"],[0.6666666666666666,\"#ed7953\"],[0.7777777777777778,\"#fb9f3a\"],[0.8888888888888888,\"#fdca26\"],[1.0,\"#f0f921\"]],\"type\":\"heatmapgl\"}],\"histogram\":[{\"marker\":{\"pattern\":{\"fillmode\":\"overlay\",\"size\":10,\"solidity\":0.2}},\"type\":\"histogram\"}],\"histogram2d\":[{\"colorbar\":{\"outlinewidth\":0,\"ticks\":\"\"},\"colorscale\":[[0.0,\"#0d0887\"],[0.1111111111111111,\"#46039f\"],[0.2222222222222222,\"#7201a8\"],[0.3333333333333333,\"#9c179e\"],[0.4444444444444444,\"#bd3786\"],[0.5555555555555556,\"#d8576b\"],[0.6666666666666666,\"#ed7953\"],[0.7777777777777778,\"#fb9f3a\"],[0.8888888888888888,\"#fdca26\"],[1.0,\"#f0f921\"]],\"type\":\"histogram2d\"}],\"histogram2dcontour\":[{\"colorbar\":{\"outlinewidth\":0,\"ticks\":\"\"},\"colorscale\":[[0.0,\"#0d0887\"],[0.1111111111111111,\"#46039f\"],[0.2222222222222222,\"#7201a8\"],[0.3333333333333333,\"#9c179e\"],[0.4444444444444444,\"#bd3786\"],[0.5555555555555556,\"#d8576b\"],[0.6666666666666666,\"#ed7953\"],[0.7777777777777778,\"#fb9f3a\"],[0.8888888888888888,\"#fdca26\"],[1.0,\"#f0f921\"]],\"type\":\"histogram2dcontour\"}],\"mesh3d\":[{\"colorbar\":{\"outlinewidth\":0,\"ticks\":\"\"},\"type\":\"mesh3d\"}],\"parcoords\":[{\"line\":{\"colorbar\":{\"outlinewidth\":0,\"ticks\":\"\"}},\"type\":\"parcoords\"}],\"pie\":[{\"automargin\":true,\"type\":\"pie\"}],\"scatter\":[{\"marker\":{\"colorbar\":{\"outlinewidth\":0,\"ticks\":\"\"}},\"type\":\"scatter\"}],\"scatter3d\":[{\"line\":{\"colorbar\":{\"outlinewidth\":0,\"ticks\":\"\"}},\"marker\":{\"colorbar\":{\"outlinewidth\":0,\"ticks\":\"\"}},\"type\":\"scatter3d\"}],\"scattercarpet\":[{\"marker\":{\"colorbar\":{\"outlinewidth\":0,\"ticks\":\"\"}},\"type\":\"scattercarpet\"}],\"scattergeo\":[{\"marker\":{\"colorbar\":{\"outlinewidth\":0,\"ticks\":\"\"}},\"type\":\"scattergeo\"}],\"scattergl\":[{\"marker\":{\"colorbar\":{\"outlinewidth\":0,\"ticks\":\"\"}},\"type\":\"scattergl\"}],\"scattermapbox\":[{\"marker\":{\"colorbar\":{\"outlinewidth\":0,\"ticks\":\"\"}},\"type\":\"scattermapbox\"}],\"scatterpolar\":[{\"marker\":{\"colorbar\":{\"outlinewidth\":0,\"ticks\":\"\"}},\"type\":\"scatterpolar\"}],\"scatterpolargl\":[{\"marker\":{\"colorbar\":{\"outlinewidth\":0,\"ticks\":\"\"}},\"type\":\"scatterpolargl\"}],\"scatterternary\":[{\"marker\":{\"colorbar\":{\"outlinewidth\":0,\"ticks\":\"\"}},\"type\":\"scatterternary\"}],\"surface\":[{\"colorbar\":{\"outlinewidth\":0,\"ticks\":\"\"},\"colorscale\":[[0.0,\"#0d0887\"],[0.1111111111111111,\"#46039f\"],[0.2222222222222222,\"#7201a8\"],[0.3333333333333333,\"#9c179e\"],[0.4444444444444444,\"#bd3786\"],[0.5555555555555556,\"#d8576b\"],[0.6666666666666666,\"#ed7953\"],[0.7777777777777778,\"#fb9f3a\"],[0.8888888888888888,\"#fdca26\"],[1.0,\"#f0f921\"]],\"type\":\"surface\"}],\"table\":[{\"cells\":{\"fill\":{\"color\":\"#EBF0F8\"},\"line\":{\"color\":\"white\"}},\"header\":{\"fill\":{\"color\":\"#C8D4E3\"},\"line\":{\"color\":\"white\"}},\"type\":\"table\"}]},\"layout\":{\"annotationdefaults\":{\"arrowcolor\":\"#2a3f5f\",\"arrowhead\":0,\"arrowwidth\":1},\"autotypenumbers\":\"strict\",\"coloraxis\":{\"colorbar\":{\"outlinewidth\":0,\"ticks\":\"\"}},\"colorscale\":{\"diverging\":[[0,\"#8e0152\"],[0.1,\"#c51b7d\"],[0.2,\"#de77ae\"],[0.3,\"#f1b6da\"],[0.4,\"#fde0ef\"],[0.5,\"#f7f7f7\"],[0.6,\"#e6f5d0\"],[0.7,\"#b8e186\"],[0.8,\"#7fbc41\"],[0.9,\"#4d9221\"],[1,\"#276419\"]],\"sequential\":[[0.0,\"#0d0887\"],[0.1111111111111111,\"#46039f\"],[0.2222222222222222,\"#7201a8\"],[0.3333333333333333,\"#9c179e\"],[0.4444444444444444,\"#bd3786\"],[0.5555555555555556,\"#d8576b\"],[0.6666666666666666,\"#ed7953\"],[0.7777777777777778,\"#fb9f3a\"],[0.8888888888888888,\"#fdca26\"],[1.0,\"#f0f921\"]],\"sequentialminus\":[[0.0,\"#0d0887\"],[0.1111111111111111,\"#46039f\"],[0.2222222222222222,\"#7201a8\"],[0.3333333333333333,\"#9c179e\"],[0.4444444444444444,\"#bd3786\"],[0.5555555555555556,\"#d8576b\"],[0.6666666666666666,\"#ed7953\"],[0.7777777777777778,\"#fb9f3a\"],[0.8888888888888888,\"#fdca26\"],[1.0,\"#f0f921\"]]},\"colorway\":[\"#636efa\",\"#EF553B\",\"#00cc96\",\"#ab63fa\",\"#FFA15A\",\"#19d3f3\",\"#FF6692\",\"#B6E880\",\"#FF97FF\",\"#FECB52\"],\"font\":{\"color\":\"#2a3f5f\"},\"geo\":{\"bgcolor\":\"white\",\"lakecolor\":\"white\",\"landcolor\":\"#E5ECF6\",\"showlakes\":true,\"showland\":true,\"subunitcolor\":\"white\"},\"hoverlabel\":{\"align\":\"left\"},\"hovermode\":\"closest\",\"mapbox\":{\"style\":\"light\"},\"paper_bgcolor\":\"white\",\"plot_bgcolor\":\"#E5ECF6\",\"polar\":{\"angularaxis\":{\"gridcolor\":\"white\",\"linecolor\":\"white\",\"ticks\":\"\"},\"bgcolor\":\"#E5ECF6\",\"radialaxis\":{\"gridcolor\":\"white\",\"linecolor\":\"white\",\"ticks\":\"\"}},\"scene\":{\"xaxis\":{\"backgroundcolor\":\"#E5ECF6\",\"gridcolor\":\"white\",\"gridwidth\":2,\"linecolor\":\"white\",\"showbackground\":true,\"ticks\":\"\",\"zerolinecolor\":\"white\"},\"yaxis\":{\"backgroundcolor\":\"#E5ECF6\",\"gridcolor\":\"white\",\"gridwidth\":2,\"linecolor\":\"white\",\"showbackground\":true,\"ticks\":\"\",\"zerolinecolor\":\"white\"},\"zaxis\":{\"backgroundcolor\":\"#E5ECF6\",\"gridcolor\":\"white\",\"gridwidth\":2,\"linecolor\":\"white\",\"showbackground\":true,\"ticks\":\"\",\"zerolinecolor\":\"white\"}},\"shapedefaults\":{\"line\":{\"color\":\"#2a3f5f\"}},\"ternary\":{\"aaxis\":{\"gridcolor\":\"white\",\"linecolor\":\"white\",\"ticks\":\"\"},\"baxis\":{\"gridcolor\":\"white\",\"linecolor\":\"white\",\"ticks\":\"\"},\"bgcolor\":\"#E5ECF6\",\"caxis\":{\"gridcolor\":\"white\",\"linecolor\":\"white\",\"ticks\":\"\"}},\"title\":{\"x\":0.05},\"xaxis\":{\"automargin\":true,\"gridcolor\":\"white\",\"linecolor\":\"white\",\"ticks\":\"\",\"title\":{\"standoff\":15},\"zerolinecolor\":\"white\",\"zerolinewidth\":2},\"yaxis\":{\"automargin\":true,\"gridcolor\":\"white\",\"linecolor\":\"white\",\"ticks\":\"\",\"title\":{\"standoff\":15},\"zerolinecolor\":\"white\",\"zerolinewidth\":2}}},\"title\":{\"font\":{\"color\":\"#4D5663\"}},\"xaxis\":{\"gridcolor\":\"#E1E5ED\",\"showgrid\":true,\"tickfont\":{\"color\":\"#4D5663\"},\"title\":{\"font\":{\"color\":\"#4D5663\"},\"text\":\"\"},\"zerolinecolor\":\"#E1E5ED\"},\"yaxis\":{\"gridcolor\":\"#E1E5ED\",\"showgrid\":true,\"tickfont\":{\"color\":\"#4D5663\"},\"title\":{\"font\":{\"color\":\"#4D5663\"},\"text\":\"\"},\"zerolinecolor\":\"#E1E5ED\"}},                        {\"showLink\": true, \"linkText\": \"Export to plot.ly\", \"plotlyServerURL\": \"https://plot.ly\", \"responsive\": true}                    ).then(function(){\n",
       "                            \n",
       "var gd = document.getElementById('9c2a7040-5ab4-48e0-9fe3-fd2e53b4615e');\n",
       "var x = new MutationObserver(function (mutations, observer) {{\n",
       "        var display = window.getComputedStyle(gd).display;\n",
       "        if (!display || display === 'none') {{\n",
       "            console.log([gd, 'removed!']);\n",
       "            Plotly.purge(gd);\n",
       "            observer.disconnect();\n",
       "        }}\n",
       "}});\n",
       "\n",
       "// Listen for the removal of the full notebook cells\n",
       "var notebookContainer = gd.closest('#notebook-container');\n",
       "if (notebookContainer) {{\n",
       "    x.observe(notebookContainer, {childList: true});\n",
       "}}\n",
       "\n",
       "// Listen for the clearing of the current output cell\n",
       "var outputEl = gd.closest('.output');\n",
       "if (outputEl) {{\n",
       "    x.observe(outputEl, {childList: true});\n",
       "}}\n",
       "\n",
       "                        })                };                });            </script>        </div>"
      ]
     },
     "metadata": {},
     "output_type": "display_data"
    }
   ],
   "source": [
    "df.sum().iplot(kind='bar')"
   ]
  },
  {
   "cell_type": "code",
   "execution_count": 27,
   "id": "23a90d4f",
   "metadata": {},
   "outputs": [
    {
     "data": {
      "application/vnd.plotly.v1+json": {
       "config": {
        "linkText": "Export to plot.ly",
        "plotlyServerURL": "https://plot.ly",
        "showLink": true
       },
       "data": [
        {
         "boxpoints": false,
         "line": {
          "width": 1.3
         },
         "marker": {
          "color": "rgba(255, 153, 51, 1.0)"
         },
         "name": "A",
         "orientation": "v",
         "type": "box",
         "y": [
          0.20858928925374165,
          -0.4342659365804992,
          0.15224425972204558,
          -1.4076364859048878,
          -1.8787133030357686,
          1.1141016130474,
          -0.014856903124838405,
          2.2980934492830407,
          -0.04537892657460305,
          0.37251593394002713,
          1.3160112807008706,
          -0.17426433245318806,
          -1.0676051347476219,
          0.35048603503154846,
          1.3995954370148027,
          0.31417325524307427,
          -0.03901252898133603,
          -0.7815522712797063,
          -1.4657470354223352,
          -0.10963875683423577,
          0.3414618118686473,
          1.8556025363714947,
          0.3857059012861465,
          0.9980034374445319,
          1.2369036414452386,
          -2.2112045923282877,
          -0.8039465980537963,
          1.2501257231512457,
          0.28072647683673607,
          0.8479650419673018,
          0.821856776990302,
          0.33703944666886576,
          0.2994135796999949,
          -1.0020739050520817,
          1.0492375923262964,
          1.4499683923774385,
          0.6771778865444542,
          -1.174173436607878,
          0.9380903401986462,
          0.7830429803693706,
          1.5612080447999004,
          -0.689867946889579,
          -0.012595428200974368,
          -0.07720029034540583,
          1.4459983734283515,
          -0.9818107095001324,
          1.192692753425027,
          -0.0427350127227039,
          -0.770256799555548,
          -2.325516663796394,
          -0.6431928762709359,
          0.3153997366164689,
          0.3874379394644579,
          1.039847925443799,
          -0.9392276561472361,
          0.030043034312859172,
          1.1374541985603328,
          -0.6299169960910088,
          -0.9632572236552438,
          0.46429902371477966,
          -0.21188270820025484,
          -1.071565489388745,
          -0.18972067388602754,
          -1.2528521719399608,
          0.15881994888242676,
          -0.0378086230861681,
          1.1167572500107146,
          0.0006074965995330983,
          -0.15191943738908428,
          1.55982623930444,
          0.6060812113709677,
          0.07197403153804605,
          -0.1892256296041631,
          0.3744916234702504,
          0.5371723431024327,
          0.3056813222755168,
          3.2724431765187476,
          0.5606360026261016,
          0.0797615201136642,
          2.1426154923643996,
          0.595063512231104,
          -2.0077243015777624,
          -1.3920962454797994,
          -1.496551961908376,
          0.7760365739615019,
          0.8822518019486779,
          1.0019935837931249,
          -0.6634189590571933,
          0.07849718855217555,
          0.059596466005808625,
          1.075688755634055,
          1.9898092690768672,
          0.05738664500122117,
          -1.1337520231610325,
          -0.25843487309297164,
          0.4268716302195559,
          -2.323477988994405,
          1.8390982353041838,
          1.2639675884889168,
          1.654235242842938
         ]
        },
        {
         "boxpoints": false,
         "line": {
          "width": 1.3
         },
         "marker": {
          "color": "rgba(55, 128, 191, 1.0)"
         },
         "name": "B",
         "orientation": "v",
         "type": "box",
         "y": [
          -1.0899935075648546,
          -0.3283429263413677,
          0.9249715866272701,
          2.265847442190619,
          -1.9679748652286901,
          0.3522242836497475,
          -0.7922871395287938,
          -0.9258406713634908,
          0.8115272195253244,
          -1.477270976719303,
          0.1618159952438024,
          -0.4331539457009914,
          0.039311567111366276,
          -0.02441439939200614,
          0.6172117332234927,
          -2.340081944963553,
          3.1702114209761914,
          -0.36332764722503386,
          -0.4907725595838416,
          0.7908863334448771,
          -1.3709915008208202,
          0.5630076301719508,
          -0.08132772990151602,
          0.23855039987494617,
          -0.36783653113759457,
          -2.0583162396779198,
          0.41011426019927305,
          0.7360262123316557,
          0.8578455480892391,
          0.6692212126530874,
          -0.29193924207135413,
          -0.010428464535667108,
          0.5827342576436385,
          0.8631295668999309,
          -0.3887628842023507,
          0.5621355659822822,
          0.41242643202681245,
          0.5400452510501995,
          -0.8622450348007333,
          0.8373961616003691,
          0.7075403616234199,
          1.50682059694962,
          -0.8579989529337081,
          1.966217498627032,
          -0.8842888279114438,
          -0.14063222009410747,
          0.1560775565914649,
          -1.0318998613338433,
          0.6938332181045966,
          0.34902727031895114,
          -1.2083396070051455,
          2.2505048443521325,
          1.4625590755465416,
          -0.7392605820861616,
          1.290122175953878,
          0.03743177695407034,
          0.15447966905151658,
          -0.5941001153821971,
          0.41401637666917435,
          0.43185474659107764,
          -0.48564289964242224,
          0.2120732808572052,
          -1.2176504747328385,
          -0.15447459880849224,
          0.04952072542198867,
          0.016467999256636306,
          -0.5074883377420486,
          0.2853198976723749,
          1.617705760844643,
          1.677555201770505,
          0.27528939747803033,
          1.2810400539729732,
          -0.33070951242102525,
          1.044671936262385,
          0.07747716330923368,
          0.3114697652518498,
          -1.156964461310973,
          0.7046737117632361,
          0.17166399704921553,
          0.046391761412236276,
          2.0237011484840295,
          1.0508124503427356,
          0.7633037621767298,
          0.910230795208631,
          -0.6860382779231162,
          0.8414355798852678,
          0.20068154971940383,
          -0.43766497984189995,
          -1.4456137666739453,
          0.04206249677159624,
          -1.7378780010870498,
          0.3317607911741303,
          -0.3960625890982911,
          0.20891188425239193,
          1.7533600297381258,
          -0.5744757529482349,
          -1.2890173304854928,
          -0.8397499635573618,
          -0.2703194128703838,
          0.4006493372053976
         ]
        },
        {
         "boxpoints": false,
         "line": {
          "width": 1.3
         },
         "marker": {
          "color": "rgba(50, 171, 96, 1.0)"
         },
         "name": "C",
         "orientation": "v",
         "type": "box",
         "y": [
          -0.6050978556691786,
          -0.9035483715588414,
          1.3999062316779856,
          0.20326625575656562,
          0.7748660360296203,
          1.382118835963103,
          -0.3449663271423684,
          -0.3125784862581155,
          -0.3921021582767679,
          -0.4672365319648652,
          -0.9176971919965744,
          -0.9407683863484179,
          -0.02051094093615628,
          -0.4845090081884112,
          -0.9027760486508982,
          0.45408000372627855,
          1.7797168946307709,
          -0.849954913019187,
          -0.9497738918589689,
          1.115584553680479,
          0.47623968737877737,
          0.6777243804013798,
          -2.423385402585716,
          -0.05998903497391833,
          0.9528474830183917,
          1.9451072560078173,
          -0.7205616932622801,
          0.24869698730886125,
          0.12593843046885547,
          -0.7613039250440969,
          -1.1934815064129642,
          0.32847093291618723,
          0.03042686379748063,
          0.3638589261743581,
          0.8672123584073379,
          -0.5191918572545234,
          0.045873495741145395,
          -0.4991378312981569,
          0.4760864075563409,
          2.133103606272648,
          -1.6368622660538275,
          -0.8647663574169911,
          -0.2386827785058121,
          0.6514580767202643,
          -2.39366962919686,
          0.7847164416846397,
          1.4776485033235072,
          -0.8468678129426838,
          -0.1399453487715599,
          -1.4576847799303292,
          -0.16729265391285816,
          0.8104599304351691,
          0.44724150958933034,
          -0.239863791295954,
          -0.39865955278054077,
          0.392382842023195,
          0.21053559716010317,
          -0.7026716843649459,
          0.20157416306770357,
          -1.2431794473942575,
          0.9913120029212691,
          -0.17674562111069766,
          -0.8865370921684598,
          1.2678131780640376,
          0.6474985704541698,
          -0.675859866962432,
          2.2130088393476632,
          -0.8751745286308837,
          -0.7309748412210775,
          -0.7061573864067572,
          1.7191649168663734,
          -0.90654523833935,
          0.9234141064550748,
          -1.006326053603848,
          -0.15565505313829398,
          1.258680446450928,
          -0.82459549301541,
          -0.6941048482250396,
          -1.1526300782529277,
          -1.9408024035122222,
          -0.7066046066198953,
          -0.13820084983001243,
          0.33007567967062035,
          0.20516895683465802,
          0.7541000686165579,
          -0.3309113870390968,
          -0.4936760267518312,
          2.572271277233446,
          -0.02605875203151911,
          0.08045314789924392,
          0.1584800938610056,
          0.6803979387509251,
          -1.3445148460765042,
          1.3938329499040125,
          -0.799184564003873,
          -1.4607223497438997,
          -0.9460192341940437,
          -1.4607146767131882,
          0.33623646045912176,
          0.3717802061751832
         ]
        },
        {
         "boxpoints": false,
         "line": {
          "width": 1.3
         },
         "marker": {
          "color": "rgba(128, 0, 128, 1.0)"
         },
         "name": "D",
         "orientation": "v",
         "type": "box",
         "y": [
          -1.7283455634015321,
          0.7922665076440077,
          0.3327252928057696,
          -0.8646777098209107,
          -0.5533280925795223,
          -0.7426238658744095,
          -0.6321761148537716,
          0.23147476775382012,
          -0.20636980974607427,
          -0.8524000612482501,
          1.6127960625700868,
          -1.2494970560420666,
          2.117783435195244,
          -1.4261041758635733,
          -0.8427016784683329,
          -0.41215725897321814,
          1.482039530159061,
          -0.8294156366297977,
          -1.7444749996017128,
          -1.1463065894063043,
          -0.23140954513387316,
          0.04924343091891973,
          -0.7911997067028309,
          0.2542396734334467,
          -0.42101767485548325,
          0.0343237840568151,
          0.016933566682258896,
          1.3545581510054157,
          0.4476058590792905,
          0.22846633647061299,
          -0.6360477412520456,
          0.3247900932617839,
          -0.13851588260334996,
          0.19749265328712912,
          0.2551145633023773,
          -0.6318291814297596,
          -0.05162998288644609,
          0.29304285314602707,
          0.6519757198392621,
          0.362920745861988,
          2.3164946789860945,
          3.0661980875647856,
          -0.2963504023189624,
          -0.8127184586877536,
          -2.2064787773448824,
          -0.7134226445069347,
          -0.043722477341506236,
          -0.7139044754895482,
          -0.538276291943493,
          1.4108829924568982,
          1.251182397487324,
          0.17089238880915805,
          0.07540264426533289,
          0.19832996717543896,
          0.056562449238566036,
          0.7629953537674873,
          0.6954930495616684,
          0.8775097179137081,
          0.4712989663064789,
          0.7950901130031898,
          -0.42165087555391284,
          -1.341972307314644,
          -0.26419586310475707,
          1.2067552694961743,
          -1.107541927537456,
          0.30012534153536796,
          0.8901680688026227,
          0.7432940876917533,
          -0.5969048140606085,
          -1.1202383151916753,
          0.09471779691404093,
          -0.47167306445998836,
          -1.3923362588099217,
          0.714730829804552,
          0.1628551757050395,
          2.850378514067846,
          -0.5917785616485799,
          0.7138285756081543,
          0.5268855062743794,
          0.07111881361464277,
          -0.5760903855312549,
          -0.860973377436933,
          -1.058674135434395,
          0.18239213480830674,
          1.4508107303228437,
          0.8075923242860772,
          -1.062296403867526,
          0.49907103447837614,
          -0.4316824341811029,
          -0.6290765911934332,
          -0.9120857969862319,
          -0.23865807635605688,
          0.3266174181627085,
          -0.06769282445930531,
          -0.15757269703186888,
          1.0894928964241457,
          1.0508563645876903,
          0.1780094976605929,
          1.218131315660249,
          0.38432102125585577
         ]
        }
       ],
       "layout": {
        "legend": {
         "bgcolor": "#F5F6F9",
         "font": {
          "color": "#4D5663"
         }
        },
        "paper_bgcolor": "#F5F6F9",
        "plot_bgcolor": "#F5F6F9",
        "template": {
         "data": {
          "bar": [
           {
            "error_x": {
             "color": "#2a3f5f"
            },
            "error_y": {
             "color": "#2a3f5f"
            },
            "marker": {
             "line": {
              "color": "#E5ECF6",
              "width": 0.5
             },
             "pattern": {
              "fillmode": "overlay",
              "size": 10,
              "solidity": 0.2
             }
            },
            "type": "bar"
           }
          ],
          "barpolar": [
           {
            "marker": {
             "line": {
              "color": "#E5ECF6",
              "width": 0.5
             },
             "pattern": {
              "fillmode": "overlay",
              "size": 10,
              "solidity": 0.2
             }
            },
            "type": "barpolar"
           }
          ],
          "carpet": [
           {
            "aaxis": {
             "endlinecolor": "#2a3f5f",
             "gridcolor": "white",
             "linecolor": "white",
             "minorgridcolor": "white",
             "startlinecolor": "#2a3f5f"
            },
            "baxis": {
             "endlinecolor": "#2a3f5f",
             "gridcolor": "white",
             "linecolor": "white",
             "minorgridcolor": "white",
             "startlinecolor": "#2a3f5f"
            },
            "type": "carpet"
           }
          ],
          "choropleth": [
           {
            "colorbar": {
             "outlinewidth": 0,
             "ticks": ""
            },
            "type": "choropleth"
           }
          ],
          "contour": [
           {
            "colorbar": {
             "outlinewidth": 0,
             "ticks": ""
            },
            "colorscale": [
             [
              0,
              "#0d0887"
             ],
             [
              0.1111111111111111,
              "#46039f"
             ],
             [
              0.2222222222222222,
              "#7201a8"
             ],
             [
              0.3333333333333333,
              "#9c179e"
             ],
             [
              0.4444444444444444,
              "#bd3786"
             ],
             [
              0.5555555555555556,
              "#d8576b"
             ],
             [
              0.6666666666666666,
              "#ed7953"
             ],
             [
              0.7777777777777778,
              "#fb9f3a"
             ],
             [
              0.8888888888888888,
              "#fdca26"
             ],
             [
              1,
              "#f0f921"
             ]
            ],
            "type": "contour"
           }
          ],
          "contourcarpet": [
           {
            "colorbar": {
             "outlinewidth": 0,
             "ticks": ""
            },
            "type": "contourcarpet"
           }
          ],
          "heatmap": [
           {
            "colorbar": {
             "outlinewidth": 0,
             "ticks": ""
            },
            "colorscale": [
             [
              0,
              "#0d0887"
             ],
             [
              0.1111111111111111,
              "#46039f"
             ],
             [
              0.2222222222222222,
              "#7201a8"
             ],
             [
              0.3333333333333333,
              "#9c179e"
             ],
             [
              0.4444444444444444,
              "#bd3786"
             ],
             [
              0.5555555555555556,
              "#d8576b"
             ],
             [
              0.6666666666666666,
              "#ed7953"
             ],
             [
              0.7777777777777778,
              "#fb9f3a"
             ],
             [
              0.8888888888888888,
              "#fdca26"
             ],
             [
              1,
              "#f0f921"
             ]
            ],
            "type": "heatmap"
           }
          ],
          "heatmapgl": [
           {
            "colorbar": {
             "outlinewidth": 0,
             "ticks": ""
            },
            "colorscale": [
             [
              0,
              "#0d0887"
             ],
             [
              0.1111111111111111,
              "#46039f"
             ],
             [
              0.2222222222222222,
              "#7201a8"
             ],
             [
              0.3333333333333333,
              "#9c179e"
             ],
             [
              0.4444444444444444,
              "#bd3786"
             ],
             [
              0.5555555555555556,
              "#d8576b"
             ],
             [
              0.6666666666666666,
              "#ed7953"
             ],
             [
              0.7777777777777778,
              "#fb9f3a"
             ],
             [
              0.8888888888888888,
              "#fdca26"
             ],
             [
              1,
              "#f0f921"
             ]
            ],
            "type": "heatmapgl"
           }
          ],
          "histogram": [
           {
            "marker": {
             "pattern": {
              "fillmode": "overlay",
              "size": 10,
              "solidity": 0.2
             }
            },
            "type": "histogram"
           }
          ],
          "histogram2d": [
           {
            "colorbar": {
             "outlinewidth": 0,
             "ticks": ""
            },
            "colorscale": [
             [
              0,
              "#0d0887"
             ],
             [
              0.1111111111111111,
              "#46039f"
             ],
             [
              0.2222222222222222,
              "#7201a8"
             ],
             [
              0.3333333333333333,
              "#9c179e"
             ],
             [
              0.4444444444444444,
              "#bd3786"
             ],
             [
              0.5555555555555556,
              "#d8576b"
             ],
             [
              0.6666666666666666,
              "#ed7953"
             ],
             [
              0.7777777777777778,
              "#fb9f3a"
             ],
             [
              0.8888888888888888,
              "#fdca26"
             ],
             [
              1,
              "#f0f921"
             ]
            ],
            "type": "histogram2d"
           }
          ],
          "histogram2dcontour": [
           {
            "colorbar": {
             "outlinewidth": 0,
             "ticks": ""
            },
            "colorscale": [
             [
              0,
              "#0d0887"
             ],
             [
              0.1111111111111111,
              "#46039f"
             ],
             [
              0.2222222222222222,
              "#7201a8"
             ],
             [
              0.3333333333333333,
              "#9c179e"
             ],
             [
              0.4444444444444444,
              "#bd3786"
             ],
             [
              0.5555555555555556,
              "#d8576b"
             ],
             [
              0.6666666666666666,
              "#ed7953"
             ],
             [
              0.7777777777777778,
              "#fb9f3a"
             ],
             [
              0.8888888888888888,
              "#fdca26"
             ],
             [
              1,
              "#f0f921"
             ]
            ],
            "type": "histogram2dcontour"
           }
          ],
          "mesh3d": [
           {
            "colorbar": {
             "outlinewidth": 0,
             "ticks": ""
            },
            "type": "mesh3d"
           }
          ],
          "parcoords": [
           {
            "line": {
             "colorbar": {
              "outlinewidth": 0,
              "ticks": ""
             }
            },
            "type": "parcoords"
           }
          ],
          "pie": [
           {
            "automargin": true,
            "type": "pie"
           }
          ],
          "scatter": [
           {
            "marker": {
             "colorbar": {
              "outlinewidth": 0,
              "ticks": ""
             }
            },
            "type": "scatter"
           }
          ],
          "scatter3d": [
           {
            "line": {
             "colorbar": {
              "outlinewidth": 0,
              "ticks": ""
             }
            },
            "marker": {
             "colorbar": {
              "outlinewidth": 0,
              "ticks": ""
             }
            },
            "type": "scatter3d"
           }
          ],
          "scattercarpet": [
           {
            "marker": {
             "colorbar": {
              "outlinewidth": 0,
              "ticks": ""
             }
            },
            "type": "scattercarpet"
           }
          ],
          "scattergeo": [
           {
            "marker": {
             "colorbar": {
              "outlinewidth": 0,
              "ticks": ""
             }
            },
            "type": "scattergeo"
           }
          ],
          "scattergl": [
           {
            "marker": {
             "colorbar": {
              "outlinewidth": 0,
              "ticks": ""
             }
            },
            "type": "scattergl"
           }
          ],
          "scattermapbox": [
           {
            "marker": {
             "colorbar": {
              "outlinewidth": 0,
              "ticks": ""
             }
            },
            "type": "scattermapbox"
           }
          ],
          "scatterpolar": [
           {
            "marker": {
             "colorbar": {
              "outlinewidth": 0,
              "ticks": ""
             }
            },
            "type": "scatterpolar"
           }
          ],
          "scatterpolargl": [
           {
            "marker": {
             "colorbar": {
              "outlinewidth": 0,
              "ticks": ""
             }
            },
            "type": "scatterpolargl"
           }
          ],
          "scatterternary": [
           {
            "marker": {
             "colorbar": {
              "outlinewidth": 0,
              "ticks": ""
             }
            },
            "type": "scatterternary"
           }
          ],
          "surface": [
           {
            "colorbar": {
             "outlinewidth": 0,
             "ticks": ""
            },
            "colorscale": [
             [
              0,
              "#0d0887"
             ],
             [
              0.1111111111111111,
              "#46039f"
             ],
             [
              0.2222222222222222,
              "#7201a8"
             ],
             [
              0.3333333333333333,
              "#9c179e"
             ],
             [
              0.4444444444444444,
              "#bd3786"
             ],
             [
              0.5555555555555556,
              "#d8576b"
             ],
             [
              0.6666666666666666,
              "#ed7953"
             ],
             [
              0.7777777777777778,
              "#fb9f3a"
             ],
             [
              0.8888888888888888,
              "#fdca26"
             ],
             [
              1,
              "#f0f921"
             ]
            ],
            "type": "surface"
           }
          ],
          "table": [
           {
            "cells": {
             "fill": {
              "color": "#EBF0F8"
             },
             "line": {
              "color": "white"
             }
            },
            "header": {
             "fill": {
              "color": "#C8D4E3"
             },
             "line": {
              "color": "white"
             }
            },
            "type": "table"
           }
          ]
         },
         "layout": {
          "annotationdefaults": {
           "arrowcolor": "#2a3f5f",
           "arrowhead": 0,
           "arrowwidth": 1
          },
          "autotypenumbers": "strict",
          "coloraxis": {
           "colorbar": {
            "outlinewidth": 0,
            "ticks": ""
           }
          },
          "colorscale": {
           "diverging": [
            [
             0,
             "#8e0152"
            ],
            [
             0.1,
             "#c51b7d"
            ],
            [
             0.2,
             "#de77ae"
            ],
            [
             0.3,
             "#f1b6da"
            ],
            [
             0.4,
             "#fde0ef"
            ],
            [
             0.5,
             "#f7f7f7"
            ],
            [
             0.6,
             "#e6f5d0"
            ],
            [
             0.7,
             "#b8e186"
            ],
            [
             0.8,
             "#7fbc41"
            ],
            [
             0.9,
             "#4d9221"
            ],
            [
             1,
             "#276419"
            ]
           ],
           "sequential": [
            [
             0,
             "#0d0887"
            ],
            [
             0.1111111111111111,
             "#46039f"
            ],
            [
             0.2222222222222222,
             "#7201a8"
            ],
            [
             0.3333333333333333,
             "#9c179e"
            ],
            [
             0.4444444444444444,
             "#bd3786"
            ],
            [
             0.5555555555555556,
             "#d8576b"
            ],
            [
             0.6666666666666666,
             "#ed7953"
            ],
            [
             0.7777777777777778,
             "#fb9f3a"
            ],
            [
             0.8888888888888888,
             "#fdca26"
            ],
            [
             1,
             "#f0f921"
            ]
           ],
           "sequentialminus": [
            [
             0,
             "#0d0887"
            ],
            [
             0.1111111111111111,
             "#46039f"
            ],
            [
             0.2222222222222222,
             "#7201a8"
            ],
            [
             0.3333333333333333,
             "#9c179e"
            ],
            [
             0.4444444444444444,
             "#bd3786"
            ],
            [
             0.5555555555555556,
             "#d8576b"
            ],
            [
             0.6666666666666666,
             "#ed7953"
            ],
            [
             0.7777777777777778,
             "#fb9f3a"
            ],
            [
             0.8888888888888888,
             "#fdca26"
            ],
            [
             1,
             "#f0f921"
            ]
           ]
          },
          "colorway": [
           "#636efa",
           "#EF553B",
           "#00cc96",
           "#ab63fa",
           "#FFA15A",
           "#19d3f3",
           "#FF6692",
           "#B6E880",
           "#FF97FF",
           "#FECB52"
          ],
          "font": {
           "color": "#2a3f5f"
          },
          "geo": {
           "bgcolor": "white",
           "lakecolor": "white",
           "landcolor": "#E5ECF6",
           "showlakes": true,
           "showland": true,
           "subunitcolor": "white"
          },
          "hoverlabel": {
           "align": "left"
          },
          "hovermode": "closest",
          "mapbox": {
           "style": "light"
          },
          "paper_bgcolor": "white",
          "plot_bgcolor": "#E5ECF6",
          "polar": {
           "angularaxis": {
            "gridcolor": "white",
            "linecolor": "white",
            "ticks": ""
           },
           "bgcolor": "#E5ECF6",
           "radialaxis": {
            "gridcolor": "white",
            "linecolor": "white",
            "ticks": ""
           }
          },
          "scene": {
           "xaxis": {
            "backgroundcolor": "#E5ECF6",
            "gridcolor": "white",
            "gridwidth": 2,
            "linecolor": "white",
            "showbackground": true,
            "ticks": "",
            "zerolinecolor": "white"
           },
           "yaxis": {
            "backgroundcolor": "#E5ECF6",
            "gridcolor": "white",
            "gridwidth": 2,
            "linecolor": "white",
            "showbackground": true,
            "ticks": "",
            "zerolinecolor": "white"
           },
           "zaxis": {
            "backgroundcolor": "#E5ECF6",
            "gridcolor": "white",
            "gridwidth": 2,
            "linecolor": "white",
            "showbackground": true,
            "ticks": "",
            "zerolinecolor": "white"
           }
          },
          "shapedefaults": {
           "line": {
            "color": "#2a3f5f"
           }
          },
          "ternary": {
           "aaxis": {
            "gridcolor": "white",
            "linecolor": "white",
            "ticks": ""
           },
           "baxis": {
            "gridcolor": "white",
            "linecolor": "white",
            "ticks": ""
           },
           "bgcolor": "#E5ECF6",
           "caxis": {
            "gridcolor": "white",
            "linecolor": "white",
            "ticks": ""
           }
          },
          "title": {
           "x": 0.05
          },
          "xaxis": {
           "automargin": true,
           "gridcolor": "white",
           "linecolor": "white",
           "ticks": "",
           "title": {
            "standoff": 15
           },
           "zerolinecolor": "white",
           "zerolinewidth": 2
          },
          "yaxis": {
           "automargin": true,
           "gridcolor": "white",
           "linecolor": "white",
           "ticks": "",
           "title": {
            "standoff": 15
           },
           "zerolinecolor": "white",
           "zerolinewidth": 2
          }
         }
        },
        "title": {
         "font": {
          "color": "#4D5663"
         }
        },
        "xaxis": {
         "gridcolor": "#E1E5ED",
         "showgrid": true,
         "tickfont": {
          "color": "#4D5663"
         },
         "title": {
          "font": {
           "color": "#4D5663"
          },
          "text": ""
         },
         "zerolinecolor": "#E1E5ED"
        },
        "yaxis": {
         "gridcolor": "#E1E5ED",
         "showgrid": true,
         "tickfont": {
          "color": "#4D5663"
         },
         "title": {
          "font": {
           "color": "#4D5663"
          },
          "text": ""
         },
         "zerolinecolor": "#E1E5ED"
        }
       }
      },
      "text/html": [
       "<div>                            <div id=\"55eae19c-9749-497e-a7e0-57052edd40f3\" class=\"plotly-graph-div\" style=\"height:525px; width:100%;\"></div>            <script type=\"text/javascript\">                require([\"plotly\"], function(Plotly) {                    window.PLOTLYENV=window.PLOTLYENV || {};\n",
       "                    window.PLOTLYENV.BASE_URL='https://plot.ly';                                    if (document.getElementById(\"55eae19c-9749-497e-a7e0-57052edd40f3\")) {                    Plotly.newPlot(                        \"55eae19c-9749-497e-a7e0-57052edd40f3\",                        [{\"boxpoints\":false,\"line\":{\"width\":1.3},\"marker\":{\"color\":\"rgba(255, 153, 51, 1.0)\"},\"name\":\"A\",\"orientation\":\"v\",\"type\":\"box\",\"y\":[0.20858928925374165,-0.4342659365804992,0.15224425972204558,-1.4076364859048878,-1.8787133030357686,1.1141016130474,-0.014856903124838405,2.2980934492830407,-0.04537892657460305,0.37251593394002713,1.3160112807008706,-0.17426433245318806,-1.0676051347476219,0.35048603503154846,1.3995954370148027,0.31417325524307427,-0.03901252898133603,-0.7815522712797063,-1.4657470354223352,-0.10963875683423577,0.3414618118686473,1.8556025363714947,0.3857059012861465,0.9980034374445319,1.2369036414452386,-2.2112045923282877,-0.8039465980537963,1.2501257231512457,0.28072647683673607,0.8479650419673018,0.821856776990302,0.33703944666886576,0.2994135796999949,-1.0020739050520817,1.0492375923262964,1.4499683923774385,0.6771778865444542,-1.174173436607878,0.9380903401986462,0.7830429803693706,1.5612080447999004,-0.689867946889579,-0.012595428200974368,-0.07720029034540583,1.4459983734283515,-0.9818107095001324,1.192692753425027,-0.0427350127227039,-0.770256799555548,-2.325516663796394,-0.6431928762709359,0.3153997366164689,0.3874379394644579,1.039847925443799,-0.9392276561472361,0.030043034312859172,1.1374541985603328,-0.6299169960910088,-0.9632572236552438,0.46429902371477966,-0.21188270820025484,-1.071565489388745,-0.18972067388602754,-1.2528521719399608,0.15881994888242676,-0.0378086230861681,1.1167572500107146,0.0006074965995330983,-0.15191943738908428,1.55982623930444,0.6060812113709677,0.07197403153804605,-0.1892256296041631,0.3744916234702504,0.5371723431024327,0.3056813222755168,3.2724431765187476,0.5606360026261016,0.0797615201136642,2.1426154923643996,0.595063512231104,-2.0077243015777624,-1.3920962454797994,-1.496551961908376,0.7760365739615019,0.8822518019486779,1.0019935837931249,-0.6634189590571933,0.07849718855217555,0.059596466005808625,1.075688755634055,1.9898092690768672,0.05738664500122117,-1.1337520231610325,-0.25843487309297164,0.4268716302195559,-2.323477988994405,1.8390982353041838,1.2639675884889168,1.654235242842938]},{\"boxpoints\":false,\"line\":{\"width\":1.3},\"marker\":{\"color\":\"rgba(55, 128, 191, 1.0)\"},\"name\":\"B\",\"orientation\":\"v\",\"type\":\"box\",\"y\":[-1.0899935075648546,-0.3283429263413677,0.9249715866272701,2.265847442190619,-1.9679748652286901,0.3522242836497475,-0.7922871395287938,-0.9258406713634908,0.8115272195253244,-1.477270976719303,0.1618159952438024,-0.4331539457009914,0.039311567111366276,-0.02441439939200614,0.6172117332234927,-2.340081944963553,3.1702114209761914,-0.36332764722503386,-0.4907725595838416,0.7908863334448771,-1.3709915008208202,0.5630076301719508,-0.08132772990151602,0.23855039987494617,-0.36783653113759457,-2.0583162396779198,0.41011426019927305,0.7360262123316557,0.8578455480892391,0.6692212126530874,-0.29193924207135413,-0.010428464535667108,0.5827342576436385,0.8631295668999309,-0.3887628842023507,0.5621355659822822,0.41242643202681245,0.5400452510501995,-0.8622450348007333,0.8373961616003691,0.7075403616234199,1.50682059694962,-0.8579989529337081,1.966217498627032,-0.8842888279114438,-0.14063222009410747,0.1560775565914649,-1.0318998613338433,0.6938332181045966,0.34902727031895114,-1.2083396070051455,2.2505048443521325,1.4625590755465416,-0.7392605820861616,1.290122175953878,0.03743177695407034,0.15447966905151658,-0.5941001153821971,0.41401637666917435,0.43185474659107764,-0.48564289964242224,0.2120732808572052,-1.2176504747328385,-0.15447459880849224,0.04952072542198867,0.016467999256636306,-0.5074883377420486,0.2853198976723749,1.617705760844643,1.677555201770505,0.27528939747803033,1.2810400539729732,-0.33070951242102525,1.044671936262385,0.07747716330923368,0.3114697652518498,-1.156964461310973,0.7046737117632361,0.17166399704921553,0.046391761412236276,2.0237011484840295,1.0508124503427356,0.7633037621767298,0.910230795208631,-0.6860382779231162,0.8414355798852678,0.20068154971940383,-0.43766497984189995,-1.4456137666739453,0.04206249677159624,-1.7378780010870498,0.3317607911741303,-0.3960625890982911,0.20891188425239193,1.7533600297381258,-0.5744757529482349,-1.2890173304854928,-0.8397499635573618,-0.2703194128703838,0.4006493372053976]},{\"boxpoints\":false,\"line\":{\"width\":1.3},\"marker\":{\"color\":\"rgba(50, 171, 96, 1.0)\"},\"name\":\"C\",\"orientation\":\"v\",\"type\":\"box\",\"y\":[-0.6050978556691786,-0.9035483715588414,1.3999062316779856,0.20326625575656562,0.7748660360296203,1.382118835963103,-0.3449663271423684,-0.3125784862581155,-0.3921021582767679,-0.4672365319648652,-0.9176971919965744,-0.9407683863484179,-0.02051094093615628,-0.4845090081884112,-0.9027760486508982,0.45408000372627855,1.7797168946307709,-0.849954913019187,-0.9497738918589689,1.115584553680479,0.47623968737877737,0.6777243804013798,-2.423385402585716,-0.05998903497391833,0.9528474830183917,1.9451072560078173,-0.7205616932622801,0.24869698730886125,0.12593843046885547,-0.7613039250440969,-1.1934815064129642,0.32847093291618723,0.03042686379748063,0.3638589261743581,0.8672123584073379,-0.5191918572545234,0.045873495741145395,-0.4991378312981569,0.4760864075563409,2.133103606272648,-1.6368622660538275,-0.8647663574169911,-0.2386827785058121,0.6514580767202643,-2.39366962919686,0.7847164416846397,1.4776485033235072,-0.8468678129426838,-0.1399453487715599,-1.4576847799303292,-0.16729265391285816,0.8104599304351691,0.44724150958933034,-0.239863791295954,-0.39865955278054077,0.392382842023195,0.21053559716010317,-0.7026716843649459,0.20157416306770357,-1.2431794473942575,0.9913120029212691,-0.17674562111069766,-0.8865370921684598,1.2678131780640376,0.6474985704541698,-0.675859866962432,2.2130088393476632,-0.8751745286308837,-0.7309748412210775,-0.7061573864067572,1.7191649168663734,-0.90654523833935,0.9234141064550748,-1.006326053603848,-0.15565505313829398,1.258680446450928,-0.82459549301541,-0.6941048482250396,-1.1526300782529277,-1.9408024035122222,-0.7066046066198953,-0.13820084983001243,0.33007567967062035,0.20516895683465802,0.7541000686165579,-0.3309113870390968,-0.4936760267518312,2.572271277233446,-0.02605875203151911,0.08045314789924392,0.1584800938610056,0.6803979387509251,-1.3445148460765042,1.3938329499040125,-0.799184564003873,-1.4607223497438997,-0.9460192341940437,-1.4607146767131882,0.33623646045912176,0.3717802061751832]},{\"boxpoints\":false,\"line\":{\"width\":1.3},\"marker\":{\"color\":\"rgba(128, 0, 128, 1.0)\"},\"name\":\"D\",\"orientation\":\"v\",\"type\":\"box\",\"y\":[-1.7283455634015321,0.7922665076440077,0.3327252928057696,-0.8646777098209107,-0.5533280925795223,-0.7426238658744095,-0.6321761148537716,0.23147476775382012,-0.20636980974607427,-0.8524000612482501,1.6127960625700868,-1.2494970560420666,2.117783435195244,-1.4261041758635733,-0.8427016784683329,-0.41215725897321814,1.482039530159061,-0.8294156366297977,-1.7444749996017128,-1.1463065894063043,-0.23140954513387316,0.04924343091891973,-0.7911997067028309,0.2542396734334467,-0.42101767485548325,0.0343237840568151,0.016933566682258896,1.3545581510054157,0.4476058590792905,0.22846633647061299,-0.6360477412520456,0.3247900932617839,-0.13851588260334996,0.19749265328712912,0.2551145633023773,-0.6318291814297596,-0.05162998288644609,0.29304285314602707,0.6519757198392621,0.362920745861988,2.3164946789860945,3.0661980875647856,-0.2963504023189624,-0.8127184586877536,-2.2064787773448824,-0.7134226445069347,-0.043722477341506236,-0.7139044754895482,-0.538276291943493,1.4108829924568982,1.251182397487324,0.17089238880915805,0.07540264426533289,0.19832996717543896,0.056562449238566036,0.7629953537674873,0.6954930495616684,0.8775097179137081,0.4712989663064789,0.7950901130031898,-0.42165087555391284,-1.341972307314644,-0.26419586310475707,1.2067552694961743,-1.107541927537456,0.30012534153536796,0.8901680688026227,0.7432940876917533,-0.5969048140606085,-1.1202383151916753,0.09471779691404093,-0.47167306445998836,-1.3923362588099217,0.714730829804552,0.1628551757050395,2.850378514067846,-0.5917785616485799,0.7138285756081543,0.5268855062743794,0.07111881361464277,-0.5760903855312549,-0.860973377436933,-1.058674135434395,0.18239213480830674,1.4508107303228437,0.8075923242860772,-1.062296403867526,0.49907103447837614,-0.4316824341811029,-0.6290765911934332,-0.9120857969862319,-0.23865807635605688,0.3266174181627085,-0.06769282445930531,-0.15757269703186888,1.0894928964241457,1.0508563645876903,0.1780094976605929,1.218131315660249,0.38432102125585577]}],                        {\"legend\":{\"bgcolor\":\"#F5F6F9\",\"font\":{\"color\":\"#4D5663\"}},\"paper_bgcolor\":\"#F5F6F9\",\"plot_bgcolor\":\"#F5F6F9\",\"template\":{\"data\":{\"bar\":[{\"error_x\":{\"color\":\"#2a3f5f\"},\"error_y\":{\"color\":\"#2a3f5f\"},\"marker\":{\"line\":{\"color\":\"#E5ECF6\",\"width\":0.5},\"pattern\":{\"fillmode\":\"overlay\",\"size\":10,\"solidity\":0.2}},\"type\":\"bar\"}],\"barpolar\":[{\"marker\":{\"line\":{\"color\":\"#E5ECF6\",\"width\":0.5},\"pattern\":{\"fillmode\":\"overlay\",\"size\":10,\"solidity\":0.2}},\"type\":\"barpolar\"}],\"carpet\":[{\"aaxis\":{\"endlinecolor\":\"#2a3f5f\",\"gridcolor\":\"white\",\"linecolor\":\"white\",\"minorgridcolor\":\"white\",\"startlinecolor\":\"#2a3f5f\"},\"baxis\":{\"endlinecolor\":\"#2a3f5f\",\"gridcolor\":\"white\",\"linecolor\":\"white\",\"minorgridcolor\":\"white\",\"startlinecolor\":\"#2a3f5f\"},\"type\":\"carpet\"}],\"choropleth\":[{\"colorbar\":{\"outlinewidth\":0,\"ticks\":\"\"},\"type\":\"choropleth\"}],\"contour\":[{\"colorbar\":{\"outlinewidth\":0,\"ticks\":\"\"},\"colorscale\":[[0.0,\"#0d0887\"],[0.1111111111111111,\"#46039f\"],[0.2222222222222222,\"#7201a8\"],[0.3333333333333333,\"#9c179e\"],[0.4444444444444444,\"#bd3786\"],[0.5555555555555556,\"#d8576b\"],[0.6666666666666666,\"#ed7953\"],[0.7777777777777778,\"#fb9f3a\"],[0.8888888888888888,\"#fdca26\"],[1.0,\"#f0f921\"]],\"type\":\"contour\"}],\"contourcarpet\":[{\"colorbar\":{\"outlinewidth\":0,\"ticks\":\"\"},\"type\":\"contourcarpet\"}],\"heatmap\":[{\"colorbar\":{\"outlinewidth\":0,\"ticks\":\"\"},\"colorscale\":[[0.0,\"#0d0887\"],[0.1111111111111111,\"#46039f\"],[0.2222222222222222,\"#7201a8\"],[0.3333333333333333,\"#9c179e\"],[0.4444444444444444,\"#bd3786\"],[0.5555555555555556,\"#d8576b\"],[0.6666666666666666,\"#ed7953\"],[0.7777777777777778,\"#fb9f3a\"],[0.8888888888888888,\"#fdca26\"],[1.0,\"#f0f921\"]],\"type\":\"heatmap\"}],\"heatmapgl\":[{\"colorbar\":{\"outlinewidth\":0,\"ticks\":\"\"},\"colorscale\":[[0.0,\"#0d0887\"],[0.1111111111111111,\"#46039f\"],[0.2222222222222222,\"#7201a8\"],[0.3333333333333333,\"#9c179e\"],[0.4444444444444444,\"#bd3786\"],[0.5555555555555556,\"#d8576b\"],[0.6666666666666666,\"#ed7953\"],[0.7777777777777778,\"#fb9f3a\"],[0.8888888888888888,\"#fdca26\"],[1.0,\"#f0f921\"]],\"type\":\"heatmapgl\"}],\"histogram\":[{\"marker\":{\"pattern\":{\"fillmode\":\"overlay\",\"size\":10,\"solidity\":0.2}},\"type\":\"histogram\"}],\"histogram2d\":[{\"colorbar\":{\"outlinewidth\":0,\"ticks\":\"\"},\"colorscale\":[[0.0,\"#0d0887\"],[0.1111111111111111,\"#46039f\"],[0.2222222222222222,\"#7201a8\"],[0.3333333333333333,\"#9c179e\"],[0.4444444444444444,\"#bd3786\"],[0.5555555555555556,\"#d8576b\"],[0.6666666666666666,\"#ed7953\"],[0.7777777777777778,\"#fb9f3a\"],[0.8888888888888888,\"#fdca26\"],[1.0,\"#f0f921\"]],\"type\":\"histogram2d\"}],\"histogram2dcontour\":[{\"colorbar\":{\"outlinewidth\":0,\"ticks\":\"\"},\"colorscale\":[[0.0,\"#0d0887\"],[0.1111111111111111,\"#46039f\"],[0.2222222222222222,\"#7201a8\"],[0.3333333333333333,\"#9c179e\"],[0.4444444444444444,\"#bd3786\"],[0.5555555555555556,\"#d8576b\"],[0.6666666666666666,\"#ed7953\"],[0.7777777777777778,\"#fb9f3a\"],[0.8888888888888888,\"#fdca26\"],[1.0,\"#f0f921\"]],\"type\":\"histogram2dcontour\"}],\"mesh3d\":[{\"colorbar\":{\"outlinewidth\":0,\"ticks\":\"\"},\"type\":\"mesh3d\"}],\"parcoords\":[{\"line\":{\"colorbar\":{\"outlinewidth\":0,\"ticks\":\"\"}},\"type\":\"parcoords\"}],\"pie\":[{\"automargin\":true,\"type\":\"pie\"}],\"scatter\":[{\"marker\":{\"colorbar\":{\"outlinewidth\":0,\"ticks\":\"\"}},\"type\":\"scatter\"}],\"scatter3d\":[{\"line\":{\"colorbar\":{\"outlinewidth\":0,\"ticks\":\"\"}},\"marker\":{\"colorbar\":{\"outlinewidth\":0,\"ticks\":\"\"}},\"type\":\"scatter3d\"}],\"scattercarpet\":[{\"marker\":{\"colorbar\":{\"outlinewidth\":0,\"ticks\":\"\"}},\"type\":\"scattercarpet\"}],\"scattergeo\":[{\"marker\":{\"colorbar\":{\"outlinewidth\":0,\"ticks\":\"\"}},\"type\":\"scattergeo\"}],\"scattergl\":[{\"marker\":{\"colorbar\":{\"outlinewidth\":0,\"ticks\":\"\"}},\"type\":\"scattergl\"}],\"scattermapbox\":[{\"marker\":{\"colorbar\":{\"outlinewidth\":0,\"ticks\":\"\"}},\"type\":\"scattermapbox\"}],\"scatterpolar\":[{\"marker\":{\"colorbar\":{\"outlinewidth\":0,\"ticks\":\"\"}},\"type\":\"scatterpolar\"}],\"scatterpolargl\":[{\"marker\":{\"colorbar\":{\"outlinewidth\":0,\"ticks\":\"\"}},\"type\":\"scatterpolargl\"}],\"scatterternary\":[{\"marker\":{\"colorbar\":{\"outlinewidth\":0,\"ticks\":\"\"}},\"type\":\"scatterternary\"}],\"surface\":[{\"colorbar\":{\"outlinewidth\":0,\"ticks\":\"\"},\"colorscale\":[[0.0,\"#0d0887\"],[0.1111111111111111,\"#46039f\"],[0.2222222222222222,\"#7201a8\"],[0.3333333333333333,\"#9c179e\"],[0.4444444444444444,\"#bd3786\"],[0.5555555555555556,\"#d8576b\"],[0.6666666666666666,\"#ed7953\"],[0.7777777777777778,\"#fb9f3a\"],[0.8888888888888888,\"#fdca26\"],[1.0,\"#f0f921\"]],\"type\":\"surface\"}],\"table\":[{\"cells\":{\"fill\":{\"color\":\"#EBF0F8\"},\"line\":{\"color\":\"white\"}},\"header\":{\"fill\":{\"color\":\"#C8D4E3\"},\"line\":{\"color\":\"white\"}},\"type\":\"table\"}]},\"layout\":{\"annotationdefaults\":{\"arrowcolor\":\"#2a3f5f\",\"arrowhead\":0,\"arrowwidth\":1},\"autotypenumbers\":\"strict\",\"coloraxis\":{\"colorbar\":{\"outlinewidth\":0,\"ticks\":\"\"}},\"colorscale\":{\"diverging\":[[0,\"#8e0152\"],[0.1,\"#c51b7d\"],[0.2,\"#de77ae\"],[0.3,\"#f1b6da\"],[0.4,\"#fde0ef\"],[0.5,\"#f7f7f7\"],[0.6,\"#e6f5d0\"],[0.7,\"#b8e186\"],[0.8,\"#7fbc41\"],[0.9,\"#4d9221\"],[1,\"#276419\"]],\"sequential\":[[0.0,\"#0d0887\"],[0.1111111111111111,\"#46039f\"],[0.2222222222222222,\"#7201a8\"],[0.3333333333333333,\"#9c179e\"],[0.4444444444444444,\"#bd3786\"],[0.5555555555555556,\"#d8576b\"],[0.6666666666666666,\"#ed7953\"],[0.7777777777777778,\"#fb9f3a\"],[0.8888888888888888,\"#fdca26\"],[1.0,\"#f0f921\"]],\"sequentialminus\":[[0.0,\"#0d0887\"],[0.1111111111111111,\"#46039f\"],[0.2222222222222222,\"#7201a8\"],[0.3333333333333333,\"#9c179e\"],[0.4444444444444444,\"#bd3786\"],[0.5555555555555556,\"#d8576b\"],[0.6666666666666666,\"#ed7953\"],[0.7777777777777778,\"#fb9f3a\"],[0.8888888888888888,\"#fdca26\"],[1.0,\"#f0f921\"]]},\"colorway\":[\"#636efa\",\"#EF553B\",\"#00cc96\",\"#ab63fa\",\"#FFA15A\",\"#19d3f3\",\"#FF6692\",\"#B6E880\",\"#FF97FF\",\"#FECB52\"],\"font\":{\"color\":\"#2a3f5f\"},\"geo\":{\"bgcolor\":\"white\",\"lakecolor\":\"white\",\"landcolor\":\"#E5ECF6\",\"showlakes\":true,\"showland\":true,\"subunitcolor\":\"white\"},\"hoverlabel\":{\"align\":\"left\"},\"hovermode\":\"closest\",\"mapbox\":{\"style\":\"light\"},\"paper_bgcolor\":\"white\",\"plot_bgcolor\":\"#E5ECF6\",\"polar\":{\"angularaxis\":{\"gridcolor\":\"white\",\"linecolor\":\"white\",\"ticks\":\"\"},\"bgcolor\":\"#E5ECF6\",\"radialaxis\":{\"gridcolor\":\"white\",\"linecolor\":\"white\",\"ticks\":\"\"}},\"scene\":{\"xaxis\":{\"backgroundcolor\":\"#E5ECF6\",\"gridcolor\":\"white\",\"gridwidth\":2,\"linecolor\":\"white\",\"showbackground\":true,\"ticks\":\"\",\"zerolinecolor\":\"white\"},\"yaxis\":{\"backgroundcolor\":\"#E5ECF6\",\"gridcolor\":\"white\",\"gridwidth\":2,\"linecolor\":\"white\",\"showbackground\":true,\"ticks\":\"\",\"zerolinecolor\":\"white\"},\"zaxis\":{\"backgroundcolor\":\"#E5ECF6\",\"gridcolor\":\"white\",\"gridwidth\":2,\"linecolor\":\"white\",\"showbackground\":true,\"ticks\":\"\",\"zerolinecolor\":\"white\"}},\"shapedefaults\":{\"line\":{\"color\":\"#2a3f5f\"}},\"ternary\":{\"aaxis\":{\"gridcolor\":\"white\",\"linecolor\":\"white\",\"ticks\":\"\"},\"baxis\":{\"gridcolor\":\"white\",\"linecolor\":\"white\",\"ticks\":\"\"},\"bgcolor\":\"#E5ECF6\",\"caxis\":{\"gridcolor\":\"white\",\"linecolor\":\"white\",\"ticks\":\"\"}},\"title\":{\"x\":0.05},\"xaxis\":{\"automargin\":true,\"gridcolor\":\"white\",\"linecolor\":\"white\",\"ticks\":\"\",\"title\":{\"standoff\":15},\"zerolinecolor\":\"white\",\"zerolinewidth\":2},\"yaxis\":{\"automargin\":true,\"gridcolor\":\"white\",\"linecolor\":\"white\",\"ticks\":\"\",\"title\":{\"standoff\":15},\"zerolinecolor\":\"white\",\"zerolinewidth\":2}}},\"title\":{\"font\":{\"color\":\"#4D5663\"}},\"xaxis\":{\"gridcolor\":\"#E1E5ED\",\"showgrid\":true,\"tickfont\":{\"color\":\"#4D5663\"},\"title\":{\"font\":{\"color\":\"#4D5663\"},\"text\":\"\"},\"zerolinecolor\":\"#E1E5ED\"},\"yaxis\":{\"gridcolor\":\"#E1E5ED\",\"showgrid\":true,\"tickfont\":{\"color\":\"#4D5663\"},\"title\":{\"font\":{\"color\":\"#4D5663\"},\"text\":\"\"},\"zerolinecolor\":\"#E1E5ED\"}},                        {\"showLink\": true, \"linkText\": \"Export to plot.ly\", \"plotlyServerURL\": \"https://plot.ly\", \"responsive\": true}                    ).then(function(){\n",
       "                            \n",
       "var gd = document.getElementById('55eae19c-9749-497e-a7e0-57052edd40f3');\n",
       "var x = new MutationObserver(function (mutations, observer) {{\n",
       "        var display = window.getComputedStyle(gd).display;\n",
       "        if (!display || display === 'none') {{\n",
       "            console.log([gd, 'removed!']);\n",
       "            Plotly.purge(gd);\n",
       "            observer.disconnect();\n",
       "        }}\n",
       "}});\n",
       "\n",
       "// Listen for the removal of the full notebook cells\n",
       "var notebookContainer = gd.closest('#notebook-container');\n",
       "if (notebookContainer) {{\n",
       "    x.observe(notebookContainer, {childList: true});\n",
       "}}\n",
       "\n",
       "// Listen for the clearing of the current output cell\n",
       "var outputEl = gd.closest('.output');\n",
       "if (outputEl) {{\n",
       "    x.observe(outputEl, {childList: true});\n",
       "}}\n",
       "\n",
       "                        })                };                });            </script>        </div>"
      ]
     },
     "metadata": {},
     "output_type": "display_data"
    }
   ],
   "source": [
    "df.iplot(kind='box')"
   ]
  },
  {
   "cell_type": "code",
   "execution_count": 28,
   "id": "0223f7f0",
   "metadata": {},
   "outputs": [
    {
     "data": {
      "application/vnd.plotly.v1+json": {
       "config": {
        "linkText": "Export to plot.ly",
        "plotlyServerURL": "https://plot.ly",
        "showLink": true
       },
       "data": [
        {
         "boxpoints": false,
         "line": {
          "width": 1.3
         },
         "marker": {
          "color": "rgba(255, 153, 51, 1.0)"
         },
         "name": "A",
         "orientation": "v",
         "type": "box",
         "y": [
          0.20858928925374165,
          -0.4342659365804992,
          0.15224425972204558,
          -1.4076364859048878,
          -1.8787133030357686,
          1.1141016130474,
          -0.014856903124838405,
          2.2980934492830407,
          -0.04537892657460305,
          0.37251593394002713,
          1.3160112807008706,
          -0.17426433245318806,
          -1.0676051347476219,
          0.35048603503154846,
          1.3995954370148027,
          0.31417325524307427,
          -0.03901252898133603,
          -0.7815522712797063,
          -1.4657470354223352,
          -0.10963875683423577,
          0.3414618118686473,
          1.8556025363714947,
          0.3857059012861465,
          0.9980034374445319,
          1.2369036414452386,
          -2.2112045923282877,
          -0.8039465980537963,
          1.2501257231512457,
          0.28072647683673607,
          0.8479650419673018,
          0.821856776990302,
          0.33703944666886576,
          0.2994135796999949,
          -1.0020739050520817,
          1.0492375923262964,
          1.4499683923774385,
          0.6771778865444542,
          -1.174173436607878,
          0.9380903401986462,
          0.7830429803693706,
          1.5612080447999004,
          -0.689867946889579,
          -0.012595428200974368,
          -0.07720029034540583,
          1.4459983734283515,
          -0.9818107095001324,
          1.192692753425027,
          -0.0427350127227039,
          -0.770256799555548,
          -2.325516663796394,
          -0.6431928762709359,
          0.3153997366164689,
          0.3874379394644579,
          1.039847925443799,
          -0.9392276561472361,
          0.030043034312859172,
          1.1374541985603328,
          -0.6299169960910088,
          -0.9632572236552438,
          0.46429902371477966,
          -0.21188270820025484,
          -1.071565489388745,
          -0.18972067388602754,
          -1.2528521719399608,
          0.15881994888242676,
          -0.0378086230861681,
          1.1167572500107146,
          0.0006074965995330983,
          -0.15191943738908428,
          1.55982623930444,
          0.6060812113709677,
          0.07197403153804605,
          -0.1892256296041631,
          0.3744916234702504,
          0.5371723431024327,
          0.3056813222755168,
          3.2724431765187476,
          0.5606360026261016,
          0.0797615201136642,
          2.1426154923643996,
          0.595063512231104,
          -2.0077243015777624,
          -1.3920962454797994,
          -1.496551961908376,
          0.7760365739615019,
          0.8822518019486779,
          1.0019935837931249,
          -0.6634189590571933,
          0.07849718855217555,
          0.059596466005808625,
          1.075688755634055,
          1.9898092690768672,
          0.05738664500122117,
          -1.1337520231610325,
          -0.25843487309297164,
          0.4268716302195559,
          -2.323477988994405,
          1.8390982353041838,
          1.2639675884889168,
          1.654235242842938
         ]
        }
       ],
       "layout": {
        "legend": {
         "bgcolor": "#F5F6F9",
         "font": {
          "color": "#4D5663"
         }
        },
        "paper_bgcolor": "#F5F6F9",
        "plot_bgcolor": "#F5F6F9",
        "template": {
         "data": {
          "bar": [
           {
            "error_x": {
             "color": "#2a3f5f"
            },
            "error_y": {
             "color": "#2a3f5f"
            },
            "marker": {
             "line": {
              "color": "#E5ECF6",
              "width": 0.5
             },
             "pattern": {
              "fillmode": "overlay",
              "size": 10,
              "solidity": 0.2
             }
            },
            "type": "bar"
           }
          ],
          "barpolar": [
           {
            "marker": {
             "line": {
              "color": "#E5ECF6",
              "width": 0.5
             },
             "pattern": {
              "fillmode": "overlay",
              "size": 10,
              "solidity": 0.2
             }
            },
            "type": "barpolar"
           }
          ],
          "carpet": [
           {
            "aaxis": {
             "endlinecolor": "#2a3f5f",
             "gridcolor": "white",
             "linecolor": "white",
             "minorgridcolor": "white",
             "startlinecolor": "#2a3f5f"
            },
            "baxis": {
             "endlinecolor": "#2a3f5f",
             "gridcolor": "white",
             "linecolor": "white",
             "minorgridcolor": "white",
             "startlinecolor": "#2a3f5f"
            },
            "type": "carpet"
           }
          ],
          "choropleth": [
           {
            "colorbar": {
             "outlinewidth": 0,
             "ticks": ""
            },
            "type": "choropleth"
           }
          ],
          "contour": [
           {
            "colorbar": {
             "outlinewidth": 0,
             "ticks": ""
            },
            "colorscale": [
             [
              0,
              "#0d0887"
             ],
             [
              0.1111111111111111,
              "#46039f"
             ],
             [
              0.2222222222222222,
              "#7201a8"
             ],
             [
              0.3333333333333333,
              "#9c179e"
             ],
             [
              0.4444444444444444,
              "#bd3786"
             ],
             [
              0.5555555555555556,
              "#d8576b"
             ],
             [
              0.6666666666666666,
              "#ed7953"
             ],
             [
              0.7777777777777778,
              "#fb9f3a"
             ],
             [
              0.8888888888888888,
              "#fdca26"
             ],
             [
              1,
              "#f0f921"
             ]
            ],
            "type": "contour"
           }
          ],
          "contourcarpet": [
           {
            "colorbar": {
             "outlinewidth": 0,
             "ticks": ""
            },
            "type": "contourcarpet"
           }
          ],
          "heatmap": [
           {
            "colorbar": {
             "outlinewidth": 0,
             "ticks": ""
            },
            "colorscale": [
             [
              0,
              "#0d0887"
             ],
             [
              0.1111111111111111,
              "#46039f"
             ],
             [
              0.2222222222222222,
              "#7201a8"
             ],
             [
              0.3333333333333333,
              "#9c179e"
             ],
             [
              0.4444444444444444,
              "#bd3786"
             ],
             [
              0.5555555555555556,
              "#d8576b"
             ],
             [
              0.6666666666666666,
              "#ed7953"
             ],
             [
              0.7777777777777778,
              "#fb9f3a"
             ],
             [
              0.8888888888888888,
              "#fdca26"
             ],
             [
              1,
              "#f0f921"
             ]
            ],
            "type": "heatmap"
           }
          ],
          "heatmapgl": [
           {
            "colorbar": {
             "outlinewidth": 0,
             "ticks": ""
            },
            "colorscale": [
             [
              0,
              "#0d0887"
             ],
             [
              0.1111111111111111,
              "#46039f"
             ],
             [
              0.2222222222222222,
              "#7201a8"
             ],
             [
              0.3333333333333333,
              "#9c179e"
             ],
             [
              0.4444444444444444,
              "#bd3786"
             ],
             [
              0.5555555555555556,
              "#d8576b"
             ],
             [
              0.6666666666666666,
              "#ed7953"
             ],
             [
              0.7777777777777778,
              "#fb9f3a"
             ],
             [
              0.8888888888888888,
              "#fdca26"
             ],
             [
              1,
              "#f0f921"
             ]
            ],
            "type": "heatmapgl"
           }
          ],
          "histogram": [
           {
            "marker": {
             "pattern": {
              "fillmode": "overlay",
              "size": 10,
              "solidity": 0.2
             }
            },
            "type": "histogram"
           }
          ],
          "histogram2d": [
           {
            "colorbar": {
             "outlinewidth": 0,
             "ticks": ""
            },
            "colorscale": [
             [
              0,
              "#0d0887"
             ],
             [
              0.1111111111111111,
              "#46039f"
             ],
             [
              0.2222222222222222,
              "#7201a8"
             ],
             [
              0.3333333333333333,
              "#9c179e"
             ],
             [
              0.4444444444444444,
              "#bd3786"
             ],
             [
              0.5555555555555556,
              "#d8576b"
             ],
             [
              0.6666666666666666,
              "#ed7953"
             ],
             [
              0.7777777777777778,
              "#fb9f3a"
             ],
             [
              0.8888888888888888,
              "#fdca26"
             ],
             [
              1,
              "#f0f921"
             ]
            ],
            "type": "histogram2d"
           }
          ],
          "histogram2dcontour": [
           {
            "colorbar": {
             "outlinewidth": 0,
             "ticks": ""
            },
            "colorscale": [
             [
              0,
              "#0d0887"
             ],
             [
              0.1111111111111111,
              "#46039f"
             ],
             [
              0.2222222222222222,
              "#7201a8"
             ],
             [
              0.3333333333333333,
              "#9c179e"
             ],
             [
              0.4444444444444444,
              "#bd3786"
             ],
             [
              0.5555555555555556,
              "#d8576b"
             ],
             [
              0.6666666666666666,
              "#ed7953"
             ],
             [
              0.7777777777777778,
              "#fb9f3a"
             ],
             [
              0.8888888888888888,
              "#fdca26"
             ],
             [
              1,
              "#f0f921"
             ]
            ],
            "type": "histogram2dcontour"
           }
          ],
          "mesh3d": [
           {
            "colorbar": {
             "outlinewidth": 0,
             "ticks": ""
            },
            "type": "mesh3d"
           }
          ],
          "parcoords": [
           {
            "line": {
             "colorbar": {
              "outlinewidth": 0,
              "ticks": ""
             }
            },
            "type": "parcoords"
           }
          ],
          "pie": [
           {
            "automargin": true,
            "type": "pie"
           }
          ],
          "scatter": [
           {
            "marker": {
             "colorbar": {
              "outlinewidth": 0,
              "ticks": ""
             }
            },
            "type": "scatter"
           }
          ],
          "scatter3d": [
           {
            "line": {
             "colorbar": {
              "outlinewidth": 0,
              "ticks": ""
             }
            },
            "marker": {
             "colorbar": {
              "outlinewidth": 0,
              "ticks": ""
             }
            },
            "type": "scatter3d"
           }
          ],
          "scattercarpet": [
           {
            "marker": {
             "colorbar": {
              "outlinewidth": 0,
              "ticks": ""
             }
            },
            "type": "scattercarpet"
           }
          ],
          "scattergeo": [
           {
            "marker": {
             "colorbar": {
              "outlinewidth": 0,
              "ticks": ""
             }
            },
            "type": "scattergeo"
           }
          ],
          "scattergl": [
           {
            "marker": {
             "colorbar": {
              "outlinewidth": 0,
              "ticks": ""
             }
            },
            "type": "scattergl"
           }
          ],
          "scattermapbox": [
           {
            "marker": {
             "colorbar": {
              "outlinewidth": 0,
              "ticks": ""
             }
            },
            "type": "scattermapbox"
           }
          ],
          "scatterpolar": [
           {
            "marker": {
             "colorbar": {
              "outlinewidth": 0,
              "ticks": ""
             }
            },
            "type": "scatterpolar"
           }
          ],
          "scatterpolargl": [
           {
            "marker": {
             "colorbar": {
              "outlinewidth": 0,
              "ticks": ""
             }
            },
            "type": "scatterpolargl"
           }
          ],
          "scatterternary": [
           {
            "marker": {
             "colorbar": {
              "outlinewidth": 0,
              "ticks": ""
             }
            },
            "type": "scatterternary"
           }
          ],
          "surface": [
           {
            "colorbar": {
             "outlinewidth": 0,
             "ticks": ""
            },
            "colorscale": [
             [
              0,
              "#0d0887"
             ],
             [
              0.1111111111111111,
              "#46039f"
             ],
             [
              0.2222222222222222,
              "#7201a8"
             ],
             [
              0.3333333333333333,
              "#9c179e"
             ],
             [
              0.4444444444444444,
              "#bd3786"
             ],
             [
              0.5555555555555556,
              "#d8576b"
             ],
             [
              0.6666666666666666,
              "#ed7953"
             ],
             [
              0.7777777777777778,
              "#fb9f3a"
             ],
             [
              0.8888888888888888,
              "#fdca26"
             ],
             [
              1,
              "#f0f921"
             ]
            ],
            "type": "surface"
           }
          ],
          "table": [
           {
            "cells": {
             "fill": {
              "color": "#EBF0F8"
             },
             "line": {
              "color": "white"
             }
            },
            "header": {
             "fill": {
              "color": "#C8D4E3"
             },
             "line": {
              "color": "white"
             }
            },
            "type": "table"
           }
          ]
         },
         "layout": {
          "annotationdefaults": {
           "arrowcolor": "#2a3f5f",
           "arrowhead": 0,
           "arrowwidth": 1
          },
          "autotypenumbers": "strict",
          "coloraxis": {
           "colorbar": {
            "outlinewidth": 0,
            "ticks": ""
           }
          },
          "colorscale": {
           "diverging": [
            [
             0,
             "#8e0152"
            ],
            [
             0.1,
             "#c51b7d"
            ],
            [
             0.2,
             "#de77ae"
            ],
            [
             0.3,
             "#f1b6da"
            ],
            [
             0.4,
             "#fde0ef"
            ],
            [
             0.5,
             "#f7f7f7"
            ],
            [
             0.6,
             "#e6f5d0"
            ],
            [
             0.7,
             "#b8e186"
            ],
            [
             0.8,
             "#7fbc41"
            ],
            [
             0.9,
             "#4d9221"
            ],
            [
             1,
             "#276419"
            ]
           ],
           "sequential": [
            [
             0,
             "#0d0887"
            ],
            [
             0.1111111111111111,
             "#46039f"
            ],
            [
             0.2222222222222222,
             "#7201a8"
            ],
            [
             0.3333333333333333,
             "#9c179e"
            ],
            [
             0.4444444444444444,
             "#bd3786"
            ],
            [
             0.5555555555555556,
             "#d8576b"
            ],
            [
             0.6666666666666666,
             "#ed7953"
            ],
            [
             0.7777777777777778,
             "#fb9f3a"
            ],
            [
             0.8888888888888888,
             "#fdca26"
            ],
            [
             1,
             "#f0f921"
            ]
           ],
           "sequentialminus": [
            [
             0,
             "#0d0887"
            ],
            [
             0.1111111111111111,
             "#46039f"
            ],
            [
             0.2222222222222222,
             "#7201a8"
            ],
            [
             0.3333333333333333,
             "#9c179e"
            ],
            [
             0.4444444444444444,
             "#bd3786"
            ],
            [
             0.5555555555555556,
             "#d8576b"
            ],
            [
             0.6666666666666666,
             "#ed7953"
            ],
            [
             0.7777777777777778,
             "#fb9f3a"
            ],
            [
             0.8888888888888888,
             "#fdca26"
            ],
            [
             1,
             "#f0f921"
            ]
           ]
          },
          "colorway": [
           "#636efa",
           "#EF553B",
           "#00cc96",
           "#ab63fa",
           "#FFA15A",
           "#19d3f3",
           "#FF6692",
           "#B6E880",
           "#FF97FF",
           "#FECB52"
          ],
          "font": {
           "color": "#2a3f5f"
          },
          "geo": {
           "bgcolor": "white",
           "lakecolor": "white",
           "landcolor": "#E5ECF6",
           "showlakes": true,
           "showland": true,
           "subunitcolor": "white"
          },
          "hoverlabel": {
           "align": "left"
          },
          "hovermode": "closest",
          "mapbox": {
           "style": "light"
          },
          "paper_bgcolor": "white",
          "plot_bgcolor": "#E5ECF6",
          "polar": {
           "angularaxis": {
            "gridcolor": "white",
            "linecolor": "white",
            "ticks": ""
           },
           "bgcolor": "#E5ECF6",
           "radialaxis": {
            "gridcolor": "white",
            "linecolor": "white",
            "ticks": ""
           }
          },
          "scene": {
           "xaxis": {
            "backgroundcolor": "#E5ECF6",
            "gridcolor": "white",
            "gridwidth": 2,
            "linecolor": "white",
            "showbackground": true,
            "ticks": "",
            "zerolinecolor": "white"
           },
           "yaxis": {
            "backgroundcolor": "#E5ECF6",
            "gridcolor": "white",
            "gridwidth": 2,
            "linecolor": "white",
            "showbackground": true,
            "ticks": "",
            "zerolinecolor": "white"
           },
           "zaxis": {
            "backgroundcolor": "#E5ECF6",
            "gridcolor": "white",
            "gridwidth": 2,
            "linecolor": "white",
            "showbackground": true,
            "ticks": "",
            "zerolinecolor": "white"
           }
          },
          "shapedefaults": {
           "line": {
            "color": "#2a3f5f"
           }
          },
          "ternary": {
           "aaxis": {
            "gridcolor": "white",
            "linecolor": "white",
            "ticks": ""
           },
           "baxis": {
            "gridcolor": "white",
            "linecolor": "white",
            "ticks": ""
           },
           "bgcolor": "#E5ECF6",
           "caxis": {
            "gridcolor": "white",
            "linecolor": "white",
            "ticks": ""
           }
          },
          "title": {
           "x": 0.05
          },
          "xaxis": {
           "automargin": true,
           "gridcolor": "white",
           "linecolor": "white",
           "ticks": "",
           "title": {
            "standoff": 15
           },
           "zerolinecolor": "white",
           "zerolinewidth": 2
          },
          "yaxis": {
           "automargin": true,
           "gridcolor": "white",
           "linecolor": "white",
           "ticks": "",
           "title": {
            "standoff": 15
           },
           "zerolinecolor": "white",
           "zerolinewidth": 2
          }
         }
        },
        "title": {
         "font": {
          "color": "#4D5663"
         }
        },
        "xaxis": {
         "gridcolor": "#E1E5ED",
         "showgrid": true,
         "tickfont": {
          "color": "#4D5663"
         },
         "title": {
          "font": {
           "color": "#4D5663"
          },
          "text": ""
         },
         "zerolinecolor": "#E1E5ED"
        },
        "yaxis": {
         "gridcolor": "#E1E5ED",
         "showgrid": true,
         "tickfont": {
          "color": "#4D5663"
         },
         "title": {
          "font": {
           "color": "#4D5663"
          },
          "text": ""
         },
         "zerolinecolor": "#E1E5ED"
        }
       }
      },
      "text/html": [
       "<div>                            <div id=\"94928055-45c6-48c0-b70b-01ceef3099af\" class=\"plotly-graph-div\" style=\"height:525px; width:100%;\"></div>            <script type=\"text/javascript\">                require([\"plotly\"], function(Plotly) {                    window.PLOTLYENV=window.PLOTLYENV || {};\n",
       "                    window.PLOTLYENV.BASE_URL='https://plot.ly';                                    if (document.getElementById(\"94928055-45c6-48c0-b70b-01ceef3099af\")) {                    Plotly.newPlot(                        \"94928055-45c6-48c0-b70b-01ceef3099af\",                        [{\"boxpoints\":false,\"line\":{\"width\":1.3},\"marker\":{\"color\":\"rgba(255, 153, 51, 1.0)\"},\"name\":\"A\",\"orientation\":\"v\",\"type\":\"box\",\"y\":[0.20858928925374165,-0.4342659365804992,0.15224425972204558,-1.4076364859048878,-1.8787133030357686,1.1141016130474,-0.014856903124838405,2.2980934492830407,-0.04537892657460305,0.37251593394002713,1.3160112807008706,-0.17426433245318806,-1.0676051347476219,0.35048603503154846,1.3995954370148027,0.31417325524307427,-0.03901252898133603,-0.7815522712797063,-1.4657470354223352,-0.10963875683423577,0.3414618118686473,1.8556025363714947,0.3857059012861465,0.9980034374445319,1.2369036414452386,-2.2112045923282877,-0.8039465980537963,1.2501257231512457,0.28072647683673607,0.8479650419673018,0.821856776990302,0.33703944666886576,0.2994135796999949,-1.0020739050520817,1.0492375923262964,1.4499683923774385,0.6771778865444542,-1.174173436607878,0.9380903401986462,0.7830429803693706,1.5612080447999004,-0.689867946889579,-0.012595428200974368,-0.07720029034540583,1.4459983734283515,-0.9818107095001324,1.192692753425027,-0.0427350127227039,-0.770256799555548,-2.325516663796394,-0.6431928762709359,0.3153997366164689,0.3874379394644579,1.039847925443799,-0.9392276561472361,0.030043034312859172,1.1374541985603328,-0.6299169960910088,-0.9632572236552438,0.46429902371477966,-0.21188270820025484,-1.071565489388745,-0.18972067388602754,-1.2528521719399608,0.15881994888242676,-0.0378086230861681,1.1167572500107146,0.0006074965995330983,-0.15191943738908428,1.55982623930444,0.6060812113709677,0.07197403153804605,-0.1892256296041631,0.3744916234702504,0.5371723431024327,0.3056813222755168,3.2724431765187476,0.5606360026261016,0.0797615201136642,2.1426154923643996,0.595063512231104,-2.0077243015777624,-1.3920962454797994,-1.496551961908376,0.7760365739615019,0.8822518019486779,1.0019935837931249,-0.6634189590571933,0.07849718855217555,0.059596466005808625,1.075688755634055,1.9898092690768672,0.05738664500122117,-1.1337520231610325,-0.25843487309297164,0.4268716302195559,-2.323477988994405,1.8390982353041838,1.2639675884889168,1.654235242842938]}],                        {\"legend\":{\"bgcolor\":\"#F5F6F9\",\"font\":{\"color\":\"#4D5663\"}},\"paper_bgcolor\":\"#F5F6F9\",\"plot_bgcolor\":\"#F5F6F9\",\"template\":{\"data\":{\"bar\":[{\"error_x\":{\"color\":\"#2a3f5f\"},\"error_y\":{\"color\":\"#2a3f5f\"},\"marker\":{\"line\":{\"color\":\"#E5ECF6\",\"width\":0.5},\"pattern\":{\"fillmode\":\"overlay\",\"size\":10,\"solidity\":0.2}},\"type\":\"bar\"}],\"barpolar\":[{\"marker\":{\"line\":{\"color\":\"#E5ECF6\",\"width\":0.5},\"pattern\":{\"fillmode\":\"overlay\",\"size\":10,\"solidity\":0.2}},\"type\":\"barpolar\"}],\"carpet\":[{\"aaxis\":{\"endlinecolor\":\"#2a3f5f\",\"gridcolor\":\"white\",\"linecolor\":\"white\",\"minorgridcolor\":\"white\",\"startlinecolor\":\"#2a3f5f\"},\"baxis\":{\"endlinecolor\":\"#2a3f5f\",\"gridcolor\":\"white\",\"linecolor\":\"white\",\"minorgridcolor\":\"white\",\"startlinecolor\":\"#2a3f5f\"},\"type\":\"carpet\"}],\"choropleth\":[{\"colorbar\":{\"outlinewidth\":0,\"ticks\":\"\"},\"type\":\"choropleth\"}],\"contour\":[{\"colorbar\":{\"outlinewidth\":0,\"ticks\":\"\"},\"colorscale\":[[0.0,\"#0d0887\"],[0.1111111111111111,\"#46039f\"],[0.2222222222222222,\"#7201a8\"],[0.3333333333333333,\"#9c179e\"],[0.4444444444444444,\"#bd3786\"],[0.5555555555555556,\"#d8576b\"],[0.6666666666666666,\"#ed7953\"],[0.7777777777777778,\"#fb9f3a\"],[0.8888888888888888,\"#fdca26\"],[1.0,\"#f0f921\"]],\"type\":\"contour\"}],\"contourcarpet\":[{\"colorbar\":{\"outlinewidth\":0,\"ticks\":\"\"},\"type\":\"contourcarpet\"}],\"heatmap\":[{\"colorbar\":{\"outlinewidth\":0,\"ticks\":\"\"},\"colorscale\":[[0.0,\"#0d0887\"],[0.1111111111111111,\"#46039f\"],[0.2222222222222222,\"#7201a8\"],[0.3333333333333333,\"#9c179e\"],[0.4444444444444444,\"#bd3786\"],[0.5555555555555556,\"#d8576b\"],[0.6666666666666666,\"#ed7953\"],[0.7777777777777778,\"#fb9f3a\"],[0.8888888888888888,\"#fdca26\"],[1.0,\"#f0f921\"]],\"type\":\"heatmap\"}],\"heatmapgl\":[{\"colorbar\":{\"outlinewidth\":0,\"ticks\":\"\"},\"colorscale\":[[0.0,\"#0d0887\"],[0.1111111111111111,\"#46039f\"],[0.2222222222222222,\"#7201a8\"],[0.3333333333333333,\"#9c179e\"],[0.4444444444444444,\"#bd3786\"],[0.5555555555555556,\"#d8576b\"],[0.6666666666666666,\"#ed7953\"],[0.7777777777777778,\"#fb9f3a\"],[0.8888888888888888,\"#fdca26\"],[1.0,\"#f0f921\"]],\"type\":\"heatmapgl\"}],\"histogram\":[{\"marker\":{\"pattern\":{\"fillmode\":\"overlay\",\"size\":10,\"solidity\":0.2}},\"type\":\"histogram\"}],\"histogram2d\":[{\"colorbar\":{\"outlinewidth\":0,\"ticks\":\"\"},\"colorscale\":[[0.0,\"#0d0887\"],[0.1111111111111111,\"#46039f\"],[0.2222222222222222,\"#7201a8\"],[0.3333333333333333,\"#9c179e\"],[0.4444444444444444,\"#bd3786\"],[0.5555555555555556,\"#d8576b\"],[0.6666666666666666,\"#ed7953\"],[0.7777777777777778,\"#fb9f3a\"],[0.8888888888888888,\"#fdca26\"],[1.0,\"#f0f921\"]],\"type\":\"histogram2d\"}],\"histogram2dcontour\":[{\"colorbar\":{\"outlinewidth\":0,\"ticks\":\"\"},\"colorscale\":[[0.0,\"#0d0887\"],[0.1111111111111111,\"#46039f\"],[0.2222222222222222,\"#7201a8\"],[0.3333333333333333,\"#9c179e\"],[0.4444444444444444,\"#bd3786\"],[0.5555555555555556,\"#d8576b\"],[0.6666666666666666,\"#ed7953\"],[0.7777777777777778,\"#fb9f3a\"],[0.8888888888888888,\"#fdca26\"],[1.0,\"#f0f921\"]],\"type\":\"histogram2dcontour\"}],\"mesh3d\":[{\"colorbar\":{\"outlinewidth\":0,\"ticks\":\"\"},\"type\":\"mesh3d\"}],\"parcoords\":[{\"line\":{\"colorbar\":{\"outlinewidth\":0,\"ticks\":\"\"}},\"type\":\"parcoords\"}],\"pie\":[{\"automargin\":true,\"type\":\"pie\"}],\"scatter\":[{\"marker\":{\"colorbar\":{\"outlinewidth\":0,\"ticks\":\"\"}},\"type\":\"scatter\"}],\"scatter3d\":[{\"line\":{\"colorbar\":{\"outlinewidth\":0,\"ticks\":\"\"}},\"marker\":{\"colorbar\":{\"outlinewidth\":0,\"ticks\":\"\"}},\"type\":\"scatter3d\"}],\"scattercarpet\":[{\"marker\":{\"colorbar\":{\"outlinewidth\":0,\"ticks\":\"\"}},\"type\":\"scattercarpet\"}],\"scattergeo\":[{\"marker\":{\"colorbar\":{\"outlinewidth\":0,\"ticks\":\"\"}},\"type\":\"scattergeo\"}],\"scattergl\":[{\"marker\":{\"colorbar\":{\"outlinewidth\":0,\"ticks\":\"\"}},\"type\":\"scattergl\"}],\"scattermapbox\":[{\"marker\":{\"colorbar\":{\"outlinewidth\":0,\"ticks\":\"\"}},\"type\":\"scattermapbox\"}],\"scatterpolar\":[{\"marker\":{\"colorbar\":{\"outlinewidth\":0,\"ticks\":\"\"}},\"type\":\"scatterpolar\"}],\"scatterpolargl\":[{\"marker\":{\"colorbar\":{\"outlinewidth\":0,\"ticks\":\"\"}},\"type\":\"scatterpolargl\"}],\"scatterternary\":[{\"marker\":{\"colorbar\":{\"outlinewidth\":0,\"ticks\":\"\"}},\"type\":\"scatterternary\"}],\"surface\":[{\"colorbar\":{\"outlinewidth\":0,\"ticks\":\"\"},\"colorscale\":[[0.0,\"#0d0887\"],[0.1111111111111111,\"#46039f\"],[0.2222222222222222,\"#7201a8\"],[0.3333333333333333,\"#9c179e\"],[0.4444444444444444,\"#bd3786\"],[0.5555555555555556,\"#d8576b\"],[0.6666666666666666,\"#ed7953\"],[0.7777777777777778,\"#fb9f3a\"],[0.8888888888888888,\"#fdca26\"],[1.0,\"#f0f921\"]],\"type\":\"surface\"}],\"table\":[{\"cells\":{\"fill\":{\"color\":\"#EBF0F8\"},\"line\":{\"color\":\"white\"}},\"header\":{\"fill\":{\"color\":\"#C8D4E3\"},\"line\":{\"color\":\"white\"}},\"type\":\"table\"}]},\"layout\":{\"annotationdefaults\":{\"arrowcolor\":\"#2a3f5f\",\"arrowhead\":0,\"arrowwidth\":1},\"autotypenumbers\":\"strict\",\"coloraxis\":{\"colorbar\":{\"outlinewidth\":0,\"ticks\":\"\"}},\"colorscale\":{\"diverging\":[[0,\"#8e0152\"],[0.1,\"#c51b7d\"],[0.2,\"#de77ae\"],[0.3,\"#f1b6da\"],[0.4,\"#fde0ef\"],[0.5,\"#f7f7f7\"],[0.6,\"#e6f5d0\"],[0.7,\"#b8e186\"],[0.8,\"#7fbc41\"],[0.9,\"#4d9221\"],[1,\"#276419\"]],\"sequential\":[[0.0,\"#0d0887\"],[0.1111111111111111,\"#46039f\"],[0.2222222222222222,\"#7201a8\"],[0.3333333333333333,\"#9c179e\"],[0.4444444444444444,\"#bd3786\"],[0.5555555555555556,\"#d8576b\"],[0.6666666666666666,\"#ed7953\"],[0.7777777777777778,\"#fb9f3a\"],[0.8888888888888888,\"#fdca26\"],[1.0,\"#f0f921\"]],\"sequentialminus\":[[0.0,\"#0d0887\"],[0.1111111111111111,\"#46039f\"],[0.2222222222222222,\"#7201a8\"],[0.3333333333333333,\"#9c179e\"],[0.4444444444444444,\"#bd3786\"],[0.5555555555555556,\"#d8576b\"],[0.6666666666666666,\"#ed7953\"],[0.7777777777777778,\"#fb9f3a\"],[0.8888888888888888,\"#fdca26\"],[1.0,\"#f0f921\"]]},\"colorway\":[\"#636efa\",\"#EF553B\",\"#00cc96\",\"#ab63fa\",\"#FFA15A\",\"#19d3f3\",\"#FF6692\",\"#B6E880\",\"#FF97FF\",\"#FECB52\"],\"font\":{\"color\":\"#2a3f5f\"},\"geo\":{\"bgcolor\":\"white\",\"lakecolor\":\"white\",\"landcolor\":\"#E5ECF6\",\"showlakes\":true,\"showland\":true,\"subunitcolor\":\"white\"},\"hoverlabel\":{\"align\":\"left\"},\"hovermode\":\"closest\",\"mapbox\":{\"style\":\"light\"},\"paper_bgcolor\":\"white\",\"plot_bgcolor\":\"#E5ECF6\",\"polar\":{\"angularaxis\":{\"gridcolor\":\"white\",\"linecolor\":\"white\",\"ticks\":\"\"},\"bgcolor\":\"#E5ECF6\",\"radialaxis\":{\"gridcolor\":\"white\",\"linecolor\":\"white\",\"ticks\":\"\"}},\"scene\":{\"xaxis\":{\"backgroundcolor\":\"#E5ECF6\",\"gridcolor\":\"white\",\"gridwidth\":2,\"linecolor\":\"white\",\"showbackground\":true,\"ticks\":\"\",\"zerolinecolor\":\"white\"},\"yaxis\":{\"backgroundcolor\":\"#E5ECF6\",\"gridcolor\":\"white\",\"gridwidth\":2,\"linecolor\":\"white\",\"showbackground\":true,\"ticks\":\"\",\"zerolinecolor\":\"white\"},\"zaxis\":{\"backgroundcolor\":\"#E5ECF6\",\"gridcolor\":\"white\",\"gridwidth\":2,\"linecolor\":\"white\",\"showbackground\":true,\"ticks\":\"\",\"zerolinecolor\":\"white\"}},\"shapedefaults\":{\"line\":{\"color\":\"#2a3f5f\"}},\"ternary\":{\"aaxis\":{\"gridcolor\":\"white\",\"linecolor\":\"white\",\"ticks\":\"\"},\"baxis\":{\"gridcolor\":\"white\",\"linecolor\":\"white\",\"ticks\":\"\"},\"bgcolor\":\"#E5ECF6\",\"caxis\":{\"gridcolor\":\"white\",\"linecolor\":\"white\",\"ticks\":\"\"}},\"title\":{\"x\":0.05},\"xaxis\":{\"automargin\":true,\"gridcolor\":\"white\",\"linecolor\":\"white\",\"ticks\":\"\",\"title\":{\"standoff\":15},\"zerolinecolor\":\"white\",\"zerolinewidth\":2},\"yaxis\":{\"automargin\":true,\"gridcolor\":\"white\",\"linecolor\":\"white\",\"ticks\":\"\",\"title\":{\"standoff\":15},\"zerolinecolor\":\"white\",\"zerolinewidth\":2}}},\"title\":{\"font\":{\"color\":\"#4D5663\"}},\"xaxis\":{\"gridcolor\":\"#E1E5ED\",\"showgrid\":true,\"tickfont\":{\"color\":\"#4D5663\"},\"title\":{\"font\":{\"color\":\"#4D5663\"},\"text\":\"\"},\"zerolinecolor\":\"#E1E5ED\"},\"yaxis\":{\"gridcolor\":\"#E1E5ED\",\"showgrid\":true,\"tickfont\":{\"color\":\"#4D5663\"},\"title\":{\"font\":{\"color\":\"#4D5663\"},\"text\":\"\"},\"zerolinecolor\":\"#E1E5ED\"}},                        {\"showLink\": true, \"linkText\": \"Export to plot.ly\", \"plotlyServerURL\": \"https://plot.ly\", \"responsive\": true}                    ).then(function(){\n",
       "                            \n",
       "var gd = document.getElementById('94928055-45c6-48c0-b70b-01ceef3099af');\n",
       "var x = new MutationObserver(function (mutations, observer) {{\n",
       "        var display = window.getComputedStyle(gd).display;\n",
       "        if (!display || display === 'none') {{\n",
       "            console.log([gd, 'removed!']);\n",
       "            Plotly.purge(gd);\n",
       "            observer.disconnect();\n",
       "        }}\n",
       "}});\n",
       "\n",
       "// Listen for the removal of the full notebook cells\n",
       "var notebookContainer = gd.closest('#notebook-container');\n",
       "if (notebookContainer) {{\n",
       "    x.observe(notebookContainer, {childList: true});\n",
       "}}\n",
       "\n",
       "// Listen for the clearing of the current output cell\n",
       "var outputEl = gd.closest('.output');\n",
       "if (outputEl) {{\n",
       "    x.observe(outputEl, {childList: true});\n",
       "}}\n",
       "\n",
       "                        })                };                });            </script>        </div>"
      ]
     },
     "metadata": {},
     "output_type": "display_data"
    }
   ],
   "source": [
    "df['A'].iplot(kind='box')"
   ]
  },
  {
   "cell_type": "code",
   "execution_count": 29,
   "id": "45777c12",
   "metadata": {},
   "outputs": [
    {
     "data": {
      "text/html": [
       "<div>\n",
       "<style scoped>\n",
       "    .dataframe tbody tr th:only-of-type {\n",
       "        vertical-align: middle;\n",
       "    }\n",
       "\n",
       "    .dataframe tbody tr th {\n",
       "        vertical-align: top;\n",
       "    }\n",
       "\n",
       "    .dataframe thead th {\n",
       "        text-align: right;\n",
       "    }\n",
       "</style>\n",
       "<table border=\"1\" class=\"dataframe\">\n",
       "  <thead>\n",
       "    <tr style=\"text-align: right;\">\n",
       "      <th></th>\n",
       "      <th>x</th>\n",
       "      <th>y</th>\n",
       "      <th>z</th>\n",
       "    </tr>\n",
       "  </thead>\n",
       "  <tbody>\n",
       "    <tr>\n",
       "      <th>0</th>\n",
       "      <td>10</td>\n",
       "      <td>1</td>\n",
       "      <td>500</td>\n",
       "    </tr>\n",
       "    <tr>\n",
       "      <th>1</th>\n",
       "      <td>20</td>\n",
       "      <td>2</td>\n",
       "      <td>400</td>\n",
       "    </tr>\n",
       "    <tr>\n",
       "      <th>2</th>\n",
       "      <td>30</td>\n",
       "      <td>3</td>\n",
       "      <td>300</td>\n",
       "    </tr>\n",
       "    <tr>\n",
       "      <th>3</th>\n",
       "      <td>40</td>\n",
       "      <td>4</td>\n",
       "      <td>200</td>\n",
       "    </tr>\n",
       "    <tr>\n",
       "      <th>4</th>\n",
       "      <td>50</td>\n",
       "      <td>5</td>\n",
       "      <td>100</td>\n",
       "    </tr>\n",
       "  </tbody>\n",
       "</table>\n",
       "</div>"
      ],
      "text/plain": [
       "    x  y    z\n",
       "0  10  1  500\n",
       "1  20  2  400\n",
       "2  30  3  300\n",
       "3  40  4  200\n",
       "4  50  5  100"
      ]
     },
     "execution_count": 29,
     "metadata": {},
     "output_type": "execute_result"
    }
   ],
   "source": [
    "df3=pd.DataFrame({'x':[10,20,30,40,50],'y':[1,2,3,4,5],'z':[500,400,300,200,100]})\n",
    "df3"
   ]
  },
  {
   "cell_type": "code",
   "execution_count": 31,
   "id": "fdb8e105",
   "metadata": {},
   "outputs": [
    {
     "data": {
      "application/vnd.plotly.v1+json": {
       "config": {
        "linkText": "Export to plot.ly",
        "plotlyServerURL": "https://plot.ly",
        "showLink": true
       },
       "data": [
        {
         "colorscale": [
          [
           0,
           "rgb(255, 153, 51)"
          ],
          [
           0.1111111111111111,
           "rgb(55, 128, 191)"
          ],
          [
           0.2222222222222222,
           "rgb(50, 171, 96)"
          ],
          [
           0.3333333333333333,
           "rgb(128, 0, 128)"
          ],
          [
           0.4444444444444444,
           "rgb(219, 64, 82)"
          ],
          [
           0.5555555555555556,
           "rgb(0, 128, 128)"
          ],
          [
           0.6666666666666666,
           "rgb(255, 255, 51)"
          ],
          [
           0.7777777777777778,
           "rgb(128, 128, 0)"
          ],
          [
           0.8888888888888888,
           "rgb(251, 128, 114)"
          ],
          [
           1,
           "rgb(128, 177, 211)"
          ]
         ],
         "type": "surface",
         "x": [
          0,
          1,
          2,
          3,
          4
         ],
         "y": [
          "x",
          "y",
          "z"
         ],
         "z": [
          [
           10,
           20,
           30,
           40,
           50
          ],
          [
           1,
           2,
           3,
           4,
           5
          ],
          [
           500,
           400,
           300,
           200,
           100
          ]
         ]
        }
       ],
       "layout": {
        "legend": {
         "bgcolor": "#F5F6F9",
         "font": {
          "color": "#4D5663"
         }
        },
        "paper_bgcolor": "#F5F6F9",
        "plot_bgcolor": "#F5F6F9",
        "template": {
         "data": {
          "bar": [
           {
            "error_x": {
             "color": "#2a3f5f"
            },
            "error_y": {
             "color": "#2a3f5f"
            },
            "marker": {
             "line": {
              "color": "#E5ECF6",
              "width": 0.5
             },
             "pattern": {
              "fillmode": "overlay",
              "size": 10,
              "solidity": 0.2
             }
            },
            "type": "bar"
           }
          ],
          "barpolar": [
           {
            "marker": {
             "line": {
              "color": "#E5ECF6",
              "width": 0.5
             },
             "pattern": {
              "fillmode": "overlay",
              "size": 10,
              "solidity": 0.2
             }
            },
            "type": "barpolar"
           }
          ],
          "carpet": [
           {
            "aaxis": {
             "endlinecolor": "#2a3f5f",
             "gridcolor": "white",
             "linecolor": "white",
             "minorgridcolor": "white",
             "startlinecolor": "#2a3f5f"
            },
            "baxis": {
             "endlinecolor": "#2a3f5f",
             "gridcolor": "white",
             "linecolor": "white",
             "minorgridcolor": "white",
             "startlinecolor": "#2a3f5f"
            },
            "type": "carpet"
           }
          ],
          "choropleth": [
           {
            "colorbar": {
             "outlinewidth": 0,
             "ticks": ""
            },
            "type": "choropleth"
           }
          ],
          "contour": [
           {
            "colorbar": {
             "outlinewidth": 0,
             "ticks": ""
            },
            "colorscale": [
             [
              0,
              "#0d0887"
             ],
             [
              0.1111111111111111,
              "#46039f"
             ],
             [
              0.2222222222222222,
              "#7201a8"
             ],
             [
              0.3333333333333333,
              "#9c179e"
             ],
             [
              0.4444444444444444,
              "#bd3786"
             ],
             [
              0.5555555555555556,
              "#d8576b"
             ],
             [
              0.6666666666666666,
              "#ed7953"
             ],
             [
              0.7777777777777778,
              "#fb9f3a"
             ],
             [
              0.8888888888888888,
              "#fdca26"
             ],
             [
              1,
              "#f0f921"
             ]
            ],
            "type": "contour"
           }
          ],
          "contourcarpet": [
           {
            "colorbar": {
             "outlinewidth": 0,
             "ticks": ""
            },
            "type": "contourcarpet"
           }
          ],
          "heatmap": [
           {
            "colorbar": {
             "outlinewidth": 0,
             "ticks": ""
            },
            "colorscale": [
             [
              0,
              "#0d0887"
             ],
             [
              0.1111111111111111,
              "#46039f"
             ],
             [
              0.2222222222222222,
              "#7201a8"
             ],
             [
              0.3333333333333333,
              "#9c179e"
             ],
             [
              0.4444444444444444,
              "#bd3786"
             ],
             [
              0.5555555555555556,
              "#d8576b"
             ],
             [
              0.6666666666666666,
              "#ed7953"
             ],
             [
              0.7777777777777778,
              "#fb9f3a"
             ],
             [
              0.8888888888888888,
              "#fdca26"
             ],
             [
              1,
              "#f0f921"
             ]
            ],
            "type": "heatmap"
           }
          ],
          "heatmapgl": [
           {
            "colorbar": {
             "outlinewidth": 0,
             "ticks": ""
            },
            "colorscale": [
             [
              0,
              "#0d0887"
             ],
             [
              0.1111111111111111,
              "#46039f"
             ],
             [
              0.2222222222222222,
              "#7201a8"
             ],
             [
              0.3333333333333333,
              "#9c179e"
             ],
             [
              0.4444444444444444,
              "#bd3786"
             ],
             [
              0.5555555555555556,
              "#d8576b"
             ],
             [
              0.6666666666666666,
              "#ed7953"
             ],
             [
              0.7777777777777778,
              "#fb9f3a"
             ],
             [
              0.8888888888888888,
              "#fdca26"
             ],
             [
              1,
              "#f0f921"
             ]
            ],
            "type": "heatmapgl"
           }
          ],
          "histogram": [
           {
            "marker": {
             "pattern": {
              "fillmode": "overlay",
              "size": 10,
              "solidity": 0.2
             }
            },
            "type": "histogram"
           }
          ],
          "histogram2d": [
           {
            "colorbar": {
             "outlinewidth": 0,
             "ticks": ""
            },
            "colorscale": [
             [
              0,
              "#0d0887"
             ],
             [
              0.1111111111111111,
              "#46039f"
             ],
             [
              0.2222222222222222,
              "#7201a8"
             ],
             [
              0.3333333333333333,
              "#9c179e"
             ],
             [
              0.4444444444444444,
              "#bd3786"
             ],
             [
              0.5555555555555556,
              "#d8576b"
             ],
             [
              0.6666666666666666,
              "#ed7953"
             ],
             [
              0.7777777777777778,
              "#fb9f3a"
             ],
             [
              0.8888888888888888,
              "#fdca26"
             ],
             [
              1,
              "#f0f921"
             ]
            ],
            "type": "histogram2d"
           }
          ],
          "histogram2dcontour": [
           {
            "colorbar": {
             "outlinewidth": 0,
             "ticks": ""
            },
            "colorscale": [
             [
              0,
              "#0d0887"
             ],
             [
              0.1111111111111111,
              "#46039f"
             ],
             [
              0.2222222222222222,
              "#7201a8"
             ],
             [
              0.3333333333333333,
              "#9c179e"
             ],
             [
              0.4444444444444444,
              "#bd3786"
             ],
             [
              0.5555555555555556,
              "#d8576b"
             ],
             [
              0.6666666666666666,
              "#ed7953"
             ],
             [
              0.7777777777777778,
              "#fb9f3a"
             ],
             [
              0.8888888888888888,
              "#fdca26"
             ],
             [
              1,
              "#f0f921"
             ]
            ],
            "type": "histogram2dcontour"
           }
          ],
          "mesh3d": [
           {
            "colorbar": {
             "outlinewidth": 0,
             "ticks": ""
            },
            "type": "mesh3d"
           }
          ],
          "parcoords": [
           {
            "line": {
             "colorbar": {
              "outlinewidth": 0,
              "ticks": ""
             }
            },
            "type": "parcoords"
           }
          ],
          "pie": [
           {
            "automargin": true,
            "type": "pie"
           }
          ],
          "scatter": [
           {
            "marker": {
             "colorbar": {
              "outlinewidth": 0,
              "ticks": ""
             }
            },
            "type": "scatter"
           }
          ],
          "scatter3d": [
           {
            "line": {
             "colorbar": {
              "outlinewidth": 0,
              "ticks": ""
             }
            },
            "marker": {
             "colorbar": {
              "outlinewidth": 0,
              "ticks": ""
             }
            },
            "type": "scatter3d"
           }
          ],
          "scattercarpet": [
           {
            "marker": {
             "colorbar": {
              "outlinewidth": 0,
              "ticks": ""
             }
            },
            "type": "scattercarpet"
           }
          ],
          "scattergeo": [
           {
            "marker": {
             "colorbar": {
              "outlinewidth": 0,
              "ticks": ""
             }
            },
            "type": "scattergeo"
           }
          ],
          "scattergl": [
           {
            "marker": {
             "colorbar": {
              "outlinewidth": 0,
              "ticks": ""
             }
            },
            "type": "scattergl"
           }
          ],
          "scattermapbox": [
           {
            "marker": {
             "colorbar": {
              "outlinewidth": 0,
              "ticks": ""
             }
            },
            "type": "scattermapbox"
           }
          ],
          "scatterpolar": [
           {
            "marker": {
             "colorbar": {
              "outlinewidth": 0,
              "ticks": ""
             }
            },
            "type": "scatterpolar"
           }
          ],
          "scatterpolargl": [
           {
            "marker": {
             "colorbar": {
              "outlinewidth": 0,
              "ticks": ""
             }
            },
            "type": "scatterpolargl"
           }
          ],
          "scatterternary": [
           {
            "marker": {
             "colorbar": {
              "outlinewidth": 0,
              "ticks": ""
             }
            },
            "type": "scatterternary"
           }
          ],
          "surface": [
           {
            "colorbar": {
             "outlinewidth": 0,
             "ticks": ""
            },
            "colorscale": [
             [
              0,
              "#0d0887"
             ],
             [
              0.1111111111111111,
              "#46039f"
             ],
             [
              0.2222222222222222,
              "#7201a8"
             ],
             [
              0.3333333333333333,
              "#9c179e"
             ],
             [
              0.4444444444444444,
              "#bd3786"
             ],
             [
              0.5555555555555556,
              "#d8576b"
             ],
             [
              0.6666666666666666,
              "#ed7953"
             ],
             [
              0.7777777777777778,
              "#fb9f3a"
             ],
             [
              0.8888888888888888,
              "#fdca26"
             ],
             [
              1,
              "#f0f921"
             ]
            ],
            "type": "surface"
           }
          ],
          "table": [
           {
            "cells": {
             "fill": {
              "color": "#EBF0F8"
             },
             "line": {
              "color": "white"
             }
            },
            "header": {
             "fill": {
              "color": "#C8D4E3"
             },
             "line": {
              "color": "white"
             }
            },
            "type": "table"
           }
          ]
         },
         "layout": {
          "annotationdefaults": {
           "arrowcolor": "#2a3f5f",
           "arrowhead": 0,
           "arrowwidth": 1
          },
          "autotypenumbers": "strict",
          "coloraxis": {
           "colorbar": {
            "outlinewidth": 0,
            "ticks": ""
           }
          },
          "colorscale": {
           "diverging": [
            [
             0,
             "#8e0152"
            ],
            [
             0.1,
             "#c51b7d"
            ],
            [
             0.2,
             "#de77ae"
            ],
            [
             0.3,
             "#f1b6da"
            ],
            [
             0.4,
             "#fde0ef"
            ],
            [
             0.5,
             "#f7f7f7"
            ],
            [
             0.6,
             "#e6f5d0"
            ],
            [
             0.7,
             "#b8e186"
            ],
            [
             0.8,
             "#7fbc41"
            ],
            [
             0.9,
             "#4d9221"
            ],
            [
             1,
             "#276419"
            ]
           ],
           "sequential": [
            [
             0,
             "#0d0887"
            ],
            [
             0.1111111111111111,
             "#46039f"
            ],
            [
             0.2222222222222222,
             "#7201a8"
            ],
            [
             0.3333333333333333,
             "#9c179e"
            ],
            [
             0.4444444444444444,
             "#bd3786"
            ],
            [
             0.5555555555555556,
             "#d8576b"
            ],
            [
             0.6666666666666666,
             "#ed7953"
            ],
            [
             0.7777777777777778,
             "#fb9f3a"
            ],
            [
             0.8888888888888888,
             "#fdca26"
            ],
            [
             1,
             "#f0f921"
            ]
           ],
           "sequentialminus": [
            [
             0,
             "#0d0887"
            ],
            [
             0.1111111111111111,
             "#46039f"
            ],
            [
             0.2222222222222222,
             "#7201a8"
            ],
            [
             0.3333333333333333,
             "#9c179e"
            ],
            [
             0.4444444444444444,
             "#bd3786"
            ],
            [
             0.5555555555555556,
             "#d8576b"
            ],
            [
             0.6666666666666666,
             "#ed7953"
            ],
            [
             0.7777777777777778,
             "#fb9f3a"
            ],
            [
             0.8888888888888888,
             "#fdca26"
            ],
            [
             1,
             "#f0f921"
            ]
           ]
          },
          "colorway": [
           "#636efa",
           "#EF553B",
           "#00cc96",
           "#ab63fa",
           "#FFA15A",
           "#19d3f3",
           "#FF6692",
           "#B6E880",
           "#FF97FF",
           "#FECB52"
          ],
          "font": {
           "color": "#2a3f5f"
          },
          "geo": {
           "bgcolor": "white",
           "lakecolor": "white",
           "landcolor": "#E5ECF6",
           "showlakes": true,
           "showland": true,
           "subunitcolor": "white"
          },
          "hoverlabel": {
           "align": "left"
          },
          "hovermode": "closest",
          "mapbox": {
           "style": "light"
          },
          "paper_bgcolor": "white",
          "plot_bgcolor": "#E5ECF6",
          "polar": {
           "angularaxis": {
            "gridcolor": "white",
            "linecolor": "white",
            "ticks": ""
           },
           "bgcolor": "#E5ECF6",
           "radialaxis": {
            "gridcolor": "white",
            "linecolor": "white",
            "ticks": ""
           }
          },
          "scene": {
           "xaxis": {
            "backgroundcolor": "#E5ECF6",
            "gridcolor": "white",
            "gridwidth": 2,
            "linecolor": "white",
            "showbackground": true,
            "ticks": "",
            "zerolinecolor": "white"
           },
           "yaxis": {
            "backgroundcolor": "#E5ECF6",
            "gridcolor": "white",
            "gridwidth": 2,
            "linecolor": "white",
            "showbackground": true,
            "ticks": "",
            "zerolinecolor": "white"
           },
           "zaxis": {
            "backgroundcolor": "#E5ECF6",
            "gridcolor": "white",
            "gridwidth": 2,
            "linecolor": "white",
            "showbackground": true,
            "ticks": "",
            "zerolinecolor": "white"
           }
          },
          "shapedefaults": {
           "line": {
            "color": "#2a3f5f"
           }
          },
          "ternary": {
           "aaxis": {
            "gridcolor": "white",
            "linecolor": "white",
            "ticks": ""
           },
           "baxis": {
            "gridcolor": "white",
            "linecolor": "white",
            "ticks": ""
           },
           "bgcolor": "#E5ECF6",
           "caxis": {
            "gridcolor": "white",
            "linecolor": "white",
            "ticks": ""
           }
          },
          "title": {
           "x": 0.05
          },
          "xaxis": {
           "automargin": true,
           "gridcolor": "white",
           "linecolor": "white",
           "ticks": "",
           "title": {
            "standoff": 15
           },
           "zerolinecolor": "white",
           "zerolinewidth": 2
          },
          "yaxis": {
           "automargin": true,
           "gridcolor": "white",
           "linecolor": "white",
           "ticks": "",
           "title": {
            "standoff": 15
           },
           "zerolinecolor": "white",
           "zerolinewidth": 2
          }
         }
        },
        "title": {
         "font": {
          "color": "#4D5663"
         }
        },
        "xaxis": {
         "gridcolor": "#E1E5ED",
         "showgrid": true,
         "tickfont": {
          "color": "#4D5663"
         },
         "title": {
          "font": {
           "color": "#4D5663"
          },
          "text": ""
         },
         "zerolinecolor": "#E1E5ED"
        },
        "yaxis": {
         "gridcolor": "#E1E5ED",
         "showgrid": true,
         "tickfont": {
          "color": "#4D5663"
         },
         "title": {
          "font": {
           "color": "#4D5663"
          },
          "text": ""
         },
         "zerolinecolor": "#E1E5ED"
        }
       }
      },
      "text/html": [
       "<div>                            <div id=\"a08f1273-c710-4574-99b4-b713419695c3\" class=\"plotly-graph-div\" style=\"height:525px; width:100%;\"></div>            <script type=\"text/javascript\">                require([\"plotly\"], function(Plotly) {                    window.PLOTLYENV=window.PLOTLYENV || {};\n",
       "                    window.PLOTLYENV.BASE_URL='https://plot.ly';                                    if (document.getElementById(\"a08f1273-c710-4574-99b4-b713419695c3\")) {                    Plotly.newPlot(                        \"a08f1273-c710-4574-99b4-b713419695c3\",                        [{\"colorscale\":[[0.0,\"rgb(255, 153, 51)\"],[0.1111111111111111,\"rgb(55, 128, 191)\"],[0.2222222222222222,\"rgb(50, 171, 96)\"],[0.3333333333333333,\"rgb(128, 0, 128)\"],[0.4444444444444444,\"rgb(219, 64, 82)\"],[0.5555555555555556,\"rgb(0, 128, 128)\"],[0.6666666666666666,\"rgb(255, 255, 51)\"],[0.7777777777777778,\"rgb(128, 128, 0)\"],[0.8888888888888888,\"rgb(251, 128, 114)\"],[1.0,\"rgb(128, 177, 211)\"]],\"type\":\"surface\",\"x\":[0,1,2,3,4],\"y\":[\"x\",\"y\",\"z\"],\"z\":[[10,20,30,40,50],[1,2,3,4,5],[500,400,300,200,100]]}],                        {\"legend\":{\"bgcolor\":\"#F5F6F9\",\"font\":{\"color\":\"#4D5663\"}},\"paper_bgcolor\":\"#F5F6F9\",\"plot_bgcolor\":\"#F5F6F9\",\"template\":{\"data\":{\"bar\":[{\"error_x\":{\"color\":\"#2a3f5f\"},\"error_y\":{\"color\":\"#2a3f5f\"},\"marker\":{\"line\":{\"color\":\"#E5ECF6\",\"width\":0.5},\"pattern\":{\"fillmode\":\"overlay\",\"size\":10,\"solidity\":0.2}},\"type\":\"bar\"}],\"barpolar\":[{\"marker\":{\"line\":{\"color\":\"#E5ECF6\",\"width\":0.5},\"pattern\":{\"fillmode\":\"overlay\",\"size\":10,\"solidity\":0.2}},\"type\":\"barpolar\"}],\"carpet\":[{\"aaxis\":{\"endlinecolor\":\"#2a3f5f\",\"gridcolor\":\"white\",\"linecolor\":\"white\",\"minorgridcolor\":\"white\",\"startlinecolor\":\"#2a3f5f\"},\"baxis\":{\"endlinecolor\":\"#2a3f5f\",\"gridcolor\":\"white\",\"linecolor\":\"white\",\"minorgridcolor\":\"white\",\"startlinecolor\":\"#2a3f5f\"},\"type\":\"carpet\"}],\"choropleth\":[{\"colorbar\":{\"outlinewidth\":0,\"ticks\":\"\"},\"type\":\"choropleth\"}],\"contour\":[{\"colorbar\":{\"outlinewidth\":0,\"ticks\":\"\"},\"colorscale\":[[0.0,\"#0d0887\"],[0.1111111111111111,\"#46039f\"],[0.2222222222222222,\"#7201a8\"],[0.3333333333333333,\"#9c179e\"],[0.4444444444444444,\"#bd3786\"],[0.5555555555555556,\"#d8576b\"],[0.6666666666666666,\"#ed7953\"],[0.7777777777777778,\"#fb9f3a\"],[0.8888888888888888,\"#fdca26\"],[1.0,\"#f0f921\"]],\"type\":\"contour\"}],\"contourcarpet\":[{\"colorbar\":{\"outlinewidth\":0,\"ticks\":\"\"},\"type\":\"contourcarpet\"}],\"heatmap\":[{\"colorbar\":{\"outlinewidth\":0,\"ticks\":\"\"},\"colorscale\":[[0.0,\"#0d0887\"],[0.1111111111111111,\"#46039f\"],[0.2222222222222222,\"#7201a8\"],[0.3333333333333333,\"#9c179e\"],[0.4444444444444444,\"#bd3786\"],[0.5555555555555556,\"#d8576b\"],[0.6666666666666666,\"#ed7953\"],[0.7777777777777778,\"#fb9f3a\"],[0.8888888888888888,\"#fdca26\"],[1.0,\"#f0f921\"]],\"type\":\"heatmap\"}],\"heatmapgl\":[{\"colorbar\":{\"outlinewidth\":0,\"ticks\":\"\"},\"colorscale\":[[0.0,\"#0d0887\"],[0.1111111111111111,\"#46039f\"],[0.2222222222222222,\"#7201a8\"],[0.3333333333333333,\"#9c179e\"],[0.4444444444444444,\"#bd3786\"],[0.5555555555555556,\"#d8576b\"],[0.6666666666666666,\"#ed7953\"],[0.7777777777777778,\"#fb9f3a\"],[0.8888888888888888,\"#fdca26\"],[1.0,\"#f0f921\"]],\"type\":\"heatmapgl\"}],\"histogram\":[{\"marker\":{\"pattern\":{\"fillmode\":\"overlay\",\"size\":10,\"solidity\":0.2}},\"type\":\"histogram\"}],\"histogram2d\":[{\"colorbar\":{\"outlinewidth\":0,\"ticks\":\"\"},\"colorscale\":[[0.0,\"#0d0887\"],[0.1111111111111111,\"#46039f\"],[0.2222222222222222,\"#7201a8\"],[0.3333333333333333,\"#9c179e\"],[0.4444444444444444,\"#bd3786\"],[0.5555555555555556,\"#d8576b\"],[0.6666666666666666,\"#ed7953\"],[0.7777777777777778,\"#fb9f3a\"],[0.8888888888888888,\"#fdca26\"],[1.0,\"#f0f921\"]],\"type\":\"histogram2d\"}],\"histogram2dcontour\":[{\"colorbar\":{\"outlinewidth\":0,\"ticks\":\"\"},\"colorscale\":[[0.0,\"#0d0887\"],[0.1111111111111111,\"#46039f\"],[0.2222222222222222,\"#7201a8\"],[0.3333333333333333,\"#9c179e\"],[0.4444444444444444,\"#bd3786\"],[0.5555555555555556,\"#d8576b\"],[0.6666666666666666,\"#ed7953\"],[0.7777777777777778,\"#fb9f3a\"],[0.8888888888888888,\"#fdca26\"],[1.0,\"#f0f921\"]],\"type\":\"histogram2dcontour\"}],\"mesh3d\":[{\"colorbar\":{\"outlinewidth\":0,\"ticks\":\"\"},\"type\":\"mesh3d\"}],\"parcoords\":[{\"line\":{\"colorbar\":{\"outlinewidth\":0,\"ticks\":\"\"}},\"type\":\"parcoords\"}],\"pie\":[{\"automargin\":true,\"type\":\"pie\"}],\"scatter\":[{\"marker\":{\"colorbar\":{\"outlinewidth\":0,\"ticks\":\"\"}},\"type\":\"scatter\"}],\"scatter3d\":[{\"line\":{\"colorbar\":{\"outlinewidth\":0,\"ticks\":\"\"}},\"marker\":{\"colorbar\":{\"outlinewidth\":0,\"ticks\":\"\"}},\"type\":\"scatter3d\"}],\"scattercarpet\":[{\"marker\":{\"colorbar\":{\"outlinewidth\":0,\"ticks\":\"\"}},\"type\":\"scattercarpet\"}],\"scattergeo\":[{\"marker\":{\"colorbar\":{\"outlinewidth\":0,\"ticks\":\"\"}},\"type\":\"scattergeo\"}],\"scattergl\":[{\"marker\":{\"colorbar\":{\"outlinewidth\":0,\"ticks\":\"\"}},\"type\":\"scattergl\"}],\"scattermapbox\":[{\"marker\":{\"colorbar\":{\"outlinewidth\":0,\"ticks\":\"\"}},\"type\":\"scattermapbox\"}],\"scatterpolar\":[{\"marker\":{\"colorbar\":{\"outlinewidth\":0,\"ticks\":\"\"}},\"type\":\"scatterpolar\"}],\"scatterpolargl\":[{\"marker\":{\"colorbar\":{\"outlinewidth\":0,\"ticks\":\"\"}},\"type\":\"scatterpolargl\"}],\"scatterternary\":[{\"marker\":{\"colorbar\":{\"outlinewidth\":0,\"ticks\":\"\"}},\"type\":\"scatterternary\"}],\"surface\":[{\"colorbar\":{\"outlinewidth\":0,\"ticks\":\"\"},\"colorscale\":[[0.0,\"#0d0887\"],[0.1111111111111111,\"#46039f\"],[0.2222222222222222,\"#7201a8\"],[0.3333333333333333,\"#9c179e\"],[0.4444444444444444,\"#bd3786\"],[0.5555555555555556,\"#d8576b\"],[0.6666666666666666,\"#ed7953\"],[0.7777777777777778,\"#fb9f3a\"],[0.8888888888888888,\"#fdca26\"],[1.0,\"#f0f921\"]],\"type\":\"surface\"}],\"table\":[{\"cells\":{\"fill\":{\"color\":\"#EBF0F8\"},\"line\":{\"color\":\"white\"}},\"header\":{\"fill\":{\"color\":\"#C8D4E3\"},\"line\":{\"color\":\"white\"}},\"type\":\"table\"}]},\"layout\":{\"annotationdefaults\":{\"arrowcolor\":\"#2a3f5f\",\"arrowhead\":0,\"arrowwidth\":1},\"autotypenumbers\":\"strict\",\"coloraxis\":{\"colorbar\":{\"outlinewidth\":0,\"ticks\":\"\"}},\"colorscale\":{\"diverging\":[[0,\"#8e0152\"],[0.1,\"#c51b7d\"],[0.2,\"#de77ae\"],[0.3,\"#f1b6da\"],[0.4,\"#fde0ef\"],[0.5,\"#f7f7f7\"],[0.6,\"#e6f5d0\"],[0.7,\"#b8e186\"],[0.8,\"#7fbc41\"],[0.9,\"#4d9221\"],[1,\"#276419\"]],\"sequential\":[[0.0,\"#0d0887\"],[0.1111111111111111,\"#46039f\"],[0.2222222222222222,\"#7201a8\"],[0.3333333333333333,\"#9c179e\"],[0.4444444444444444,\"#bd3786\"],[0.5555555555555556,\"#d8576b\"],[0.6666666666666666,\"#ed7953\"],[0.7777777777777778,\"#fb9f3a\"],[0.8888888888888888,\"#fdca26\"],[1.0,\"#f0f921\"]],\"sequentialminus\":[[0.0,\"#0d0887\"],[0.1111111111111111,\"#46039f\"],[0.2222222222222222,\"#7201a8\"],[0.3333333333333333,\"#9c179e\"],[0.4444444444444444,\"#bd3786\"],[0.5555555555555556,\"#d8576b\"],[0.6666666666666666,\"#ed7953\"],[0.7777777777777778,\"#fb9f3a\"],[0.8888888888888888,\"#fdca26\"],[1.0,\"#f0f921\"]]},\"colorway\":[\"#636efa\",\"#EF553B\",\"#00cc96\",\"#ab63fa\",\"#FFA15A\",\"#19d3f3\",\"#FF6692\",\"#B6E880\",\"#FF97FF\",\"#FECB52\"],\"font\":{\"color\":\"#2a3f5f\"},\"geo\":{\"bgcolor\":\"white\",\"lakecolor\":\"white\",\"landcolor\":\"#E5ECF6\",\"showlakes\":true,\"showland\":true,\"subunitcolor\":\"white\"},\"hoverlabel\":{\"align\":\"left\"},\"hovermode\":\"closest\",\"mapbox\":{\"style\":\"light\"},\"paper_bgcolor\":\"white\",\"plot_bgcolor\":\"#E5ECF6\",\"polar\":{\"angularaxis\":{\"gridcolor\":\"white\",\"linecolor\":\"white\",\"ticks\":\"\"},\"bgcolor\":\"#E5ECF6\",\"radialaxis\":{\"gridcolor\":\"white\",\"linecolor\":\"white\",\"ticks\":\"\"}},\"scene\":{\"xaxis\":{\"backgroundcolor\":\"#E5ECF6\",\"gridcolor\":\"white\",\"gridwidth\":2,\"linecolor\":\"white\",\"showbackground\":true,\"ticks\":\"\",\"zerolinecolor\":\"white\"},\"yaxis\":{\"backgroundcolor\":\"#E5ECF6\",\"gridcolor\":\"white\",\"gridwidth\":2,\"linecolor\":\"white\",\"showbackground\":true,\"ticks\":\"\",\"zerolinecolor\":\"white\"},\"zaxis\":{\"backgroundcolor\":\"#E5ECF6\",\"gridcolor\":\"white\",\"gridwidth\":2,\"linecolor\":\"white\",\"showbackground\":true,\"ticks\":\"\",\"zerolinecolor\":\"white\"}},\"shapedefaults\":{\"line\":{\"color\":\"#2a3f5f\"}},\"ternary\":{\"aaxis\":{\"gridcolor\":\"white\",\"linecolor\":\"white\",\"ticks\":\"\"},\"baxis\":{\"gridcolor\":\"white\",\"linecolor\":\"white\",\"ticks\":\"\"},\"bgcolor\":\"#E5ECF6\",\"caxis\":{\"gridcolor\":\"white\",\"linecolor\":\"white\",\"ticks\":\"\"}},\"title\":{\"x\":0.05},\"xaxis\":{\"automargin\":true,\"gridcolor\":\"white\",\"linecolor\":\"white\",\"ticks\":\"\",\"title\":{\"standoff\":15},\"zerolinecolor\":\"white\",\"zerolinewidth\":2},\"yaxis\":{\"automargin\":true,\"gridcolor\":\"white\",\"linecolor\":\"white\",\"ticks\":\"\",\"title\":{\"standoff\":15},\"zerolinecolor\":\"white\",\"zerolinewidth\":2}}},\"title\":{\"font\":{\"color\":\"#4D5663\"}},\"xaxis\":{\"gridcolor\":\"#E1E5ED\",\"showgrid\":true,\"tickfont\":{\"color\":\"#4D5663\"},\"title\":{\"font\":{\"color\":\"#4D5663\"},\"text\":\"\"},\"zerolinecolor\":\"#E1E5ED\"},\"yaxis\":{\"gridcolor\":\"#E1E5ED\",\"showgrid\":true,\"tickfont\":{\"color\":\"#4D5663\"},\"title\":{\"font\":{\"color\":\"#4D5663\"},\"text\":\"\"},\"zerolinecolor\":\"#E1E5ED\"}},                        {\"showLink\": true, \"linkText\": \"Export to plot.ly\", \"plotlyServerURL\": \"https://plot.ly\", \"responsive\": true}                    ).then(function(){\n",
       "                            \n",
       "var gd = document.getElementById('a08f1273-c710-4574-99b4-b713419695c3');\n",
       "var x = new MutationObserver(function (mutations, observer) {{\n",
       "        var display = window.getComputedStyle(gd).display;\n",
       "        if (!display || display === 'none') {{\n",
       "            console.log([gd, 'removed!']);\n",
       "            Plotly.purge(gd);\n",
       "            observer.disconnect();\n",
       "        }}\n",
       "}});\n",
       "\n",
       "// Listen for the removal of the full notebook cells\n",
       "var notebookContainer = gd.closest('#notebook-container');\n",
       "if (notebookContainer) {{\n",
       "    x.observe(notebookContainer, {childList: true});\n",
       "}}\n",
       "\n",
       "// Listen for the clearing of the current output cell\n",
       "var outputEl = gd.closest('.output');\n",
       "if (outputEl) {{\n",
       "    x.observe(outputEl, {childList: true});\n",
       "}}\n",
       "\n",
       "                        })                };                });            </script>        </div>"
      ]
     },
     "metadata": {},
     "output_type": "display_data"
    }
   ],
   "source": [
    "df3.iplot(kind='surface')"
   ]
  },
  {
   "cell_type": "code",
   "execution_count": 32,
   "id": "f3ae44ba",
   "metadata": {},
   "outputs": [
    {
     "data": {
      "application/vnd.plotly.v1+json": {
       "config": {
        "linkText": "Export to plot.ly",
        "plotlyServerURL": "https://plot.ly",
        "showLink": true
       },
       "data": [
        {
         "colorscale": [
          [
           0,
           "rgb(165,0,38)"
          ],
          [
           0.1,
           "rgb(215,48,39)"
          ],
          [
           0.2,
           "rgb(244,109,67)"
          ],
          [
           0.3,
           "rgb(253,174,97)"
          ],
          [
           0.4,
           "rgb(254,224,144)"
          ],
          [
           0.5,
           "rgb(255,255,191)"
          ],
          [
           0.6,
           "rgb(224,243,248)"
          ],
          [
           0.7,
           "rgb(171,217,233)"
          ],
          [
           0.8,
           "rgb(116,173,209)"
          ],
          [
           0.9,
           "rgb(69,117,180)"
          ],
          [
           1,
           "rgb(49,54,149)"
          ]
         ],
         "type": "surface",
         "x": [
          0,
          1,
          2,
          3,
          4
         ],
         "y": [
          "x",
          "y",
          "z"
         ],
         "z": [
          [
           10,
           20,
           30,
           40,
           50
          ],
          [
           1,
           2,
           3,
           4,
           5
          ],
          [
           500,
           400,
           300,
           200,
           100
          ]
         ]
        }
       ],
       "layout": {
        "legend": {
         "bgcolor": "#F5F6F9",
         "font": {
          "color": "#4D5663"
         }
        },
        "paper_bgcolor": "#F5F6F9",
        "plot_bgcolor": "#F5F6F9",
        "template": {
         "data": {
          "bar": [
           {
            "error_x": {
             "color": "#2a3f5f"
            },
            "error_y": {
             "color": "#2a3f5f"
            },
            "marker": {
             "line": {
              "color": "#E5ECF6",
              "width": 0.5
             },
             "pattern": {
              "fillmode": "overlay",
              "size": 10,
              "solidity": 0.2
             }
            },
            "type": "bar"
           }
          ],
          "barpolar": [
           {
            "marker": {
             "line": {
              "color": "#E5ECF6",
              "width": 0.5
             },
             "pattern": {
              "fillmode": "overlay",
              "size": 10,
              "solidity": 0.2
             }
            },
            "type": "barpolar"
           }
          ],
          "carpet": [
           {
            "aaxis": {
             "endlinecolor": "#2a3f5f",
             "gridcolor": "white",
             "linecolor": "white",
             "minorgridcolor": "white",
             "startlinecolor": "#2a3f5f"
            },
            "baxis": {
             "endlinecolor": "#2a3f5f",
             "gridcolor": "white",
             "linecolor": "white",
             "minorgridcolor": "white",
             "startlinecolor": "#2a3f5f"
            },
            "type": "carpet"
           }
          ],
          "choropleth": [
           {
            "colorbar": {
             "outlinewidth": 0,
             "ticks": ""
            },
            "type": "choropleth"
           }
          ],
          "contour": [
           {
            "colorbar": {
             "outlinewidth": 0,
             "ticks": ""
            },
            "colorscale": [
             [
              0,
              "#0d0887"
             ],
             [
              0.1111111111111111,
              "#46039f"
             ],
             [
              0.2222222222222222,
              "#7201a8"
             ],
             [
              0.3333333333333333,
              "#9c179e"
             ],
             [
              0.4444444444444444,
              "#bd3786"
             ],
             [
              0.5555555555555556,
              "#d8576b"
             ],
             [
              0.6666666666666666,
              "#ed7953"
             ],
             [
              0.7777777777777778,
              "#fb9f3a"
             ],
             [
              0.8888888888888888,
              "#fdca26"
             ],
             [
              1,
              "#f0f921"
             ]
            ],
            "type": "contour"
           }
          ],
          "contourcarpet": [
           {
            "colorbar": {
             "outlinewidth": 0,
             "ticks": ""
            },
            "type": "contourcarpet"
           }
          ],
          "heatmap": [
           {
            "colorbar": {
             "outlinewidth": 0,
             "ticks": ""
            },
            "colorscale": [
             [
              0,
              "#0d0887"
             ],
             [
              0.1111111111111111,
              "#46039f"
             ],
             [
              0.2222222222222222,
              "#7201a8"
             ],
             [
              0.3333333333333333,
              "#9c179e"
             ],
             [
              0.4444444444444444,
              "#bd3786"
             ],
             [
              0.5555555555555556,
              "#d8576b"
             ],
             [
              0.6666666666666666,
              "#ed7953"
             ],
             [
              0.7777777777777778,
              "#fb9f3a"
             ],
             [
              0.8888888888888888,
              "#fdca26"
             ],
             [
              1,
              "#f0f921"
             ]
            ],
            "type": "heatmap"
           }
          ],
          "heatmapgl": [
           {
            "colorbar": {
             "outlinewidth": 0,
             "ticks": ""
            },
            "colorscale": [
             [
              0,
              "#0d0887"
             ],
             [
              0.1111111111111111,
              "#46039f"
             ],
             [
              0.2222222222222222,
              "#7201a8"
             ],
             [
              0.3333333333333333,
              "#9c179e"
             ],
             [
              0.4444444444444444,
              "#bd3786"
             ],
             [
              0.5555555555555556,
              "#d8576b"
             ],
             [
              0.6666666666666666,
              "#ed7953"
             ],
             [
              0.7777777777777778,
              "#fb9f3a"
             ],
             [
              0.8888888888888888,
              "#fdca26"
             ],
             [
              1,
              "#f0f921"
             ]
            ],
            "type": "heatmapgl"
           }
          ],
          "histogram": [
           {
            "marker": {
             "pattern": {
              "fillmode": "overlay",
              "size": 10,
              "solidity": 0.2
             }
            },
            "type": "histogram"
           }
          ],
          "histogram2d": [
           {
            "colorbar": {
             "outlinewidth": 0,
             "ticks": ""
            },
            "colorscale": [
             [
              0,
              "#0d0887"
             ],
             [
              0.1111111111111111,
              "#46039f"
             ],
             [
              0.2222222222222222,
              "#7201a8"
             ],
             [
              0.3333333333333333,
              "#9c179e"
             ],
             [
              0.4444444444444444,
              "#bd3786"
             ],
             [
              0.5555555555555556,
              "#d8576b"
             ],
             [
              0.6666666666666666,
              "#ed7953"
             ],
             [
              0.7777777777777778,
              "#fb9f3a"
             ],
             [
              0.8888888888888888,
              "#fdca26"
             ],
             [
              1,
              "#f0f921"
             ]
            ],
            "type": "histogram2d"
           }
          ],
          "histogram2dcontour": [
           {
            "colorbar": {
             "outlinewidth": 0,
             "ticks": ""
            },
            "colorscale": [
             [
              0,
              "#0d0887"
             ],
             [
              0.1111111111111111,
              "#46039f"
             ],
             [
              0.2222222222222222,
              "#7201a8"
             ],
             [
              0.3333333333333333,
              "#9c179e"
             ],
             [
              0.4444444444444444,
              "#bd3786"
             ],
             [
              0.5555555555555556,
              "#d8576b"
             ],
             [
              0.6666666666666666,
              "#ed7953"
             ],
             [
              0.7777777777777778,
              "#fb9f3a"
             ],
             [
              0.8888888888888888,
              "#fdca26"
             ],
             [
              1,
              "#f0f921"
             ]
            ],
            "type": "histogram2dcontour"
           }
          ],
          "mesh3d": [
           {
            "colorbar": {
             "outlinewidth": 0,
             "ticks": ""
            },
            "type": "mesh3d"
           }
          ],
          "parcoords": [
           {
            "line": {
             "colorbar": {
              "outlinewidth": 0,
              "ticks": ""
             }
            },
            "type": "parcoords"
           }
          ],
          "pie": [
           {
            "automargin": true,
            "type": "pie"
           }
          ],
          "scatter": [
           {
            "marker": {
             "colorbar": {
              "outlinewidth": 0,
              "ticks": ""
             }
            },
            "type": "scatter"
           }
          ],
          "scatter3d": [
           {
            "line": {
             "colorbar": {
              "outlinewidth": 0,
              "ticks": ""
             }
            },
            "marker": {
             "colorbar": {
              "outlinewidth": 0,
              "ticks": ""
             }
            },
            "type": "scatter3d"
           }
          ],
          "scattercarpet": [
           {
            "marker": {
             "colorbar": {
              "outlinewidth": 0,
              "ticks": ""
             }
            },
            "type": "scattercarpet"
           }
          ],
          "scattergeo": [
           {
            "marker": {
             "colorbar": {
              "outlinewidth": 0,
              "ticks": ""
             }
            },
            "type": "scattergeo"
           }
          ],
          "scattergl": [
           {
            "marker": {
             "colorbar": {
              "outlinewidth": 0,
              "ticks": ""
             }
            },
            "type": "scattergl"
           }
          ],
          "scattermapbox": [
           {
            "marker": {
             "colorbar": {
              "outlinewidth": 0,
              "ticks": ""
             }
            },
            "type": "scattermapbox"
           }
          ],
          "scatterpolar": [
           {
            "marker": {
             "colorbar": {
              "outlinewidth": 0,
              "ticks": ""
             }
            },
            "type": "scatterpolar"
           }
          ],
          "scatterpolargl": [
           {
            "marker": {
             "colorbar": {
              "outlinewidth": 0,
              "ticks": ""
             }
            },
            "type": "scatterpolargl"
           }
          ],
          "scatterternary": [
           {
            "marker": {
             "colorbar": {
              "outlinewidth": 0,
              "ticks": ""
             }
            },
            "type": "scatterternary"
           }
          ],
          "surface": [
           {
            "colorbar": {
             "outlinewidth": 0,
             "ticks": ""
            },
            "colorscale": [
             [
              0,
              "#0d0887"
             ],
             [
              0.1111111111111111,
              "#46039f"
             ],
             [
              0.2222222222222222,
              "#7201a8"
             ],
             [
              0.3333333333333333,
              "#9c179e"
             ],
             [
              0.4444444444444444,
              "#bd3786"
             ],
             [
              0.5555555555555556,
              "#d8576b"
             ],
             [
              0.6666666666666666,
              "#ed7953"
             ],
             [
              0.7777777777777778,
              "#fb9f3a"
             ],
             [
              0.8888888888888888,
              "#fdca26"
             ],
             [
              1,
              "#f0f921"
             ]
            ],
            "type": "surface"
           }
          ],
          "table": [
           {
            "cells": {
             "fill": {
              "color": "#EBF0F8"
             },
             "line": {
              "color": "white"
             }
            },
            "header": {
             "fill": {
              "color": "#C8D4E3"
             },
             "line": {
              "color": "white"
             }
            },
            "type": "table"
           }
          ]
         },
         "layout": {
          "annotationdefaults": {
           "arrowcolor": "#2a3f5f",
           "arrowhead": 0,
           "arrowwidth": 1
          },
          "autotypenumbers": "strict",
          "coloraxis": {
           "colorbar": {
            "outlinewidth": 0,
            "ticks": ""
           }
          },
          "colorscale": {
           "diverging": [
            [
             0,
             "#8e0152"
            ],
            [
             0.1,
             "#c51b7d"
            ],
            [
             0.2,
             "#de77ae"
            ],
            [
             0.3,
             "#f1b6da"
            ],
            [
             0.4,
             "#fde0ef"
            ],
            [
             0.5,
             "#f7f7f7"
            ],
            [
             0.6,
             "#e6f5d0"
            ],
            [
             0.7,
             "#b8e186"
            ],
            [
             0.8,
             "#7fbc41"
            ],
            [
             0.9,
             "#4d9221"
            ],
            [
             1,
             "#276419"
            ]
           ],
           "sequential": [
            [
             0,
             "#0d0887"
            ],
            [
             0.1111111111111111,
             "#46039f"
            ],
            [
             0.2222222222222222,
             "#7201a8"
            ],
            [
             0.3333333333333333,
             "#9c179e"
            ],
            [
             0.4444444444444444,
             "#bd3786"
            ],
            [
             0.5555555555555556,
             "#d8576b"
            ],
            [
             0.6666666666666666,
             "#ed7953"
            ],
            [
             0.7777777777777778,
             "#fb9f3a"
            ],
            [
             0.8888888888888888,
             "#fdca26"
            ],
            [
             1,
             "#f0f921"
            ]
           ],
           "sequentialminus": [
            [
             0,
             "#0d0887"
            ],
            [
             0.1111111111111111,
             "#46039f"
            ],
            [
             0.2222222222222222,
             "#7201a8"
            ],
            [
             0.3333333333333333,
             "#9c179e"
            ],
            [
             0.4444444444444444,
             "#bd3786"
            ],
            [
             0.5555555555555556,
             "#d8576b"
            ],
            [
             0.6666666666666666,
             "#ed7953"
            ],
            [
             0.7777777777777778,
             "#fb9f3a"
            ],
            [
             0.8888888888888888,
             "#fdca26"
            ],
            [
             1,
             "#f0f921"
            ]
           ]
          },
          "colorway": [
           "#636efa",
           "#EF553B",
           "#00cc96",
           "#ab63fa",
           "#FFA15A",
           "#19d3f3",
           "#FF6692",
           "#B6E880",
           "#FF97FF",
           "#FECB52"
          ],
          "font": {
           "color": "#2a3f5f"
          },
          "geo": {
           "bgcolor": "white",
           "lakecolor": "white",
           "landcolor": "#E5ECF6",
           "showlakes": true,
           "showland": true,
           "subunitcolor": "white"
          },
          "hoverlabel": {
           "align": "left"
          },
          "hovermode": "closest",
          "mapbox": {
           "style": "light"
          },
          "paper_bgcolor": "white",
          "plot_bgcolor": "#E5ECF6",
          "polar": {
           "angularaxis": {
            "gridcolor": "white",
            "linecolor": "white",
            "ticks": ""
           },
           "bgcolor": "#E5ECF6",
           "radialaxis": {
            "gridcolor": "white",
            "linecolor": "white",
            "ticks": ""
           }
          },
          "scene": {
           "xaxis": {
            "backgroundcolor": "#E5ECF6",
            "gridcolor": "white",
            "gridwidth": 2,
            "linecolor": "white",
            "showbackground": true,
            "ticks": "",
            "zerolinecolor": "white"
           },
           "yaxis": {
            "backgroundcolor": "#E5ECF6",
            "gridcolor": "white",
            "gridwidth": 2,
            "linecolor": "white",
            "showbackground": true,
            "ticks": "",
            "zerolinecolor": "white"
           },
           "zaxis": {
            "backgroundcolor": "#E5ECF6",
            "gridcolor": "white",
            "gridwidth": 2,
            "linecolor": "white",
            "showbackground": true,
            "ticks": "",
            "zerolinecolor": "white"
           }
          },
          "shapedefaults": {
           "line": {
            "color": "#2a3f5f"
           }
          },
          "ternary": {
           "aaxis": {
            "gridcolor": "white",
            "linecolor": "white",
            "ticks": ""
           },
           "baxis": {
            "gridcolor": "white",
            "linecolor": "white",
            "ticks": ""
           },
           "bgcolor": "#E5ECF6",
           "caxis": {
            "gridcolor": "white",
            "linecolor": "white",
            "ticks": ""
           }
          },
          "title": {
           "x": 0.05
          },
          "xaxis": {
           "automargin": true,
           "gridcolor": "white",
           "linecolor": "white",
           "ticks": "",
           "title": {
            "standoff": 15
           },
           "zerolinecolor": "white",
           "zerolinewidth": 2
          },
          "yaxis": {
           "automargin": true,
           "gridcolor": "white",
           "linecolor": "white",
           "ticks": "",
           "title": {
            "standoff": 15
           },
           "zerolinecolor": "white",
           "zerolinewidth": 2
          }
         }
        },
        "title": {
         "font": {
          "color": "#4D5663"
         }
        },
        "xaxis": {
         "gridcolor": "#E1E5ED",
         "showgrid": true,
         "tickfont": {
          "color": "#4D5663"
         },
         "title": {
          "font": {
           "color": "#4D5663"
          },
          "text": ""
         },
         "zerolinecolor": "#E1E5ED"
        },
        "yaxis": {
         "gridcolor": "#E1E5ED",
         "showgrid": true,
         "tickfont": {
          "color": "#4D5663"
         },
         "title": {
          "font": {
           "color": "#4D5663"
          },
          "text": ""
         },
         "zerolinecolor": "#E1E5ED"
        }
       }
      },
      "text/html": [
       "<div>                            <div id=\"fd4f833b-54ca-43dd-8ef3-b31c07afec2e\" class=\"plotly-graph-div\" style=\"height:525px; width:100%;\"></div>            <script type=\"text/javascript\">                require([\"plotly\"], function(Plotly) {                    window.PLOTLYENV=window.PLOTLYENV || {};\n",
       "                    window.PLOTLYENV.BASE_URL='https://plot.ly';                                    if (document.getElementById(\"fd4f833b-54ca-43dd-8ef3-b31c07afec2e\")) {                    Plotly.newPlot(                        \"fd4f833b-54ca-43dd-8ef3-b31c07afec2e\",                        [{\"colorscale\":[[0.0,\"rgb(165,0,38)\"],[0.1,\"rgb(215,48,39)\"],[0.2,\"rgb(244,109,67)\"],[0.3,\"rgb(253,174,97)\"],[0.4,\"rgb(254,224,144)\"],[0.5,\"rgb(255,255,191)\"],[0.6,\"rgb(224,243,248)\"],[0.7,\"rgb(171,217,233)\"],[0.8,\"rgb(116,173,209)\"],[0.9,\"rgb(69,117,180)\"],[1.0,\"rgb(49,54,149)\"]],\"type\":\"surface\",\"x\":[0,1,2,3,4],\"y\":[\"x\",\"y\",\"z\"],\"z\":[[10,20,30,40,50],[1,2,3,4,5],[500,400,300,200,100]]}],                        {\"legend\":{\"bgcolor\":\"#F5F6F9\",\"font\":{\"color\":\"#4D5663\"}},\"paper_bgcolor\":\"#F5F6F9\",\"plot_bgcolor\":\"#F5F6F9\",\"template\":{\"data\":{\"bar\":[{\"error_x\":{\"color\":\"#2a3f5f\"},\"error_y\":{\"color\":\"#2a3f5f\"},\"marker\":{\"line\":{\"color\":\"#E5ECF6\",\"width\":0.5},\"pattern\":{\"fillmode\":\"overlay\",\"size\":10,\"solidity\":0.2}},\"type\":\"bar\"}],\"barpolar\":[{\"marker\":{\"line\":{\"color\":\"#E5ECF6\",\"width\":0.5},\"pattern\":{\"fillmode\":\"overlay\",\"size\":10,\"solidity\":0.2}},\"type\":\"barpolar\"}],\"carpet\":[{\"aaxis\":{\"endlinecolor\":\"#2a3f5f\",\"gridcolor\":\"white\",\"linecolor\":\"white\",\"minorgridcolor\":\"white\",\"startlinecolor\":\"#2a3f5f\"},\"baxis\":{\"endlinecolor\":\"#2a3f5f\",\"gridcolor\":\"white\",\"linecolor\":\"white\",\"minorgridcolor\":\"white\",\"startlinecolor\":\"#2a3f5f\"},\"type\":\"carpet\"}],\"choropleth\":[{\"colorbar\":{\"outlinewidth\":0,\"ticks\":\"\"},\"type\":\"choropleth\"}],\"contour\":[{\"colorbar\":{\"outlinewidth\":0,\"ticks\":\"\"},\"colorscale\":[[0.0,\"#0d0887\"],[0.1111111111111111,\"#46039f\"],[0.2222222222222222,\"#7201a8\"],[0.3333333333333333,\"#9c179e\"],[0.4444444444444444,\"#bd3786\"],[0.5555555555555556,\"#d8576b\"],[0.6666666666666666,\"#ed7953\"],[0.7777777777777778,\"#fb9f3a\"],[0.8888888888888888,\"#fdca26\"],[1.0,\"#f0f921\"]],\"type\":\"contour\"}],\"contourcarpet\":[{\"colorbar\":{\"outlinewidth\":0,\"ticks\":\"\"},\"type\":\"contourcarpet\"}],\"heatmap\":[{\"colorbar\":{\"outlinewidth\":0,\"ticks\":\"\"},\"colorscale\":[[0.0,\"#0d0887\"],[0.1111111111111111,\"#46039f\"],[0.2222222222222222,\"#7201a8\"],[0.3333333333333333,\"#9c179e\"],[0.4444444444444444,\"#bd3786\"],[0.5555555555555556,\"#d8576b\"],[0.6666666666666666,\"#ed7953\"],[0.7777777777777778,\"#fb9f3a\"],[0.8888888888888888,\"#fdca26\"],[1.0,\"#f0f921\"]],\"type\":\"heatmap\"}],\"heatmapgl\":[{\"colorbar\":{\"outlinewidth\":0,\"ticks\":\"\"},\"colorscale\":[[0.0,\"#0d0887\"],[0.1111111111111111,\"#46039f\"],[0.2222222222222222,\"#7201a8\"],[0.3333333333333333,\"#9c179e\"],[0.4444444444444444,\"#bd3786\"],[0.5555555555555556,\"#d8576b\"],[0.6666666666666666,\"#ed7953\"],[0.7777777777777778,\"#fb9f3a\"],[0.8888888888888888,\"#fdca26\"],[1.0,\"#f0f921\"]],\"type\":\"heatmapgl\"}],\"histogram\":[{\"marker\":{\"pattern\":{\"fillmode\":\"overlay\",\"size\":10,\"solidity\":0.2}},\"type\":\"histogram\"}],\"histogram2d\":[{\"colorbar\":{\"outlinewidth\":0,\"ticks\":\"\"},\"colorscale\":[[0.0,\"#0d0887\"],[0.1111111111111111,\"#46039f\"],[0.2222222222222222,\"#7201a8\"],[0.3333333333333333,\"#9c179e\"],[0.4444444444444444,\"#bd3786\"],[0.5555555555555556,\"#d8576b\"],[0.6666666666666666,\"#ed7953\"],[0.7777777777777778,\"#fb9f3a\"],[0.8888888888888888,\"#fdca26\"],[1.0,\"#f0f921\"]],\"type\":\"histogram2d\"}],\"histogram2dcontour\":[{\"colorbar\":{\"outlinewidth\":0,\"ticks\":\"\"},\"colorscale\":[[0.0,\"#0d0887\"],[0.1111111111111111,\"#46039f\"],[0.2222222222222222,\"#7201a8\"],[0.3333333333333333,\"#9c179e\"],[0.4444444444444444,\"#bd3786\"],[0.5555555555555556,\"#d8576b\"],[0.6666666666666666,\"#ed7953\"],[0.7777777777777778,\"#fb9f3a\"],[0.8888888888888888,\"#fdca26\"],[1.0,\"#f0f921\"]],\"type\":\"histogram2dcontour\"}],\"mesh3d\":[{\"colorbar\":{\"outlinewidth\":0,\"ticks\":\"\"},\"type\":\"mesh3d\"}],\"parcoords\":[{\"line\":{\"colorbar\":{\"outlinewidth\":0,\"ticks\":\"\"}},\"type\":\"parcoords\"}],\"pie\":[{\"automargin\":true,\"type\":\"pie\"}],\"scatter\":[{\"marker\":{\"colorbar\":{\"outlinewidth\":0,\"ticks\":\"\"}},\"type\":\"scatter\"}],\"scatter3d\":[{\"line\":{\"colorbar\":{\"outlinewidth\":0,\"ticks\":\"\"}},\"marker\":{\"colorbar\":{\"outlinewidth\":0,\"ticks\":\"\"}},\"type\":\"scatter3d\"}],\"scattercarpet\":[{\"marker\":{\"colorbar\":{\"outlinewidth\":0,\"ticks\":\"\"}},\"type\":\"scattercarpet\"}],\"scattergeo\":[{\"marker\":{\"colorbar\":{\"outlinewidth\":0,\"ticks\":\"\"}},\"type\":\"scattergeo\"}],\"scattergl\":[{\"marker\":{\"colorbar\":{\"outlinewidth\":0,\"ticks\":\"\"}},\"type\":\"scattergl\"}],\"scattermapbox\":[{\"marker\":{\"colorbar\":{\"outlinewidth\":0,\"ticks\":\"\"}},\"type\":\"scattermapbox\"}],\"scatterpolar\":[{\"marker\":{\"colorbar\":{\"outlinewidth\":0,\"ticks\":\"\"}},\"type\":\"scatterpolar\"}],\"scatterpolargl\":[{\"marker\":{\"colorbar\":{\"outlinewidth\":0,\"ticks\":\"\"}},\"type\":\"scatterpolargl\"}],\"scatterternary\":[{\"marker\":{\"colorbar\":{\"outlinewidth\":0,\"ticks\":\"\"}},\"type\":\"scatterternary\"}],\"surface\":[{\"colorbar\":{\"outlinewidth\":0,\"ticks\":\"\"},\"colorscale\":[[0.0,\"#0d0887\"],[0.1111111111111111,\"#46039f\"],[0.2222222222222222,\"#7201a8\"],[0.3333333333333333,\"#9c179e\"],[0.4444444444444444,\"#bd3786\"],[0.5555555555555556,\"#d8576b\"],[0.6666666666666666,\"#ed7953\"],[0.7777777777777778,\"#fb9f3a\"],[0.8888888888888888,\"#fdca26\"],[1.0,\"#f0f921\"]],\"type\":\"surface\"}],\"table\":[{\"cells\":{\"fill\":{\"color\":\"#EBF0F8\"},\"line\":{\"color\":\"white\"}},\"header\":{\"fill\":{\"color\":\"#C8D4E3\"},\"line\":{\"color\":\"white\"}},\"type\":\"table\"}]},\"layout\":{\"annotationdefaults\":{\"arrowcolor\":\"#2a3f5f\",\"arrowhead\":0,\"arrowwidth\":1},\"autotypenumbers\":\"strict\",\"coloraxis\":{\"colorbar\":{\"outlinewidth\":0,\"ticks\":\"\"}},\"colorscale\":{\"diverging\":[[0,\"#8e0152\"],[0.1,\"#c51b7d\"],[0.2,\"#de77ae\"],[0.3,\"#f1b6da\"],[0.4,\"#fde0ef\"],[0.5,\"#f7f7f7\"],[0.6,\"#e6f5d0\"],[0.7,\"#b8e186\"],[0.8,\"#7fbc41\"],[0.9,\"#4d9221\"],[1,\"#276419\"]],\"sequential\":[[0.0,\"#0d0887\"],[0.1111111111111111,\"#46039f\"],[0.2222222222222222,\"#7201a8\"],[0.3333333333333333,\"#9c179e\"],[0.4444444444444444,\"#bd3786\"],[0.5555555555555556,\"#d8576b\"],[0.6666666666666666,\"#ed7953\"],[0.7777777777777778,\"#fb9f3a\"],[0.8888888888888888,\"#fdca26\"],[1.0,\"#f0f921\"]],\"sequentialminus\":[[0.0,\"#0d0887\"],[0.1111111111111111,\"#46039f\"],[0.2222222222222222,\"#7201a8\"],[0.3333333333333333,\"#9c179e\"],[0.4444444444444444,\"#bd3786\"],[0.5555555555555556,\"#d8576b\"],[0.6666666666666666,\"#ed7953\"],[0.7777777777777778,\"#fb9f3a\"],[0.8888888888888888,\"#fdca26\"],[1.0,\"#f0f921\"]]},\"colorway\":[\"#636efa\",\"#EF553B\",\"#00cc96\",\"#ab63fa\",\"#FFA15A\",\"#19d3f3\",\"#FF6692\",\"#B6E880\",\"#FF97FF\",\"#FECB52\"],\"font\":{\"color\":\"#2a3f5f\"},\"geo\":{\"bgcolor\":\"white\",\"lakecolor\":\"white\",\"landcolor\":\"#E5ECF6\",\"showlakes\":true,\"showland\":true,\"subunitcolor\":\"white\"},\"hoverlabel\":{\"align\":\"left\"},\"hovermode\":\"closest\",\"mapbox\":{\"style\":\"light\"},\"paper_bgcolor\":\"white\",\"plot_bgcolor\":\"#E5ECF6\",\"polar\":{\"angularaxis\":{\"gridcolor\":\"white\",\"linecolor\":\"white\",\"ticks\":\"\"},\"bgcolor\":\"#E5ECF6\",\"radialaxis\":{\"gridcolor\":\"white\",\"linecolor\":\"white\",\"ticks\":\"\"}},\"scene\":{\"xaxis\":{\"backgroundcolor\":\"#E5ECF6\",\"gridcolor\":\"white\",\"gridwidth\":2,\"linecolor\":\"white\",\"showbackground\":true,\"ticks\":\"\",\"zerolinecolor\":\"white\"},\"yaxis\":{\"backgroundcolor\":\"#E5ECF6\",\"gridcolor\":\"white\",\"gridwidth\":2,\"linecolor\":\"white\",\"showbackground\":true,\"ticks\":\"\",\"zerolinecolor\":\"white\"},\"zaxis\":{\"backgroundcolor\":\"#E5ECF6\",\"gridcolor\":\"white\",\"gridwidth\":2,\"linecolor\":\"white\",\"showbackground\":true,\"ticks\":\"\",\"zerolinecolor\":\"white\"}},\"shapedefaults\":{\"line\":{\"color\":\"#2a3f5f\"}},\"ternary\":{\"aaxis\":{\"gridcolor\":\"white\",\"linecolor\":\"white\",\"ticks\":\"\"},\"baxis\":{\"gridcolor\":\"white\",\"linecolor\":\"white\",\"ticks\":\"\"},\"bgcolor\":\"#E5ECF6\",\"caxis\":{\"gridcolor\":\"white\",\"linecolor\":\"white\",\"ticks\":\"\"}},\"title\":{\"x\":0.05},\"xaxis\":{\"automargin\":true,\"gridcolor\":\"white\",\"linecolor\":\"white\",\"ticks\":\"\",\"title\":{\"standoff\":15},\"zerolinecolor\":\"white\",\"zerolinewidth\":2},\"yaxis\":{\"automargin\":true,\"gridcolor\":\"white\",\"linecolor\":\"white\",\"ticks\":\"\",\"title\":{\"standoff\":15},\"zerolinecolor\":\"white\",\"zerolinewidth\":2}}},\"title\":{\"font\":{\"color\":\"#4D5663\"}},\"xaxis\":{\"gridcolor\":\"#E1E5ED\",\"showgrid\":true,\"tickfont\":{\"color\":\"#4D5663\"},\"title\":{\"font\":{\"color\":\"#4D5663\"},\"text\":\"\"},\"zerolinecolor\":\"#E1E5ED\"},\"yaxis\":{\"gridcolor\":\"#E1E5ED\",\"showgrid\":true,\"tickfont\":{\"color\":\"#4D5663\"},\"title\":{\"font\":{\"color\":\"#4D5663\"},\"text\":\"\"},\"zerolinecolor\":\"#E1E5ED\"}},                        {\"showLink\": true, \"linkText\": \"Export to plot.ly\", \"plotlyServerURL\": \"https://plot.ly\", \"responsive\": true}                    ).then(function(){\n",
       "                            \n",
       "var gd = document.getElementById('fd4f833b-54ca-43dd-8ef3-b31c07afec2e');\n",
       "var x = new MutationObserver(function (mutations, observer) {{\n",
       "        var display = window.getComputedStyle(gd).display;\n",
       "        if (!display || display === 'none') {{\n",
       "            console.log([gd, 'removed!']);\n",
       "            Plotly.purge(gd);\n",
       "            observer.disconnect();\n",
       "        }}\n",
       "}});\n",
       "\n",
       "// Listen for the removal of the full notebook cells\n",
       "var notebookContainer = gd.closest('#notebook-container');\n",
       "if (notebookContainer) {{\n",
       "    x.observe(notebookContainer, {childList: true});\n",
       "}}\n",
       "\n",
       "// Listen for the clearing of the current output cell\n",
       "var outputEl = gd.closest('.output');\n",
       "if (outputEl) {{\n",
       "    x.observe(outputEl, {childList: true});\n",
       "}}\n",
       "\n",
       "                        })                };                });            </script>        </div>"
      ]
     },
     "metadata": {},
     "output_type": "display_data"
    }
   ],
   "source": [
    "df3.iplot(kind='surface',colorscale='rdylbu')"
   ]
  },
  {
   "cell_type": "code",
   "execution_count": 33,
   "id": "aae36c7e",
   "metadata": {},
   "outputs": [
    {
     "data": {
      "application/vnd.plotly.v1+json": {
       "config": {
        "linkText": "Export to plot.ly",
        "plotlyServerURL": "https://plot.ly",
        "showLink": true
       },
       "data": [
        {
         "histfunc": "count",
         "histnorm": "",
         "marker": {
          "color": "rgba(255, 153, 51, 1.0)",
          "line": {
           "color": "#4D5663",
           "width": 1.3
          }
         },
         "name": "A",
         "nbinsx": 40,
         "opacity": 0.8,
         "orientation": "v",
         "type": "histogram",
         "x": [
          0.20858928925374165,
          -0.4342659365804992,
          0.15224425972204558,
          -1.4076364859048878,
          -1.8787133030357686,
          1.1141016130474,
          -0.014856903124838405,
          2.2980934492830407,
          -0.04537892657460305,
          0.37251593394002713,
          1.3160112807008706,
          -0.17426433245318806,
          -1.0676051347476219,
          0.35048603503154846,
          1.3995954370148027,
          0.31417325524307427,
          -0.03901252898133603,
          -0.7815522712797063,
          -1.4657470354223352,
          -0.10963875683423577,
          0.3414618118686473,
          1.8556025363714947,
          0.3857059012861465,
          0.9980034374445319,
          1.2369036414452386,
          -2.2112045923282877,
          -0.8039465980537963,
          1.2501257231512457,
          0.28072647683673607,
          0.8479650419673018,
          0.821856776990302,
          0.33703944666886576,
          0.2994135796999949,
          -1.0020739050520817,
          1.0492375923262964,
          1.4499683923774385,
          0.6771778865444542,
          -1.174173436607878,
          0.9380903401986462,
          0.7830429803693706,
          1.5612080447999004,
          -0.689867946889579,
          -0.012595428200974368,
          -0.07720029034540583,
          1.4459983734283515,
          -0.9818107095001324,
          1.192692753425027,
          -0.0427350127227039,
          -0.770256799555548,
          -2.325516663796394,
          -0.6431928762709359,
          0.3153997366164689,
          0.3874379394644579,
          1.039847925443799,
          -0.9392276561472361,
          0.030043034312859172,
          1.1374541985603328,
          -0.6299169960910088,
          -0.9632572236552438,
          0.46429902371477966,
          -0.21188270820025484,
          -1.071565489388745,
          -0.18972067388602754,
          -1.2528521719399608,
          0.15881994888242676,
          -0.0378086230861681,
          1.1167572500107146,
          0.0006074965995330983,
          -0.15191943738908428,
          1.55982623930444,
          0.6060812113709677,
          0.07197403153804605,
          -0.1892256296041631,
          0.3744916234702504,
          0.5371723431024327,
          0.3056813222755168,
          3.2724431765187476,
          0.5606360026261016,
          0.0797615201136642,
          2.1426154923643996,
          0.595063512231104,
          -2.0077243015777624,
          -1.3920962454797994,
          -1.496551961908376,
          0.7760365739615019,
          0.8822518019486779,
          1.0019935837931249,
          -0.6634189590571933,
          0.07849718855217555,
          0.059596466005808625,
          1.075688755634055,
          1.9898092690768672,
          0.05738664500122117,
          -1.1337520231610325,
          -0.25843487309297164,
          0.4268716302195559,
          -2.323477988994405,
          1.8390982353041838,
          1.2639675884889168,
          1.654235242842938
         ]
        }
       ],
       "layout": {
        "barmode": "overlay",
        "legend": {
         "bgcolor": "#F5F6F9",
         "font": {
          "color": "#4D5663"
         }
        },
        "paper_bgcolor": "#F5F6F9",
        "plot_bgcolor": "#F5F6F9",
        "template": {
         "data": {
          "bar": [
           {
            "error_x": {
             "color": "#2a3f5f"
            },
            "error_y": {
             "color": "#2a3f5f"
            },
            "marker": {
             "line": {
              "color": "#E5ECF6",
              "width": 0.5
             },
             "pattern": {
              "fillmode": "overlay",
              "size": 10,
              "solidity": 0.2
             }
            },
            "type": "bar"
           }
          ],
          "barpolar": [
           {
            "marker": {
             "line": {
              "color": "#E5ECF6",
              "width": 0.5
             },
             "pattern": {
              "fillmode": "overlay",
              "size": 10,
              "solidity": 0.2
             }
            },
            "type": "barpolar"
           }
          ],
          "carpet": [
           {
            "aaxis": {
             "endlinecolor": "#2a3f5f",
             "gridcolor": "white",
             "linecolor": "white",
             "minorgridcolor": "white",
             "startlinecolor": "#2a3f5f"
            },
            "baxis": {
             "endlinecolor": "#2a3f5f",
             "gridcolor": "white",
             "linecolor": "white",
             "minorgridcolor": "white",
             "startlinecolor": "#2a3f5f"
            },
            "type": "carpet"
           }
          ],
          "choropleth": [
           {
            "colorbar": {
             "outlinewidth": 0,
             "ticks": ""
            },
            "type": "choropleth"
           }
          ],
          "contour": [
           {
            "colorbar": {
             "outlinewidth": 0,
             "ticks": ""
            },
            "colorscale": [
             [
              0,
              "#0d0887"
             ],
             [
              0.1111111111111111,
              "#46039f"
             ],
             [
              0.2222222222222222,
              "#7201a8"
             ],
             [
              0.3333333333333333,
              "#9c179e"
             ],
             [
              0.4444444444444444,
              "#bd3786"
             ],
             [
              0.5555555555555556,
              "#d8576b"
             ],
             [
              0.6666666666666666,
              "#ed7953"
             ],
             [
              0.7777777777777778,
              "#fb9f3a"
             ],
             [
              0.8888888888888888,
              "#fdca26"
             ],
             [
              1,
              "#f0f921"
             ]
            ],
            "type": "contour"
           }
          ],
          "contourcarpet": [
           {
            "colorbar": {
             "outlinewidth": 0,
             "ticks": ""
            },
            "type": "contourcarpet"
           }
          ],
          "heatmap": [
           {
            "colorbar": {
             "outlinewidth": 0,
             "ticks": ""
            },
            "colorscale": [
             [
              0,
              "#0d0887"
             ],
             [
              0.1111111111111111,
              "#46039f"
             ],
             [
              0.2222222222222222,
              "#7201a8"
             ],
             [
              0.3333333333333333,
              "#9c179e"
             ],
             [
              0.4444444444444444,
              "#bd3786"
             ],
             [
              0.5555555555555556,
              "#d8576b"
             ],
             [
              0.6666666666666666,
              "#ed7953"
             ],
             [
              0.7777777777777778,
              "#fb9f3a"
             ],
             [
              0.8888888888888888,
              "#fdca26"
             ],
             [
              1,
              "#f0f921"
             ]
            ],
            "type": "heatmap"
           }
          ],
          "heatmapgl": [
           {
            "colorbar": {
             "outlinewidth": 0,
             "ticks": ""
            },
            "colorscale": [
             [
              0,
              "#0d0887"
             ],
             [
              0.1111111111111111,
              "#46039f"
             ],
             [
              0.2222222222222222,
              "#7201a8"
             ],
             [
              0.3333333333333333,
              "#9c179e"
             ],
             [
              0.4444444444444444,
              "#bd3786"
             ],
             [
              0.5555555555555556,
              "#d8576b"
             ],
             [
              0.6666666666666666,
              "#ed7953"
             ],
             [
              0.7777777777777778,
              "#fb9f3a"
             ],
             [
              0.8888888888888888,
              "#fdca26"
             ],
             [
              1,
              "#f0f921"
             ]
            ],
            "type": "heatmapgl"
           }
          ],
          "histogram": [
           {
            "marker": {
             "pattern": {
              "fillmode": "overlay",
              "size": 10,
              "solidity": 0.2
             }
            },
            "type": "histogram"
           }
          ],
          "histogram2d": [
           {
            "colorbar": {
             "outlinewidth": 0,
             "ticks": ""
            },
            "colorscale": [
             [
              0,
              "#0d0887"
             ],
             [
              0.1111111111111111,
              "#46039f"
             ],
             [
              0.2222222222222222,
              "#7201a8"
             ],
             [
              0.3333333333333333,
              "#9c179e"
             ],
             [
              0.4444444444444444,
              "#bd3786"
             ],
             [
              0.5555555555555556,
              "#d8576b"
             ],
             [
              0.6666666666666666,
              "#ed7953"
             ],
             [
              0.7777777777777778,
              "#fb9f3a"
             ],
             [
              0.8888888888888888,
              "#fdca26"
             ],
             [
              1,
              "#f0f921"
             ]
            ],
            "type": "histogram2d"
           }
          ],
          "histogram2dcontour": [
           {
            "colorbar": {
             "outlinewidth": 0,
             "ticks": ""
            },
            "colorscale": [
             [
              0,
              "#0d0887"
             ],
             [
              0.1111111111111111,
              "#46039f"
             ],
             [
              0.2222222222222222,
              "#7201a8"
             ],
             [
              0.3333333333333333,
              "#9c179e"
             ],
             [
              0.4444444444444444,
              "#bd3786"
             ],
             [
              0.5555555555555556,
              "#d8576b"
             ],
             [
              0.6666666666666666,
              "#ed7953"
             ],
             [
              0.7777777777777778,
              "#fb9f3a"
             ],
             [
              0.8888888888888888,
              "#fdca26"
             ],
             [
              1,
              "#f0f921"
             ]
            ],
            "type": "histogram2dcontour"
           }
          ],
          "mesh3d": [
           {
            "colorbar": {
             "outlinewidth": 0,
             "ticks": ""
            },
            "type": "mesh3d"
           }
          ],
          "parcoords": [
           {
            "line": {
             "colorbar": {
              "outlinewidth": 0,
              "ticks": ""
             }
            },
            "type": "parcoords"
           }
          ],
          "pie": [
           {
            "automargin": true,
            "type": "pie"
           }
          ],
          "scatter": [
           {
            "marker": {
             "colorbar": {
              "outlinewidth": 0,
              "ticks": ""
             }
            },
            "type": "scatter"
           }
          ],
          "scatter3d": [
           {
            "line": {
             "colorbar": {
              "outlinewidth": 0,
              "ticks": ""
             }
            },
            "marker": {
             "colorbar": {
              "outlinewidth": 0,
              "ticks": ""
             }
            },
            "type": "scatter3d"
           }
          ],
          "scattercarpet": [
           {
            "marker": {
             "colorbar": {
              "outlinewidth": 0,
              "ticks": ""
             }
            },
            "type": "scattercarpet"
           }
          ],
          "scattergeo": [
           {
            "marker": {
             "colorbar": {
              "outlinewidth": 0,
              "ticks": ""
             }
            },
            "type": "scattergeo"
           }
          ],
          "scattergl": [
           {
            "marker": {
             "colorbar": {
              "outlinewidth": 0,
              "ticks": ""
             }
            },
            "type": "scattergl"
           }
          ],
          "scattermapbox": [
           {
            "marker": {
             "colorbar": {
              "outlinewidth": 0,
              "ticks": ""
             }
            },
            "type": "scattermapbox"
           }
          ],
          "scatterpolar": [
           {
            "marker": {
             "colorbar": {
              "outlinewidth": 0,
              "ticks": ""
             }
            },
            "type": "scatterpolar"
           }
          ],
          "scatterpolargl": [
           {
            "marker": {
             "colorbar": {
              "outlinewidth": 0,
              "ticks": ""
             }
            },
            "type": "scatterpolargl"
           }
          ],
          "scatterternary": [
           {
            "marker": {
             "colorbar": {
              "outlinewidth": 0,
              "ticks": ""
             }
            },
            "type": "scatterternary"
           }
          ],
          "surface": [
           {
            "colorbar": {
             "outlinewidth": 0,
             "ticks": ""
            },
            "colorscale": [
             [
              0,
              "#0d0887"
             ],
             [
              0.1111111111111111,
              "#46039f"
             ],
             [
              0.2222222222222222,
              "#7201a8"
             ],
             [
              0.3333333333333333,
              "#9c179e"
             ],
             [
              0.4444444444444444,
              "#bd3786"
             ],
             [
              0.5555555555555556,
              "#d8576b"
             ],
             [
              0.6666666666666666,
              "#ed7953"
             ],
             [
              0.7777777777777778,
              "#fb9f3a"
             ],
             [
              0.8888888888888888,
              "#fdca26"
             ],
             [
              1,
              "#f0f921"
             ]
            ],
            "type": "surface"
           }
          ],
          "table": [
           {
            "cells": {
             "fill": {
              "color": "#EBF0F8"
             },
             "line": {
              "color": "white"
             }
            },
            "header": {
             "fill": {
              "color": "#C8D4E3"
             },
             "line": {
              "color": "white"
             }
            },
            "type": "table"
           }
          ]
         },
         "layout": {
          "annotationdefaults": {
           "arrowcolor": "#2a3f5f",
           "arrowhead": 0,
           "arrowwidth": 1
          },
          "autotypenumbers": "strict",
          "coloraxis": {
           "colorbar": {
            "outlinewidth": 0,
            "ticks": ""
           }
          },
          "colorscale": {
           "diverging": [
            [
             0,
             "#8e0152"
            ],
            [
             0.1,
             "#c51b7d"
            ],
            [
             0.2,
             "#de77ae"
            ],
            [
             0.3,
             "#f1b6da"
            ],
            [
             0.4,
             "#fde0ef"
            ],
            [
             0.5,
             "#f7f7f7"
            ],
            [
             0.6,
             "#e6f5d0"
            ],
            [
             0.7,
             "#b8e186"
            ],
            [
             0.8,
             "#7fbc41"
            ],
            [
             0.9,
             "#4d9221"
            ],
            [
             1,
             "#276419"
            ]
           ],
           "sequential": [
            [
             0,
             "#0d0887"
            ],
            [
             0.1111111111111111,
             "#46039f"
            ],
            [
             0.2222222222222222,
             "#7201a8"
            ],
            [
             0.3333333333333333,
             "#9c179e"
            ],
            [
             0.4444444444444444,
             "#bd3786"
            ],
            [
             0.5555555555555556,
             "#d8576b"
            ],
            [
             0.6666666666666666,
             "#ed7953"
            ],
            [
             0.7777777777777778,
             "#fb9f3a"
            ],
            [
             0.8888888888888888,
             "#fdca26"
            ],
            [
             1,
             "#f0f921"
            ]
           ],
           "sequentialminus": [
            [
             0,
             "#0d0887"
            ],
            [
             0.1111111111111111,
             "#46039f"
            ],
            [
             0.2222222222222222,
             "#7201a8"
            ],
            [
             0.3333333333333333,
             "#9c179e"
            ],
            [
             0.4444444444444444,
             "#bd3786"
            ],
            [
             0.5555555555555556,
             "#d8576b"
            ],
            [
             0.6666666666666666,
             "#ed7953"
            ],
            [
             0.7777777777777778,
             "#fb9f3a"
            ],
            [
             0.8888888888888888,
             "#fdca26"
            ],
            [
             1,
             "#f0f921"
            ]
           ]
          },
          "colorway": [
           "#636efa",
           "#EF553B",
           "#00cc96",
           "#ab63fa",
           "#FFA15A",
           "#19d3f3",
           "#FF6692",
           "#B6E880",
           "#FF97FF",
           "#FECB52"
          ],
          "font": {
           "color": "#2a3f5f"
          },
          "geo": {
           "bgcolor": "white",
           "lakecolor": "white",
           "landcolor": "#E5ECF6",
           "showlakes": true,
           "showland": true,
           "subunitcolor": "white"
          },
          "hoverlabel": {
           "align": "left"
          },
          "hovermode": "closest",
          "mapbox": {
           "style": "light"
          },
          "paper_bgcolor": "white",
          "plot_bgcolor": "#E5ECF6",
          "polar": {
           "angularaxis": {
            "gridcolor": "white",
            "linecolor": "white",
            "ticks": ""
           },
           "bgcolor": "#E5ECF6",
           "radialaxis": {
            "gridcolor": "white",
            "linecolor": "white",
            "ticks": ""
           }
          },
          "scene": {
           "xaxis": {
            "backgroundcolor": "#E5ECF6",
            "gridcolor": "white",
            "gridwidth": 2,
            "linecolor": "white",
            "showbackground": true,
            "ticks": "",
            "zerolinecolor": "white"
           },
           "yaxis": {
            "backgroundcolor": "#E5ECF6",
            "gridcolor": "white",
            "gridwidth": 2,
            "linecolor": "white",
            "showbackground": true,
            "ticks": "",
            "zerolinecolor": "white"
           },
           "zaxis": {
            "backgroundcolor": "#E5ECF6",
            "gridcolor": "white",
            "gridwidth": 2,
            "linecolor": "white",
            "showbackground": true,
            "ticks": "",
            "zerolinecolor": "white"
           }
          },
          "shapedefaults": {
           "line": {
            "color": "#2a3f5f"
           }
          },
          "ternary": {
           "aaxis": {
            "gridcolor": "white",
            "linecolor": "white",
            "ticks": ""
           },
           "baxis": {
            "gridcolor": "white",
            "linecolor": "white",
            "ticks": ""
           },
           "bgcolor": "#E5ECF6",
           "caxis": {
            "gridcolor": "white",
            "linecolor": "white",
            "ticks": ""
           }
          },
          "title": {
           "x": 0.05
          },
          "xaxis": {
           "automargin": true,
           "gridcolor": "white",
           "linecolor": "white",
           "ticks": "",
           "title": {
            "standoff": 15
           },
           "zerolinecolor": "white",
           "zerolinewidth": 2
          },
          "yaxis": {
           "automargin": true,
           "gridcolor": "white",
           "linecolor": "white",
           "ticks": "",
           "title": {
            "standoff": 15
           },
           "zerolinecolor": "white",
           "zerolinewidth": 2
          }
         }
        },
        "title": {
         "font": {
          "color": "#4D5663"
         }
        },
        "xaxis": {
         "gridcolor": "#E1E5ED",
         "showgrid": true,
         "tickfont": {
          "color": "#4D5663"
         },
         "title": {
          "font": {
           "color": "#4D5663"
          },
          "text": ""
         },
         "zerolinecolor": "#E1E5ED"
        },
        "yaxis": {
         "gridcolor": "#E1E5ED",
         "showgrid": true,
         "tickfont": {
          "color": "#4D5663"
         },
         "title": {
          "font": {
           "color": "#4D5663"
          },
          "text": ""
         },
         "zerolinecolor": "#E1E5ED"
        }
       }
      },
      "text/html": [
       "<div>                            <div id=\"c237a935-cd63-4cac-8d65-119ff6efc826\" class=\"plotly-graph-div\" style=\"height:525px; width:100%;\"></div>            <script type=\"text/javascript\">                require([\"plotly\"], function(Plotly) {                    window.PLOTLYENV=window.PLOTLYENV || {};\n",
       "                    window.PLOTLYENV.BASE_URL='https://plot.ly';                                    if (document.getElementById(\"c237a935-cd63-4cac-8d65-119ff6efc826\")) {                    Plotly.newPlot(                        \"c237a935-cd63-4cac-8d65-119ff6efc826\",                        [{\"histfunc\":\"count\",\"histnorm\":\"\",\"marker\":{\"color\":\"rgba(255, 153, 51, 1.0)\",\"line\":{\"color\":\"#4D5663\",\"width\":1.3}},\"name\":\"A\",\"nbinsx\":40,\"opacity\":0.8,\"orientation\":\"v\",\"type\":\"histogram\",\"x\":[0.20858928925374165,-0.4342659365804992,0.15224425972204558,-1.4076364859048878,-1.8787133030357686,1.1141016130474,-0.014856903124838405,2.2980934492830407,-0.04537892657460305,0.37251593394002713,1.3160112807008706,-0.17426433245318806,-1.0676051347476219,0.35048603503154846,1.3995954370148027,0.31417325524307427,-0.03901252898133603,-0.7815522712797063,-1.4657470354223352,-0.10963875683423577,0.3414618118686473,1.8556025363714947,0.3857059012861465,0.9980034374445319,1.2369036414452386,-2.2112045923282877,-0.8039465980537963,1.2501257231512457,0.28072647683673607,0.8479650419673018,0.821856776990302,0.33703944666886576,0.2994135796999949,-1.0020739050520817,1.0492375923262964,1.4499683923774385,0.6771778865444542,-1.174173436607878,0.9380903401986462,0.7830429803693706,1.5612080447999004,-0.689867946889579,-0.012595428200974368,-0.07720029034540583,1.4459983734283515,-0.9818107095001324,1.192692753425027,-0.0427350127227039,-0.770256799555548,-2.325516663796394,-0.6431928762709359,0.3153997366164689,0.3874379394644579,1.039847925443799,-0.9392276561472361,0.030043034312859172,1.1374541985603328,-0.6299169960910088,-0.9632572236552438,0.46429902371477966,-0.21188270820025484,-1.071565489388745,-0.18972067388602754,-1.2528521719399608,0.15881994888242676,-0.0378086230861681,1.1167572500107146,0.0006074965995330983,-0.15191943738908428,1.55982623930444,0.6060812113709677,0.07197403153804605,-0.1892256296041631,0.3744916234702504,0.5371723431024327,0.3056813222755168,3.2724431765187476,0.5606360026261016,0.0797615201136642,2.1426154923643996,0.595063512231104,-2.0077243015777624,-1.3920962454797994,-1.496551961908376,0.7760365739615019,0.8822518019486779,1.0019935837931249,-0.6634189590571933,0.07849718855217555,0.059596466005808625,1.075688755634055,1.9898092690768672,0.05738664500122117,-1.1337520231610325,-0.25843487309297164,0.4268716302195559,-2.323477988994405,1.8390982353041838,1.2639675884889168,1.654235242842938]}],                        {\"barmode\":\"overlay\",\"legend\":{\"bgcolor\":\"#F5F6F9\",\"font\":{\"color\":\"#4D5663\"}},\"paper_bgcolor\":\"#F5F6F9\",\"plot_bgcolor\":\"#F5F6F9\",\"template\":{\"data\":{\"bar\":[{\"error_x\":{\"color\":\"#2a3f5f\"},\"error_y\":{\"color\":\"#2a3f5f\"},\"marker\":{\"line\":{\"color\":\"#E5ECF6\",\"width\":0.5},\"pattern\":{\"fillmode\":\"overlay\",\"size\":10,\"solidity\":0.2}},\"type\":\"bar\"}],\"barpolar\":[{\"marker\":{\"line\":{\"color\":\"#E5ECF6\",\"width\":0.5},\"pattern\":{\"fillmode\":\"overlay\",\"size\":10,\"solidity\":0.2}},\"type\":\"barpolar\"}],\"carpet\":[{\"aaxis\":{\"endlinecolor\":\"#2a3f5f\",\"gridcolor\":\"white\",\"linecolor\":\"white\",\"minorgridcolor\":\"white\",\"startlinecolor\":\"#2a3f5f\"},\"baxis\":{\"endlinecolor\":\"#2a3f5f\",\"gridcolor\":\"white\",\"linecolor\":\"white\",\"minorgridcolor\":\"white\",\"startlinecolor\":\"#2a3f5f\"},\"type\":\"carpet\"}],\"choropleth\":[{\"colorbar\":{\"outlinewidth\":0,\"ticks\":\"\"},\"type\":\"choropleth\"}],\"contour\":[{\"colorbar\":{\"outlinewidth\":0,\"ticks\":\"\"},\"colorscale\":[[0.0,\"#0d0887\"],[0.1111111111111111,\"#46039f\"],[0.2222222222222222,\"#7201a8\"],[0.3333333333333333,\"#9c179e\"],[0.4444444444444444,\"#bd3786\"],[0.5555555555555556,\"#d8576b\"],[0.6666666666666666,\"#ed7953\"],[0.7777777777777778,\"#fb9f3a\"],[0.8888888888888888,\"#fdca26\"],[1.0,\"#f0f921\"]],\"type\":\"contour\"}],\"contourcarpet\":[{\"colorbar\":{\"outlinewidth\":0,\"ticks\":\"\"},\"type\":\"contourcarpet\"}],\"heatmap\":[{\"colorbar\":{\"outlinewidth\":0,\"ticks\":\"\"},\"colorscale\":[[0.0,\"#0d0887\"],[0.1111111111111111,\"#46039f\"],[0.2222222222222222,\"#7201a8\"],[0.3333333333333333,\"#9c179e\"],[0.4444444444444444,\"#bd3786\"],[0.5555555555555556,\"#d8576b\"],[0.6666666666666666,\"#ed7953\"],[0.7777777777777778,\"#fb9f3a\"],[0.8888888888888888,\"#fdca26\"],[1.0,\"#f0f921\"]],\"type\":\"heatmap\"}],\"heatmapgl\":[{\"colorbar\":{\"outlinewidth\":0,\"ticks\":\"\"},\"colorscale\":[[0.0,\"#0d0887\"],[0.1111111111111111,\"#46039f\"],[0.2222222222222222,\"#7201a8\"],[0.3333333333333333,\"#9c179e\"],[0.4444444444444444,\"#bd3786\"],[0.5555555555555556,\"#d8576b\"],[0.6666666666666666,\"#ed7953\"],[0.7777777777777778,\"#fb9f3a\"],[0.8888888888888888,\"#fdca26\"],[1.0,\"#f0f921\"]],\"type\":\"heatmapgl\"}],\"histogram\":[{\"marker\":{\"pattern\":{\"fillmode\":\"overlay\",\"size\":10,\"solidity\":0.2}},\"type\":\"histogram\"}],\"histogram2d\":[{\"colorbar\":{\"outlinewidth\":0,\"ticks\":\"\"},\"colorscale\":[[0.0,\"#0d0887\"],[0.1111111111111111,\"#46039f\"],[0.2222222222222222,\"#7201a8\"],[0.3333333333333333,\"#9c179e\"],[0.4444444444444444,\"#bd3786\"],[0.5555555555555556,\"#d8576b\"],[0.6666666666666666,\"#ed7953\"],[0.7777777777777778,\"#fb9f3a\"],[0.8888888888888888,\"#fdca26\"],[1.0,\"#f0f921\"]],\"type\":\"histogram2d\"}],\"histogram2dcontour\":[{\"colorbar\":{\"outlinewidth\":0,\"ticks\":\"\"},\"colorscale\":[[0.0,\"#0d0887\"],[0.1111111111111111,\"#46039f\"],[0.2222222222222222,\"#7201a8\"],[0.3333333333333333,\"#9c179e\"],[0.4444444444444444,\"#bd3786\"],[0.5555555555555556,\"#d8576b\"],[0.6666666666666666,\"#ed7953\"],[0.7777777777777778,\"#fb9f3a\"],[0.8888888888888888,\"#fdca26\"],[1.0,\"#f0f921\"]],\"type\":\"histogram2dcontour\"}],\"mesh3d\":[{\"colorbar\":{\"outlinewidth\":0,\"ticks\":\"\"},\"type\":\"mesh3d\"}],\"parcoords\":[{\"line\":{\"colorbar\":{\"outlinewidth\":0,\"ticks\":\"\"}},\"type\":\"parcoords\"}],\"pie\":[{\"automargin\":true,\"type\":\"pie\"}],\"scatter\":[{\"marker\":{\"colorbar\":{\"outlinewidth\":0,\"ticks\":\"\"}},\"type\":\"scatter\"}],\"scatter3d\":[{\"line\":{\"colorbar\":{\"outlinewidth\":0,\"ticks\":\"\"}},\"marker\":{\"colorbar\":{\"outlinewidth\":0,\"ticks\":\"\"}},\"type\":\"scatter3d\"}],\"scattercarpet\":[{\"marker\":{\"colorbar\":{\"outlinewidth\":0,\"ticks\":\"\"}},\"type\":\"scattercarpet\"}],\"scattergeo\":[{\"marker\":{\"colorbar\":{\"outlinewidth\":0,\"ticks\":\"\"}},\"type\":\"scattergeo\"}],\"scattergl\":[{\"marker\":{\"colorbar\":{\"outlinewidth\":0,\"ticks\":\"\"}},\"type\":\"scattergl\"}],\"scattermapbox\":[{\"marker\":{\"colorbar\":{\"outlinewidth\":0,\"ticks\":\"\"}},\"type\":\"scattermapbox\"}],\"scatterpolar\":[{\"marker\":{\"colorbar\":{\"outlinewidth\":0,\"ticks\":\"\"}},\"type\":\"scatterpolar\"}],\"scatterpolargl\":[{\"marker\":{\"colorbar\":{\"outlinewidth\":0,\"ticks\":\"\"}},\"type\":\"scatterpolargl\"}],\"scatterternary\":[{\"marker\":{\"colorbar\":{\"outlinewidth\":0,\"ticks\":\"\"}},\"type\":\"scatterternary\"}],\"surface\":[{\"colorbar\":{\"outlinewidth\":0,\"ticks\":\"\"},\"colorscale\":[[0.0,\"#0d0887\"],[0.1111111111111111,\"#46039f\"],[0.2222222222222222,\"#7201a8\"],[0.3333333333333333,\"#9c179e\"],[0.4444444444444444,\"#bd3786\"],[0.5555555555555556,\"#d8576b\"],[0.6666666666666666,\"#ed7953\"],[0.7777777777777778,\"#fb9f3a\"],[0.8888888888888888,\"#fdca26\"],[1.0,\"#f0f921\"]],\"type\":\"surface\"}],\"table\":[{\"cells\":{\"fill\":{\"color\":\"#EBF0F8\"},\"line\":{\"color\":\"white\"}},\"header\":{\"fill\":{\"color\":\"#C8D4E3\"},\"line\":{\"color\":\"white\"}},\"type\":\"table\"}]},\"layout\":{\"annotationdefaults\":{\"arrowcolor\":\"#2a3f5f\",\"arrowhead\":0,\"arrowwidth\":1},\"autotypenumbers\":\"strict\",\"coloraxis\":{\"colorbar\":{\"outlinewidth\":0,\"ticks\":\"\"}},\"colorscale\":{\"diverging\":[[0,\"#8e0152\"],[0.1,\"#c51b7d\"],[0.2,\"#de77ae\"],[0.3,\"#f1b6da\"],[0.4,\"#fde0ef\"],[0.5,\"#f7f7f7\"],[0.6,\"#e6f5d0\"],[0.7,\"#b8e186\"],[0.8,\"#7fbc41\"],[0.9,\"#4d9221\"],[1,\"#276419\"]],\"sequential\":[[0.0,\"#0d0887\"],[0.1111111111111111,\"#46039f\"],[0.2222222222222222,\"#7201a8\"],[0.3333333333333333,\"#9c179e\"],[0.4444444444444444,\"#bd3786\"],[0.5555555555555556,\"#d8576b\"],[0.6666666666666666,\"#ed7953\"],[0.7777777777777778,\"#fb9f3a\"],[0.8888888888888888,\"#fdca26\"],[1.0,\"#f0f921\"]],\"sequentialminus\":[[0.0,\"#0d0887\"],[0.1111111111111111,\"#46039f\"],[0.2222222222222222,\"#7201a8\"],[0.3333333333333333,\"#9c179e\"],[0.4444444444444444,\"#bd3786\"],[0.5555555555555556,\"#d8576b\"],[0.6666666666666666,\"#ed7953\"],[0.7777777777777778,\"#fb9f3a\"],[0.8888888888888888,\"#fdca26\"],[1.0,\"#f0f921\"]]},\"colorway\":[\"#636efa\",\"#EF553B\",\"#00cc96\",\"#ab63fa\",\"#FFA15A\",\"#19d3f3\",\"#FF6692\",\"#B6E880\",\"#FF97FF\",\"#FECB52\"],\"font\":{\"color\":\"#2a3f5f\"},\"geo\":{\"bgcolor\":\"white\",\"lakecolor\":\"white\",\"landcolor\":\"#E5ECF6\",\"showlakes\":true,\"showland\":true,\"subunitcolor\":\"white\"},\"hoverlabel\":{\"align\":\"left\"},\"hovermode\":\"closest\",\"mapbox\":{\"style\":\"light\"},\"paper_bgcolor\":\"white\",\"plot_bgcolor\":\"#E5ECF6\",\"polar\":{\"angularaxis\":{\"gridcolor\":\"white\",\"linecolor\":\"white\",\"ticks\":\"\"},\"bgcolor\":\"#E5ECF6\",\"radialaxis\":{\"gridcolor\":\"white\",\"linecolor\":\"white\",\"ticks\":\"\"}},\"scene\":{\"xaxis\":{\"backgroundcolor\":\"#E5ECF6\",\"gridcolor\":\"white\",\"gridwidth\":2,\"linecolor\":\"white\",\"showbackground\":true,\"ticks\":\"\",\"zerolinecolor\":\"white\"},\"yaxis\":{\"backgroundcolor\":\"#E5ECF6\",\"gridcolor\":\"white\",\"gridwidth\":2,\"linecolor\":\"white\",\"showbackground\":true,\"ticks\":\"\",\"zerolinecolor\":\"white\"},\"zaxis\":{\"backgroundcolor\":\"#E5ECF6\",\"gridcolor\":\"white\",\"gridwidth\":2,\"linecolor\":\"white\",\"showbackground\":true,\"ticks\":\"\",\"zerolinecolor\":\"white\"}},\"shapedefaults\":{\"line\":{\"color\":\"#2a3f5f\"}},\"ternary\":{\"aaxis\":{\"gridcolor\":\"white\",\"linecolor\":\"white\",\"ticks\":\"\"},\"baxis\":{\"gridcolor\":\"white\",\"linecolor\":\"white\",\"ticks\":\"\"},\"bgcolor\":\"#E5ECF6\",\"caxis\":{\"gridcolor\":\"white\",\"linecolor\":\"white\",\"ticks\":\"\"}},\"title\":{\"x\":0.05},\"xaxis\":{\"automargin\":true,\"gridcolor\":\"white\",\"linecolor\":\"white\",\"ticks\":\"\",\"title\":{\"standoff\":15},\"zerolinecolor\":\"white\",\"zerolinewidth\":2},\"yaxis\":{\"automargin\":true,\"gridcolor\":\"white\",\"linecolor\":\"white\",\"ticks\":\"\",\"title\":{\"standoff\":15},\"zerolinecolor\":\"white\",\"zerolinewidth\":2}}},\"title\":{\"font\":{\"color\":\"#4D5663\"}},\"xaxis\":{\"gridcolor\":\"#E1E5ED\",\"showgrid\":true,\"tickfont\":{\"color\":\"#4D5663\"},\"title\":{\"font\":{\"color\":\"#4D5663\"},\"text\":\"\"},\"zerolinecolor\":\"#E1E5ED\"},\"yaxis\":{\"gridcolor\":\"#E1E5ED\",\"showgrid\":true,\"tickfont\":{\"color\":\"#4D5663\"},\"title\":{\"font\":{\"color\":\"#4D5663\"},\"text\":\"\"},\"zerolinecolor\":\"#E1E5ED\"}},                        {\"showLink\": true, \"linkText\": \"Export to plot.ly\", \"plotlyServerURL\": \"https://plot.ly\", \"responsive\": true}                    ).then(function(){\n",
       "                            \n",
       "var gd = document.getElementById('c237a935-cd63-4cac-8d65-119ff6efc826');\n",
       "var x = new MutationObserver(function (mutations, observer) {{\n",
       "        var display = window.getComputedStyle(gd).display;\n",
       "        if (!display || display === 'none') {{\n",
       "            console.log([gd, 'removed!']);\n",
       "            Plotly.purge(gd);\n",
       "            observer.disconnect();\n",
       "        }}\n",
       "}});\n",
       "\n",
       "// Listen for the removal of the full notebook cells\n",
       "var notebookContainer = gd.closest('#notebook-container');\n",
       "if (notebookContainer) {{\n",
       "    x.observe(notebookContainer, {childList: true});\n",
       "}}\n",
       "\n",
       "// Listen for the clearing of the current output cell\n",
       "var outputEl = gd.closest('.output');\n",
       "if (outputEl) {{\n",
       "    x.observe(outputEl, {childList: true});\n",
       "}}\n",
       "\n",
       "                        })                };                });            </script>        </div>"
      ]
     },
     "metadata": {},
     "output_type": "display_data"
    }
   ],
   "source": [
    "df[\"A\"].iplot(kind='hist',bins=40)"
   ]
  },
  {
   "cell_type": "code",
   "execution_count": 34,
   "id": "7d12e52d",
   "metadata": {},
   "outputs": [
    {
     "data": {
      "application/vnd.plotly.v1+json": {
       "config": {
        "linkText": "Export to plot.ly",
        "plotlyServerURL": "https://plot.ly",
        "showLink": true
       },
       "data": [
        {
         "histfunc": "count",
         "histnorm": "",
         "marker": {
          "color": "rgba(255, 153, 51, 1.0)",
          "line": {
           "color": "#4D5663",
           "width": 1.3
          }
         },
         "name": "A",
         "nbinsx": 40,
         "opacity": 0.8,
         "orientation": "v",
         "type": "histogram",
         "x": [
          0.20858928925374165,
          -0.4342659365804992,
          0.15224425972204558,
          -1.4076364859048878,
          -1.8787133030357686,
          1.1141016130474,
          -0.014856903124838405,
          2.2980934492830407,
          -0.04537892657460305,
          0.37251593394002713,
          1.3160112807008706,
          -0.17426433245318806,
          -1.0676051347476219,
          0.35048603503154846,
          1.3995954370148027,
          0.31417325524307427,
          -0.03901252898133603,
          -0.7815522712797063,
          -1.4657470354223352,
          -0.10963875683423577,
          0.3414618118686473,
          1.8556025363714947,
          0.3857059012861465,
          0.9980034374445319,
          1.2369036414452386,
          -2.2112045923282877,
          -0.8039465980537963,
          1.2501257231512457,
          0.28072647683673607,
          0.8479650419673018,
          0.821856776990302,
          0.33703944666886576,
          0.2994135796999949,
          -1.0020739050520817,
          1.0492375923262964,
          1.4499683923774385,
          0.6771778865444542,
          -1.174173436607878,
          0.9380903401986462,
          0.7830429803693706,
          1.5612080447999004,
          -0.689867946889579,
          -0.012595428200974368,
          -0.07720029034540583,
          1.4459983734283515,
          -0.9818107095001324,
          1.192692753425027,
          -0.0427350127227039,
          -0.770256799555548,
          -2.325516663796394,
          -0.6431928762709359,
          0.3153997366164689,
          0.3874379394644579,
          1.039847925443799,
          -0.9392276561472361,
          0.030043034312859172,
          1.1374541985603328,
          -0.6299169960910088,
          -0.9632572236552438,
          0.46429902371477966,
          -0.21188270820025484,
          -1.071565489388745,
          -0.18972067388602754,
          -1.2528521719399608,
          0.15881994888242676,
          -0.0378086230861681,
          1.1167572500107146,
          0.0006074965995330983,
          -0.15191943738908428,
          1.55982623930444,
          0.6060812113709677,
          0.07197403153804605,
          -0.1892256296041631,
          0.3744916234702504,
          0.5371723431024327,
          0.3056813222755168,
          3.2724431765187476,
          0.5606360026261016,
          0.0797615201136642,
          2.1426154923643996,
          0.595063512231104,
          -2.0077243015777624,
          -1.3920962454797994,
          -1.496551961908376,
          0.7760365739615019,
          0.8822518019486779,
          1.0019935837931249,
          -0.6634189590571933,
          0.07849718855217555,
          0.059596466005808625,
          1.075688755634055,
          1.9898092690768672,
          0.05738664500122117,
          -1.1337520231610325,
          -0.25843487309297164,
          0.4268716302195559,
          -2.323477988994405,
          1.8390982353041838,
          1.2639675884889168,
          1.654235242842938
         ]
        },
        {
         "histfunc": "count",
         "histnorm": "",
         "marker": {
          "color": "rgba(55, 128, 191, 1.0)",
          "line": {
           "color": "#4D5663",
           "width": 1.3
          }
         },
         "name": "B",
         "nbinsx": 40,
         "opacity": 0.8,
         "orientation": "v",
         "type": "histogram",
         "x": [
          -1.0899935075648546,
          -0.3283429263413677,
          0.9249715866272701,
          2.265847442190619,
          -1.9679748652286901,
          0.3522242836497475,
          -0.7922871395287938,
          -0.9258406713634908,
          0.8115272195253244,
          -1.477270976719303,
          0.1618159952438024,
          -0.4331539457009914,
          0.039311567111366276,
          -0.02441439939200614,
          0.6172117332234927,
          -2.340081944963553,
          3.1702114209761914,
          -0.36332764722503386,
          -0.4907725595838416,
          0.7908863334448771,
          -1.3709915008208202,
          0.5630076301719508,
          -0.08132772990151602,
          0.23855039987494617,
          -0.36783653113759457,
          -2.0583162396779198,
          0.41011426019927305,
          0.7360262123316557,
          0.8578455480892391,
          0.6692212126530874,
          -0.29193924207135413,
          -0.010428464535667108,
          0.5827342576436385,
          0.8631295668999309,
          -0.3887628842023507,
          0.5621355659822822,
          0.41242643202681245,
          0.5400452510501995,
          -0.8622450348007333,
          0.8373961616003691,
          0.7075403616234199,
          1.50682059694962,
          -0.8579989529337081,
          1.966217498627032,
          -0.8842888279114438,
          -0.14063222009410747,
          0.1560775565914649,
          -1.0318998613338433,
          0.6938332181045966,
          0.34902727031895114,
          -1.2083396070051455,
          2.2505048443521325,
          1.4625590755465416,
          -0.7392605820861616,
          1.290122175953878,
          0.03743177695407034,
          0.15447966905151658,
          -0.5941001153821971,
          0.41401637666917435,
          0.43185474659107764,
          -0.48564289964242224,
          0.2120732808572052,
          -1.2176504747328385,
          -0.15447459880849224,
          0.04952072542198867,
          0.016467999256636306,
          -0.5074883377420486,
          0.2853198976723749,
          1.617705760844643,
          1.677555201770505,
          0.27528939747803033,
          1.2810400539729732,
          -0.33070951242102525,
          1.044671936262385,
          0.07747716330923368,
          0.3114697652518498,
          -1.156964461310973,
          0.7046737117632361,
          0.17166399704921553,
          0.046391761412236276,
          2.0237011484840295,
          1.0508124503427356,
          0.7633037621767298,
          0.910230795208631,
          -0.6860382779231162,
          0.8414355798852678,
          0.20068154971940383,
          -0.43766497984189995,
          -1.4456137666739453,
          0.04206249677159624,
          -1.7378780010870498,
          0.3317607911741303,
          -0.3960625890982911,
          0.20891188425239193,
          1.7533600297381258,
          -0.5744757529482349,
          -1.2890173304854928,
          -0.8397499635573618,
          -0.2703194128703838,
          0.4006493372053976
         ]
        },
        {
         "histfunc": "count",
         "histnorm": "",
         "marker": {
          "color": "rgba(50, 171, 96, 1.0)",
          "line": {
           "color": "#4D5663",
           "width": 1.3
          }
         },
         "name": "C",
         "nbinsx": 40,
         "opacity": 0.8,
         "orientation": "v",
         "type": "histogram",
         "x": [
          -0.6050978556691786,
          -0.9035483715588414,
          1.3999062316779856,
          0.20326625575656562,
          0.7748660360296203,
          1.382118835963103,
          -0.3449663271423684,
          -0.3125784862581155,
          -0.3921021582767679,
          -0.4672365319648652,
          -0.9176971919965744,
          -0.9407683863484179,
          -0.02051094093615628,
          -0.4845090081884112,
          -0.9027760486508982,
          0.45408000372627855,
          1.7797168946307709,
          -0.849954913019187,
          -0.9497738918589689,
          1.115584553680479,
          0.47623968737877737,
          0.6777243804013798,
          -2.423385402585716,
          -0.05998903497391833,
          0.9528474830183917,
          1.9451072560078173,
          -0.7205616932622801,
          0.24869698730886125,
          0.12593843046885547,
          -0.7613039250440969,
          -1.1934815064129642,
          0.32847093291618723,
          0.03042686379748063,
          0.3638589261743581,
          0.8672123584073379,
          -0.5191918572545234,
          0.045873495741145395,
          -0.4991378312981569,
          0.4760864075563409,
          2.133103606272648,
          -1.6368622660538275,
          -0.8647663574169911,
          -0.2386827785058121,
          0.6514580767202643,
          -2.39366962919686,
          0.7847164416846397,
          1.4776485033235072,
          -0.8468678129426838,
          -0.1399453487715599,
          -1.4576847799303292,
          -0.16729265391285816,
          0.8104599304351691,
          0.44724150958933034,
          -0.239863791295954,
          -0.39865955278054077,
          0.392382842023195,
          0.21053559716010317,
          -0.7026716843649459,
          0.20157416306770357,
          -1.2431794473942575,
          0.9913120029212691,
          -0.17674562111069766,
          -0.8865370921684598,
          1.2678131780640376,
          0.6474985704541698,
          -0.675859866962432,
          2.2130088393476632,
          -0.8751745286308837,
          -0.7309748412210775,
          -0.7061573864067572,
          1.7191649168663734,
          -0.90654523833935,
          0.9234141064550748,
          -1.006326053603848,
          -0.15565505313829398,
          1.258680446450928,
          -0.82459549301541,
          -0.6941048482250396,
          -1.1526300782529277,
          -1.9408024035122222,
          -0.7066046066198953,
          -0.13820084983001243,
          0.33007567967062035,
          0.20516895683465802,
          0.7541000686165579,
          -0.3309113870390968,
          -0.4936760267518312,
          2.572271277233446,
          -0.02605875203151911,
          0.08045314789924392,
          0.1584800938610056,
          0.6803979387509251,
          -1.3445148460765042,
          1.3938329499040125,
          -0.799184564003873,
          -1.4607223497438997,
          -0.9460192341940437,
          -1.4607146767131882,
          0.33623646045912176,
          0.3717802061751832
         ]
        },
        {
         "histfunc": "count",
         "histnorm": "",
         "marker": {
          "color": "rgba(128, 0, 128, 1.0)",
          "line": {
           "color": "#4D5663",
           "width": 1.3
          }
         },
         "name": "D",
         "nbinsx": 40,
         "opacity": 0.8,
         "orientation": "v",
         "type": "histogram",
         "x": [
          -1.7283455634015321,
          0.7922665076440077,
          0.3327252928057696,
          -0.8646777098209107,
          -0.5533280925795223,
          -0.7426238658744095,
          -0.6321761148537716,
          0.23147476775382012,
          -0.20636980974607427,
          -0.8524000612482501,
          1.6127960625700868,
          -1.2494970560420666,
          2.117783435195244,
          -1.4261041758635733,
          -0.8427016784683329,
          -0.41215725897321814,
          1.482039530159061,
          -0.8294156366297977,
          -1.7444749996017128,
          -1.1463065894063043,
          -0.23140954513387316,
          0.04924343091891973,
          -0.7911997067028309,
          0.2542396734334467,
          -0.42101767485548325,
          0.0343237840568151,
          0.016933566682258896,
          1.3545581510054157,
          0.4476058590792905,
          0.22846633647061299,
          -0.6360477412520456,
          0.3247900932617839,
          -0.13851588260334996,
          0.19749265328712912,
          0.2551145633023773,
          -0.6318291814297596,
          -0.05162998288644609,
          0.29304285314602707,
          0.6519757198392621,
          0.362920745861988,
          2.3164946789860945,
          3.0661980875647856,
          -0.2963504023189624,
          -0.8127184586877536,
          -2.2064787773448824,
          -0.7134226445069347,
          -0.043722477341506236,
          -0.7139044754895482,
          -0.538276291943493,
          1.4108829924568982,
          1.251182397487324,
          0.17089238880915805,
          0.07540264426533289,
          0.19832996717543896,
          0.056562449238566036,
          0.7629953537674873,
          0.6954930495616684,
          0.8775097179137081,
          0.4712989663064789,
          0.7950901130031898,
          -0.42165087555391284,
          -1.341972307314644,
          -0.26419586310475707,
          1.2067552694961743,
          -1.107541927537456,
          0.30012534153536796,
          0.8901680688026227,
          0.7432940876917533,
          -0.5969048140606085,
          -1.1202383151916753,
          0.09471779691404093,
          -0.47167306445998836,
          -1.3923362588099217,
          0.714730829804552,
          0.1628551757050395,
          2.850378514067846,
          -0.5917785616485799,
          0.7138285756081543,
          0.5268855062743794,
          0.07111881361464277,
          -0.5760903855312549,
          -0.860973377436933,
          -1.058674135434395,
          0.18239213480830674,
          1.4508107303228437,
          0.8075923242860772,
          -1.062296403867526,
          0.49907103447837614,
          -0.4316824341811029,
          -0.6290765911934332,
          -0.9120857969862319,
          -0.23865807635605688,
          0.3266174181627085,
          -0.06769282445930531,
          -0.15757269703186888,
          1.0894928964241457,
          1.0508563645876903,
          0.1780094976605929,
          1.218131315660249,
          0.38432102125585577
         ]
        }
       ],
       "layout": {
        "barmode": "overlay",
        "legend": {
         "bgcolor": "#F5F6F9",
         "font": {
          "color": "#4D5663"
         }
        },
        "paper_bgcolor": "#F5F6F9",
        "plot_bgcolor": "#F5F6F9",
        "template": {
         "data": {
          "bar": [
           {
            "error_x": {
             "color": "#2a3f5f"
            },
            "error_y": {
             "color": "#2a3f5f"
            },
            "marker": {
             "line": {
              "color": "#E5ECF6",
              "width": 0.5
             },
             "pattern": {
              "fillmode": "overlay",
              "size": 10,
              "solidity": 0.2
             }
            },
            "type": "bar"
           }
          ],
          "barpolar": [
           {
            "marker": {
             "line": {
              "color": "#E5ECF6",
              "width": 0.5
             },
             "pattern": {
              "fillmode": "overlay",
              "size": 10,
              "solidity": 0.2
             }
            },
            "type": "barpolar"
           }
          ],
          "carpet": [
           {
            "aaxis": {
             "endlinecolor": "#2a3f5f",
             "gridcolor": "white",
             "linecolor": "white",
             "minorgridcolor": "white",
             "startlinecolor": "#2a3f5f"
            },
            "baxis": {
             "endlinecolor": "#2a3f5f",
             "gridcolor": "white",
             "linecolor": "white",
             "minorgridcolor": "white",
             "startlinecolor": "#2a3f5f"
            },
            "type": "carpet"
           }
          ],
          "choropleth": [
           {
            "colorbar": {
             "outlinewidth": 0,
             "ticks": ""
            },
            "type": "choropleth"
           }
          ],
          "contour": [
           {
            "colorbar": {
             "outlinewidth": 0,
             "ticks": ""
            },
            "colorscale": [
             [
              0,
              "#0d0887"
             ],
             [
              0.1111111111111111,
              "#46039f"
             ],
             [
              0.2222222222222222,
              "#7201a8"
             ],
             [
              0.3333333333333333,
              "#9c179e"
             ],
             [
              0.4444444444444444,
              "#bd3786"
             ],
             [
              0.5555555555555556,
              "#d8576b"
             ],
             [
              0.6666666666666666,
              "#ed7953"
             ],
             [
              0.7777777777777778,
              "#fb9f3a"
             ],
             [
              0.8888888888888888,
              "#fdca26"
             ],
             [
              1,
              "#f0f921"
             ]
            ],
            "type": "contour"
           }
          ],
          "contourcarpet": [
           {
            "colorbar": {
             "outlinewidth": 0,
             "ticks": ""
            },
            "type": "contourcarpet"
           }
          ],
          "heatmap": [
           {
            "colorbar": {
             "outlinewidth": 0,
             "ticks": ""
            },
            "colorscale": [
             [
              0,
              "#0d0887"
             ],
             [
              0.1111111111111111,
              "#46039f"
             ],
             [
              0.2222222222222222,
              "#7201a8"
             ],
             [
              0.3333333333333333,
              "#9c179e"
             ],
             [
              0.4444444444444444,
              "#bd3786"
             ],
             [
              0.5555555555555556,
              "#d8576b"
             ],
             [
              0.6666666666666666,
              "#ed7953"
             ],
             [
              0.7777777777777778,
              "#fb9f3a"
             ],
             [
              0.8888888888888888,
              "#fdca26"
             ],
             [
              1,
              "#f0f921"
             ]
            ],
            "type": "heatmap"
           }
          ],
          "heatmapgl": [
           {
            "colorbar": {
             "outlinewidth": 0,
             "ticks": ""
            },
            "colorscale": [
             [
              0,
              "#0d0887"
             ],
             [
              0.1111111111111111,
              "#46039f"
             ],
             [
              0.2222222222222222,
              "#7201a8"
             ],
             [
              0.3333333333333333,
              "#9c179e"
             ],
             [
              0.4444444444444444,
              "#bd3786"
             ],
             [
              0.5555555555555556,
              "#d8576b"
             ],
             [
              0.6666666666666666,
              "#ed7953"
             ],
             [
              0.7777777777777778,
              "#fb9f3a"
             ],
             [
              0.8888888888888888,
              "#fdca26"
             ],
             [
              1,
              "#f0f921"
             ]
            ],
            "type": "heatmapgl"
           }
          ],
          "histogram": [
           {
            "marker": {
             "pattern": {
              "fillmode": "overlay",
              "size": 10,
              "solidity": 0.2
             }
            },
            "type": "histogram"
           }
          ],
          "histogram2d": [
           {
            "colorbar": {
             "outlinewidth": 0,
             "ticks": ""
            },
            "colorscale": [
             [
              0,
              "#0d0887"
             ],
             [
              0.1111111111111111,
              "#46039f"
             ],
             [
              0.2222222222222222,
              "#7201a8"
             ],
             [
              0.3333333333333333,
              "#9c179e"
             ],
             [
              0.4444444444444444,
              "#bd3786"
             ],
             [
              0.5555555555555556,
              "#d8576b"
             ],
             [
              0.6666666666666666,
              "#ed7953"
             ],
             [
              0.7777777777777778,
              "#fb9f3a"
             ],
             [
              0.8888888888888888,
              "#fdca26"
             ],
             [
              1,
              "#f0f921"
             ]
            ],
            "type": "histogram2d"
           }
          ],
          "histogram2dcontour": [
           {
            "colorbar": {
             "outlinewidth": 0,
             "ticks": ""
            },
            "colorscale": [
             [
              0,
              "#0d0887"
             ],
             [
              0.1111111111111111,
              "#46039f"
             ],
             [
              0.2222222222222222,
              "#7201a8"
             ],
             [
              0.3333333333333333,
              "#9c179e"
             ],
             [
              0.4444444444444444,
              "#bd3786"
             ],
             [
              0.5555555555555556,
              "#d8576b"
             ],
             [
              0.6666666666666666,
              "#ed7953"
             ],
             [
              0.7777777777777778,
              "#fb9f3a"
             ],
             [
              0.8888888888888888,
              "#fdca26"
             ],
             [
              1,
              "#f0f921"
             ]
            ],
            "type": "histogram2dcontour"
           }
          ],
          "mesh3d": [
           {
            "colorbar": {
             "outlinewidth": 0,
             "ticks": ""
            },
            "type": "mesh3d"
           }
          ],
          "parcoords": [
           {
            "line": {
             "colorbar": {
              "outlinewidth": 0,
              "ticks": ""
             }
            },
            "type": "parcoords"
           }
          ],
          "pie": [
           {
            "automargin": true,
            "type": "pie"
           }
          ],
          "scatter": [
           {
            "marker": {
             "colorbar": {
              "outlinewidth": 0,
              "ticks": ""
             }
            },
            "type": "scatter"
           }
          ],
          "scatter3d": [
           {
            "line": {
             "colorbar": {
              "outlinewidth": 0,
              "ticks": ""
             }
            },
            "marker": {
             "colorbar": {
              "outlinewidth": 0,
              "ticks": ""
             }
            },
            "type": "scatter3d"
           }
          ],
          "scattercarpet": [
           {
            "marker": {
             "colorbar": {
              "outlinewidth": 0,
              "ticks": ""
             }
            },
            "type": "scattercarpet"
           }
          ],
          "scattergeo": [
           {
            "marker": {
             "colorbar": {
              "outlinewidth": 0,
              "ticks": ""
             }
            },
            "type": "scattergeo"
           }
          ],
          "scattergl": [
           {
            "marker": {
             "colorbar": {
              "outlinewidth": 0,
              "ticks": ""
             }
            },
            "type": "scattergl"
           }
          ],
          "scattermapbox": [
           {
            "marker": {
             "colorbar": {
              "outlinewidth": 0,
              "ticks": ""
             }
            },
            "type": "scattermapbox"
           }
          ],
          "scatterpolar": [
           {
            "marker": {
             "colorbar": {
              "outlinewidth": 0,
              "ticks": ""
             }
            },
            "type": "scatterpolar"
           }
          ],
          "scatterpolargl": [
           {
            "marker": {
             "colorbar": {
              "outlinewidth": 0,
              "ticks": ""
             }
            },
            "type": "scatterpolargl"
           }
          ],
          "scatterternary": [
           {
            "marker": {
             "colorbar": {
              "outlinewidth": 0,
              "ticks": ""
             }
            },
            "type": "scatterternary"
           }
          ],
          "surface": [
           {
            "colorbar": {
             "outlinewidth": 0,
             "ticks": ""
            },
            "colorscale": [
             [
              0,
              "#0d0887"
             ],
             [
              0.1111111111111111,
              "#46039f"
             ],
             [
              0.2222222222222222,
              "#7201a8"
             ],
             [
              0.3333333333333333,
              "#9c179e"
             ],
             [
              0.4444444444444444,
              "#bd3786"
             ],
             [
              0.5555555555555556,
              "#d8576b"
             ],
             [
              0.6666666666666666,
              "#ed7953"
             ],
             [
              0.7777777777777778,
              "#fb9f3a"
             ],
             [
              0.8888888888888888,
              "#fdca26"
             ],
             [
              1,
              "#f0f921"
             ]
            ],
            "type": "surface"
           }
          ],
          "table": [
           {
            "cells": {
             "fill": {
              "color": "#EBF0F8"
             },
             "line": {
              "color": "white"
             }
            },
            "header": {
             "fill": {
              "color": "#C8D4E3"
             },
             "line": {
              "color": "white"
             }
            },
            "type": "table"
           }
          ]
         },
         "layout": {
          "annotationdefaults": {
           "arrowcolor": "#2a3f5f",
           "arrowhead": 0,
           "arrowwidth": 1
          },
          "autotypenumbers": "strict",
          "coloraxis": {
           "colorbar": {
            "outlinewidth": 0,
            "ticks": ""
           }
          },
          "colorscale": {
           "diverging": [
            [
             0,
             "#8e0152"
            ],
            [
             0.1,
             "#c51b7d"
            ],
            [
             0.2,
             "#de77ae"
            ],
            [
             0.3,
             "#f1b6da"
            ],
            [
             0.4,
             "#fde0ef"
            ],
            [
             0.5,
             "#f7f7f7"
            ],
            [
             0.6,
             "#e6f5d0"
            ],
            [
             0.7,
             "#b8e186"
            ],
            [
             0.8,
             "#7fbc41"
            ],
            [
             0.9,
             "#4d9221"
            ],
            [
             1,
             "#276419"
            ]
           ],
           "sequential": [
            [
             0,
             "#0d0887"
            ],
            [
             0.1111111111111111,
             "#46039f"
            ],
            [
             0.2222222222222222,
             "#7201a8"
            ],
            [
             0.3333333333333333,
             "#9c179e"
            ],
            [
             0.4444444444444444,
             "#bd3786"
            ],
            [
             0.5555555555555556,
             "#d8576b"
            ],
            [
             0.6666666666666666,
             "#ed7953"
            ],
            [
             0.7777777777777778,
             "#fb9f3a"
            ],
            [
             0.8888888888888888,
             "#fdca26"
            ],
            [
             1,
             "#f0f921"
            ]
           ],
           "sequentialminus": [
            [
             0,
             "#0d0887"
            ],
            [
             0.1111111111111111,
             "#46039f"
            ],
            [
             0.2222222222222222,
             "#7201a8"
            ],
            [
             0.3333333333333333,
             "#9c179e"
            ],
            [
             0.4444444444444444,
             "#bd3786"
            ],
            [
             0.5555555555555556,
             "#d8576b"
            ],
            [
             0.6666666666666666,
             "#ed7953"
            ],
            [
             0.7777777777777778,
             "#fb9f3a"
            ],
            [
             0.8888888888888888,
             "#fdca26"
            ],
            [
             1,
             "#f0f921"
            ]
           ]
          },
          "colorway": [
           "#636efa",
           "#EF553B",
           "#00cc96",
           "#ab63fa",
           "#FFA15A",
           "#19d3f3",
           "#FF6692",
           "#B6E880",
           "#FF97FF",
           "#FECB52"
          ],
          "font": {
           "color": "#2a3f5f"
          },
          "geo": {
           "bgcolor": "white",
           "lakecolor": "white",
           "landcolor": "#E5ECF6",
           "showlakes": true,
           "showland": true,
           "subunitcolor": "white"
          },
          "hoverlabel": {
           "align": "left"
          },
          "hovermode": "closest",
          "mapbox": {
           "style": "light"
          },
          "paper_bgcolor": "white",
          "plot_bgcolor": "#E5ECF6",
          "polar": {
           "angularaxis": {
            "gridcolor": "white",
            "linecolor": "white",
            "ticks": ""
           },
           "bgcolor": "#E5ECF6",
           "radialaxis": {
            "gridcolor": "white",
            "linecolor": "white",
            "ticks": ""
           }
          },
          "scene": {
           "xaxis": {
            "backgroundcolor": "#E5ECF6",
            "gridcolor": "white",
            "gridwidth": 2,
            "linecolor": "white",
            "showbackground": true,
            "ticks": "",
            "zerolinecolor": "white"
           },
           "yaxis": {
            "backgroundcolor": "#E5ECF6",
            "gridcolor": "white",
            "gridwidth": 2,
            "linecolor": "white",
            "showbackground": true,
            "ticks": "",
            "zerolinecolor": "white"
           },
           "zaxis": {
            "backgroundcolor": "#E5ECF6",
            "gridcolor": "white",
            "gridwidth": 2,
            "linecolor": "white",
            "showbackground": true,
            "ticks": "",
            "zerolinecolor": "white"
           }
          },
          "shapedefaults": {
           "line": {
            "color": "#2a3f5f"
           }
          },
          "ternary": {
           "aaxis": {
            "gridcolor": "white",
            "linecolor": "white",
            "ticks": ""
           },
           "baxis": {
            "gridcolor": "white",
            "linecolor": "white",
            "ticks": ""
           },
           "bgcolor": "#E5ECF6",
           "caxis": {
            "gridcolor": "white",
            "linecolor": "white",
            "ticks": ""
           }
          },
          "title": {
           "x": 0.05
          },
          "xaxis": {
           "automargin": true,
           "gridcolor": "white",
           "linecolor": "white",
           "ticks": "",
           "title": {
            "standoff": 15
           },
           "zerolinecolor": "white",
           "zerolinewidth": 2
          },
          "yaxis": {
           "automargin": true,
           "gridcolor": "white",
           "linecolor": "white",
           "ticks": "",
           "title": {
            "standoff": 15
           },
           "zerolinecolor": "white",
           "zerolinewidth": 2
          }
         }
        },
        "title": {
         "font": {
          "color": "#4D5663"
         }
        },
        "xaxis": {
         "gridcolor": "#E1E5ED",
         "showgrid": true,
         "tickfont": {
          "color": "#4D5663"
         },
         "title": {
          "font": {
           "color": "#4D5663"
          },
          "text": ""
         },
         "zerolinecolor": "#E1E5ED"
        },
        "yaxis": {
         "gridcolor": "#E1E5ED",
         "showgrid": true,
         "tickfont": {
          "color": "#4D5663"
         },
         "title": {
          "font": {
           "color": "#4D5663"
          },
          "text": ""
         },
         "zerolinecolor": "#E1E5ED"
        }
       }
      },
      "text/html": [
       "<div>                            <div id=\"b911f633-4e7d-47d7-9e07-2822893ba366\" class=\"plotly-graph-div\" style=\"height:525px; width:100%;\"></div>            <script type=\"text/javascript\">                require([\"plotly\"], function(Plotly) {                    window.PLOTLYENV=window.PLOTLYENV || {};\n",
       "                    window.PLOTLYENV.BASE_URL='https://plot.ly';                                    if (document.getElementById(\"b911f633-4e7d-47d7-9e07-2822893ba366\")) {                    Plotly.newPlot(                        \"b911f633-4e7d-47d7-9e07-2822893ba366\",                        [{\"histfunc\":\"count\",\"histnorm\":\"\",\"marker\":{\"color\":\"rgba(255, 153, 51, 1.0)\",\"line\":{\"color\":\"#4D5663\",\"width\":1.3}},\"name\":\"A\",\"nbinsx\":40,\"opacity\":0.8,\"orientation\":\"v\",\"type\":\"histogram\",\"x\":[0.20858928925374165,-0.4342659365804992,0.15224425972204558,-1.4076364859048878,-1.8787133030357686,1.1141016130474,-0.014856903124838405,2.2980934492830407,-0.04537892657460305,0.37251593394002713,1.3160112807008706,-0.17426433245318806,-1.0676051347476219,0.35048603503154846,1.3995954370148027,0.31417325524307427,-0.03901252898133603,-0.7815522712797063,-1.4657470354223352,-0.10963875683423577,0.3414618118686473,1.8556025363714947,0.3857059012861465,0.9980034374445319,1.2369036414452386,-2.2112045923282877,-0.8039465980537963,1.2501257231512457,0.28072647683673607,0.8479650419673018,0.821856776990302,0.33703944666886576,0.2994135796999949,-1.0020739050520817,1.0492375923262964,1.4499683923774385,0.6771778865444542,-1.174173436607878,0.9380903401986462,0.7830429803693706,1.5612080447999004,-0.689867946889579,-0.012595428200974368,-0.07720029034540583,1.4459983734283515,-0.9818107095001324,1.192692753425027,-0.0427350127227039,-0.770256799555548,-2.325516663796394,-0.6431928762709359,0.3153997366164689,0.3874379394644579,1.039847925443799,-0.9392276561472361,0.030043034312859172,1.1374541985603328,-0.6299169960910088,-0.9632572236552438,0.46429902371477966,-0.21188270820025484,-1.071565489388745,-0.18972067388602754,-1.2528521719399608,0.15881994888242676,-0.0378086230861681,1.1167572500107146,0.0006074965995330983,-0.15191943738908428,1.55982623930444,0.6060812113709677,0.07197403153804605,-0.1892256296041631,0.3744916234702504,0.5371723431024327,0.3056813222755168,3.2724431765187476,0.5606360026261016,0.0797615201136642,2.1426154923643996,0.595063512231104,-2.0077243015777624,-1.3920962454797994,-1.496551961908376,0.7760365739615019,0.8822518019486779,1.0019935837931249,-0.6634189590571933,0.07849718855217555,0.059596466005808625,1.075688755634055,1.9898092690768672,0.05738664500122117,-1.1337520231610325,-0.25843487309297164,0.4268716302195559,-2.323477988994405,1.8390982353041838,1.2639675884889168,1.654235242842938]},{\"histfunc\":\"count\",\"histnorm\":\"\",\"marker\":{\"color\":\"rgba(55, 128, 191, 1.0)\",\"line\":{\"color\":\"#4D5663\",\"width\":1.3}},\"name\":\"B\",\"nbinsx\":40,\"opacity\":0.8,\"orientation\":\"v\",\"type\":\"histogram\",\"x\":[-1.0899935075648546,-0.3283429263413677,0.9249715866272701,2.265847442190619,-1.9679748652286901,0.3522242836497475,-0.7922871395287938,-0.9258406713634908,0.8115272195253244,-1.477270976719303,0.1618159952438024,-0.4331539457009914,0.039311567111366276,-0.02441439939200614,0.6172117332234927,-2.340081944963553,3.1702114209761914,-0.36332764722503386,-0.4907725595838416,0.7908863334448771,-1.3709915008208202,0.5630076301719508,-0.08132772990151602,0.23855039987494617,-0.36783653113759457,-2.0583162396779198,0.41011426019927305,0.7360262123316557,0.8578455480892391,0.6692212126530874,-0.29193924207135413,-0.010428464535667108,0.5827342576436385,0.8631295668999309,-0.3887628842023507,0.5621355659822822,0.41242643202681245,0.5400452510501995,-0.8622450348007333,0.8373961616003691,0.7075403616234199,1.50682059694962,-0.8579989529337081,1.966217498627032,-0.8842888279114438,-0.14063222009410747,0.1560775565914649,-1.0318998613338433,0.6938332181045966,0.34902727031895114,-1.2083396070051455,2.2505048443521325,1.4625590755465416,-0.7392605820861616,1.290122175953878,0.03743177695407034,0.15447966905151658,-0.5941001153821971,0.41401637666917435,0.43185474659107764,-0.48564289964242224,0.2120732808572052,-1.2176504747328385,-0.15447459880849224,0.04952072542198867,0.016467999256636306,-0.5074883377420486,0.2853198976723749,1.617705760844643,1.677555201770505,0.27528939747803033,1.2810400539729732,-0.33070951242102525,1.044671936262385,0.07747716330923368,0.3114697652518498,-1.156964461310973,0.7046737117632361,0.17166399704921553,0.046391761412236276,2.0237011484840295,1.0508124503427356,0.7633037621767298,0.910230795208631,-0.6860382779231162,0.8414355798852678,0.20068154971940383,-0.43766497984189995,-1.4456137666739453,0.04206249677159624,-1.7378780010870498,0.3317607911741303,-0.3960625890982911,0.20891188425239193,1.7533600297381258,-0.5744757529482349,-1.2890173304854928,-0.8397499635573618,-0.2703194128703838,0.4006493372053976]},{\"histfunc\":\"count\",\"histnorm\":\"\",\"marker\":{\"color\":\"rgba(50, 171, 96, 1.0)\",\"line\":{\"color\":\"#4D5663\",\"width\":1.3}},\"name\":\"C\",\"nbinsx\":40,\"opacity\":0.8,\"orientation\":\"v\",\"type\":\"histogram\",\"x\":[-0.6050978556691786,-0.9035483715588414,1.3999062316779856,0.20326625575656562,0.7748660360296203,1.382118835963103,-0.3449663271423684,-0.3125784862581155,-0.3921021582767679,-0.4672365319648652,-0.9176971919965744,-0.9407683863484179,-0.02051094093615628,-0.4845090081884112,-0.9027760486508982,0.45408000372627855,1.7797168946307709,-0.849954913019187,-0.9497738918589689,1.115584553680479,0.47623968737877737,0.6777243804013798,-2.423385402585716,-0.05998903497391833,0.9528474830183917,1.9451072560078173,-0.7205616932622801,0.24869698730886125,0.12593843046885547,-0.7613039250440969,-1.1934815064129642,0.32847093291618723,0.03042686379748063,0.3638589261743581,0.8672123584073379,-0.5191918572545234,0.045873495741145395,-0.4991378312981569,0.4760864075563409,2.133103606272648,-1.6368622660538275,-0.8647663574169911,-0.2386827785058121,0.6514580767202643,-2.39366962919686,0.7847164416846397,1.4776485033235072,-0.8468678129426838,-0.1399453487715599,-1.4576847799303292,-0.16729265391285816,0.8104599304351691,0.44724150958933034,-0.239863791295954,-0.39865955278054077,0.392382842023195,0.21053559716010317,-0.7026716843649459,0.20157416306770357,-1.2431794473942575,0.9913120029212691,-0.17674562111069766,-0.8865370921684598,1.2678131780640376,0.6474985704541698,-0.675859866962432,2.2130088393476632,-0.8751745286308837,-0.7309748412210775,-0.7061573864067572,1.7191649168663734,-0.90654523833935,0.9234141064550748,-1.006326053603848,-0.15565505313829398,1.258680446450928,-0.82459549301541,-0.6941048482250396,-1.1526300782529277,-1.9408024035122222,-0.7066046066198953,-0.13820084983001243,0.33007567967062035,0.20516895683465802,0.7541000686165579,-0.3309113870390968,-0.4936760267518312,2.572271277233446,-0.02605875203151911,0.08045314789924392,0.1584800938610056,0.6803979387509251,-1.3445148460765042,1.3938329499040125,-0.799184564003873,-1.4607223497438997,-0.9460192341940437,-1.4607146767131882,0.33623646045912176,0.3717802061751832]},{\"histfunc\":\"count\",\"histnorm\":\"\",\"marker\":{\"color\":\"rgba(128, 0, 128, 1.0)\",\"line\":{\"color\":\"#4D5663\",\"width\":1.3}},\"name\":\"D\",\"nbinsx\":40,\"opacity\":0.8,\"orientation\":\"v\",\"type\":\"histogram\",\"x\":[-1.7283455634015321,0.7922665076440077,0.3327252928057696,-0.8646777098209107,-0.5533280925795223,-0.7426238658744095,-0.6321761148537716,0.23147476775382012,-0.20636980974607427,-0.8524000612482501,1.6127960625700868,-1.2494970560420666,2.117783435195244,-1.4261041758635733,-0.8427016784683329,-0.41215725897321814,1.482039530159061,-0.8294156366297977,-1.7444749996017128,-1.1463065894063043,-0.23140954513387316,0.04924343091891973,-0.7911997067028309,0.2542396734334467,-0.42101767485548325,0.0343237840568151,0.016933566682258896,1.3545581510054157,0.4476058590792905,0.22846633647061299,-0.6360477412520456,0.3247900932617839,-0.13851588260334996,0.19749265328712912,0.2551145633023773,-0.6318291814297596,-0.05162998288644609,0.29304285314602707,0.6519757198392621,0.362920745861988,2.3164946789860945,3.0661980875647856,-0.2963504023189624,-0.8127184586877536,-2.2064787773448824,-0.7134226445069347,-0.043722477341506236,-0.7139044754895482,-0.538276291943493,1.4108829924568982,1.251182397487324,0.17089238880915805,0.07540264426533289,0.19832996717543896,0.056562449238566036,0.7629953537674873,0.6954930495616684,0.8775097179137081,0.4712989663064789,0.7950901130031898,-0.42165087555391284,-1.341972307314644,-0.26419586310475707,1.2067552694961743,-1.107541927537456,0.30012534153536796,0.8901680688026227,0.7432940876917533,-0.5969048140606085,-1.1202383151916753,0.09471779691404093,-0.47167306445998836,-1.3923362588099217,0.714730829804552,0.1628551757050395,2.850378514067846,-0.5917785616485799,0.7138285756081543,0.5268855062743794,0.07111881361464277,-0.5760903855312549,-0.860973377436933,-1.058674135434395,0.18239213480830674,1.4508107303228437,0.8075923242860772,-1.062296403867526,0.49907103447837614,-0.4316824341811029,-0.6290765911934332,-0.9120857969862319,-0.23865807635605688,0.3266174181627085,-0.06769282445930531,-0.15757269703186888,1.0894928964241457,1.0508563645876903,0.1780094976605929,1.218131315660249,0.38432102125585577]}],                        {\"barmode\":\"overlay\",\"legend\":{\"bgcolor\":\"#F5F6F9\",\"font\":{\"color\":\"#4D5663\"}},\"paper_bgcolor\":\"#F5F6F9\",\"plot_bgcolor\":\"#F5F6F9\",\"template\":{\"data\":{\"bar\":[{\"error_x\":{\"color\":\"#2a3f5f\"},\"error_y\":{\"color\":\"#2a3f5f\"},\"marker\":{\"line\":{\"color\":\"#E5ECF6\",\"width\":0.5},\"pattern\":{\"fillmode\":\"overlay\",\"size\":10,\"solidity\":0.2}},\"type\":\"bar\"}],\"barpolar\":[{\"marker\":{\"line\":{\"color\":\"#E5ECF6\",\"width\":0.5},\"pattern\":{\"fillmode\":\"overlay\",\"size\":10,\"solidity\":0.2}},\"type\":\"barpolar\"}],\"carpet\":[{\"aaxis\":{\"endlinecolor\":\"#2a3f5f\",\"gridcolor\":\"white\",\"linecolor\":\"white\",\"minorgridcolor\":\"white\",\"startlinecolor\":\"#2a3f5f\"},\"baxis\":{\"endlinecolor\":\"#2a3f5f\",\"gridcolor\":\"white\",\"linecolor\":\"white\",\"minorgridcolor\":\"white\",\"startlinecolor\":\"#2a3f5f\"},\"type\":\"carpet\"}],\"choropleth\":[{\"colorbar\":{\"outlinewidth\":0,\"ticks\":\"\"},\"type\":\"choropleth\"}],\"contour\":[{\"colorbar\":{\"outlinewidth\":0,\"ticks\":\"\"},\"colorscale\":[[0.0,\"#0d0887\"],[0.1111111111111111,\"#46039f\"],[0.2222222222222222,\"#7201a8\"],[0.3333333333333333,\"#9c179e\"],[0.4444444444444444,\"#bd3786\"],[0.5555555555555556,\"#d8576b\"],[0.6666666666666666,\"#ed7953\"],[0.7777777777777778,\"#fb9f3a\"],[0.8888888888888888,\"#fdca26\"],[1.0,\"#f0f921\"]],\"type\":\"contour\"}],\"contourcarpet\":[{\"colorbar\":{\"outlinewidth\":0,\"ticks\":\"\"},\"type\":\"contourcarpet\"}],\"heatmap\":[{\"colorbar\":{\"outlinewidth\":0,\"ticks\":\"\"},\"colorscale\":[[0.0,\"#0d0887\"],[0.1111111111111111,\"#46039f\"],[0.2222222222222222,\"#7201a8\"],[0.3333333333333333,\"#9c179e\"],[0.4444444444444444,\"#bd3786\"],[0.5555555555555556,\"#d8576b\"],[0.6666666666666666,\"#ed7953\"],[0.7777777777777778,\"#fb9f3a\"],[0.8888888888888888,\"#fdca26\"],[1.0,\"#f0f921\"]],\"type\":\"heatmap\"}],\"heatmapgl\":[{\"colorbar\":{\"outlinewidth\":0,\"ticks\":\"\"},\"colorscale\":[[0.0,\"#0d0887\"],[0.1111111111111111,\"#46039f\"],[0.2222222222222222,\"#7201a8\"],[0.3333333333333333,\"#9c179e\"],[0.4444444444444444,\"#bd3786\"],[0.5555555555555556,\"#d8576b\"],[0.6666666666666666,\"#ed7953\"],[0.7777777777777778,\"#fb9f3a\"],[0.8888888888888888,\"#fdca26\"],[1.0,\"#f0f921\"]],\"type\":\"heatmapgl\"}],\"histogram\":[{\"marker\":{\"pattern\":{\"fillmode\":\"overlay\",\"size\":10,\"solidity\":0.2}},\"type\":\"histogram\"}],\"histogram2d\":[{\"colorbar\":{\"outlinewidth\":0,\"ticks\":\"\"},\"colorscale\":[[0.0,\"#0d0887\"],[0.1111111111111111,\"#46039f\"],[0.2222222222222222,\"#7201a8\"],[0.3333333333333333,\"#9c179e\"],[0.4444444444444444,\"#bd3786\"],[0.5555555555555556,\"#d8576b\"],[0.6666666666666666,\"#ed7953\"],[0.7777777777777778,\"#fb9f3a\"],[0.8888888888888888,\"#fdca26\"],[1.0,\"#f0f921\"]],\"type\":\"histogram2d\"}],\"histogram2dcontour\":[{\"colorbar\":{\"outlinewidth\":0,\"ticks\":\"\"},\"colorscale\":[[0.0,\"#0d0887\"],[0.1111111111111111,\"#46039f\"],[0.2222222222222222,\"#7201a8\"],[0.3333333333333333,\"#9c179e\"],[0.4444444444444444,\"#bd3786\"],[0.5555555555555556,\"#d8576b\"],[0.6666666666666666,\"#ed7953\"],[0.7777777777777778,\"#fb9f3a\"],[0.8888888888888888,\"#fdca26\"],[1.0,\"#f0f921\"]],\"type\":\"histogram2dcontour\"}],\"mesh3d\":[{\"colorbar\":{\"outlinewidth\":0,\"ticks\":\"\"},\"type\":\"mesh3d\"}],\"parcoords\":[{\"line\":{\"colorbar\":{\"outlinewidth\":0,\"ticks\":\"\"}},\"type\":\"parcoords\"}],\"pie\":[{\"automargin\":true,\"type\":\"pie\"}],\"scatter\":[{\"marker\":{\"colorbar\":{\"outlinewidth\":0,\"ticks\":\"\"}},\"type\":\"scatter\"}],\"scatter3d\":[{\"line\":{\"colorbar\":{\"outlinewidth\":0,\"ticks\":\"\"}},\"marker\":{\"colorbar\":{\"outlinewidth\":0,\"ticks\":\"\"}},\"type\":\"scatter3d\"}],\"scattercarpet\":[{\"marker\":{\"colorbar\":{\"outlinewidth\":0,\"ticks\":\"\"}},\"type\":\"scattercarpet\"}],\"scattergeo\":[{\"marker\":{\"colorbar\":{\"outlinewidth\":0,\"ticks\":\"\"}},\"type\":\"scattergeo\"}],\"scattergl\":[{\"marker\":{\"colorbar\":{\"outlinewidth\":0,\"ticks\":\"\"}},\"type\":\"scattergl\"}],\"scattermapbox\":[{\"marker\":{\"colorbar\":{\"outlinewidth\":0,\"ticks\":\"\"}},\"type\":\"scattermapbox\"}],\"scatterpolar\":[{\"marker\":{\"colorbar\":{\"outlinewidth\":0,\"ticks\":\"\"}},\"type\":\"scatterpolar\"}],\"scatterpolargl\":[{\"marker\":{\"colorbar\":{\"outlinewidth\":0,\"ticks\":\"\"}},\"type\":\"scatterpolargl\"}],\"scatterternary\":[{\"marker\":{\"colorbar\":{\"outlinewidth\":0,\"ticks\":\"\"}},\"type\":\"scatterternary\"}],\"surface\":[{\"colorbar\":{\"outlinewidth\":0,\"ticks\":\"\"},\"colorscale\":[[0.0,\"#0d0887\"],[0.1111111111111111,\"#46039f\"],[0.2222222222222222,\"#7201a8\"],[0.3333333333333333,\"#9c179e\"],[0.4444444444444444,\"#bd3786\"],[0.5555555555555556,\"#d8576b\"],[0.6666666666666666,\"#ed7953\"],[0.7777777777777778,\"#fb9f3a\"],[0.8888888888888888,\"#fdca26\"],[1.0,\"#f0f921\"]],\"type\":\"surface\"}],\"table\":[{\"cells\":{\"fill\":{\"color\":\"#EBF0F8\"},\"line\":{\"color\":\"white\"}},\"header\":{\"fill\":{\"color\":\"#C8D4E3\"},\"line\":{\"color\":\"white\"}},\"type\":\"table\"}]},\"layout\":{\"annotationdefaults\":{\"arrowcolor\":\"#2a3f5f\",\"arrowhead\":0,\"arrowwidth\":1},\"autotypenumbers\":\"strict\",\"coloraxis\":{\"colorbar\":{\"outlinewidth\":0,\"ticks\":\"\"}},\"colorscale\":{\"diverging\":[[0,\"#8e0152\"],[0.1,\"#c51b7d\"],[0.2,\"#de77ae\"],[0.3,\"#f1b6da\"],[0.4,\"#fde0ef\"],[0.5,\"#f7f7f7\"],[0.6,\"#e6f5d0\"],[0.7,\"#b8e186\"],[0.8,\"#7fbc41\"],[0.9,\"#4d9221\"],[1,\"#276419\"]],\"sequential\":[[0.0,\"#0d0887\"],[0.1111111111111111,\"#46039f\"],[0.2222222222222222,\"#7201a8\"],[0.3333333333333333,\"#9c179e\"],[0.4444444444444444,\"#bd3786\"],[0.5555555555555556,\"#d8576b\"],[0.6666666666666666,\"#ed7953\"],[0.7777777777777778,\"#fb9f3a\"],[0.8888888888888888,\"#fdca26\"],[1.0,\"#f0f921\"]],\"sequentialminus\":[[0.0,\"#0d0887\"],[0.1111111111111111,\"#46039f\"],[0.2222222222222222,\"#7201a8\"],[0.3333333333333333,\"#9c179e\"],[0.4444444444444444,\"#bd3786\"],[0.5555555555555556,\"#d8576b\"],[0.6666666666666666,\"#ed7953\"],[0.7777777777777778,\"#fb9f3a\"],[0.8888888888888888,\"#fdca26\"],[1.0,\"#f0f921\"]]},\"colorway\":[\"#636efa\",\"#EF553B\",\"#00cc96\",\"#ab63fa\",\"#FFA15A\",\"#19d3f3\",\"#FF6692\",\"#B6E880\",\"#FF97FF\",\"#FECB52\"],\"font\":{\"color\":\"#2a3f5f\"},\"geo\":{\"bgcolor\":\"white\",\"lakecolor\":\"white\",\"landcolor\":\"#E5ECF6\",\"showlakes\":true,\"showland\":true,\"subunitcolor\":\"white\"},\"hoverlabel\":{\"align\":\"left\"},\"hovermode\":\"closest\",\"mapbox\":{\"style\":\"light\"},\"paper_bgcolor\":\"white\",\"plot_bgcolor\":\"#E5ECF6\",\"polar\":{\"angularaxis\":{\"gridcolor\":\"white\",\"linecolor\":\"white\",\"ticks\":\"\"},\"bgcolor\":\"#E5ECF6\",\"radialaxis\":{\"gridcolor\":\"white\",\"linecolor\":\"white\",\"ticks\":\"\"}},\"scene\":{\"xaxis\":{\"backgroundcolor\":\"#E5ECF6\",\"gridcolor\":\"white\",\"gridwidth\":2,\"linecolor\":\"white\",\"showbackground\":true,\"ticks\":\"\",\"zerolinecolor\":\"white\"},\"yaxis\":{\"backgroundcolor\":\"#E5ECF6\",\"gridcolor\":\"white\",\"gridwidth\":2,\"linecolor\":\"white\",\"showbackground\":true,\"ticks\":\"\",\"zerolinecolor\":\"white\"},\"zaxis\":{\"backgroundcolor\":\"#E5ECF6\",\"gridcolor\":\"white\",\"gridwidth\":2,\"linecolor\":\"white\",\"showbackground\":true,\"ticks\":\"\",\"zerolinecolor\":\"white\"}},\"shapedefaults\":{\"line\":{\"color\":\"#2a3f5f\"}},\"ternary\":{\"aaxis\":{\"gridcolor\":\"white\",\"linecolor\":\"white\",\"ticks\":\"\"},\"baxis\":{\"gridcolor\":\"white\",\"linecolor\":\"white\",\"ticks\":\"\"},\"bgcolor\":\"#E5ECF6\",\"caxis\":{\"gridcolor\":\"white\",\"linecolor\":\"white\",\"ticks\":\"\"}},\"title\":{\"x\":0.05},\"xaxis\":{\"automargin\":true,\"gridcolor\":\"white\",\"linecolor\":\"white\",\"ticks\":\"\",\"title\":{\"standoff\":15},\"zerolinecolor\":\"white\",\"zerolinewidth\":2},\"yaxis\":{\"automargin\":true,\"gridcolor\":\"white\",\"linecolor\":\"white\",\"ticks\":\"\",\"title\":{\"standoff\":15},\"zerolinecolor\":\"white\",\"zerolinewidth\":2}}},\"title\":{\"font\":{\"color\":\"#4D5663\"}},\"xaxis\":{\"gridcolor\":\"#E1E5ED\",\"showgrid\":true,\"tickfont\":{\"color\":\"#4D5663\"},\"title\":{\"font\":{\"color\":\"#4D5663\"},\"text\":\"\"},\"zerolinecolor\":\"#E1E5ED\"},\"yaxis\":{\"gridcolor\":\"#E1E5ED\",\"showgrid\":true,\"tickfont\":{\"color\":\"#4D5663\"},\"title\":{\"font\":{\"color\":\"#4D5663\"},\"text\":\"\"},\"zerolinecolor\":\"#E1E5ED\"}},                        {\"showLink\": true, \"linkText\": \"Export to plot.ly\", \"plotlyServerURL\": \"https://plot.ly\", \"responsive\": true}                    ).then(function(){\n",
       "                            \n",
       "var gd = document.getElementById('b911f633-4e7d-47d7-9e07-2822893ba366');\n",
       "var x = new MutationObserver(function (mutations, observer) {{\n",
       "        var display = window.getComputedStyle(gd).display;\n",
       "        if (!display || display === 'none') {{\n",
       "            console.log([gd, 'removed!']);\n",
       "            Plotly.purge(gd);\n",
       "            observer.disconnect();\n",
       "        }}\n",
       "}});\n",
       "\n",
       "// Listen for the removal of the full notebook cells\n",
       "var notebookContainer = gd.closest('#notebook-container');\n",
       "if (notebookContainer) {{\n",
       "    x.observe(notebookContainer, {childList: true});\n",
       "}}\n",
       "\n",
       "// Listen for the clearing of the current output cell\n",
       "var outputEl = gd.closest('.output');\n",
       "if (outputEl) {{\n",
       "    x.observe(outputEl, {childList: true});\n",
       "}}\n",
       "\n",
       "                        })                };                });            </script>        </div>"
      ]
     },
     "metadata": {},
     "output_type": "display_data"
    }
   ],
   "source": [
    "df.iplot(kind='hist',bins=40)"
   ]
  },
  {
   "cell_type": "code",
   "execution_count": null,
   "id": "72f3e079",
   "metadata": {},
   "outputs": [],
   "source": [
    "df[['']]"
   ]
  },
  {
   "cell_type": "code",
   "execution_count": 36,
   "id": "44ef54fa",
   "metadata": {},
   "outputs": [
    {
     "data": {
      "application/vnd.plotly.v1+json": {
       "config": {
        "linkText": "Export to plot.ly",
        "plotlyServerURL": "https://plot.ly",
        "showLink": true
       },
       "data": [
        {
         "line": {
          "color": "rgba(255, 153, 51, 1.0)",
          "dash": "solid",
          "shape": "linear",
          "width": 1.3
         },
         "mode": "lines",
         "name": "A",
         "text": "",
         "type": "scatter",
         "x": [
          0,
          1,
          2,
          3,
          4,
          5,
          6,
          7,
          8,
          9,
          10,
          11,
          12,
          13,
          14,
          15,
          16,
          17,
          18,
          19,
          20,
          21,
          22,
          23,
          24,
          25,
          26,
          27,
          28,
          29,
          30,
          31,
          32,
          33,
          34,
          35,
          36,
          37,
          38,
          39,
          40,
          41,
          42,
          43,
          44,
          45,
          46,
          47,
          48,
          49,
          50,
          51,
          52,
          53,
          54,
          55,
          56,
          57,
          58,
          59,
          60,
          61,
          62,
          63,
          64,
          65,
          66,
          67,
          68,
          69,
          70,
          71,
          72,
          73,
          74,
          75,
          76,
          77,
          78,
          79,
          80,
          81,
          82,
          83,
          84,
          85,
          86,
          87,
          88,
          89,
          90,
          91,
          92,
          93,
          94,
          95,
          96,
          97,
          98,
          99
         ],
         "y": [
          0.20858928925374165,
          -0.4342659365804992,
          0.15224425972204558,
          -1.4076364859048878,
          -1.8787133030357686,
          1.1141016130474,
          -0.014856903124838405,
          2.2980934492830407,
          -0.04537892657460305,
          0.37251593394002713,
          1.3160112807008706,
          -0.17426433245318806,
          -1.0676051347476219,
          0.35048603503154846,
          1.3995954370148027,
          0.31417325524307427,
          -0.03901252898133603,
          -0.7815522712797063,
          -1.4657470354223352,
          -0.10963875683423577,
          0.3414618118686473,
          1.8556025363714947,
          0.3857059012861465,
          0.9980034374445319,
          1.2369036414452386,
          -2.2112045923282877,
          -0.8039465980537963,
          1.2501257231512457,
          0.28072647683673607,
          0.8479650419673018,
          0.821856776990302,
          0.33703944666886576,
          0.2994135796999949,
          -1.0020739050520817,
          1.0492375923262964,
          1.4499683923774385,
          0.6771778865444542,
          -1.174173436607878,
          0.9380903401986462,
          0.7830429803693706,
          1.5612080447999004,
          -0.689867946889579,
          -0.012595428200974368,
          -0.07720029034540583,
          1.4459983734283515,
          -0.9818107095001324,
          1.192692753425027,
          -0.0427350127227039,
          -0.770256799555548,
          -2.325516663796394,
          -0.6431928762709359,
          0.3153997366164689,
          0.3874379394644579,
          1.039847925443799,
          -0.9392276561472361,
          0.030043034312859172,
          1.1374541985603328,
          -0.6299169960910088,
          -0.9632572236552438,
          0.46429902371477966,
          -0.21188270820025484,
          -1.071565489388745,
          -0.18972067388602754,
          -1.2528521719399608,
          0.15881994888242676,
          -0.0378086230861681,
          1.1167572500107146,
          0.0006074965995330983,
          -0.15191943738908428,
          1.55982623930444,
          0.6060812113709677,
          0.07197403153804605,
          -0.1892256296041631,
          0.3744916234702504,
          0.5371723431024327,
          0.3056813222755168,
          3.2724431765187476,
          0.5606360026261016,
          0.0797615201136642,
          2.1426154923643996,
          0.595063512231104,
          -2.0077243015777624,
          -1.3920962454797994,
          -1.496551961908376,
          0.7760365739615019,
          0.8822518019486779,
          1.0019935837931249,
          -0.6634189590571933,
          0.07849718855217555,
          0.059596466005808625,
          1.075688755634055,
          1.9898092690768672,
          0.05738664500122117,
          -1.1337520231610325,
          -0.25843487309297164,
          0.4268716302195559,
          -2.323477988994405,
          1.8390982353041838,
          1.2639675884889168,
          1.654235242842938
         ]
        },
        {
         "line": {
          "color": "rgba(55, 128, 191, 1.0)",
          "dash": "solid",
          "shape": "linear",
          "width": 1.3
         },
         "mode": "lines",
         "name": "B",
         "text": "",
         "type": "scatter",
         "x": [
          0,
          1,
          2,
          3,
          4,
          5,
          6,
          7,
          8,
          9,
          10,
          11,
          12,
          13,
          14,
          15,
          16,
          17,
          18,
          19,
          20,
          21,
          22,
          23,
          24,
          25,
          26,
          27,
          28,
          29,
          30,
          31,
          32,
          33,
          34,
          35,
          36,
          37,
          38,
          39,
          40,
          41,
          42,
          43,
          44,
          45,
          46,
          47,
          48,
          49,
          50,
          51,
          52,
          53,
          54,
          55,
          56,
          57,
          58,
          59,
          60,
          61,
          62,
          63,
          64,
          65,
          66,
          67,
          68,
          69,
          70,
          71,
          72,
          73,
          74,
          75,
          76,
          77,
          78,
          79,
          80,
          81,
          82,
          83,
          84,
          85,
          86,
          87,
          88,
          89,
          90,
          91,
          92,
          93,
          94,
          95,
          96,
          97,
          98,
          99
         ],
         "y": [
          -1.0899935075648546,
          -0.3283429263413677,
          0.9249715866272701,
          2.265847442190619,
          -1.9679748652286901,
          0.3522242836497475,
          -0.7922871395287938,
          -0.9258406713634908,
          0.8115272195253244,
          -1.477270976719303,
          0.1618159952438024,
          -0.4331539457009914,
          0.039311567111366276,
          -0.02441439939200614,
          0.6172117332234927,
          -2.340081944963553,
          3.1702114209761914,
          -0.36332764722503386,
          -0.4907725595838416,
          0.7908863334448771,
          -1.3709915008208202,
          0.5630076301719508,
          -0.08132772990151602,
          0.23855039987494617,
          -0.36783653113759457,
          -2.0583162396779198,
          0.41011426019927305,
          0.7360262123316557,
          0.8578455480892391,
          0.6692212126530874,
          -0.29193924207135413,
          -0.010428464535667108,
          0.5827342576436385,
          0.8631295668999309,
          -0.3887628842023507,
          0.5621355659822822,
          0.41242643202681245,
          0.5400452510501995,
          -0.8622450348007333,
          0.8373961616003691,
          0.7075403616234199,
          1.50682059694962,
          -0.8579989529337081,
          1.966217498627032,
          -0.8842888279114438,
          -0.14063222009410747,
          0.1560775565914649,
          -1.0318998613338433,
          0.6938332181045966,
          0.34902727031895114,
          -1.2083396070051455,
          2.2505048443521325,
          1.4625590755465416,
          -0.7392605820861616,
          1.290122175953878,
          0.03743177695407034,
          0.15447966905151658,
          -0.5941001153821971,
          0.41401637666917435,
          0.43185474659107764,
          -0.48564289964242224,
          0.2120732808572052,
          -1.2176504747328385,
          -0.15447459880849224,
          0.04952072542198867,
          0.016467999256636306,
          -0.5074883377420486,
          0.2853198976723749,
          1.617705760844643,
          1.677555201770505,
          0.27528939747803033,
          1.2810400539729732,
          -0.33070951242102525,
          1.044671936262385,
          0.07747716330923368,
          0.3114697652518498,
          -1.156964461310973,
          0.7046737117632361,
          0.17166399704921553,
          0.046391761412236276,
          2.0237011484840295,
          1.0508124503427356,
          0.7633037621767298,
          0.910230795208631,
          -0.6860382779231162,
          0.8414355798852678,
          0.20068154971940383,
          -0.43766497984189995,
          -1.4456137666739453,
          0.04206249677159624,
          -1.7378780010870498,
          0.3317607911741303,
          -0.3960625890982911,
          0.20891188425239193,
          1.7533600297381258,
          -0.5744757529482349,
          -1.2890173304854928,
          -0.8397499635573618,
          -0.2703194128703838,
          0.4006493372053976
         ]
        },
        {
         "connectgaps": false,
         "fill": "tozeroy",
         "line": {
          "color": "green",
          "dash": "solid",
          "shape": "linear",
          "width": 0.5
         },
         "mode": "lines",
         "name": "Spread",
         "showlegend": false,
         "type": "scatter",
         "x": [
          0,
          1,
          2,
          3,
          4,
          5,
          6,
          7,
          8,
          9,
          10,
          11,
          12,
          13,
          14,
          15,
          16,
          17,
          18,
          19,
          20,
          21,
          22,
          23,
          24,
          25,
          26,
          27,
          28,
          29,
          30,
          31,
          32,
          33,
          34,
          35,
          36,
          37,
          38,
          39,
          40,
          41,
          42,
          43,
          44,
          45,
          46,
          47,
          48,
          49,
          50,
          51,
          52,
          53,
          54,
          55,
          56,
          57,
          58,
          59,
          60,
          61,
          62,
          63,
          64,
          65,
          66,
          67,
          68,
          69,
          70,
          71,
          72,
          73,
          74,
          75,
          76,
          77,
          78,
          79,
          80,
          81,
          82,
          83,
          84,
          85,
          86,
          87,
          88,
          89,
          90,
          91,
          92,
          93,
          94,
          95,
          96,
          97,
          98,
          99
         ],
         "xaxis": "x2",
         "y": [
          1.2985827968185961,
          "",
          "",
          "",
          0.08926156219292158,
          0.7618773293976524,
          0.7774302364039554,
          3.2239341206465317,
          "",
          1.84978691065933,
          1.1541952854570683,
          0.25888961324780335,
          "",
          0.3749004344235546,
          0.7823837037913101,
          2.6542552002066273,
          "",
          "",
          "",
          "",
          1.7124533126894677,
          1.292594906199544,
          0.4670336311876625,
          0.7594530375695857,
          1.6047401725828332,
          "",
          "",
          0.51409951081959,
          "",
          0.1787438293142144,
          1.113796019061656,
          0.34746791120453285,
          "",
          "",
          1.4380004765286472,
          0.8878328263951563,
          0.26475145451764176,
          "",
          1.8003353749993796,
          "",
          0.8536676831764805,
          "",
          0.8454035247327337,
          "",
          2.3302872013397953,
          "",
          1.036615196833562,
          0.9891648486111394,
          "",
          "",
          0.5651467307342096,
          "",
          "",
          1.7791085075299606,
          "",
          "",
          0.9829745295088163,
          "",
          "",
          0.032444277123702014,
          0.2737601914421674,
          "",
          1.027929800846811,
          "",
          0.10929922346043809,
          "",
          1.624245587752763,
          "",
          "",
          "",
          0.3307918138929374,
          "",
          0.14148388281686217,
          "",
          0.45969517979319896,
          "",
          4.429407637829721,
          "",
          "",
          2.0962237309521634,
          "",
          "",
          "",
          "",
          1.4620748518846183,
          0.04081622206341007,
          0.801312034073721,
          "",
          1.5241109552261207,
          0.017533969234212382,
          2.813566756721105,
          1.658048477902737,
          0.45344923409951227,
          "",
          "",
          1.0013473831677908,
          "",
          2.6788481988615453,
          1.5342870013593006,
          1.2535859056375405
         ],
         "yaxis": "y2"
        },
        {
         "connectgaps": false,
         "fill": "tozeroy",
         "line": {
          "color": "red",
          "dash": "solid",
          "shape": "linear",
          "width": 0.5
         },
         "mode": "lines",
         "name": "Spread",
         "showlegend": false,
         "type": "scatter",
         "x": [
          0,
          1,
          2,
          3,
          4,
          5,
          6,
          7,
          8,
          9,
          10,
          11,
          12,
          13,
          14,
          15,
          16,
          17,
          18,
          19,
          20,
          21,
          22,
          23,
          24,
          25,
          26,
          27,
          28,
          29,
          30,
          31,
          32,
          33,
          34,
          35,
          36,
          37,
          38,
          39,
          40,
          41,
          42,
          43,
          44,
          45,
          46,
          47,
          48,
          49,
          50,
          51,
          52,
          53,
          54,
          55,
          56,
          57,
          58,
          59,
          60,
          61,
          62,
          63,
          64,
          65,
          66,
          67,
          68,
          69,
          70,
          71,
          72,
          73,
          74,
          75,
          76,
          77,
          78,
          79,
          80,
          81,
          82,
          83,
          84,
          85,
          86,
          87,
          88,
          89,
          90,
          91,
          92,
          93,
          94,
          95,
          96,
          97,
          98,
          99
         ],
         "xaxis": "x2",
         "y": [
          "",
          -0.10592301023913153,
          -0.7727273269052245,
          -3.673483928095507,
          "",
          "",
          "",
          "",
          -0.8569061460999274,
          "",
          "",
          "",
          -1.106916701858988,
          "",
          "",
          "",
          -3.2092239499575275,
          -0.4182246240546724,
          -0.9749744758384936,
          -0.9005250902791129,
          "",
          "",
          "",
          "",
          "",
          -0.15288835265036793,
          -1.2140608582530694,
          "",
          -0.577119071252503,
          "",
          "",
          "",
          -0.28332067794364363,
          -1.8652034719520127,
          "",
          "",
          "",
          -1.7142186876580774,
          "",
          -0.054353181230998526,
          "",
          -2.196688543839199,
          "",
          -2.043417788972438,
          "",
          -0.8411784894060249,
          "",
          "",
          -1.4640900176601446,
          -2.6745439341153454,
          "",
          -1.9351051077356636,
          -1.0751211360820836,
          "",
          -2.2293498321011143,
          -0.007388742641211164,
          "",
          -0.03581688070881173,
          -1.3772736003244181,
          "",
          "",
          -1.2836387702459502,
          "",
          -1.0983775731314687,
          "",
          -0.054276622342804406,
          "",
          -0.28471240107284185,
          -1.7696251982337272,
          -0.11772896246606512,
          "",
          -1.2090660224349272,
          "",
          -0.6701803127921346,
          "",
          -0.005788442976332964,
          "",
          -0.14403770913713454,
          -0.09190247693555133,
          "",
          -1.4286376362529256,
          -3.058536751920498,
          -2.155400007656529,
          -2.406782757117007,
          "",
          "",
          "",
          -0.22575397921529333,
          "",
          "",
          "",
          "",
          "",
          -1.3426639074134243,
          -2.0117949028310975,
          "",
          -1.0344606585089122,
          "",
          "",
          ""
         ],
         "yaxis": "y2"
        }
       ],
       "layout": {
        "hovermode": "x",
        "legend": {
         "bgcolor": "#F5F6F9",
         "font": {
          "color": "#4D5663"
         }
        },
        "paper_bgcolor": "#F5F6F9",
        "plot_bgcolor": "#F5F6F9",
        "template": {
         "data": {
          "bar": [
           {
            "error_x": {
             "color": "#2a3f5f"
            },
            "error_y": {
             "color": "#2a3f5f"
            },
            "marker": {
             "line": {
              "color": "#E5ECF6",
              "width": 0.5
             },
             "pattern": {
              "fillmode": "overlay",
              "size": 10,
              "solidity": 0.2
             }
            },
            "type": "bar"
           }
          ],
          "barpolar": [
           {
            "marker": {
             "line": {
              "color": "#E5ECF6",
              "width": 0.5
             },
             "pattern": {
              "fillmode": "overlay",
              "size": 10,
              "solidity": 0.2
             }
            },
            "type": "barpolar"
           }
          ],
          "carpet": [
           {
            "aaxis": {
             "endlinecolor": "#2a3f5f",
             "gridcolor": "white",
             "linecolor": "white",
             "minorgridcolor": "white",
             "startlinecolor": "#2a3f5f"
            },
            "baxis": {
             "endlinecolor": "#2a3f5f",
             "gridcolor": "white",
             "linecolor": "white",
             "minorgridcolor": "white",
             "startlinecolor": "#2a3f5f"
            },
            "type": "carpet"
           }
          ],
          "choropleth": [
           {
            "colorbar": {
             "outlinewidth": 0,
             "ticks": ""
            },
            "type": "choropleth"
           }
          ],
          "contour": [
           {
            "colorbar": {
             "outlinewidth": 0,
             "ticks": ""
            },
            "colorscale": [
             [
              0,
              "#0d0887"
             ],
             [
              0.1111111111111111,
              "#46039f"
             ],
             [
              0.2222222222222222,
              "#7201a8"
             ],
             [
              0.3333333333333333,
              "#9c179e"
             ],
             [
              0.4444444444444444,
              "#bd3786"
             ],
             [
              0.5555555555555556,
              "#d8576b"
             ],
             [
              0.6666666666666666,
              "#ed7953"
             ],
             [
              0.7777777777777778,
              "#fb9f3a"
             ],
             [
              0.8888888888888888,
              "#fdca26"
             ],
             [
              1,
              "#f0f921"
             ]
            ],
            "type": "contour"
           }
          ],
          "contourcarpet": [
           {
            "colorbar": {
             "outlinewidth": 0,
             "ticks": ""
            },
            "type": "contourcarpet"
           }
          ],
          "heatmap": [
           {
            "colorbar": {
             "outlinewidth": 0,
             "ticks": ""
            },
            "colorscale": [
             [
              0,
              "#0d0887"
             ],
             [
              0.1111111111111111,
              "#46039f"
             ],
             [
              0.2222222222222222,
              "#7201a8"
             ],
             [
              0.3333333333333333,
              "#9c179e"
             ],
             [
              0.4444444444444444,
              "#bd3786"
             ],
             [
              0.5555555555555556,
              "#d8576b"
             ],
             [
              0.6666666666666666,
              "#ed7953"
             ],
             [
              0.7777777777777778,
              "#fb9f3a"
             ],
             [
              0.8888888888888888,
              "#fdca26"
             ],
             [
              1,
              "#f0f921"
             ]
            ],
            "type": "heatmap"
           }
          ],
          "heatmapgl": [
           {
            "colorbar": {
             "outlinewidth": 0,
             "ticks": ""
            },
            "colorscale": [
             [
              0,
              "#0d0887"
             ],
             [
              0.1111111111111111,
              "#46039f"
             ],
             [
              0.2222222222222222,
              "#7201a8"
             ],
             [
              0.3333333333333333,
              "#9c179e"
             ],
             [
              0.4444444444444444,
              "#bd3786"
             ],
             [
              0.5555555555555556,
              "#d8576b"
             ],
             [
              0.6666666666666666,
              "#ed7953"
             ],
             [
              0.7777777777777778,
              "#fb9f3a"
             ],
             [
              0.8888888888888888,
              "#fdca26"
             ],
             [
              1,
              "#f0f921"
             ]
            ],
            "type": "heatmapgl"
           }
          ],
          "histogram": [
           {
            "marker": {
             "pattern": {
              "fillmode": "overlay",
              "size": 10,
              "solidity": 0.2
             }
            },
            "type": "histogram"
           }
          ],
          "histogram2d": [
           {
            "colorbar": {
             "outlinewidth": 0,
             "ticks": ""
            },
            "colorscale": [
             [
              0,
              "#0d0887"
             ],
             [
              0.1111111111111111,
              "#46039f"
             ],
             [
              0.2222222222222222,
              "#7201a8"
             ],
             [
              0.3333333333333333,
              "#9c179e"
             ],
             [
              0.4444444444444444,
              "#bd3786"
             ],
             [
              0.5555555555555556,
              "#d8576b"
             ],
             [
              0.6666666666666666,
              "#ed7953"
             ],
             [
              0.7777777777777778,
              "#fb9f3a"
             ],
             [
              0.8888888888888888,
              "#fdca26"
             ],
             [
              1,
              "#f0f921"
             ]
            ],
            "type": "histogram2d"
           }
          ],
          "histogram2dcontour": [
           {
            "colorbar": {
             "outlinewidth": 0,
             "ticks": ""
            },
            "colorscale": [
             [
              0,
              "#0d0887"
             ],
             [
              0.1111111111111111,
              "#46039f"
             ],
             [
              0.2222222222222222,
              "#7201a8"
             ],
             [
              0.3333333333333333,
              "#9c179e"
             ],
             [
              0.4444444444444444,
              "#bd3786"
             ],
             [
              0.5555555555555556,
              "#d8576b"
             ],
             [
              0.6666666666666666,
              "#ed7953"
             ],
             [
              0.7777777777777778,
              "#fb9f3a"
             ],
             [
              0.8888888888888888,
              "#fdca26"
             ],
             [
              1,
              "#f0f921"
             ]
            ],
            "type": "histogram2dcontour"
           }
          ],
          "mesh3d": [
           {
            "colorbar": {
             "outlinewidth": 0,
             "ticks": ""
            },
            "type": "mesh3d"
           }
          ],
          "parcoords": [
           {
            "line": {
             "colorbar": {
              "outlinewidth": 0,
              "ticks": ""
             }
            },
            "type": "parcoords"
           }
          ],
          "pie": [
           {
            "automargin": true,
            "type": "pie"
           }
          ],
          "scatter": [
           {
            "marker": {
             "colorbar": {
              "outlinewidth": 0,
              "ticks": ""
             }
            },
            "type": "scatter"
           }
          ],
          "scatter3d": [
           {
            "line": {
             "colorbar": {
              "outlinewidth": 0,
              "ticks": ""
             }
            },
            "marker": {
             "colorbar": {
              "outlinewidth": 0,
              "ticks": ""
             }
            },
            "type": "scatter3d"
           }
          ],
          "scattercarpet": [
           {
            "marker": {
             "colorbar": {
              "outlinewidth": 0,
              "ticks": ""
             }
            },
            "type": "scattercarpet"
           }
          ],
          "scattergeo": [
           {
            "marker": {
             "colorbar": {
              "outlinewidth": 0,
              "ticks": ""
             }
            },
            "type": "scattergeo"
           }
          ],
          "scattergl": [
           {
            "marker": {
             "colorbar": {
              "outlinewidth": 0,
              "ticks": ""
             }
            },
            "type": "scattergl"
           }
          ],
          "scattermapbox": [
           {
            "marker": {
             "colorbar": {
              "outlinewidth": 0,
              "ticks": ""
             }
            },
            "type": "scattermapbox"
           }
          ],
          "scatterpolar": [
           {
            "marker": {
             "colorbar": {
              "outlinewidth": 0,
              "ticks": ""
             }
            },
            "type": "scatterpolar"
           }
          ],
          "scatterpolargl": [
           {
            "marker": {
             "colorbar": {
              "outlinewidth": 0,
              "ticks": ""
             }
            },
            "type": "scatterpolargl"
           }
          ],
          "scatterternary": [
           {
            "marker": {
             "colorbar": {
              "outlinewidth": 0,
              "ticks": ""
             }
            },
            "type": "scatterternary"
           }
          ],
          "surface": [
           {
            "colorbar": {
             "outlinewidth": 0,
             "ticks": ""
            },
            "colorscale": [
             [
              0,
              "#0d0887"
             ],
             [
              0.1111111111111111,
              "#46039f"
             ],
             [
              0.2222222222222222,
              "#7201a8"
             ],
             [
              0.3333333333333333,
              "#9c179e"
             ],
             [
              0.4444444444444444,
              "#bd3786"
             ],
             [
              0.5555555555555556,
              "#d8576b"
             ],
             [
              0.6666666666666666,
              "#ed7953"
             ],
             [
              0.7777777777777778,
              "#fb9f3a"
             ],
             [
              0.8888888888888888,
              "#fdca26"
             ],
             [
              1,
              "#f0f921"
             ]
            ],
            "type": "surface"
           }
          ],
          "table": [
           {
            "cells": {
             "fill": {
              "color": "#EBF0F8"
             },
             "line": {
              "color": "white"
             }
            },
            "header": {
             "fill": {
              "color": "#C8D4E3"
             },
             "line": {
              "color": "white"
             }
            },
            "type": "table"
           }
          ]
         },
         "layout": {
          "annotationdefaults": {
           "arrowcolor": "#2a3f5f",
           "arrowhead": 0,
           "arrowwidth": 1
          },
          "autotypenumbers": "strict",
          "coloraxis": {
           "colorbar": {
            "outlinewidth": 0,
            "ticks": ""
           }
          },
          "colorscale": {
           "diverging": [
            [
             0,
             "#8e0152"
            ],
            [
             0.1,
             "#c51b7d"
            ],
            [
             0.2,
             "#de77ae"
            ],
            [
             0.3,
             "#f1b6da"
            ],
            [
             0.4,
             "#fde0ef"
            ],
            [
             0.5,
             "#f7f7f7"
            ],
            [
             0.6,
             "#e6f5d0"
            ],
            [
             0.7,
             "#b8e186"
            ],
            [
             0.8,
             "#7fbc41"
            ],
            [
             0.9,
             "#4d9221"
            ],
            [
             1,
             "#276419"
            ]
           ],
           "sequential": [
            [
             0,
             "#0d0887"
            ],
            [
             0.1111111111111111,
             "#46039f"
            ],
            [
             0.2222222222222222,
             "#7201a8"
            ],
            [
             0.3333333333333333,
             "#9c179e"
            ],
            [
             0.4444444444444444,
             "#bd3786"
            ],
            [
             0.5555555555555556,
             "#d8576b"
            ],
            [
             0.6666666666666666,
             "#ed7953"
            ],
            [
             0.7777777777777778,
             "#fb9f3a"
            ],
            [
             0.8888888888888888,
             "#fdca26"
            ],
            [
             1,
             "#f0f921"
            ]
           ],
           "sequentialminus": [
            [
             0,
             "#0d0887"
            ],
            [
             0.1111111111111111,
             "#46039f"
            ],
            [
             0.2222222222222222,
             "#7201a8"
            ],
            [
             0.3333333333333333,
             "#9c179e"
            ],
            [
             0.4444444444444444,
             "#bd3786"
            ],
            [
             0.5555555555555556,
             "#d8576b"
            ],
            [
             0.6666666666666666,
             "#ed7953"
            ],
            [
             0.7777777777777778,
             "#fb9f3a"
            ],
            [
             0.8888888888888888,
             "#fdca26"
            ],
            [
             1,
             "#f0f921"
            ]
           ]
          },
          "colorway": [
           "#636efa",
           "#EF553B",
           "#00cc96",
           "#ab63fa",
           "#FFA15A",
           "#19d3f3",
           "#FF6692",
           "#B6E880",
           "#FF97FF",
           "#FECB52"
          ],
          "font": {
           "color": "#2a3f5f"
          },
          "geo": {
           "bgcolor": "white",
           "lakecolor": "white",
           "landcolor": "#E5ECF6",
           "showlakes": true,
           "showland": true,
           "subunitcolor": "white"
          },
          "hoverlabel": {
           "align": "left"
          },
          "hovermode": "closest",
          "mapbox": {
           "style": "light"
          },
          "paper_bgcolor": "white",
          "plot_bgcolor": "#E5ECF6",
          "polar": {
           "angularaxis": {
            "gridcolor": "white",
            "linecolor": "white",
            "ticks": ""
           },
           "bgcolor": "#E5ECF6",
           "radialaxis": {
            "gridcolor": "white",
            "linecolor": "white",
            "ticks": ""
           }
          },
          "scene": {
           "xaxis": {
            "backgroundcolor": "#E5ECF6",
            "gridcolor": "white",
            "gridwidth": 2,
            "linecolor": "white",
            "showbackground": true,
            "ticks": "",
            "zerolinecolor": "white"
           },
           "yaxis": {
            "backgroundcolor": "#E5ECF6",
            "gridcolor": "white",
            "gridwidth": 2,
            "linecolor": "white",
            "showbackground": true,
            "ticks": "",
            "zerolinecolor": "white"
           },
           "zaxis": {
            "backgroundcolor": "#E5ECF6",
            "gridcolor": "white",
            "gridwidth": 2,
            "linecolor": "white",
            "showbackground": true,
            "ticks": "",
            "zerolinecolor": "white"
           }
          },
          "shapedefaults": {
           "line": {
            "color": "#2a3f5f"
           }
          },
          "ternary": {
           "aaxis": {
            "gridcolor": "white",
            "linecolor": "white",
            "ticks": ""
           },
           "baxis": {
            "gridcolor": "white",
            "linecolor": "white",
            "ticks": ""
           },
           "bgcolor": "#E5ECF6",
           "caxis": {
            "gridcolor": "white",
            "linecolor": "white",
            "ticks": ""
           }
          },
          "title": {
           "x": 0.05
          },
          "xaxis": {
           "automargin": true,
           "gridcolor": "white",
           "linecolor": "white",
           "ticks": "",
           "title": {
            "standoff": 15
           },
           "zerolinecolor": "white",
           "zerolinewidth": 2
          },
          "yaxis": {
           "automargin": true,
           "gridcolor": "white",
           "linecolor": "white",
           "ticks": "",
           "title": {
            "standoff": 15
           },
           "zerolinecolor": "white",
           "zerolinewidth": 2
          }
         }
        },
        "title": {
         "font": {
          "color": "#4D5663"
         }
        },
        "xaxis": {
         "gridcolor": "#E1E5ED",
         "showgrid": true,
         "tickfont": {
          "color": "#4D5663"
         },
         "title": {
          "font": {
           "color": "#4D5663"
          },
          "text": ""
         },
         "zerolinecolor": "#E1E5ED"
        },
        "xaxis2": {
         "anchor": "y2",
         "gridcolor": "#E1E5ED",
         "showgrid": true,
         "showticklabels": false,
         "tickfont": {
          "color": "#4D5663"
         },
         "title": {
          "font": {
           "color": "#4D5663"
          },
          "text": ""
         },
         "zerolinecolor": "#E1E5ED"
        },
        "yaxis": {
         "domain": [
          0.3,
          1
         ],
         "gridcolor": "#E1E5ED",
         "showgrid": true,
         "tickfont": {
          "color": "#4D5663"
         },
         "title": {
          "font": {
           "color": "#4D5663"
          },
          "text": ""
         },
         "zerolinecolor": "#E1E5ED"
        },
        "yaxis2": {
         "domain": [
          0,
          0.25
         ],
         "gridcolor": "#E1E5ED",
         "showgrid": true,
         "tickfont": {
          "color": "#4D5663"
         },
         "title": {
          "font": {
           "color": "#4D5663"
          },
          "text": "Spread"
         },
         "zerolinecolor": "#E1E5ED"
        }
       }
      },
      "text/html": [
       "<div>                            <div id=\"41b893ee-43a9-42cc-8b97-1d65cdf4fbe0\" class=\"plotly-graph-div\" style=\"height:525px; width:100%;\"></div>            <script type=\"text/javascript\">                require([\"plotly\"], function(Plotly) {                    window.PLOTLYENV=window.PLOTLYENV || {};\n",
       "                    window.PLOTLYENV.BASE_URL='https://plot.ly';                                    if (document.getElementById(\"41b893ee-43a9-42cc-8b97-1d65cdf4fbe0\")) {                    Plotly.newPlot(                        \"41b893ee-43a9-42cc-8b97-1d65cdf4fbe0\",                        [{\"line\":{\"color\":\"rgba(255, 153, 51, 1.0)\",\"dash\":\"solid\",\"shape\":\"linear\",\"width\":1.3},\"mode\":\"lines\",\"name\":\"A\",\"text\":\"\",\"type\":\"scatter\",\"x\":[0,1,2,3,4,5,6,7,8,9,10,11,12,13,14,15,16,17,18,19,20,21,22,23,24,25,26,27,28,29,30,31,32,33,34,35,36,37,38,39,40,41,42,43,44,45,46,47,48,49,50,51,52,53,54,55,56,57,58,59,60,61,62,63,64,65,66,67,68,69,70,71,72,73,74,75,76,77,78,79,80,81,82,83,84,85,86,87,88,89,90,91,92,93,94,95,96,97,98,99],\"y\":[0.20858928925374165,-0.4342659365804992,0.15224425972204558,-1.4076364859048878,-1.8787133030357686,1.1141016130474,-0.014856903124838405,2.2980934492830407,-0.04537892657460305,0.37251593394002713,1.3160112807008706,-0.17426433245318806,-1.0676051347476219,0.35048603503154846,1.3995954370148027,0.31417325524307427,-0.03901252898133603,-0.7815522712797063,-1.4657470354223352,-0.10963875683423577,0.3414618118686473,1.8556025363714947,0.3857059012861465,0.9980034374445319,1.2369036414452386,-2.2112045923282877,-0.8039465980537963,1.2501257231512457,0.28072647683673607,0.8479650419673018,0.821856776990302,0.33703944666886576,0.2994135796999949,-1.0020739050520817,1.0492375923262964,1.4499683923774385,0.6771778865444542,-1.174173436607878,0.9380903401986462,0.7830429803693706,1.5612080447999004,-0.689867946889579,-0.012595428200974368,-0.07720029034540583,1.4459983734283515,-0.9818107095001324,1.192692753425027,-0.0427350127227039,-0.770256799555548,-2.325516663796394,-0.6431928762709359,0.3153997366164689,0.3874379394644579,1.039847925443799,-0.9392276561472361,0.030043034312859172,1.1374541985603328,-0.6299169960910088,-0.9632572236552438,0.46429902371477966,-0.21188270820025484,-1.071565489388745,-0.18972067388602754,-1.2528521719399608,0.15881994888242676,-0.0378086230861681,1.1167572500107146,0.0006074965995330983,-0.15191943738908428,1.55982623930444,0.6060812113709677,0.07197403153804605,-0.1892256296041631,0.3744916234702504,0.5371723431024327,0.3056813222755168,3.2724431765187476,0.5606360026261016,0.0797615201136642,2.1426154923643996,0.595063512231104,-2.0077243015777624,-1.3920962454797994,-1.496551961908376,0.7760365739615019,0.8822518019486779,1.0019935837931249,-0.6634189590571933,0.07849718855217555,0.059596466005808625,1.075688755634055,1.9898092690768672,0.05738664500122117,-1.1337520231610325,-0.25843487309297164,0.4268716302195559,-2.323477988994405,1.8390982353041838,1.2639675884889168,1.654235242842938]},{\"line\":{\"color\":\"rgba(55, 128, 191, 1.0)\",\"dash\":\"solid\",\"shape\":\"linear\",\"width\":1.3},\"mode\":\"lines\",\"name\":\"B\",\"text\":\"\",\"type\":\"scatter\",\"x\":[0,1,2,3,4,5,6,7,8,9,10,11,12,13,14,15,16,17,18,19,20,21,22,23,24,25,26,27,28,29,30,31,32,33,34,35,36,37,38,39,40,41,42,43,44,45,46,47,48,49,50,51,52,53,54,55,56,57,58,59,60,61,62,63,64,65,66,67,68,69,70,71,72,73,74,75,76,77,78,79,80,81,82,83,84,85,86,87,88,89,90,91,92,93,94,95,96,97,98,99],\"y\":[-1.0899935075648546,-0.3283429263413677,0.9249715866272701,2.265847442190619,-1.9679748652286901,0.3522242836497475,-0.7922871395287938,-0.9258406713634908,0.8115272195253244,-1.477270976719303,0.1618159952438024,-0.4331539457009914,0.039311567111366276,-0.02441439939200614,0.6172117332234927,-2.340081944963553,3.1702114209761914,-0.36332764722503386,-0.4907725595838416,0.7908863334448771,-1.3709915008208202,0.5630076301719508,-0.08132772990151602,0.23855039987494617,-0.36783653113759457,-2.0583162396779198,0.41011426019927305,0.7360262123316557,0.8578455480892391,0.6692212126530874,-0.29193924207135413,-0.010428464535667108,0.5827342576436385,0.8631295668999309,-0.3887628842023507,0.5621355659822822,0.41242643202681245,0.5400452510501995,-0.8622450348007333,0.8373961616003691,0.7075403616234199,1.50682059694962,-0.8579989529337081,1.966217498627032,-0.8842888279114438,-0.14063222009410747,0.1560775565914649,-1.0318998613338433,0.6938332181045966,0.34902727031895114,-1.2083396070051455,2.2505048443521325,1.4625590755465416,-0.7392605820861616,1.290122175953878,0.03743177695407034,0.15447966905151658,-0.5941001153821971,0.41401637666917435,0.43185474659107764,-0.48564289964242224,0.2120732808572052,-1.2176504747328385,-0.15447459880849224,0.04952072542198867,0.016467999256636306,-0.5074883377420486,0.2853198976723749,1.617705760844643,1.677555201770505,0.27528939747803033,1.2810400539729732,-0.33070951242102525,1.044671936262385,0.07747716330923368,0.3114697652518498,-1.156964461310973,0.7046737117632361,0.17166399704921553,0.046391761412236276,2.0237011484840295,1.0508124503427356,0.7633037621767298,0.910230795208631,-0.6860382779231162,0.8414355798852678,0.20068154971940383,-0.43766497984189995,-1.4456137666739453,0.04206249677159624,-1.7378780010870498,0.3317607911741303,-0.3960625890982911,0.20891188425239193,1.7533600297381258,-0.5744757529482349,-1.2890173304854928,-0.8397499635573618,-0.2703194128703838,0.4006493372053976]},{\"connectgaps\":false,\"fill\":\"tozeroy\",\"line\":{\"color\":\"green\",\"dash\":\"solid\",\"shape\":\"linear\",\"width\":0.5},\"mode\":\"lines\",\"name\":\"Spread\",\"showlegend\":false,\"type\":\"scatter\",\"x\":[0,1,2,3,4,5,6,7,8,9,10,11,12,13,14,15,16,17,18,19,20,21,22,23,24,25,26,27,28,29,30,31,32,33,34,35,36,37,38,39,40,41,42,43,44,45,46,47,48,49,50,51,52,53,54,55,56,57,58,59,60,61,62,63,64,65,66,67,68,69,70,71,72,73,74,75,76,77,78,79,80,81,82,83,84,85,86,87,88,89,90,91,92,93,94,95,96,97,98,99],\"xaxis\":\"x2\",\"y\":[1.2985827968185961,\"\",\"\",\"\",0.08926156219292158,0.7618773293976524,0.7774302364039554,3.2239341206465317,\"\",1.84978691065933,1.1541952854570683,0.25888961324780335,\"\",0.3749004344235546,0.7823837037913101,2.6542552002066273,\"\",\"\",\"\",\"\",1.7124533126894677,1.292594906199544,0.4670336311876625,0.7594530375695857,1.6047401725828332,\"\",\"\",0.51409951081959,\"\",0.1787438293142144,1.113796019061656,0.34746791120453285,\"\",\"\",1.4380004765286472,0.8878328263951563,0.26475145451764176,\"\",1.8003353749993796,\"\",0.8536676831764805,\"\",0.8454035247327337,\"\",2.3302872013397953,\"\",1.036615196833562,0.9891648486111394,\"\",\"\",0.5651467307342096,\"\",\"\",1.7791085075299606,\"\",\"\",0.9829745295088163,\"\",\"\",0.032444277123702014,0.2737601914421674,\"\",1.027929800846811,\"\",0.10929922346043809,\"\",1.624245587752763,\"\",\"\",\"\",0.3307918138929374,\"\",0.14148388281686217,\"\",0.45969517979319896,\"\",4.429407637829721,\"\",\"\",2.0962237309521634,\"\",\"\",\"\",\"\",1.4620748518846183,0.04081622206341007,0.801312034073721,\"\",1.5241109552261207,0.017533969234212382,2.813566756721105,1.658048477902737,0.45344923409951227,\"\",\"\",1.0013473831677908,\"\",2.6788481988615453,1.5342870013593006,1.2535859056375405],\"yaxis\":\"y2\"},{\"connectgaps\":false,\"fill\":\"tozeroy\",\"line\":{\"color\":\"red\",\"dash\":\"solid\",\"shape\":\"linear\",\"width\":0.5},\"mode\":\"lines\",\"name\":\"Spread\",\"showlegend\":false,\"type\":\"scatter\",\"x\":[0,1,2,3,4,5,6,7,8,9,10,11,12,13,14,15,16,17,18,19,20,21,22,23,24,25,26,27,28,29,30,31,32,33,34,35,36,37,38,39,40,41,42,43,44,45,46,47,48,49,50,51,52,53,54,55,56,57,58,59,60,61,62,63,64,65,66,67,68,69,70,71,72,73,74,75,76,77,78,79,80,81,82,83,84,85,86,87,88,89,90,91,92,93,94,95,96,97,98,99],\"xaxis\":\"x2\",\"y\":[\"\",-0.10592301023913153,-0.7727273269052245,-3.673483928095507,\"\",\"\",\"\",\"\",-0.8569061460999274,\"\",\"\",\"\",-1.106916701858988,\"\",\"\",\"\",-3.2092239499575275,-0.4182246240546724,-0.9749744758384936,-0.9005250902791129,\"\",\"\",\"\",\"\",\"\",-0.15288835265036793,-1.2140608582530694,\"\",-0.577119071252503,\"\",\"\",\"\",-0.28332067794364363,-1.8652034719520127,\"\",\"\",\"\",-1.7142186876580774,\"\",-0.054353181230998526,\"\",-2.196688543839199,\"\",-2.043417788972438,\"\",-0.8411784894060249,\"\",\"\",-1.4640900176601446,-2.6745439341153454,\"\",-1.9351051077356636,-1.0751211360820836,\"\",-2.2293498321011143,-0.007388742641211164,\"\",-0.03581688070881173,-1.3772736003244181,\"\",\"\",-1.2836387702459502,\"\",-1.0983775731314687,\"\",-0.054276622342804406,\"\",-0.28471240107284185,-1.7696251982337272,-0.11772896246606512,\"\",-1.2090660224349272,\"\",-0.6701803127921346,\"\",-0.005788442976332964,\"\",-0.14403770913713454,-0.09190247693555133,\"\",-1.4286376362529256,-3.058536751920498,-2.155400007656529,-2.406782757117007,\"\",\"\",\"\",-0.22575397921529333,\"\",\"\",\"\",\"\",\"\",-1.3426639074134243,-2.0117949028310975,\"\",-1.0344606585089122,\"\",\"\",\"\"],\"yaxis\":\"y2\"}],                        {\"hovermode\":\"x\",\"legend\":{\"bgcolor\":\"#F5F6F9\",\"font\":{\"color\":\"#4D5663\"}},\"paper_bgcolor\":\"#F5F6F9\",\"plot_bgcolor\":\"#F5F6F9\",\"template\":{\"data\":{\"bar\":[{\"error_x\":{\"color\":\"#2a3f5f\"},\"error_y\":{\"color\":\"#2a3f5f\"},\"marker\":{\"line\":{\"color\":\"#E5ECF6\",\"width\":0.5},\"pattern\":{\"fillmode\":\"overlay\",\"size\":10,\"solidity\":0.2}},\"type\":\"bar\"}],\"barpolar\":[{\"marker\":{\"line\":{\"color\":\"#E5ECF6\",\"width\":0.5},\"pattern\":{\"fillmode\":\"overlay\",\"size\":10,\"solidity\":0.2}},\"type\":\"barpolar\"}],\"carpet\":[{\"aaxis\":{\"endlinecolor\":\"#2a3f5f\",\"gridcolor\":\"white\",\"linecolor\":\"white\",\"minorgridcolor\":\"white\",\"startlinecolor\":\"#2a3f5f\"},\"baxis\":{\"endlinecolor\":\"#2a3f5f\",\"gridcolor\":\"white\",\"linecolor\":\"white\",\"minorgridcolor\":\"white\",\"startlinecolor\":\"#2a3f5f\"},\"type\":\"carpet\"}],\"choropleth\":[{\"colorbar\":{\"outlinewidth\":0,\"ticks\":\"\"},\"type\":\"choropleth\"}],\"contour\":[{\"colorbar\":{\"outlinewidth\":0,\"ticks\":\"\"},\"colorscale\":[[0.0,\"#0d0887\"],[0.1111111111111111,\"#46039f\"],[0.2222222222222222,\"#7201a8\"],[0.3333333333333333,\"#9c179e\"],[0.4444444444444444,\"#bd3786\"],[0.5555555555555556,\"#d8576b\"],[0.6666666666666666,\"#ed7953\"],[0.7777777777777778,\"#fb9f3a\"],[0.8888888888888888,\"#fdca26\"],[1.0,\"#f0f921\"]],\"type\":\"contour\"}],\"contourcarpet\":[{\"colorbar\":{\"outlinewidth\":0,\"ticks\":\"\"},\"type\":\"contourcarpet\"}],\"heatmap\":[{\"colorbar\":{\"outlinewidth\":0,\"ticks\":\"\"},\"colorscale\":[[0.0,\"#0d0887\"],[0.1111111111111111,\"#46039f\"],[0.2222222222222222,\"#7201a8\"],[0.3333333333333333,\"#9c179e\"],[0.4444444444444444,\"#bd3786\"],[0.5555555555555556,\"#d8576b\"],[0.6666666666666666,\"#ed7953\"],[0.7777777777777778,\"#fb9f3a\"],[0.8888888888888888,\"#fdca26\"],[1.0,\"#f0f921\"]],\"type\":\"heatmap\"}],\"heatmapgl\":[{\"colorbar\":{\"outlinewidth\":0,\"ticks\":\"\"},\"colorscale\":[[0.0,\"#0d0887\"],[0.1111111111111111,\"#46039f\"],[0.2222222222222222,\"#7201a8\"],[0.3333333333333333,\"#9c179e\"],[0.4444444444444444,\"#bd3786\"],[0.5555555555555556,\"#d8576b\"],[0.6666666666666666,\"#ed7953\"],[0.7777777777777778,\"#fb9f3a\"],[0.8888888888888888,\"#fdca26\"],[1.0,\"#f0f921\"]],\"type\":\"heatmapgl\"}],\"histogram\":[{\"marker\":{\"pattern\":{\"fillmode\":\"overlay\",\"size\":10,\"solidity\":0.2}},\"type\":\"histogram\"}],\"histogram2d\":[{\"colorbar\":{\"outlinewidth\":0,\"ticks\":\"\"},\"colorscale\":[[0.0,\"#0d0887\"],[0.1111111111111111,\"#46039f\"],[0.2222222222222222,\"#7201a8\"],[0.3333333333333333,\"#9c179e\"],[0.4444444444444444,\"#bd3786\"],[0.5555555555555556,\"#d8576b\"],[0.6666666666666666,\"#ed7953\"],[0.7777777777777778,\"#fb9f3a\"],[0.8888888888888888,\"#fdca26\"],[1.0,\"#f0f921\"]],\"type\":\"histogram2d\"}],\"histogram2dcontour\":[{\"colorbar\":{\"outlinewidth\":0,\"ticks\":\"\"},\"colorscale\":[[0.0,\"#0d0887\"],[0.1111111111111111,\"#46039f\"],[0.2222222222222222,\"#7201a8\"],[0.3333333333333333,\"#9c179e\"],[0.4444444444444444,\"#bd3786\"],[0.5555555555555556,\"#d8576b\"],[0.6666666666666666,\"#ed7953\"],[0.7777777777777778,\"#fb9f3a\"],[0.8888888888888888,\"#fdca26\"],[1.0,\"#f0f921\"]],\"type\":\"histogram2dcontour\"}],\"mesh3d\":[{\"colorbar\":{\"outlinewidth\":0,\"ticks\":\"\"},\"type\":\"mesh3d\"}],\"parcoords\":[{\"line\":{\"colorbar\":{\"outlinewidth\":0,\"ticks\":\"\"}},\"type\":\"parcoords\"}],\"pie\":[{\"automargin\":true,\"type\":\"pie\"}],\"scatter\":[{\"marker\":{\"colorbar\":{\"outlinewidth\":0,\"ticks\":\"\"}},\"type\":\"scatter\"}],\"scatter3d\":[{\"line\":{\"colorbar\":{\"outlinewidth\":0,\"ticks\":\"\"}},\"marker\":{\"colorbar\":{\"outlinewidth\":0,\"ticks\":\"\"}},\"type\":\"scatter3d\"}],\"scattercarpet\":[{\"marker\":{\"colorbar\":{\"outlinewidth\":0,\"ticks\":\"\"}},\"type\":\"scattercarpet\"}],\"scattergeo\":[{\"marker\":{\"colorbar\":{\"outlinewidth\":0,\"ticks\":\"\"}},\"type\":\"scattergeo\"}],\"scattergl\":[{\"marker\":{\"colorbar\":{\"outlinewidth\":0,\"ticks\":\"\"}},\"type\":\"scattergl\"}],\"scattermapbox\":[{\"marker\":{\"colorbar\":{\"outlinewidth\":0,\"ticks\":\"\"}},\"type\":\"scattermapbox\"}],\"scatterpolar\":[{\"marker\":{\"colorbar\":{\"outlinewidth\":0,\"ticks\":\"\"}},\"type\":\"scatterpolar\"}],\"scatterpolargl\":[{\"marker\":{\"colorbar\":{\"outlinewidth\":0,\"ticks\":\"\"}},\"type\":\"scatterpolargl\"}],\"scatterternary\":[{\"marker\":{\"colorbar\":{\"outlinewidth\":0,\"ticks\":\"\"}},\"type\":\"scatterternary\"}],\"surface\":[{\"colorbar\":{\"outlinewidth\":0,\"ticks\":\"\"},\"colorscale\":[[0.0,\"#0d0887\"],[0.1111111111111111,\"#46039f\"],[0.2222222222222222,\"#7201a8\"],[0.3333333333333333,\"#9c179e\"],[0.4444444444444444,\"#bd3786\"],[0.5555555555555556,\"#d8576b\"],[0.6666666666666666,\"#ed7953\"],[0.7777777777777778,\"#fb9f3a\"],[0.8888888888888888,\"#fdca26\"],[1.0,\"#f0f921\"]],\"type\":\"surface\"}],\"table\":[{\"cells\":{\"fill\":{\"color\":\"#EBF0F8\"},\"line\":{\"color\":\"white\"}},\"header\":{\"fill\":{\"color\":\"#C8D4E3\"},\"line\":{\"color\":\"white\"}},\"type\":\"table\"}]},\"layout\":{\"annotationdefaults\":{\"arrowcolor\":\"#2a3f5f\",\"arrowhead\":0,\"arrowwidth\":1},\"autotypenumbers\":\"strict\",\"coloraxis\":{\"colorbar\":{\"outlinewidth\":0,\"ticks\":\"\"}},\"colorscale\":{\"diverging\":[[0,\"#8e0152\"],[0.1,\"#c51b7d\"],[0.2,\"#de77ae\"],[0.3,\"#f1b6da\"],[0.4,\"#fde0ef\"],[0.5,\"#f7f7f7\"],[0.6,\"#e6f5d0\"],[0.7,\"#b8e186\"],[0.8,\"#7fbc41\"],[0.9,\"#4d9221\"],[1,\"#276419\"]],\"sequential\":[[0.0,\"#0d0887\"],[0.1111111111111111,\"#46039f\"],[0.2222222222222222,\"#7201a8\"],[0.3333333333333333,\"#9c179e\"],[0.4444444444444444,\"#bd3786\"],[0.5555555555555556,\"#d8576b\"],[0.6666666666666666,\"#ed7953\"],[0.7777777777777778,\"#fb9f3a\"],[0.8888888888888888,\"#fdca26\"],[1.0,\"#f0f921\"]],\"sequentialminus\":[[0.0,\"#0d0887\"],[0.1111111111111111,\"#46039f\"],[0.2222222222222222,\"#7201a8\"],[0.3333333333333333,\"#9c179e\"],[0.4444444444444444,\"#bd3786\"],[0.5555555555555556,\"#d8576b\"],[0.6666666666666666,\"#ed7953\"],[0.7777777777777778,\"#fb9f3a\"],[0.8888888888888888,\"#fdca26\"],[1.0,\"#f0f921\"]]},\"colorway\":[\"#636efa\",\"#EF553B\",\"#00cc96\",\"#ab63fa\",\"#FFA15A\",\"#19d3f3\",\"#FF6692\",\"#B6E880\",\"#FF97FF\",\"#FECB52\"],\"font\":{\"color\":\"#2a3f5f\"},\"geo\":{\"bgcolor\":\"white\",\"lakecolor\":\"white\",\"landcolor\":\"#E5ECF6\",\"showlakes\":true,\"showland\":true,\"subunitcolor\":\"white\"},\"hoverlabel\":{\"align\":\"left\"},\"hovermode\":\"closest\",\"mapbox\":{\"style\":\"light\"},\"paper_bgcolor\":\"white\",\"plot_bgcolor\":\"#E5ECF6\",\"polar\":{\"angularaxis\":{\"gridcolor\":\"white\",\"linecolor\":\"white\",\"ticks\":\"\"},\"bgcolor\":\"#E5ECF6\",\"radialaxis\":{\"gridcolor\":\"white\",\"linecolor\":\"white\",\"ticks\":\"\"}},\"scene\":{\"xaxis\":{\"backgroundcolor\":\"#E5ECF6\",\"gridcolor\":\"white\",\"gridwidth\":2,\"linecolor\":\"white\",\"showbackground\":true,\"ticks\":\"\",\"zerolinecolor\":\"white\"},\"yaxis\":{\"backgroundcolor\":\"#E5ECF6\",\"gridcolor\":\"white\",\"gridwidth\":2,\"linecolor\":\"white\",\"showbackground\":true,\"ticks\":\"\",\"zerolinecolor\":\"white\"},\"zaxis\":{\"backgroundcolor\":\"#E5ECF6\",\"gridcolor\":\"white\",\"gridwidth\":2,\"linecolor\":\"white\",\"showbackground\":true,\"ticks\":\"\",\"zerolinecolor\":\"white\"}},\"shapedefaults\":{\"line\":{\"color\":\"#2a3f5f\"}},\"ternary\":{\"aaxis\":{\"gridcolor\":\"white\",\"linecolor\":\"white\",\"ticks\":\"\"},\"baxis\":{\"gridcolor\":\"white\",\"linecolor\":\"white\",\"ticks\":\"\"},\"bgcolor\":\"#E5ECF6\",\"caxis\":{\"gridcolor\":\"white\",\"linecolor\":\"white\",\"ticks\":\"\"}},\"title\":{\"x\":0.05},\"xaxis\":{\"automargin\":true,\"gridcolor\":\"white\",\"linecolor\":\"white\",\"ticks\":\"\",\"title\":{\"standoff\":15},\"zerolinecolor\":\"white\",\"zerolinewidth\":2},\"yaxis\":{\"automargin\":true,\"gridcolor\":\"white\",\"linecolor\":\"white\",\"ticks\":\"\",\"title\":{\"standoff\":15},\"zerolinecolor\":\"white\",\"zerolinewidth\":2}}},\"title\":{\"font\":{\"color\":\"#4D5663\"}},\"xaxis\":{\"gridcolor\":\"#E1E5ED\",\"showgrid\":true,\"tickfont\":{\"color\":\"#4D5663\"},\"title\":{\"font\":{\"color\":\"#4D5663\"},\"text\":\"\"},\"zerolinecolor\":\"#E1E5ED\"},\"xaxis2\":{\"anchor\":\"y2\",\"gridcolor\":\"#E1E5ED\",\"showgrid\":true,\"showticklabels\":false,\"tickfont\":{\"color\":\"#4D5663\"},\"title\":{\"font\":{\"color\":\"#4D5663\"},\"text\":\"\"},\"zerolinecolor\":\"#E1E5ED\"},\"yaxis\":{\"domain\":[0.3,1],\"gridcolor\":\"#E1E5ED\",\"showgrid\":true,\"tickfont\":{\"color\":\"#4D5663\"},\"title\":{\"font\":{\"color\":\"#4D5663\"},\"text\":\"\"},\"zerolinecolor\":\"#E1E5ED\"},\"yaxis2\":{\"domain\":[0,0.25],\"gridcolor\":\"#E1E5ED\",\"showgrid\":true,\"tickfont\":{\"color\":\"#4D5663\"},\"title\":{\"font\":{\"color\":\"#4D5663\"},\"text\":\"Spread\"},\"zerolinecolor\":\"#E1E5ED\"}},                        {\"showLink\": true, \"linkText\": \"Export to plot.ly\", \"plotlyServerURL\": \"https://plot.ly\", \"responsive\": true}                    ).then(function(){\n",
       "                            \n",
       "var gd = document.getElementById('41b893ee-43a9-42cc-8b97-1d65cdf4fbe0');\n",
       "var x = new MutationObserver(function (mutations, observer) {{\n",
       "        var display = window.getComputedStyle(gd).display;\n",
       "        if (!display || display === 'none') {{\n",
       "            console.log([gd, 'removed!']);\n",
       "            Plotly.purge(gd);\n",
       "            observer.disconnect();\n",
       "        }}\n",
       "}});\n",
       "\n",
       "// Listen for the removal of the full notebook cells\n",
       "var notebookContainer = gd.closest('#notebook-container');\n",
       "if (notebookContainer) {{\n",
       "    x.observe(notebookContainer, {childList: true});\n",
       "}}\n",
       "\n",
       "// Listen for the clearing of the current output cell\n",
       "var outputEl = gd.closest('.output');\n",
       "if (outputEl) {{\n",
       "    x.observe(outputEl, {childList: true});\n",
       "}}\n",
       "\n",
       "                        })                };                });            </script>        </div>"
      ]
     },
     "metadata": {},
     "output_type": "display_data"
    }
   ],
   "source": [
    "df[['A','B']].iplot(kind='spread')"
   ]
  },
  {
   "cell_type": "code",
   "execution_count": 38,
   "id": "5e72295b",
   "metadata": {},
   "outputs": [
    {
     "data": {
      "application/vnd.plotly.v1+json": {
       "config": {
        "linkText": "Export to plot.ly",
        "plotlyServerURL": "https://plot.ly",
        "showLink": true
       },
       "data": [
        {
         "marker": {
          "color": [
           "rgb(255, 153, 51)",
           "rgb(55, 128, 191)",
           "rgb(50, 171, 96)",
           "rgb(128, 0, 128)",
           "rgb(219, 64, 82)",
           "rgb(0, 128, 128)",
           "rgb(255, 255, 51)",
           "rgb(128, 128, 0)",
           "rgb(251, 128, 114)",
           "rgb(128, 177, 211)"
          ],
          "line": {
           "width": 1.3
          },
          "size": [
           48,
           42,
           88,
           64,
           76,
           88,
           53,
           54,
           52,
           51,
           42,
           41,
           60,
           50,
           42,
           69,
           96,
           43,
           41,
           82,
           70,
           74,
           12,
           59,
           79,
           99,
           46,
           65,
           63,
           45,
           36,
           67,
           61,
           67,
           77,
           50,
           61,
           50,
           70,
           103,
           27,
           43,
           55,
           73,
           12,
           76,
           90,
           43,
           57,
           31,
           57,
           76,
           69,
           55,
           52,
           68,
           64,
           46,
           64,
           35,
           80,
           56,
           42,
           85,
           73,
           46,
           104,
           42,
           45,
           46,
           94,
           42,
           78,
           40,
           57,
           85,
           44,
           46,
           37,
           21,
           46,
           57,
           67,
           64,
           75,
           53,
           50,
           112,
           59,
           62,
           63,
           74,
           33,
           88,
           44,
           31,
           41,
           31,
           67,
           67
          ],
          "symbol": "circle"
         },
         "mode": "markers",
         "text": "",
         "type": "scatter",
         "x": [
          0.20858928925374165,
          -0.4342659365804992,
          0.15224425972204558,
          -1.4076364859048878,
          -1.8787133030357686,
          1.1141016130474,
          -0.014856903124838405,
          2.2980934492830407,
          -0.04537892657460305,
          0.37251593394002713,
          1.3160112807008706,
          -0.17426433245318806,
          -1.0676051347476219,
          0.35048603503154846,
          1.3995954370148027,
          0.31417325524307427,
          -0.03901252898133603,
          -0.7815522712797063,
          -1.4657470354223352,
          -0.10963875683423577,
          0.3414618118686473,
          1.8556025363714947,
          0.3857059012861465,
          0.9980034374445319,
          1.2369036414452386,
          -2.2112045923282877,
          -0.8039465980537963,
          1.2501257231512457,
          0.28072647683673607,
          0.8479650419673018,
          0.821856776990302,
          0.33703944666886576,
          0.2994135796999949,
          -1.0020739050520817,
          1.0492375923262964,
          1.4499683923774385,
          0.6771778865444542,
          -1.174173436607878,
          0.9380903401986462,
          0.7830429803693706,
          1.5612080447999004,
          -0.689867946889579,
          -0.012595428200974368,
          -0.07720029034540583,
          1.4459983734283515,
          -0.9818107095001324,
          1.192692753425027,
          -0.0427350127227039,
          -0.770256799555548,
          -2.325516663796394,
          -0.6431928762709359,
          0.3153997366164689,
          0.3874379394644579,
          1.039847925443799,
          -0.9392276561472361,
          0.030043034312859172,
          1.1374541985603328,
          -0.6299169960910088,
          -0.9632572236552438,
          0.46429902371477966,
          -0.21188270820025484,
          -1.071565489388745,
          -0.18972067388602754,
          -1.2528521719399608,
          0.15881994888242676,
          -0.0378086230861681,
          1.1167572500107146,
          0.0006074965995330983,
          -0.15191943738908428,
          1.55982623930444,
          0.6060812113709677,
          0.07197403153804605,
          -0.1892256296041631,
          0.3744916234702504,
          0.5371723431024327,
          0.3056813222755168,
          3.2724431765187476,
          0.5606360026261016,
          0.0797615201136642,
          2.1426154923643996,
          0.595063512231104,
          -2.0077243015777624,
          -1.3920962454797994,
          -1.496551961908376,
          0.7760365739615019,
          0.8822518019486779,
          1.0019935837931249,
          -0.6634189590571933,
          0.07849718855217555,
          0.059596466005808625,
          1.075688755634055,
          1.9898092690768672,
          0.05738664500122117,
          -1.1337520231610325,
          -0.25843487309297164,
          0.4268716302195559,
          -2.323477988994405,
          1.8390982353041838,
          1.2639675884889168,
          1.654235242842938
         ],
         "y": [
          -1.0899935075648546,
          -0.3283429263413677,
          0.9249715866272701,
          2.265847442190619,
          -1.9679748652286901,
          0.3522242836497475,
          -0.7922871395287938,
          -0.9258406713634908,
          0.8115272195253244,
          -1.477270976719303,
          0.1618159952438024,
          -0.4331539457009914,
          0.039311567111366276,
          -0.02441439939200614,
          0.6172117332234927,
          -2.340081944963553,
          3.1702114209761914,
          -0.36332764722503386,
          -0.4907725595838416,
          0.7908863334448771,
          -1.3709915008208202,
          0.5630076301719508,
          -0.08132772990151602,
          0.23855039987494617,
          -0.36783653113759457,
          -2.0583162396779198,
          0.41011426019927305,
          0.7360262123316557,
          0.8578455480892391,
          0.6692212126530874,
          -0.29193924207135413,
          -0.010428464535667108,
          0.5827342576436385,
          0.8631295668999309,
          -0.3887628842023507,
          0.5621355659822822,
          0.41242643202681245,
          0.5400452510501995,
          -0.8622450348007333,
          0.8373961616003691,
          0.7075403616234199,
          1.50682059694962,
          -0.8579989529337081,
          1.966217498627032,
          -0.8842888279114438,
          -0.14063222009410747,
          0.1560775565914649,
          -1.0318998613338433,
          0.6938332181045966,
          0.34902727031895114,
          -1.2083396070051455,
          2.2505048443521325,
          1.4625590755465416,
          -0.7392605820861616,
          1.290122175953878,
          0.03743177695407034,
          0.15447966905151658,
          -0.5941001153821971,
          0.41401637666917435,
          0.43185474659107764,
          -0.48564289964242224,
          0.2120732808572052,
          -1.2176504747328385,
          -0.15447459880849224,
          0.04952072542198867,
          0.016467999256636306,
          -0.5074883377420486,
          0.2853198976723749,
          1.617705760844643,
          1.677555201770505,
          0.27528939747803033,
          1.2810400539729732,
          -0.33070951242102525,
          1.044671936262385,
          0.07747716330923368,
          0.3114697652518498,
          -1.156964461310973,
          0.7046737117632361,
          0.17166399704921553,
          0.046391761412236276,
          2.0237011484840295,
          1.0508124503427356,
          0.7633037621767298,
          0.910230795208631,
          -0.6860382779231162,
          0.8414355798852678,
          0.20068154971940383,
          -0.43766497984189995,
          -1.4456137666739453,
          0.04206249677159624,
          -1.7378780010870498,
          0.3317607911741303,
          -0.3960625890982911,
          0.20891188425239193,
          1.7533600297381258,
          -0.5744757529482349,
          -1.2890173304854928,
          -0.8397499635573618,
          -0.2703194128703838,
          0.4006493372053976
         ]
        }
       ],
       "layout": {
        "legend": {
         "bgcolor": "#F5F6F9",
         "font": {
          "color": "#4D5663"
         }
        },
        "paper_bgcolor": "#F5F6F9",
        "plot_bgcolor": "#F5F6F9",
        "template": {
         "data": {
          "bar": [
           {
            "error_x": {
             "color": "#2a3f5f"
            },
            "error_y": {
             "color": "#2a3f5f"
            },
            "marker": {
             "line": {
              "color": "#E5ECF6",
              "width": 0.5
             },
             "pattern": {
              "fillmode": "overlay",
              "size": 10,
              "solidity": 0.2
             }
            },
            "type": "bar"
           }
          ],
          "barpolar": [
           {
            "marker": {
             "line": {
              "color": "#E5ECF6",
              "width": 0.5
             },
             "pattern": {
              "fillmode": "overlay",
              "size": 10,
              "solidity": 0.2
             }
            },
            "type": "barpolar"
           }
          ],
          "carpet": [
           {
            "aaxis": {
             "endlinecolor": "#2a3f5f",
             "gridcolor": "white",
             "linecolor": "white",
             "minorgridcolor": "white",
             "startlinecolor": "#2a3f5f"
            },
            "baxis": {
             "endlinecolor": "#2a3f5f",
             "gridcolor": "white",
             "linecolor": "white",
             "minorgridcolor": "white",
             "startlinecolor": "#2a3f5f"
            },
            "type": "carpet"
           }
          ],
          "choropleth": [
           {
            "colorbar": {
             "outlinewidth": 0,
             "ticks": ""
            },
            "type": "choropleth"
           }
          ],
          "contour": [
           {
            "colorbar": {
             "outlinewidth": 0,
             "ticks": ""
            },
            "colorscale": [
             [
              0,
              "#0d0887"
             ],
             [
              0.1111111111111111,
              "#46039f"
             ],
             [
              0.2222222222222222,
              "#7201a8"
             ],
             [
              0.3333333333333333,
              "#9c179e"
             ],
             [
              0.4444444444444444,
              "#bd3786"
             ],
             [
              0.5555555555555556,
              "#d8576b"
             ],
             [
              0.6666666666666666,
              "#ed7953"
             ],
             [
              0.7777777777777778,
              "#fb9f3a"
             ],
             [
              0.8888888888888888,
              "#fdca26"
             ],
             [
              1,
              "#f0f921"
             ]
            ],
            "type": "contour"
           }
          ],
          "contourcarpet": [
           {
            "colorbar": {
             "outlinewidth": 0,
             "ticks": ""
            },
            "type": "contourcarpet"
           }
          ],
          "heatmap": [
           {
            "colorbar": {
             "outlinewidth": 0,
             "ticks": ""
            },
            "colorscale": [
             [
              0,
              "#0d0887"
             ],
             [
              0.1111111111111111,
              "#46039f"
             ],
             [
              0.2222222222222222,
              "#7201a8"
             ],
             [
              0.3333333333333333,
              "#9c179e"
             ],
             [
              0.4444444444444444,
              "#bd3786"
             ],
             [
              0.5555555555555556,
              "#d8576b"
             ],
             [
              0.6666666666666666,
              "#ed7953"
             ],
             [
              0.7777777777777778,
              "#fb9f3a"
             ],
             [
              0.8888888888888888,
              "#fdca26"
             ],
             [
              1,
              "#f0f921"
             ]
            ],
            "type": "heatmap"
           }
          ],
          "heatmapgl": [
           {
            "colorbar": {
             "outlinewidth": 0,
             "ticks": ""
            },
            "colorscale": [
             [
              0,
              "#0d0887"
             ],
             [
              0.1111111111111111,
              "#46039f"
             ],
             [
              0.2222222222222222,
              "#7201a8"
             ],
             [
              0.3333333333333333,
              "#9c179e"
             ],
             [
              0.4444444444444444,
              "#bd3786"
             ],
             [
              0.5555555555555556,
              "#d8576b"
             ],
             [
              0.6666666666666666,
              "#ed7953"
             ],
             [
              0.7777777777777778,
              "#fb9f3a"
             ],
             [
              0.8888888888888888,
              "#fdca26"
             ],
             [
              1,
              "#f0f921"
             ]
            ],
            "type": "heatmapgl"
           }
          ],
          "histogram": [
           {
            "marker": {
             "pattern": {
              "fillmode": "overlay",
              "size": 10,
              "solidity": 0.2
             }
            },
            "type": "histogram"
           }
          ],
          "histogram2d": [
           {
            "colorbar": {
             "outlinewidth": 0,
             "ticks": ""
            },
            "colorscale": [
             [
              0,
              "#0d0887"
             ],
             [
              0.1111111111111111,
              "#46039f"
             ],
             [
              0.2222222222222222,
              "#7201a8"
             ],
             [
              0.3333333333333333,
              "#9c179e"
             ],
             [
              0.4444444444444444,
              "#bd3786"
             ],
             [
              0.5555555555555556,
              "#d8576b"
             ],
             [
              0.6666666666666666,
              "#ed7953"
             ],
             [
              0.7777777777777778,
              "#fb9f3a"
             ],
             [
              0.8888888888888888,
              "#fdca26"
             ],
             [
              1,
              "#f0f921"
             ]
            ],
            "type": "histogram2d"
           }
          ],
          "histogram2dcontour": [
           {
            "colorbar": {
             "outlinewidth": 0,
             "ticks": ""
            },
            "colorscale": [
             [
              0,
              "#0d0887"
             ],
             [
              0.1111111111111111,
              "#46039f"
             ],
             [
              0.2222222222222222,
              "#7201a8"
             ],
             [
              0.3333333333333333,
              "#9c179e"
             ],
             [
              0.4444444444444444,
              "#bd3786"
             ],
             [
              0.5555555555555556,
              "#d8576b"
             ],
             [
              0.6666666666666666,
              "#ed7953"
             ],
             [
              0.7777777777777778,
              "#fb9f3a"
             ],
             [
              0.8888888888888888,
              "#fdca26"
             ],
             [
              1,
              "#f0f921"
             ]
            ],
            "type": "histogram2dcontour"
           }
          ],
          "mesh3d": [
           {
            "colorbar": {
             "outlinewidth": 0,
             "ticks": ""
            },
            "type": "mesh3d"
           }
          ],
          "parcoords": [
           {
            "line": {
             "colorbar": {
              "outlinewidth": 0,
              "ticks": ""
             }
            },
            "type": "parcoords"
           }
          ],
          "pie": [
           {
            "automargin": true,
            "type": "pie"
           }
          ],
          "scatter": [
           {
            "marker": {
             "colorbar": {
              "outlinewidth": 0,
              "ticks": ""
             }
            },
            "type": "scatter"
           }
          ],
          "scatter3d": [
           {
            "line": {
             "colorbar": {
              "outlinewidth": 0,
              "ticks": ""
             }
            },
            "marker": {
             "colorbar": {
              "outlinewidth": 0,
              "ticks": ""
             }
            },
            "type": "scatter3d"
           }
          ],
          "scattercarpet": [
           {
            "marker": {
             "colorbar": {
              "outlinewidth": 0,
              "ticks": ""
             }
            },
            "type": "scattercarpet"
           }
          ],
          "scattergeo": [
           {
            "marker": {
             "colorbar": {
              "outlinewidth": 0,
              "ticks": ""
             }
            },
            "type": "scattergeo"
           }
          ],
          "scattergl": [
           {
            "marker": {
             "colorbar": {
              "outlinewidth": 0,
              "ticks": ""
             }
            },
            "type": "scattergl"
           }
          ],
          "scattermapbox": [
           {
            "marker": {
             "colorbar": {
              "outlinewidth": 0,
              "ticks": ""
             }
            },
            "type": "scattermapbox"
           }
          ],
          "scatterpolar": [
           {
            "marker": {
             "colorbar": {
              "outlinewidth": 0,
              "ticks": ""
             }
            },
            "type": "scatterpolar"
           }
          ],
          "scatterpolargl": [
           {
            "marker": {
             "colorbar": {
              "outlinewidth": 0,
              "ticks": ""
             }
            },
            "type": "scatterpolargl"
           }
          ],
          "scatterternary": [
           {
            "marker": {
             "colorbar": {
              "outlinewidth": 0,
              "ticks": ""
             }
            },
            "type": "scatterternary"
           }
          ],
          "surface": [
           {
            "colorbar": {
             "outlinewidth": 0,
             "ticks": ""
            },
            "colorscale": [
             [
              0,
              "#0d0887"
             ],
             [
              0.1111111111111111,
              "#46039f"
             ],
             [
              0.2222222222222222,
              "#7201a8"
             ],
             [
              0.3333333333333333,
              "#9c179e"
             ],
             [
              0.4444444444444444,
              "#bd3786"
             ],
             [
              0.5555555555555556,
              "#d8576b"
             ],
             [
              0.6666666666666666,
              "#ed7953"
             ],
             [
              0.7777777777777778,
              "#fb9f3a"
             ],
             [
              0.8888888888888888,
              "#fdca26"
             ],
             [
              1,
              "#f0f921"
             ]
            ],
            "type": "surface"
           }
          ],
          "table": [
           {
            "cells": {
             "fill": {
              "color": "#EBF0F8"
             },
             "line": {
              "color": "white"
             }
            },
            "header": {
             "fill": {
              "color": "#C8D4E3"
             },
             "line": {
              "color": "white"
             }
            },
            "type": "table"
           }
          ]
         },
         "layout": {
          "annotationdefaults": {
           "arrowcolor": "#2a3f5f",
           "arrowhead": 0,
           "arrowwidth": 1
          },
          "autotypenumbers": "strict",
          "coloraxis": {
           "colorbar": {
            "outlinewidth": 0,
            "ticks": ""
           }
          },
          "colorscale": {
           "diverging": [
            [
             0,
             "#8e0152"
            ],
            [
             0.1,
             "#c51b7d"
            ],
            [
             0.2,
             "#de77ae"
            ],
            [
             0.3,
             "#f1b6da"
            ],
            [
             0.4,
             "#fde0ef"
            ],
            [
             0.5,
             "#f7f7f7"
            ],
            [
             0.6,
             "#e6f5d0"
            ],
            [
             0.7,
             "#b8e186"
            ],
            [
             0.8,
             "#7fbc41"
            ],
            [
             0.9,
             "#4d9221"
            ],
            [
             1,
             "#276419"
            ]
           ],
           "sequential": [
            [
             0,
             "#0d0887"
            ],
            [
             0.1111111111111111,
             "#46039f"
            ],
            [
             0.2222222222222222,
             "#7201a8"
            ],
            [
             0.3333333333333333,
             "#9c179e"
            ],
            [
             0.4444444444444444,
             "#bd3786"
            ],
            [
             0.5555555555555556,
             "#d8576b"
            ],
            [
             0.6666666666666666,
             "#ed7953"
            ],
            [
             0.7777777777777778,
             "#fb9f3a"
            ],
            [
             0.8888888888888888,
             "#fdca26"
            ],
            [
             1,
             "#f0f921"
            ]
           ],
           "sequentialminus": [
            [
             0,
             "#0d0887"
            ],
            [
             0.1111111111111111,
             "#46039f"
            ],
            [
             0.2222222222222222,
             "#7201a8"
            ],
            [
             0.3333333333333333,
             "#9c179e"
            ],
            [
             0.4444444444444444,
             "#bd3786"
            ],
            [
             0.5555555555555556,
             "#d8576b"
            ],
            [
             0.6666666666666666,
             "#ed7953"
            ],
            [
             0.7777777777777778,
             "#fb9f3a"
            ],
            [
             0.8888888888888888,
             "#fdca26"
            ],
            [
             1,
             "#f0f921"
            ]
           ]
          },
          "colorway": [
           "#636efa",
           "#EF553B",
           "#00cc96",
           "#ab63fa",
           "#FFA15A",
           "#19d3f3",
           "#FF6692",
           "#B6E880",
           "#FF97FF",
           "#FECB52"
          ],
          "font": {
           "color": "#2a3f5f"
          },
          "geo": {
           "bgcolor": "white",
           "lakecolor": "white",
           "landcolor": "#E5ECF6",
           "showlakes": true,
           "showland": true,
           "subunitcolor": "white"
          },
          "hoverlabel": {
           "align": "left"
          },
          "hovermode": "closest",
          "mapbox": {
           "style": "light"
          },
          "paper_bgcolor": "white",
          "plot_bgcolor": "#E5ECF6",
          "polar": {
           "angularaxis": {
            "gridcolor": "white",
            "linecolor": "white",
            "ticks": ""
           },
           "bgcolor": "#E5ECF6",
           "radialaxis": {
            "gridcolor": "white",
            "linecolor": "white",
            "ticks": ""
           }
          },
          "scene": {
           "xaxis": {
            "backgroundcolor": "#E5ECF6",
            "gridcolor": "white",
            "gridwidth": 2,
            "linecolor": "white",
            "showbackground": true,
            "ticks": "",
            "zerolinecolor": "white"
           },
           "yaxis": {
            "backgroundcolor": "#E5ECF6",
            "gridcolor": "white",
            "gridwidth": 2,
            "linecolor": "white",
            "showbackground": true,
            "ticks": "",
            "zerolinecolor": "white"
           },
           "zaxis": {
            "backgroundcolor": "#E5ECF6",
            "gridcolor": "white",
            "gridwidth": 2,
            "linecolor": "white",
            "showbackground": true,
            "ticks": "",
            "zerolinecolor": "white"
           }
          },
          "shapedefaults": {
           "line": {
            "color": "#2a3f5f"
           }
          },
          "ternary": {
           "aaxis": {
            "gridcolor": "white",
            "linecolor": "white",
            "ticks": ""
           },
           "baxis": {
            "gridcolor": "white",
            "linecolor": "white",
            "ticks": ""
           },
           "bgcolor": "#E5ECF6",
           "caxis": {
            "gridcolor": "white",
            "linecolor": "white",
            "ticks": ""
           }
          },
          "title": {
           "x": 0.05
          },
          "xaxis": {
           "automargin": true,
           "gridcolor": "white",
           "linecolor": "white",
           "ticks": "",
           "title": {
            "standoff": 15
           },
           "zerolinecolor": "white",
           "zerolinewidth": 2
          },
          "yaxis": {
           "automargin": true,
           "gridcolor": "white",
           "linecolor": "white",
           "ticks": "",
           "title": {
            "standoff": 15
           },
           "zerolinecolor": "white",
           "zerolinewidth": 2
          }
         }
        },
        "title": {
         "font": {
          "color": "#4D5663"
         }
        },
        "xaxis": {
         "gridcolor": "#E1E5ED",
         "showgrid": true,
         "tickfont": {
          "color": "#4D5663"
         },
         "title": {
          "font": {
           "color": "#4D5663"
          },
          "text": ""
         },
         "zerolinecolor": "#E1E5ED"
        },
        "yaxis": {
         "gridcolor": "#E1E5ED",
         "showgrid": true,
         "tickfont": {
          "color": "#4D5663"
         },
         "title": {
          "font": {
           "color": "#4D5663"
          },
          "text": ""
         },
         "zerolinecolor": "#E1E5ED"
        }
       }
      },
      "text/html": [
       "<div>                            <div id=\"3063ce4e-a737-49da-b933-7894cd56a50a\" class=\"plotly-graph-div\" style=\"height:525px; width:100%;\"></div>            <script type=\"text/javascript\">                require([\"plotly\"], function(Plotly) {                    window.PLOTLYENV=window.PLOTLYENV || {};\n",
       "                    window.PLOTLYENV.BASE_URL='https://plot.ly';                                    if (document.getElementById(\"3063ce4e-a737-49da-b933-7894cd56a50a\")) {                    Plotly.newPlot(                        \"3063ce4e-a737-49da-b933-7894cd56a50a\",                        [{\"marker\":{\"color\":[\"rgb(255, 153, 51)\",\"rgb(55, 128, 191)\",\"rgb(50, 171, 96)\",\"rgb(128, 0, 128)\",\"rgb(219, 64, 82)\",\"rgb(0, 128, 128)\",\"rgb(255, 255, 51)\",\"rgb(128, 128, 0)\",\"rgb(251, 128, 114)\",\"rgb(128, 177, 211)\"],\"line\":{\"width\":1.3},\"size\":[48,42,88,64,76,88,53,54,52,51,42,41,60,50,42,69,96,43,41,82,70,74,12,59,79,99,46,65,63,45,36,67,61,67,77,50,61,50,70,103,27,43,55,73,12,76,90,43,57,31,57,76,69,55,52,68,64,46,64,35,80,56,42,85,73,46,104,42,45,46,94,42,78,40,57,85,44,46,37,21,46,57,67,64,75,53,50,112,59,62,63,74,33,88,44,31,41,31,67,67],\"symbol\":\"circle\"},\"mode\":\"markers\",\"text\":\"\",\"type\":\"scatter\",\"x\":[0.20858928925374165,-0.4342659365804992,0.15224425972204558,-1.4076364859048878,-1.8787133030357686,1.1141016130474,-0.014856903124838405,2.2980934492830407,-0.04537892657460305,0.37251593394002713,1.3160112807008706,-0.17426433245318806,-1.0676051347476219,0.35048603503154846,1.3995954370148027,0.31417325524307427,-0.03901252898133603,-0.7815522712797063,-1.4657470354223352,-0.10963875683423577,0.3414618118686473,1.8556025363714947,0.3857059012861465,0.9980034374445319,1.2369036414452386,-2.2112045923282877,-0.8039465980537963,1.2501257231512457,0.28072647683673607,0.8479650419673018,0.821856776990302,0.33703944666886576,0.2994135796999949,-1.0020739050520817,1.0492375923262964,1.4499683923774385,0.6771778865444542,-1.174173436607878,0.9380903401986462,0.7830429803693706,1.5612080447999004,-0.689867946889579,-0.012595428200974368,-0.07720029034540583,1.4459983734283515,-0.9818107095001324,1.192692753425027,-0.0427350127227039,-0.770256799555548,-2.325516663796394,-0.6431928762709359,0.3153997366164689,0.3874379394644579,1.039847925443799,-0.9392276561472361,0.030043034312859172,1.1374541985603328,-0.6299169960910088,-0.9632572236552438,0.46429902371477966,-0.21188270820025484,-1.071565489388745,-0.18972067388602754,-1.2528521719399608,0.15881994888242676,-0.0378086230861681,1.1167572500107146,0.0006074965995330983,-0.15191943738908428,1.55982623930444,0.6060812113709677,0.07197403153804605,-0.1892256296041631,0.3744916234702504,0.5371723431024327,0.3056813222755168,3.2724431765187476,0.5606360026261016,0.0797615201136642,2.1426154923643996,0.595063512231104,-2.0077243015777624,-1.3920962454797994,-1.496551961908376,0.7760365739615019,0.8822518019486779,1.0019935837931249,-0.6634189590571933,0.07849718855217555,0.059596466005808625,1.075688755634055,1.9898092690768672,0.05738664500122117,-1.1337520231610325,-0.25843487309297164,0.4268716302195559,-2.323477988994405,1.8390982353041838,1.2639675884889168,1.654235242842938],\"y\":[-1.0899935075648546,-0.3283429263413677,0.9249715866272701,2.265847442190619,-1.9679748652286901,0.3522242836497475,-0.7922871395287938,-0.9258406713634908,0.8115272195253244,-1.477270976719303,0.1618159952438024,-0.4331539457009914,0.039311567111366276,-0.02441439939200614,0.6172117332234927,-2.340081944963553,3.1702114209761914,-0.36332764722503386,-0.4907725595838416,0.7908863334448771,-1.3709915008208202,0.5630076301719508,-0.08132772990151602,0.23855039987494617,-0.36783653113759457,-2.0583162396779198,0.41011426019927305,0.7360262123316557,0.8578455480892391,0.6692212126530874,-0.29193924207135413,-0.010428464535667108,0.5827342576436385,0.8631295668999309,-0.3887628842023507,0.5621355659822822,0.41242643202681245,0.5400452510501995,-0.8622450348007333,0.8373961616003691,0.7075403616234199,1.50682059694962,-0.8579989529337081,1.966217498627032,-0.8842888279114438,-0.14063222009410747,0.1560775565914649,-1.0318998613338433,0.6938332181045966,0.34902727031895114,-1.2083396070051455,2.2505048443521325,1.4625590755465416,-0.7392605820861616,1.290122175953878,0.03743177695407034,0.15447966905151658,-0.5941001153821971,0.41401637666917435,0.43185474659107764,-0.48564289964242224,0.2120732808572052,-1.2176504747328385,-0.15447459880849224,0.04952072542198867,0.016467999256636306,-0.5074883377420486,0.2853198976723749,1.617705760844643,1.677555201770505,0.27528939747803033,1.2810400539729732,-0.33070951242102525,1.044671936262385,0.07747716330923368,0.3114697652518498,-1.156964461310973,0.7046737117632361,0.17166399704921553,0.046391761412236276,2.0237011484840295,1.0508124503427356,0.7633037621767298,0.910230795208631,-0.6860382779231162,0.8414355798852678,0.20068154971940383,-0.43766497984189995,-1.4456137666739453,0.04206249677159624,-1.7378780010870498,0.3317607911741303,-0.3960625890982911,0.20891188425239193,1.7533600297381258,-0.5744757529482349,-1.2890173304854928,-0.8397499635573618,-0.2703194128703838,0.4006493372053976]}],                        {\"legend\":{\"bgcolor\":\"#F5F6F9\",\"font\":{\"color\":\"#4D5663\"}},\"paper_bgcolor\":\"#F5F6F9\",\"plot_bgcolor\":\"#F5F6F9\",\"template\":{\"data\":{\"bar\":[{\"error_x\":{\"color\":\"#2a3f5f\"},\"error_y\":{\"color\":\"#2a3f5f\"},\"marker\":{\"line\":{\"color\":\"#E5ECF6\",\"width\":0.5},\"pattern\":{\"fillmode\":\"overlay\",\"size\":10,\"solidity\":0.2}},\"type\":\"bar\"}],\"barpolar\":[{\"marker\":{\"line\":{\"color\":\"#E5ECF6\",\"width\":0.5},\"pattern\":{\"fillmode\":\"overlay\",\"size\":10,\"solidity\":0.2}},\"type\":\"barpolar\"}],\"carpet\":[{\"aaxis\":{\"endlinecolor\":\"#2a3f5f\",\"gridcolor\":\"white\",\"linecolor\":\"white\",\"minorgridcolor\":\"white\",\"startlinecolor\":\"#2a3f5f\"},\"baxis\":{\"endlinecolor\":\"#2a3f5f\",\"gridcolor\":\"white\",\"linecolor\":\"white\",\"minorgridcolor\":\"white\",\"startlinecolor\":\"#2a3f5f\"},\"type\":\"carpet\"}],\"choropleth\":[{\"colorbar\":{\"outlinewidth\":0,\"ticks\":\"\"},\"type\":\"choropleth\"}],\"contour\":[{\"colorbar\":{\"outlinewidth\":0,\"ticks\":\"\"},\"colorscale\":[[0.0,\"#0d0887\"],[0.1111111111111111,\"#46039f\"],[0.2222222222222222,\"#7201a8\"],[0.3333333333333333,\"#9c179e\"],[0.4444444444444444,\"#bd3786\"],[0.5555555555555556,\"#d8576b\"],[0.6666666666666666,\"#ed7953\"],[0.7777777777777778,\"#fb9f3a\"],[0.8888888888888888,\"#fdca26\"],[1.0,\"#f0f921\"]],\"type\":\"contour\"}],\"contourcarpet\":[{\"colorbar\":{\"outlinewidth\":0,\"ticks\":\"\"},\"type\":\"contourcarpet\"}],\"heatmap\":[{\"colorbar\":{\"outlinewidth\":0,\"ticks\":\"\"},\"colorscale\":[[0.0,\"#0d0887\"],[0.1111111111111111,\"#46039f\"],[0.2222222222222222,\"#7201a8\"],[0.3333333333333333,\"#9c179e\"],[0.4444444444444444,\"#bd3786\"],[0.5555555555555556,\"#d8576b\"],[0.6666666666666666,\"#ed7953\"],[0.7777777777777778,\"#fb9f3a\"],[0.8888888888888888,\"#fdca26\"],[1.0,\"#f0f921\"]],\"type\":\"heatmap\"}],\"heatmapgl\":[{\"colorbar\":{\"outlinewidth\":0,\"ticks\":\"\"},\"colorscale\":[[0.0,\"#0d0887\"],[0.1111111111111111,\"#46039f\"],[0.2222222222222222,\"#7201a8\"],[0.3333333333333333,\"#9c179e\"],[0.4444444444444444,\"#bd3786\"],[0.5555555555555556,\"#d8576b\"],[0.6666666666666666,\"#ed7953\"],[0.7777777777777778,\"#fb9f3a\"],[0.8888888888888888,\"#fdca26\"],[1.0,\"#f0f921\"]],\"type\":\"heatmapgl\"}],\"histogram\":[{\"marker\":{\"pattern\":{\"fillmode\":\"overlay\",\"size\":10,\"solidity\":0.2}},\"type\":\"histogram\"}],\"histogram2d\":[{\"colorbar\":{\"outlinewidth\":0,\"ticks\":\"\"},\"colorscale\":[[0.0,\"#0d0887\"],[0.1111111111111111,\"#46039f\"],[0.2222222222222222,\"#7201a8\"],[0.3333333333333333,\"#9c179e\"],[0.4444444444444444,\"#bd3786\"],[0.5555555555555556,\"#d8576b\"],[0.6666666666666666,\"#ed7953\"],[0.7777777777777778,\"#fb9f3a\"],[0.8888888888888888,\"#fdca26\"],[1.0,\"#f0f921\"]],\"type\":\"histogram2d\"}],\"histogram2dcontour\":[{\"colorbar\":{\"outlinewidth\":0,\"ticks\":\"\"},\"colorscale\":[[0.0,\"#0d0887\"],[0.1111111111111111,\"#46039f\"],[0.2222222222222222,\"#7201a8\"],[0.3333333333333333,\"#9c179e\"],[0.4444444444444444,\"#bd3786\"],[0.5555555555555556,\"#d8576b\"],[0.6666666666666666,\"#ed7953\"],[0.7777777777777778,\"#fb9f3a\"],[0.8888888888888888,\"#fdca26\"],[1.0,\"#f0f921\"]],\"type\":\"histogram2dcontour\"}],\"mesh3d\":[{\"colorbar\":{\"outlinewidth\":0,\"ticks\":\"\"},\"type\":\"mesh3d\"}],\"parcoords\":[{\"line\":{\"colorbar\":{\"outlinewidth\":0,\"ticks\":\"\"}},\"type\":\"parcoords\"}],\"pie\":[{\"automargin\":true,\"type\":\"pie\"}],\"scatter\":[{\"marker\":{\"colorbar\":{\"outlinewidth\":0,\"ticks\":\"\"}},\"type\":\"scatter\"}],\"scatter3d\":[{\"line\":{\"colorbar\":{\"outlinewidth\":0,\"ticks\":\"\"}},\"marker\":{\"colorbar\":{\"outlinewidth\":0,\"ticks\":\"\"}},\"type\":\"scatter3d\"}],\"scattercarpet\":[{\"marker\":{\"colorbar\":{\"outlinewidth\":0,\"ticks\":\"\"}},\"type\":\"scattercarpet\"}],\"scattergeo\":[{\"marker\":{\"colorbar\":{\"outlinewidth\":0,\"ticks\":\"\"}},\"type\":\"scattergeo\"}],\"scattergl\":[{\"marker\":{\"colorbar\":{\"outlinewidth\":0,\"ticks\":\"\"}},\"type\":\"scattergl\"}],\"scattermapbox\":[{\"marker\":{\"colorbar\":{\"outlinewidth\":0,\"ticks\":\"\"}},\"type\":\"scattermapbox\"}],\"scatterpolar\":[{\"marker\":{\"colorbar\":{\"outlinewidth\":0,\"ticks\":\"\"}},\"type\":\"scatterpolar\"}],\"scatterpolargl\":[{\"marker\":{\"colorbar\":{\"outlinewidth\":0,\"ticks\":\"\"}},\"type\":\"scatterpolargl\"}],\"scatterternary\":[{\"marker\":{\"colorbar\":{\"outlinewidth\":0,\"ticks\":\"\"}},\"type\":\"scatterternary\"}],\"surface\":[{\"colorbar\":{\"outlinewidth\":0,\"ticks\":\"\"},\"colorscale\":[[0.0,\"#0d0887\"],[0.1111111111111111,\"#46039f\"],[0.2222222222222222,\"#7201a8\"],[0.3333333333333333,\"#9c179e\"],[0.4444444444444444,\"#bd3786\"],[0.5555555555555556,\"#d8576b\"],[0.6666666666666666,\"#ed7953\"],[0.7777777777777778,\"#fb9f3a\"],[0.8888888888888888,\"#fdca26\"],[1.0,\"#f0f921\"]],\"type\":\"surface\"}],\"table\":[{\"cells\":{\"fill\":{\"color\":\"#EBF0F8\"},\"line\":{\"color\":\"white\"}},\"header\":{\"fill\":{\"color\":\"#C8D4E3\"},\"line\":{\"color\":\"white\"}},\"type\":\"table\"}]},\"layout\":{\"annotationdefaults\":{\"arrowcolor\":\"#2a3f5f\",\"arrowhead\":0,\"arrowwidth\":1},\"autotypenumbers\":\"strict\",\"coloraxis\":{\"colorbar\":{\"outlinewidth\":0,\"ticks\":\"\"}},\"colorscale\":{\"diverging\":[[0,\"#8e0152\"],[0.1,\"#c51b7d\"],[0.2,\"#de77ae\"],[0.3,\"#f1b6da\"],[0.4,\"#fde0ef\"],[0.5,\"#f7f7f7\"],[0.6,\"#e6f5d0\"],[0.7,\"#b8e186\"],[0.8,\"#7fbc41\"],[0.9,\"#4d9221\"],[1,\"#276419\"]],\"sequential\":[[0.0,\"#0d0887\"],[0.1111111111111111,\"#46039f\"],[0.2222222222222222,\"#7201a8\"],[0.3333333333333333,\"#9c179e\"],[0.4444444444444444,\"#bd3786\"],[0.5555555555555556,\"#d8576b\"],[0.6666666666666666,\"#ed7953\"],[0.7777777777777778,\"#fb9f3a\"],[0.8888888888888888,\"#fdca26\"],[1.0,\"#f0f921\"]],\"sequentialminus\":[[0.0,\"#0d0887\"],[0.1111111111111111,\"#46039f\"],[0.2222222222222222,\"#7201a8\"],[0.3333333333333333,\"#9c179e\"],[0.4444444444444444,\"#bd3786\"],[0.5555555555555556,\"#d8576b\"],[0.6666666666666666,\"#ed7953\"],[0.7777777777777778,\"#fb9f3a\"],[0.8888888888888888,\"#fdca26\"],[1.0,\"#f0f921\"]]},\"colorway\":[\"#636efa\",\"#EF553B\",\"#00cc96\",\"#ab63fa\",\"#FFA15A\",\"#19d3f3\",\"#FF6692\",\"#B6E880\",\"#FF97FF\",\"#FECB52\"],\"font\":{\"color\":\"#2a3f5f\"},\"geo\":{\"bgcolor\":\"white\",\"lakecolor\":\"white\",\"landcolor\":\"#E5ECF6\",\"showlakes\":true,\"showland\":true,\"subunitcolor\":\"white\"},\"hoverlabel\":{\"align\":\"left\"},\"hovermode\":\"closest\",\"mapbox\":{\"style\":\"light\"},\"paper_bgcolor\":\"white\",\"plot_bgcolor\":\"#E5ECF6\",\"polar\":{\"angularaxis\":{\"gridcolor\":\"white\",\"linecolor\":\"white\",\"ticks\":\"\"},\"bgcolor\":\"#E5ECF6\",\"radialaxis\":{\"gridcolor\":\"white\",\"linecolor\":\"white\",\"ticks\":\"\"}},\"scene\":{\"xaxis\":{\"backgroundcolor\":\"#E5ECF6\",\"gridcolor\":\"white\",\"gridwidth\":2,\"linecolor\":\"white\",\"showbackground\":true,\"ticks\":\"\",\"zerolinecolor\":\"white\"},\"yaxis\":{\"backgroundcolor\":\"#E5ECF6\",\"gridcolor\":\"white\",\"gridwidth\":2,\"linecolor\":\"white\",\"showbackground\":true,\"ticks\":\"\",\"zerolinecolor\":\"white\"},\"zaxis\":{\"backgroundcolor\":\"#E5ECF6\",\"gridcolor\":\"white\",\"gridwidth\":2,\"linecolor\":\"white\",\"showbackground\":true,\"ticks\":\"\",\"zerolinecolor\":\"white\"}},\"shapedefaults\":{\"line\":{\"color\":\"#2a3f5f\"}},\"ternary\":{\"aaxis\":{\"gridcolor\":\"white\",\"linecolor\":\"white\",\"ticks\":\"\"},\"baxis\":{\"gridcolor\":\"white\",\"linecolor\":\"white\",\"ticks\":\"\"},\"bgcolor\":\"#E5ECF6\",\"caxis\":{\"gridcolor\":\"white\",\"linecolor\":\"white\",\"ticks\":\"\"}},\"title\":{\"x\":0.05},\"xaxis\":{\"automargin\":true,\"gridcolor\":\"white\",\"linecolor\":\"white\",\"ticks\":\"\",\"title\":{\"standoff\":15},\"zerolinecolor\":\"white\",\"zerolinewidth\":2},\"yaxis\":{\"automargin\":true,\"gridcolor\":\"white\",\"linecolor\":\"white\",\"ticks\":\"\",\"title\":{\"standoff\":15},\"zerolinecolor\":\"white\",\"zerolinewidth\":2}}},\"title\":{\"font\":{\"color\":\"#4D5663\"}},\"xaxis\":{\"gridcolor\":\"#E1E5ED\",\"showgrid\":true,\"tickfont\":{\"color\":\"#4D5663\"},\"title\":{\"font\":{\"color\":\"#4D5663\"},\"text\":\"\"},\"zerolinecolor\":\"#E1E5ED\"},\"yaxis\":{\"gridcolor\":\"#E1E5ED\",\"showgrid\":true,\"tickfont\":{\"color\":\"#4D5663\"},\"title\":{\"font\":{\"color\":\"#4D5663\"},\"text\":\"\"},\"zerolinecolor\":\"#E1E5ED\"}},                        {\"showLink\": true, \"linkText\": \"Export to plot.ly\", \"plotlyServerURL\": \"https://plot.ly\", \"responsive\": true}                    ).then(function(){\n",
       "                            \n",
       "var gd = document.getElementById('3063ce4e-a737-49da-b933-7894cd56a50a');\n",
       "var x = new MutationObserver(function (mutations, observer) {{\n",
       "        var display = window.getComputedStyle(gd).display;\n",
       "        if (!display || display === 'none') {{\n",
       "            console.log([gd, 'removed!']);\n",
       "            Plotly.purge(gd);\n",
       "            observer.disconnect();\n",
       "        }}\n",
       "}});\n",
       "\n",
       "// Listen for the removal of the full notebook cells\n",
       "var notebookContainer = gd.closest('#notebook-container');\n",
       "if (notebookContainer) {{\n",
       "    x.observe(notebookContainer, {childList: true});\n",
       "}}\n",
       "\n",
       "// Listen for the clearing of the current output cell\n",
       "var outputEl = gd.closest('.output');\n",
       "if (outputEl) {{\n",
       "    x.observe(outputEl, {childList: true});\n",
       "}}\n",
       "\n",
       "                        })                };                });            </script>        </div>"
      ]
     },
     "metadata": {},
     "output_type": "display_data"
    }
   ],
   "source": [
    "df.iplot(kind='bubble',x='A',y='B',size='C')"
   ]
  },
  {
   "cell_type": "code",
   "execution_count": 39,
   "id": "df214cc6",
   "metadata": {},
   "outputs": [
    {
     "data": {
      "application/vnd.plotly.v1+json": {
       "config": {
        "linkText": "Export to plot.ly",
        "plotlyServerURL": "https://plot.ly",
        "showLink": true
       },
       "data": [
        {
         "histfunc": "count",
         "histnorm": "",
         "marker": {
          "color": "rgba(255, 153, 51, 1.0)",
          "line": {
           "color": "#4D5663",
           "width": 1.3
          }
         },
         "name": "A",
         "nbinsx": 10,
         "opacity": 0.8,
         "orientation": "v",
         "type": "histogram",
         "x": [
          0.20858928925374165,
          -0.4342659365804992,
          0.15224425972204558,
          -1.4076364859048878,
          -1.8787133030357686,
          1.1141016130474,
          -0.014856903124838405,
          2.2980934492830407,
          -0.04537892657460305,
          0.37251593394002713,
          1.3160112807008706,
          -0.17426433245318806,
          -1.0676051347476219,
          0.35048603503154846,
          1.3995954370148027,
          0.31417325524307427,
          -0.03901252898133603,
          -0.7815522712797063,
          -1.4657470354223352,
          -0.10963875683423577,
          0.3414618118686473,
          1.8556025363714947,
          0.3857059012861465,
          0.9980034374445319,
          1.2369036414452386,
          -2.2112045923282877,
          -0.8039465980537963,
          1.2501257231512457,
          0.28072647683673607,
          0.8479650419673018,
          0.821856776990302,
          0.33703944666886576,
          0.2994135796999949,
          -1.0020739050520817,
          1.0492375923262964,
          1.4499683923774385,
          0.6771778865444542,
          -1.174173436607878,
          0.9380903401986462,
          0.7830429803693706,
          1.5612080447999004,
          -0.689867946889579,
          -0.012595428200974368,
          -0.07720029034540583,
          1.4459983734283515,
          -0.9818107095001324,
          1.192692753425027,
          -0.0427350127227039,
          -0.770256799555548,
          -2.325516663796394,
          -0.6431928762709359,
          0.3153997366164689,
          0.3874379394644579,
          1.039847925443799,
          -0.9392276561472361,
          0.030043034312859172,
          1.1374541985603328,
          -0.6299169960910088,
          -0.9632572236552438,
          0.46429902371477966,
          -0.21188270820025484,
          -1.071565489388745,
          -0.18972067388602754,
          -1.2528521719399608,
          0.15881994888242676,
          -0.0378086230861681,
          1.1167572500107146,
          0.0006074965995330983,
          -0.15191943738908428,
          1.55982623930444,
          0.6060812113709677,
          0.07197403153804605,
          -0.1892256296041631,
          0.3744916234702504,
          0.5371723431024327,
          0.3056813222755168,
          3.2724431765187476,
          0.5606360026261016,
          0.0797615201136642,
          2.1426154923643996,
          0.595063512231104,
          -2.0077243015777624,
          -1.3920962454797994,
          -1.496551961908376,
          0.7760365739615019,
          0.8822518019486779,
          1.0019935837931249,
          -0.6634189590571933,
          0.07849718855217555,
          0.059596466005808625,
          1.075688755634055,
          1.9898092690768672,
          0.05738664500122117,
          -1.1337520231610325,
          -0.25843487309297164,
          0.4268716302195559,
          -2.323477988994405,
          1.8390982353041838,
          1.2639675884889168,
          1.654235242842938
         ],
         "xaxis": "x",
         "yaxis": "y"
        },
        {
         "line": {
          "color": "rgba(128, 128, 128, 1.0)",
          "dash": "solid",
          "shape": "linear",
          "width": 1.3
         },
         "marker": {
          "size": 2,
          "symbol": "circle"
         },
         "mode": "markers",
         "name": "A",
         "text": "",
         "type": "scatter",
         "x": [
          -1.0899935075648546,
          -0.3283429263413677,
          0.9249715866272701,
          2.265847442190619,
          -1.9679748652286901,
          0.3522242836497475,
          -0.7922871395287938,
          -0.9258406713634908,
          0.8115272195253244,
          -1.477270976719303,
          0.1618159952438024,
          -0.4331539457009914,
          0.039311567111366276,
          -0.02441439939200614,
          0.6172117332234927,
          -2.340081944963553,
          3.1702114209761914,
          -0.36332764722503386,
          -0.4907725595838416,
          0.7908863334448771,
          -1.3709915008208202,
          0.5630076301719508,
          -0.08132772990151602,
          0.23855039987494617,
          -0.36783653113759457,
          -2.0583162396779198,
          0.41011426019927305,
          0.7360262123316557,
          0.8578455480892391,
          0.6692212126530874,
          -0.29193924207135413,
          -0.010428464535667108,
          0.5827342576436385,
          0.8631295668999309,
          -0.3887628842023507,
          0.5621355659822822,
          0.41242643202681245,
          0.5400452510501995,
          -0.8622450348007333,
          0.8373961616003691,
          0.7075403616234199,
          1.50682059694962,
          -0.8579989529337081,
          1.966217498627032,
          -0.8842888279114438,
          -0.14063222009410747,
          0.1560775565914649,
          -1.0318998613338433,
          0.6938332181045966,
          0.34902727031895114,
          -1.2083396070051455,
          2.2505048443521325,
          1.4625590755465416,
          -0.7392605820861616,
          1.290122175953878,
          0.03743177695407034,
          0.15447966905151658,
          -0.5941001153821971,
          0.41401637666917435,
          0.43185474659107764,
          -0.48564289964242224,
          0.2120732808572052,
          -1.2176504747328385,
          -0.15447459880849224,
          0.04952072542198867,
          0.016467999256636306,
          -0.5074883377420486,
          0.2853198976723749,
          1.617705760844643,
          1.677555201770505,
          0.27528939747803033,
          1.2810400539729732,
          -0.33070951242102525,
          1.044671936262385,
          0.07747716330923368,
          0.3114697652518498,
          -1.156964461310973,
          0.7046737117632361,
          0.17166399704921553,
          0.046391761412236276,
          2.0237011484840295,
          1.0508124503427356,
          0.7633037621767298,
          0.910230795208631,
          -0.6860382779231162,
          0.8414355798852678,
          0.20068154971940383,
          -0.43766497984189995,
          -1.4456137666739453,
          0.04206249677159624,
          -1.7378780010870498,
          0.3317607911741303,
          -0.3960625890982911,
          0.20891188425239193,
          1.7533600297381258,
          -0.5744757529482349,
          -1.2890173304854928,
          -0.8397499635573618,
          -0.2703194128703838,
          0.4006493372053976
         ],
         "xaxis": "x2",
         "y": [
          0.20858928925374165,
          -0.4342659365804992,
          0.15224425972204558,
          -1.4076364859048878,
          -1.8787133030357686,
          1.1141016130474,
          -0.014856903124838405,
          2.2980934492830407,
          -0.04537892657460305,
          0.37251593394002713,
          1.3160112807008706,
          -0.17426433245318806,
          -1.0676051347476219,
          0.35048603503154846,
          1.3995954370148027,
          0.31417325524307427,
          -0.03901252898133603,
          -0.7815522712797063,
          -1.4657470354223352,
          -0.10963875683423577,
          0.3414618118686473,
          1.8556025363714947,
          0.3857059012861465,
          0.9980034374445319,
          1.2369036414452386,
          -2.2112045923282877,
          -0.8039465980537963,
          1.2501257231512457,
          0.28072647683673607,
          0.8479650419673018,
          0.821856776990302,
          0.33703944666886576,
          0.2994135796999949,
          -1.0020739050520817,
          1.0492375923262964,
          1.4499683923774385,
          0.6771778865444542,
          -1.174173436607878,
          0.9380903401986462,
          0.7830429803693706,
          1.5612080447999004,
          -0.689867946889579,
          -0.012595428200974368,
          -0.07720029034540583,
          1.4459983734283515,
          -0.9818107095001324,
          1.192692753425027,
          -0.0427350127227039,
          -0.770256799555548,
          -2.325516663796394,
          -0.6431928762709359,
          0.3153997366164689,
          0.3874379394644579,
          1.039847925443799,
          -0.9392276561472361,
          0.030043034312859172,
          1.1374541985603328,
          -0.6299169960910088,
          -0.9632572236552438,
          0.46429902371477966,
          -0.21188270820025484,
          -1.071565489388745,
          -0.18972067388602754,
          -1.2528521719399608,
          0.15881994888242676,
          -0.0378086230861681,
          1.1167572500107146,
          0.0006074965995330983,
          -0.15191943738908428,
          1.55982623930444,
          0.6060812113709677,
          0.07197403153804605,
          -0.1892256296041631,
          0.3744916234702504,
          0.5371723431024327,
          0.3056813222755168,
          3.2724431765187476,
          0.5606360026261016,
          0.0797615201136642,
          2.1426154923643996,
          0.595063512231104,
          -2.0077243015777624,
          -1.3920962454797994,
          -1.496551961908376,
          0.7760365739615019,
          0.8822518019486779,
          1.0019935837931249,
          -0.6634189590571933,
          0.07849718855217555,
          0.059596466005808625,
          1.075688755634055,
          1.9898092690768672,
          0.05738664500122117,
          -1.1337520231610325,
          -0.25843487309297164,
          0.4268716302195559,
          -2.323477988994405,
          1.8390982353041838,
          1.2639675884889168,
          1.654235242842938
         ],
         "yaxis": "y2"
        },
        {
         "line": {
          "color": "rgba(128, 128, 128, 1.0)",
          "dash": "solid",
          "shape": "linear",
          "width": 1.3
         },
         "marker": {
          "size": 2,
          "symbol": "circle"
         },
         "mode": "markers",
         "name": "A",
         "text": "",
         "type": "scatter",
         "x": [
          -0.6050978556691786,
          -0.9035483715588414,
          1.3999062316779856,
          0.20326625575656562,
          0.7748660360296203,
          1.382118835963103,
          -0.3449663271423684,
          -0.3125784862581155,
          -0.3921021582767679,
          -0.4672365319648652,
          -0.9176971919965744,
          -0.9407683863484179,
          -0.02051094093615628,
          -0.4845090081884112,
          -0.9027760486508982,
          0.45408000372627855,
          1.7797168946307709,
          -0.849954913019187,
          -0.9497738918589689,
          1.115584553680479,
          0.47623968737877737,
          0.6777243804013798,
          -2.423385402585716,
          -0.05998903497391833,
          0.9528474830183917,
          1.9451072560078173,
          -0.7205616932622801,
          0.24869698730886125,
          0.12593843046885547,
          -0.7613039250440969,
          -1.1934815064129642,
          0.32847093291618723,
          0.03042686379748063,
          0.3638589261743581,
          0.8672123584073379,
          -0.5191918572545234,
          0.045873495741145395,
          -0.4991378312981569,
          0.4760864075563409,
          2.133103606272648,
          -1.6368622660538275,
          -0.8647663574169911,
          -0.2386827785058121,
          0.6514580767202643,
          -2.39366962919686,
          0.7847164416846397,
          1.4776485033235072,
          -0.8468678129426838,
          -0.1399453487715599,
          -1.4576847799303292,
          -0.16729265391285816,
          0.8104599304351691,
          0.44724150958933034,
          -0.239863791295954,
          -0.39865955278054077,
          0.392382842023195,
          0.21053559716010317,
          -0.7026716843649459,
          0.20157416306770357,
          -1.2431794473942575,
          0.9913120029212691,
          -0.17674562111069766,
          -0.8865370921684598,
          1.2678131780640376,
          0.6474985704541698,
          -0.675859866962432,
          2.2130088393476632,
          -0.8751745286308837,
          -0.7309748412210775,
          -0.7061573864067572,
          1.7191649168663734,
          -0.90654523833935,
          0.9234141064550748,
          -1.006326053603848,
          -0.15565505313829398,
          1.258680446450928,
          -0.82459549301541,
          -0.6941048482250396,
          -1.1526300782529277,
          -1.9408024035122222,
          -0.7066046066198953,
          -0.13820084983001243,
          0.33007567967062035,
          0.20516895683465802,
          0.7541000686165579,
          -0.3309113870390968,
          -0.4936760267518312,
          2.572271277233446,
          -0.02605875203151911,
          0.08045314789924392,
          0.1584800938610056,
          0.6803979387509251,
          -1.3445148460765042,
          1.3938329499040125,
          -0.799184564003873,
          -1.4607223497438997,
          -0.9460192341940437,
          -1.4607146767131882,
          0.33623646045912176,
          0.3717802061751832
         ],
         "xaxis": "x3",
         "y": [
          0.20858928925374165,
          -0.4342659365804992,
          0.15224425972204558,
          -1.4076364859048878,
          -1.8787133030357686,
          1.1141016130474,
          -0.014856903124838405,
          2.2980934492830407,
          -0.04537892657460305,
          0.37251593394002713,
          1.3160112807008706,
          -0.17426433245318806,
          -1.0676051347476219,
          0.35048603503154846,
          1.3995954370148027,
          0.31417325524307427,
          -0.03901252898133603,
          -0.7815522712797063,
          -1.4657470354223352,
          -0.10963875683423577,
          0.3414618118686473,
          1.8556025363714947,
          0.3857059012861465,
          0.9980034374445319,
          1.2369036414452386,
          -2.2112045923282877,
          -0.8039465980537963,
          1.2501257231512457,
          0.28072647683673607,
          0.8479650419673018,
          0.821856776990302,
          0.33703944666886576,
          0.2994135796999949,
          -1.0020739050520817,
          1.0492375923262964,
          1.4499683923774385,
          0.6771778865444542,
          -1.174173436607878,
          0.9380903401986462,
          0.7830429803693706,
          1.5612080447999004,
          -0.689867946889579,
          -0.012595428200974368,
          -0.07720029034540583,
          1.4459983734283515,
          -0.9818107095001324,
          1.192692753425027,
          -0.0427350127227039,
          -0.770256799555548,
          -2.325516663796394,
          -0.6431928762709359,
          0.3153997366164689,
          0.3874379394644579,
          1.039847925443799,
          -0.9392276561472361,
          0.030043034312859172,
          1.1374541985603328,
          -0.6299169960910088,
          -0.9632572236552438,
          0.46429902371477966,
          -0.21188270820025484,
          -1.071565489388745,
          -0.18972067388602754,
          -1.2528521719399608,
          0.15881994888242676,
          -0.0378086230861681,
          1.1167572500107146,
          0.0006074965995330983,
          -0.15191943738908428,
          1.55982623930444,
          0.6060812113709677,
          0.07197403153804605,
          -0.1892256296041631,
          0.3744916234702504,
          0.5371723431024327,
          0.3056813222755168,
          3.2724431765187476,
          0.5606360026261016,
          0.0797615201136642,
          2.1426154923643996,
          0.595063512231104,
          -2.0077243015777624,
          -1.3920962454797994,
          -1.496551961908376,
          0.7760365739615019,
          0.8822518019486779,
          1.0019935837931249,
          -0.6634189590571933,
          0.07849718855217555,
          0.059596466005808625,
          1.075688755634055,
          1.9898092690768672,
          0.05738664500122117,
          -1.1337520231610325,
          -0.25843487309297164,
          0.4268716302195559,
          -2.323477988994405,
          1.8390982353041838,
          1.2639675884889168,
          1.654235242842938
         ],
         "yaxis": "y3"
        },
        {
         "line": {
          "color": "rgba(128, 128, 128, 1.0)",
          "dash": "solid",
          "shape": "linear",
          "width": 1.3
         },
         "marker": {
          "size": 2,
          "symbol": "circle"
         },
         "mode": "markers",
         "name": "A",
         "text": "",
         "type": "scatter",
         "x": [
          -1.7283455634015321,
          0.7922665076440077,
          0.3327252928057696,
          -0.8646777098209107,
          -0.5533280925795223,
          -0.7426238658744095,
          -0.6321761148537716,
          0.23147476775382012,
          -0.20636980974607427,
          -0.8524000612482501,
          1.6127960625700868,
          -1.2494970560420666,
          2.117783435195244,
          -1.4261041758635733,
          -0.8427016784683329,
          -0.41215725897321814,
          1.482039530159061,
          -0.8294156366297977,
          -1.7444749996017128,
          -1.1463065894063043,
          -0.23140954513387316,
          0.04924343091891973,
          -0.7911997067028309,
          0.2542396734334467,
          -0.42101767485548325,
          0.0343237840568151,
          0.016933566682258896,
          1.3545581510054157,
          0.4476058590792905,
          0.22846633647061299,
          -0.6360477412520456,
          0.3247900932617839,
          -0.13851588260334996,
          0.19749265328712912,
          0.2551145633023773,
          -0.6318291814297596,
          -0.05162998288644609,
          0.29304285314602707,
          0.6519757198392621,
          0.362920745861988,
          2.3164946789860945,
          3.0661980875647856,
          -0.2963504023189624,
          -0.8127184586877536,
          -2.2064787773448824,
          -0.7134226445069347,
          -0.043722477341506236,
          -0.7139044754895482,
          -0.538276291943493,
          1.4108829924568982,
          1.251182397487324,
          0.17089238880915805,
          0.07540264426533289,
          0.19832996717543896,
          0.056562449238566036,
          0.7629953537674873,
          0.6954930495616684,
          0.8775097179137081,
          0.4712989663064789,
          0.7950901130031898,
          -0.42165087555391284,
          -1.341972307314644,
          -0.26419586310475707,
          1.2067552694961743,
          -1.107541927537456,
          0.30012534153536796,
          0.8901680688026227,
          0.7432940876917533,
          -0.5969048140606085,
          -1.1202383151916753,
          0.09471779691404093,
          -0.47167306445998836,
          -1.3923362588099217,
          0.714730829804552,
          0.1628551757050395,
          2.850378514067846,
          -0.5917785616485799,
          0.7138285756081543,
          0.5268855062743794,
          0.07111881361464277,
          -0.5760903855312549,
          -0.860973377436933,
          -1.058674135434395,
          0.18239213480830674,
          1.4508107303228437,
          0.8075923242860772,
          -1.062296403867526,
          0.49907103447837614,
          -0.4316824341811029,
          -0.6290765911934332,
          -0.9120857969862319,
          -0.23865807635605688,
          0.3266174181627085,
          -0.06769282445930531,
          -0.15757269703186888,
          1.0894928964241457,
          1.0508563645876903,
          0.1780094976605929,
          1.218131315660249,
          0.38432102125585577
         ],
         "xaxis": "x4",
         "y": [
          0.20858928925374165,
          -0.4342659365804992,
          0.15224425972204558,
          -1.4076364859048878,
          -1.8787133030357686,
          1.1141016130474,
          -0.014856903124838405,
          2.2980934492830407,
          -0.04537892657460305,
          0.37251593394002713,
          1.3160112807008706,
          -0.17426433245318806,
          -1.0676051347476219,
          0.35048603503154846,
          1.3995954370148027,
          0.31417325524307427,
          -0.03901252898133603,
          -0.7815522712797063,
          -1.4657470354223352,
          -0.10963875683423577,
          0.3414618118686473,
          1.8556025363714947,
          0.3857059012861465,
          0.9980034374445319,
          1.2369036414452386,
          -2.2112045923282877,
          -0.8039465980537963,
          1.2501257231512457,
          0.28072647683673607,
          0.8479650419673018,
          0.821856776990302,
          0.33703944666886576,
          0.2994135796999949,
          -1.0020739050520817,
          1.0492375923262964,
          1.4499683923774385,
          0.6771778865444542,
          -1.174173436607878,
          0.9380903401986462,
          0.7830429803693706,
          1.5612080447999004,
          -0.689867946889579,
          -0.012595428200974368,
          -0.07720029034540583,
          1.4459983734283515,
          -0.9818107095001324,
          1.192692753425027,
          -0.0427350127227039,
          -0.770256799555548,
          -2.325516663796394,
          -0.6431928762709359,
          0.3153997366164689,
          0.3874379394644579,
          1.039847925443799,
          -0.9392276561472361,
          0.030043034312859172,
          1.1374541985603328,
          -0.6299169960910088,
          -0.9632572236552438,
          0.46429902371477966,
          -0.21188270820025484,
          -1.071565489388745,
          -0.18972067388602754,
          -1.2528521719399608,
          0.15881994888242676,
          -0.0378086230861681,
          1.1167572500107146,
          0.0006074965995330983,
          -0.15191943738908428,
          1.55982623930444,
          0.6060812113709677,
          0.07197403153804605,
          -0.1892256296041631,
          0.3744916234702504,
          0.5371723431024327,
          0.3056813222755168,
          3.2724431765187476,
          0.5606360026261016,
          0.0797615201136642,
          2.1426154923643996,
          0.595063512231104,
          -2.0077243015777624,
          -1.3920962454797994,
          -1.496551961908376,
          0.7760365739615019,
          0.8822518019486779,
          1.0019935837931249,
          -0.6634189590571933,
          0.07849718855217555,
          0.059596466005808625,
          1.075688755634055,
          1.9898092690768672,
          0.05738664500122117,
          -1.1337520231610325,
          -0.25843487309297164,
          0.4268716302195559,
          -2.323477988994405,
          1.8390982353041838,
          1.2639675884889168,
          1.654235242842938
         ],
         "yaxis": "y4"
        },
        {
         "line": {
          "color": "rgba(128, 128, 128, 1.0)",
          "dash": "solid",
          "shape": "linear",
          "width": 1.3
         },
         "marker": {
          "size": 2,
          "symbol": "circle"
         },
         "mode": "markers",
         "name": "B",
         "text": "",
         "type": "scatter",
         "x": [
          0.20858928925374165,
          -0.4342659365804992,
          0.15224425972204558,
          -1.4076364859048878,
          -1.8787133030357686,
          1.1141016130474,
          -0.014856903124838405,
          2.2980934492830407,
          -0.04537892657460305,
          0.37251593394002713,
          1.3160112807008706,
          -0.17426433245318806,
          -1.0676051347476219,
          0.35048603503154846,
          1.3995954370148027,
          0.31417325524307427,
          -0.03901252898133603,
          -0.7815522712797063,
          -1.4657470354223352,
          -0.10963875683423577,
          0.3414618118686473,
          1.8556025363714947,
          0.3857059012861465,
          0.9980034374445319,
          1.2369036414452386,
          -2.2112045923282877,
          -0.8039465980537963,
          1.2501257231512457,
          0.28072647683673607,
          0.8479650419673018,
          0.821856776990302,
          0.33703944666886576,
          0.2994135796999949,
          -1.0020739050520817,
          1.0492375923262964,
          1.4499683923774385,
          0.6771778865444542,
          -1.174173436607878,
          0.9380903401986462,
          0.7830429803693706,
          1.5612080447999004,
          -0.689867946889579,
          -0.012595428200974368,
          -0.07720029034540583,
          1.4459983734283515,
          -0.9818107095001324,
          1.192692753425027,
          -0.0427350127227039,
          -0.770256799555548,
          -2.325516663796394,
          -0.6431928762709359,
          0.3153997366164689,
          0.3874379394644579,
          1.039847925443799,
          -0.9392276561472361,
          0.030043034312859172,
          1.1374541985603328,
          -0.6299169960910088,
          -0.9632572236552438,
          0.46429902371477966,
          -0.21188270820025484,
          -1.071565489388745,
          -0.18972067388602754,
          -1.2528521719399608,
          0.15881994888242676,
          -0.0378086230861681,
          1.1167572500107146,
          0.0006074965995330983,
          -0.15191943738908428,
          1.55982623930444,
          0.6060812113709677,
          0.07197403153804605,
          -0.1892256296041631,
          0.3744916234702504,
          0.5371723431024327,
          0.3056813222755168,
          3.2724431765187476,
          0.5606360026261016,
          0.0797615201136642,
          2.1426154923643996,
          0.595063512231104,
          -2.0077243015777624,
          -1.3920962454797994,
          -1.496551961908376,
          0.7760365739615019,
          0.8822518019486779,
          1.0019935837931249,
          -0.6634189590571933,
          0.07849718855217555,
          0.059596466005808625,
          1.075688755634055,
          1.9898092690768672,
          0.05738664500122117,
          -1.1337520231610325,
          -0.25843487309297164,
          0.4268716302195559,
          -2.323477988994405,
          1.8390982353041838,
          1.2639675884889168,
          1.654235242842938
         ],
         "xaxis": "x5",
         "y": [
          -1.0899935075648546,
          -0.3283429263413677,
          0.9249715866272701,
          2.265847442190619,
          -1.9679748652286901,
          0.3522242836497475,
          -0.7922871395287938,
          -0.9258406713634908,
          0.8115272195253244,
          -1.477270976719303,
          0.1618159952438024,
          -0.4331539457009914,
          0.039311567111366276,
          -0.02441439939200614,
          0.6172117332234927,
          -2.340081944963553,
          3.1702114209761914,
          -0.36332764722503386,
          -0.4907725595838416,
          0.7908863334448771,
          -1.3709915008208202,
          0.5630076301719508,
          -0.08132772990151602,
          0.23855039987494617,
          -0.36783653113759457,
          -2.0583162396779198,
          0.41011426019927305,
          0.7360262123316557,
          0.8578455480892391,
          0.6692212126530874,
          -0.29193924207135413,
          -0.010428464535667108,
          0.5827342576436385,
          0.8631295668999309,
          -0.3887628842023507,
          0.5621355659822822,
          0.41242643202681245,
          0.5400452510501995,
          -0.8622450348007333,
          0.8373961616003691,
          0.7075403616234199,
          1.50682059694962,
          -0.8579989529337081,
          1.966217498627032,
          -0.8842888279114438,
          -0.14063222009410747,
          0.1560775565914649,
          -1.0318998613338433,
          0.6938332181045966,
          0.34902727031895114,
          -1.2083396070051455,
          2.2505048443521325,
          1.4625590755465416,
          -0.7392605820861616,
          1.290122175953878,
          0.03743177695407034,
          0.15447966905151658,
          -0.5941001153821971,
          0.41401637666917435,
          0.43185474659107764,
          -0.48564289964242224,
          0.2120732808572052,
          -1.2176504747328385,
          -0.15447459880849224,
          0.04952072542198867,
          0.016467999256636306,
          -0.5074883377420486,
          0.2853198976723749,
          1.617705760844643,
          1.677555201770505,
          0.27528939747803033,
          1.2810400539729732,
          -0.33070951242102525,
          1.044671936262385,
          0.07747716330923368,
          0.3114697652518498,
          -1.156964461310973,
          0.7046737117632361,
          0.17166399704921553,
          0.046391761412236276,
          2.0237011484840295,
          1.0508124503427356,
          0.7633037621767298,
          0.910230795208631,
          -0.6860382779231162,
          0.8414355798852678,
          0.20068154971940383,
          -0.43766497984189995,
          -1.4456137666739453,
          0.04206249677159624,
          -1.7378780010870498,
          0.3317607911741303,
          -0.3960625890982911,
          0.20891188425239193,
          1.7533600297381258,
          -0.5744757529482349,
          -1.2890173304854928,
          -0.8397499635573618,
          -0.2703194128703838,
          0.4006493372053976
         ],
         "yaxis": "y5"
        },
        {
         "histfunc": "count",
         "histnorm": "",
         "marker": {
          "color": "rgba(55, 128, 191, 1.0)",
          "line": {
           "color": "#4D5663",
           "width": 1.3
          }
         },
         "name": "B",
         "nbinsx": 10,
         "opacity": 0.8,
         "orientation": "v",
         "type": "histogram",
         "x": [
          -1.0899935075648546,
          -0.3283429263413677,
          0.9249715866272701,
          2.265847442190619,
          -1.9679748652286901,
          0.3522242836497475,
          -0.7922871395287938,
          -0.9258406713634908,
          0.8115272195253244,
          -1.477270976719303,
          0.1618159952438024,
          -0.4331539457009914,
          0.039311567111366276,
          -0.02441439939200614,
          0.6172117332234927,
          -2.340081944963553,
          3.1702114209761914,
          -0.36332764722503386,
          -0.4907725595838416,
          0.7908863334448771,
          -1.3709915008208202,
          0.5630076301719508,
          -0.08132772990151602,
          0.23855039987494617,
          -0.36783653113759457,
          -2.0583162396779198,
          0.41011426019927305,
          0.7360262123316557,
          0.8578455480892391,
          0.6692212126530874,
          -0.29193924207135413,
          -0.010428464535667108,
          0.5827342576436385,
          0.8631295668999309,
          -0.3887628842023507,
          0.5621355659822822,
          0.41242643202681245,
          0.5400452510501995,
          -0.8622450348007333,
          0.8373961616003691,
          0.7075403616234199,
          1.50682059694962,
          -0.8579989529337081,
          1.966217498627032,
          -0.8842888279114438,
          -0.14063222009410747,
          0.1560775565914649,
          -1.0318998613338433,
          0.6938332181045966,
          0.34902727031895114,
          -1.2083396070051455,
          2.2505048443521325,
          1.4625590755465416,
          -0.7392605820861616,
          1.290122175953878,
          0.03743177695407034,
          0.15447966905151658,
          -0.5941001153821971,
          0.41401637666917435,
          0.43185474659107764,
          -0.48564289964242224,
          0.2120732808572052,
          -1.2176504747328385,
          -0.15447459880849224,
          0.04952072542198867,
          0.016467999256636306,
          -0.5074883377420486,
          0.2853198976723749,
          1.617705760844643,
          1.677555201770505,
          0.27528939747803033,
          1.2810400539729732,
          -0.33070951242102525,
          1.044671936262385,
          0.07747716330923368,
          0.3114697652518498,
          -1.156964461310973,
          0.7046737117632361,
          0.17166399704921553,
          0.046391761412236276,
          2.0237011484840295,
          1.0508124503427356,
          0.7633037621767298,
          0.910230795208631,
          -0.6860382779231162,
          0.8414355798852678,
          0.20068154971940383,
          -0.43766497984189995,
          -1.4456137666739453,
          0.04206249677159624,
          -1.7378780010870498,
          0.3317607911741303,
          -0.3960625890982911,
          0.20891188425239193,
          1.7533600297381258,
          -0.5744757529482349,
          -1.2890173304854928,
          -0.8397499635573618,
          -0.2703194128703838,
          0.4006493372053976
         ],
         "xaxis": "x6",
         "yaxis": "y6"
        },
        {
         "line": {
          "color": "rgba(128, 128, 128, 1.0)",
          "dash": "solid",
          "shape": "linear",
          "width": 1.3
         },
         "marker": {
          "size": 2,
          "symbol": "circle"
         },
         "mode": "markers",
         "name": "B",
         "text": "",
         "type": "scatter",
         "x": [
          -0.6050978556691786,
          -0.9035483715588414,
          1.3999062316779856,
          0.20326625575656562,
          0.7748660360296203,
          1.382118835963103,
          -0.3449663271423684,
          -0.3125784862581155,
          -0.3921021582767679,
          -0.4672365319648652,
          -0.9176971919965744,
          -0.9407683863484179,
          -0.02051094093615628,
          -0.4845090081884112,
          -0.9027760486508982,
          0.45408000372627855,
          1.7797168946307709,
          -0.849954913019187,
          -0.9497738918589689,
          1.115584553680479,
          0.47623968737877737,
          0.6777243804013798,
          -2.423385402585716,
          -0.05998903497391833,
          0.9528474830183917,
          1.9451072560078173,
          -0.7205616932622801,
          0.24869698730886125,
          0.12593843046885547,
          -0.7613039250440969,
          -1.1934815064129642,
          0.32847093291618723,
          0.03042686379748063,
          0.3638589261743581,
          0.8672123584073379,
          -0.5191918572545234,
          0.045873495741145395,
          -0.4991378312981569,
          0.4760864075563409,
          2.133103606272648,
          -1.6368622660538275,
          -0.8647663574169911,
          -0.2386827785058121,
          0.6514580767202643,
          -2.39366962919686,
          0.7847164416846397,
          1.4776485033235072,
          -0.8468678129426838,
          -0.1399453487715599,
          -1.4576847799303292,
          -0.16729265391285816,
          0.8104599304351691,
          0.44724150958933034,
          -0.239863791295954,
          -0.39865955278054077,
          0.392382842023195,
          0.21053559716010317,
          -0.7026716843649459,
          0.20157416306770357,
          -1.2431794473942575,
          0.9913120029212691,
          -0.17674562111069766,
          -0.8865370921684598,
          1.2678131780640376,
          0.6474985704541698,
          -0.675859866962432,
          2.2130088393476632,
          -0.8751745286308837,
          -0.7309748412210775,
          -0.7061573864067572,
          1.7191649168663734,
          -0.90654523833935,
          0.9234141064550748,
          -1.006326053603848,
          -0.15565505313829398,
          1.258680446450928,
          -0.82459549301541,
          -0.6941048482250396,
          -1.1526300782529277,
          -1.9408024035122222,
          -0.7066046066198953,
          -0.13820084983001243,
          0.33007567967062035,
          0.20516895683465802,
          0.7541000686165579,
          -0.3309113870390968,
          -0.4936760267518312,
          2.572271277233446,
          -0.02605875203151911,
          0.08045314789924392,
          0.1584800938610056,
          0.6803979387509251,
          -1.3445148460765042,
          1.3938329499040125,
          -0.799184564003873,
          -1.4607223497438997,
          -0.9460192341940437,
          -1.4607146767131882,
          0.33623646045912176,
          0.3717802061751832
         ],
         "xaxis": "x7",
         "y": [
          -1.0899935075648546,
          -0.3283429263413677,
          0.9249715866272701,
          2.265847442190619,
          -1.9679748652286901,
          0.3522242836497475,
          -0.7922871395287938,
          -0.9258406713634908,
          0.8115272195253244,
          -1.477270976719303,
          0.1618159952438024,
          -0.4331539457009914,
          0.039311567111366276,
          -0.02441439939200614,
          0.6172117332234927,
          -2.340081944963553,
          3.1702114209761914,
          -0.36332764722503386,
          -0.4907725595838416,
          0.7908863334448771,
          -1.3709915008208202,
          0.5630076301719508,
          -0.08132772990151602,
          0.23855039987494617,
          -0.36783653113759457,
          -2.0583162396779198,
          0.41011426019927305,
          0.7360262123316557,
          0.8578455480892391,
          0.6692212126530874,
          -0.29193924207135413,
          -0.010428464535667108,
          0.5827342576436385,
          0.8631295668999309,
          -0.3887628842023507,
          0.5621355659822822,
          0.41242643202681245,
          0.5400452510501995,
          -0.8622450348007333,
          0.8373961616003691,
          0.7075403616234199,
          1.50682059694962,
          -0.8579989529337081,
          1.966217498627032,
          -0.8842888279114438,
          -0.14063222009410747,
          0.1560775565914649,
          -1.0318998613338433,
          0.6938332181045966,
          0.34902727031895114,
          -1.2083396070051455,
          2.2505048443521325,
          1.4625590755465416,
          -0.7392605820861616,
          1.290122175953878,
          0.03743177695407034,
          0.15447966905151658,
          -0.5941001153821971,
          0.41401637666917435,
          0.43185474659107764,
          -0.48564289964242224,
          0.2120732808572052,
          -1.2176504747328385,
          -0.15447459880849224,
          0.04952072542198867,
          0.016467999256636306,
          -0.5074883377420486,
          0.2853198976723749,
          1.617705760844643,
          1.677555201770505,
          0.27528939747803033,
          1.2810400539729732,
          -0.33070951242102525,
          1.044671936262385,
          0.07747716330923368,
          0.3114697652518498,
          -1.156964461310973,
          0.7046737117632361,
          0.17166399704921553,
          0.046391761412236276,
          2.0237011484840295,
          1.0508124503427356,
          0.7633037621767298,
          0.910230795208631,
          -0.6860382779231162,
          0.8414355798852678,
          0.20068154971940383,
          -0.43766497984189995,
          -1.4456137666739453,
          0.04206249677159624,
          -1.7378780010870498,
          0.3317607911741303,
          -0.3960625890982911,
          0.20891188425239193,
          1.7533600297381258,
          -0.5744757529482349,
          -1.2890173304854928,
          -0.8397499635573618,
          -0.2703194128703838,
          0.4006493372053976
         ],
         "yaxis": "y7"
        },
        {
         "line": {
          "color": "rgba(128, 128, 128, 1.0)",
          "dash": "solid",
          "shape": "linear",
          "width": 1.3
         },
         "marker": {
          "size": 2,
          "symbol": "circle"
         },
         "mode": "markers",
         "name": "B",
         "text": "",
         "type": "scatter",
         "x": [
          -1.7283455634015321,
          0.7922665076440077,
          0.3327252928057696,
          -0.8646777098209107,
          -0.5533280925795223,
          -0.7426238658744095,
          -0.6321761148537716,
          0.23147476775382012,
          -0.20636980974607427,
          -0.8524000612482501,
          1.6127960625700868,
          -1.2494970560420666,
          2.117783435195244,
          -1.4261041758635733,
          -0.8427016784683329,
          -0.41215725897321814,
          1.482039530159061,
          -0.8294156366297977,
          -1.7444749996017128,
          -1.1463065894063043,
          -0.23140954513387316,
          0.04924343091891973,
          -0.7911997067028309,
          0.2542396734334467,
          -0.42101767485548325,
          0.0343237840568151,
          0.016933566682258896,
          1.3545581510054157,
          0.4476058590792905,
          0.22846633647061299,
          -0.6360477412520456,
          0.3247900932617839,
          -0.13851588260334996,
          0.19749265328712912,
          0.2551145633023773,
          -0.6318291814297596,
          -0.05162998288644609,
          0.29304285314602707,
          0.6519757198392621,
          0.362920745861988,
          2.3164946789860945,
          3.0661980875647856,
          -0.2963504023189624,
          -0.8127184586877536,
          -2.2064787773448824,
          -0.7134226445069347,
          -0.043722477341506236,
          -0.7139044754895482,
          -0.538276291943493,
          1.4108829924568982,
          1.251182397487324,
          0.17089238880915805,
          0.07540264426533289,
          0.19832996717543896,
          0.056562449238566036,
          0.7629953537674873,
          0.6954930495616684,
          0.8775097179137081,
          0.4712989663064789,
          0.7950901130031898,
          -0.42165087555391284,
          -1.341972307314644,
          -0.26419586310475707,
          1.2067552694961743,
          -1.107541927537456,
          0.30012534153536796,
          0.8901680688026227,
          0.7432940876917533,
          -0.5969048140606085,
          -1.1202383151916753,
          0.09471779691404093,
          -0.47167306445998836,
          -1.3923362588099217,
          0.714730829804552,
          0.1628551757050395,
          2.850378514067846,
          -0.5917785616485799,
          0.7138285756081543,
          0.5268855062743794,
          0.07111881361464277,
          -0.5760903855312549,
          -0.860973377436933,
          -1.058674135434395,
          0.18239213480830674,
          1.4508107303228437,
          0.8075923242860772,
          -1.062296403867526,
          0.49907103447837614,
          -0.4316824341811029,
          -0.6290765911934332,
          -0.9120857969862319,
          -0.23865807635605688,
          0.3266174181627085,
          -0.06769282445930531,
          -0.15757269703186888,
          1.0894928964241457,
          1.0508563645876903,
          0.1780094976605929,
          1.218131315660249,
          0.38432102125585577
         ],
         "xaxis": "x8",
         "y": [
          -1.0899935075648546,
          -0.3283429263413677,
          0.9249715866272701,
          2.265847442190619,
          -1.9679748652286901,
          0.3522242836497475,
          -0.7922871395287938,
          -0.9258406713634908,
          0.8115272195253244,
          -1.477270976719303,
          0.1618159952438024,
          -0.4331539457009914,
          0.039311567111366276,
          -0.02441439939200614,
          0.6172117332234927,
          -2.340081944963553,
          3.1702114209761914,
          -0.36332764722503386,
          -0.4907725595838416,
          0.7908863334448771,
          -1.3709915008208202,
          0.5630076301719508,
          -0.08132772990151602,
          0.23855039987494617,
          -0.36783653113759457,
          -2.0583162396779198,
          0.41011426019927305,
          0.7360262123316557,
          0.8578455480892391,
          0.6692212126530874,
          -0.29193924207135413,
          -0.010428464535667108,
          0.5827342576436385,
          0.8631295668999309,
          -0.3887628842023507,
          0.5621355659822822,
          0.41242643202681245,
          0.5400452510501995,
          -0.8622450348007333,
          0.8373961616003691,
          0.7075403616234199,
          1.50682059694962,
          -0.8579989529337081,
          1.966217498627032,
          -0.8842888279114438,
          -0.14063222009410747,
          0.1560775565914649,
          -1.0318998613338433,
          0.6938332181045966,
          0.34902727031895114,
          -1.2083396070051455,
          2.2505048443521325,
          1.4625590755465416,
          -0.7392605820861616,
          1.290122175953878,
          0.03743177695407034,
          0.15447966905151658,
          -0.5941001153821971,
          0.41401637666917435,
          0.43185474659107764,
          -0.48564289964242224,
          0.2120732808572052,
          -1.2176504747328385,
          -0.15447459880849224,
          0.04952072542198867,
          0.016467999256636306,
          -0.5074883377420486,
          0.2853198976723749,
          1.617705760844643,
          1.677555201770505,
          0.27528939747803033,
          1.2810400539729732,
          -0.33070951242102525,
          1.044671936262385,
          0.07747716330923368,
          0.3114697652518498,
          -1.156964461310973,
          0.7046737117632361,
          0.17166399704921553,
          0.046391761412236276,
          2.0237011484840295,
          1.0508124503427356,
          0.7633037621767298,
          0.910230795208631,
          -0.6860382779231162,
          0.8414355798852678,
          0.20068154971940383,
          -0.43766497984189995,
          -1.4456137666739453,
          0.04206249677159624,
          -1.7378780010870498,
          0.3317607911741303,
          -0.3960625890982911,
          0.20891188425239193,
          1.7533600297381258,
          -0.5744757529482349,
          -1.2890173304854928,
          -0.8397499635573618,
          -0.2703194128703838,
          0.4006493372053976
         ],
         "yaxis": "y8"
        },
        {
         "line": {
          "color": "rgba(128, 128, 128, 1.0)",
          "dash": "solid",
          "shape": "linear",
          "width": 1.3
         },
         "marker": {
          "size": 2,
          "symbol": "circle"
         },
         "mode": "markers",
         "name": "C",
         "text": "",
         "type": "scatter",
         "x": [
          0.20858928925374165,
          -0.4342659365804992,
          0.15224425972204558,
          -1.4076364859048878,
          -1.8787133030357686,
          1.1141016130474,
          -0.014856903124838405,
          2.2980934492830407,
          -0.04537892657460305,
          0.37251593394002713,
          1.3160112807008706,
          -0.17426433245318806,
          -1.0676051347476219,
          0.35048603503154846,
          1.3995954370148027,
          0.31417325524307427,
          -0.03901252898133603,
          -0.7815522712797063,
          -1.4657470354223352,
          -0.10963875683423577,
          0.3414618118686473,
          1.8556025363714947,
          0.3857059012861465,
          0.9980034374445319,
          1.2369036414452386,
          -2.2112045923282877,
          -0.8039465980537963,
          1.2501257231512457,
          0.28072647683673607,
          0.8479650419673018,
          0.821856776990302,
          0.33703944666886576,
          0.2994135796999949,
          -1.0020739050520817,
          1.0492375923262964,
          1.4499683923774385,
          0.6771778865444542,
          -1.174173436607878,
          0.9380903401986462,
          0.7830429803693706,
          1.5612080447999004,
          -0.689867946889579,
          -0.012595428200974368,
          -0.07720029034540583,
          1.4459983734283515,
          -0.9818107095001324,
          1.192692753425027,
          -0.0427350127227039,
          -0.770256799555548,
          -2.325516663796394,
          -0.6431928762709359,
          0.3153997366164689,
          0.3874379394644579,
          1.039847925443799,
          -0.9392276561472361,
          0.030043034312859172,
          1.1374541985603328,
          -0.6299169960910088,
          -0.9632572236552438,
          0.46429902371477966,
          -0.21188270820025484,
          -1.071565489388745,
          -0.18972067388602754,
          -1.2528521719399608,
          0.15881994888242676,
          -0.0378086230861681,
          1.1167572500107146,
          0.0006074965995330983,
          -0.15191943738908428,
          1.55982623930444,
          0.6060812113709677,
          0.07197403153804605,
          -0.1892256296041631,
          0.3744916234702504,
          0.5371723431024327,
          0.3056813222755168,
          3.2724431765187476,
          0.5606360026261016,
          0.0797615201136642,
          2.1426154923643996,
          0.595063512231104,
          -2.0077243015777624,
          -1.3920962454797994,
          -1.496551961908376,
          0.7760365739615019,
          0.8822518019486779,
          1.0019935837931249,
          -0.6634189590571933,
          0.07849718855217555,
          0.059596466005808625,
          1.075688755634055,
          1.9898092690768672,
          0.05738664500122117,
          -1.1337520231610325,
          -0.25843487309297164,
          0.4268716302195559,
          -2.323477988994405,
          1.8390982353041838,
          1.2639675884889168,
          1.654235242842938
         ],
         "xaxis": "x9",
         "y": [
          -0.6050978556691786,
          -0.9035483715588414,
          1.3999062316779856,
          0.20326625575656562,
          0.7748660360296203,
          1.382118835963103,
          -0.3449663271423684,
          -0.3125784862581155,
          -0.3921021582767679,
          -0.4672365319648652,
          -0.9176971919965744,
          -0.9407683863484179,
          -0.02051094093615628,
          -0.4845090081884112,
          -0.9027760486508982,
          0.45408000372627855,
          1.7797168946307709,
          -0.849954913019187,
          -0.9497738918589689,
          1.115584553680479,
          0.47623968737877737,
          0.6777243804013798,
          -2.423385402585716,
          -0.05998903497391833,
          0.9528474830183917,
          1.9451072560078173,
          -0.7205616932622801,
          0.24869698730886125,
          0.12593843046885547,
          -0.7613039250440969,
          -1.1934815064129642,
          0.32847093291618723,
          0.03042686379748063,
          0.3638589261743581,
          0.8672123584073379,
          -0.5191918572545234,
          0.045873495741145395,
          -0.4991378312981569,
          0.4760864075563409,
          2.133103606272648,
          -1.6368622660538275,
          -0.8647663574169911,
          -0.2386827785058121,
          0.6514580767202643,
          -2.39366962919686,
          0.7847164416846397,
          1.4776485033235072,
          -0.8468678129426838,
          -0.1399453487715599,
          -1.4576847799303292,
          -0.16729265391285816,
          0.8104599304351691,
          0.44724150958933034,
          -0.239863791295954,
          -0.39865955278054077,
          0.392382842023195,
          0.21053559716010317,
          -0.7026716843649459,
          0.20157416306770357,
          -1.2431794473942575,
          0.9913120029212691,
          -0.17674562111069766,
          -0.8865370921684598,
          1.2678131780640376,
          0.6474985704541698,
          -0.675859866962432,
          2.2130088393476632,
          -0.8751745286308837,
          -0.7309748412210775,
          -0.7061573864067572,
          1.7191649168663734,
          -0.90654523833935,
          0.9234141064550748,
          -1.006326053603848,
          -0.15565505313829398,
          1.258680446450928,
          -0.82459549301541,
          -0.6941048482250396,
          -1.1526300782529277,
          -1.9408024035122222,
          -0.7066046066198953,
          -0.13820084983001243,
          0.33007567967062035,
          0.20516895683465802,
          0.7541000686165579,
          -0.3309113870390968,
          -0.4936760267518312,
          2.572271277233446,
          -0.02605875203151911,
          0.08045314789924392,
          0.1584800938610056,
          0.6803979387509251,
          -1.3445148460765042,
          1.3938329499040125,
          -0.799184564003873,
          -1.4607223497438997,
          -0.9460192341940437,
          -1.4607146767131882,
          0.33623646045912176,
          0.3717802061751832
         ],
         "yaxis": "y9"
        },
        {
         "line": {
          "color": "rgba(128, 128, 128, 1.0)",
          "dash": "solid",
          "shape": "linear",
          "width": 1.3
         },
         "marker": {
          "size": 2,
          "symbol": "circle"
         },
         "mode": "markers",
         "name": "C",
         "text": "",
         "type": "scatter",
         "x": [
          -1.0899935075648546,
          -0.3283429263413677,
          0.9249715866272701,
          2.265847442190619,
          -1.9679748652286901,
          0.3522242836497475,
          -0.7922871395287938,
          -0.9258406713634908,
          0.8115272195253244,
          -1.477270976719303,
          0.1618159952438024,
          -0.4331539457009914,
          0.039311567111366276,
          -0.02441439939200614,
          0.6172117332234927,
          -2.340081944963553,
          3.1702114209761914,
          -0.36332764722503386,
          -0.4907725595838416,
          0.7908863334448771,
          -1.3709915008208202,
          0.5630076301719508,
          -0.08132772990151602,
          0.23855039987494617,
          -0.36783653113759457,
          -2.0583162396779198,
          0.41011426019927305,
          0.7360262123316557,
          0.8578455480892391,
          0.6692212126530874,
          -0.29193924207135413,
          -0.010428464535667108,
          0.5827342576436385,
          0.8631295668999309,
          -0.3887628842023507,
          0.5621355659822822,
          0.41242643202681245,
          0.5400452510501995,
          -0.8622450348007333,
          0.8373961616003691,
          0.7075403616234199,
          1.50682059694962,
          -0.8579989529337081,
          1.966217498627032,
          -0.8842888279114438,
          -0.14063222009410747,
          0.1560775565914649,
          -1.0318998613338433,
          0.6938332181045966,
          0.34902727031895114,
          -1.2083396070051455,
          2.2505048443521325,
          1.4625590755465416,
          -0.7392605820861616,
          1.290122175953878,
          0.03743177695407034,
          0.15447966905151658,
          -0.5941001153821971,
          0.41401637666917435,
          0.43185474659107764,
          -0.48564289964242224,
          0.2120732808572052,
          -1.2176504747328385,
          -0.15447459880849224,
          0.04952072542198867,
          0.016467999256636306,
          -0.5074883377420486,
          0.2853198976723749,
          1.617705760844643,
          1.677555201770505,
          0.27528939747803033,
          1.2810400539729732,
          -0.33070951242102525,
          1.044671936262385,
          0.07747716330923368,
          0.3114697652518498,
          -1.156964461310973,
          0.7046737117632361,
          0.17166399704921553,
          0.046391761412236276,
          2.0237011484840295,
          1.0508124503427356,
          0.7633037621767298,
          0.910230795208631,
          -0.6860382779231162,
          0.8414355798852678,
          0.20068154971940383,
          -0.43766497984189995,
          -1.4456137666739453,
          0.04206249677159624,
          -1.7378780010870498,
          0.3317607911741303,
          -0.3960625890982911,
          0.20891188425239193,
          1.7533600297381258,
          -0.5744757529482349,
          -1.2890173304854928,
          -0.8397499635573618,
          -0.2703194128703838,
          0.4006493372053976
         ],
         "xaxis": "x10",
         "y": [
          -0.6050978556691786,
          -0.9035483715588414,
          1.3999062316779856,
          0.20326625575656562,
          0.7748660360296203,
          1.382118835963103,
          -0.3449663271423684,
          -0.3125784862581155,
          -0.3921021582767679,
          -0.4672365319648652,
          -0.9176971919965744,
          -0.9407683863484179,
          -0.02051094093615628,
          -0.4845090081884112,
          -0.9027760486508982,
          0.45408000372627855,
          1.7797168946307709,
          -0.849954913019187,
          -0.9497738918589689,
          1.115584553680479,
          0.47623968737877737,
          0.6777243804013798,
          -2.423385402585716,
          -0.05998903497391833,
          0.9528474830183917,
          1.9451072560078173,
          -0.7205616932622801,
          0.24869698730886125,
          0.12593843046885547,
          -0.7613039250440969,
          -1.1934815064129642,
          0.32847093291618723,
          0.03042686379748063,
          0.3638589261743581,
          0.8672123584073379,
          -0.5191918572545234,
          0.045873495741145395,
          -0.4991378312981569,
          0.4760864075563409,
          2.133103606272648,
          -1.6368622660538275,
          -0.8647663574169911,
          -0.2386827785058121,
          0.6514580767202643,
          -2.39366962919686,
          0.7847164416846397,
          1.4776485033235072,
          -0.8468678129426838,
          -0.1399453487715599,
          -1.4576847799303292,
          -0.16729265391285816,
          0.8104599304351691,
          0.44724150958933034,
          -0.239863791295954,
          -0.39865955278054077,
          0.392382842023195,
          0.21053559716010317,
          -0.7026716843649459,
          0.20157416306770357,
          -1.2431794473942575,
          0.9913120029212691,
          -0.17674562111069766,
          -0.8865370921684598,
          1.2678131780640376,
          0.6474985704541698,
          -0.675859866962432,
          2.2130088393476632,
          -0.8751745286308837,
          -0.7309748412210775,
          -0.7061573864067572,
          1.7191649168663734,
          -0.90654523833935,
          0.9234141064550748,
          -1.006326053603848,
          -0.15565505313829398,
          1.258680446450928,
          -0.82459549301541,
          -0.6941048482250396,
          -1.1526300782529277,
          -1.9408024035122222,
          -0.7066046066198953,
          -0.13820084983001243,
          0.33007567967062035,
          0.20516895683465802,
          0.7541000686165579,
          -0.3309113870390968,
          -0.4936760267518312,
          2.572271277233446,
          -0.02605875203151911,
          0.08045314789924392,
          0.1584800938610056,
          0.6803979387509251,
          -1.3445148460765042,
          1.3938329499040125,
          -0.799184564003873,
          -1.4607223497438997,
          -0.9460192341940437,
          -1.4607146767131882,
          0.33623646045912176,
          0.3717802061751832
         ],
         "yaxis": "y10"
        },
        {
         "histfunc": "count",
         "histnorm": "",
         "marker": {
          "color": "rgba(50, 171, 96, 1.0)",
          "line": {
           "color": "#4D5663",
           "width": 1.3
          }
         },
         "name": "C",
         "nbinsx": 10,
         "opacity": 0.8,
         "orientation": "v",
         "type": "histogram",
         "x": [
          -0.6050978556691786,
          -0.9035483715588414,
          1.3999062316779856,
          0.20326625575656562,
          0.7748660360296203,
          1.382118835963103,
          -0.3449663271423684,
          -0.3125784862581155,
          -0.3921021582767679,
          -0.4672365319648652,
          -0.9176971919965744,
          -0.9407683863484179,
          -0.02051094093615628,
          -0.4845090081884112,
          -0.9027760486508982,
          0.45408000372627855,
          1.7797168946307709,
          -0.849954913019187,
          -0.9497738918589689,
          1.115584553680479,
          0.47623968737877737,
          0.6777243804013798,
          -2.423385402585716,
          -0.05998903497391833,
          0.9528474830183917,
          1.9451072560078173,
          -0.7205616932622801,
          0.24869698730886125,
          0.12593843046885547,
          -0.7613039250440969,
          -1.1934815064129642,
          0.32847093291618723,
          0.03042686379748063,
          0.3638589261743581,
          0.8672123584073379,
          -0.5191918572545234,
          0.045873495741145395,
          -0.4991378312981569,
          0.4760864075563409,
          2.133103606272648,
          -1.6368622660538275,
          -0.8647663574169911,
          -0.2386827785058121,
          0.6514580767202643,
          -2.39366962919686,
          0.7847164416846397,
          1.4776485033235072,
          -0.8468678129426838,
          -0.1399453487715599,
          -1.4576847799303292,
          -0.16729265391285816,
          0.8104599304351691,
          0.44724150958933034,
          -0.239863791295954,
          -0.39865955278054077,
          0.392382842023195,
          0.21053559716010317,
          -0.7026716843649459,
          0.20157416306770357,
          -1.2431794473942575,
          0.9913120029212691,
          -0.17674562111069766,
          -0.8865370921684598,
          1.2678131780640376,
          0.6474985704541698,
          -0.675859866962432,
          2.2130088393476632,
          -0.8751745286308837,
          -0.7309748412210775,
          -0.7061573864067572,
          1.7191649168663734,
          -0.90654523833935,
          0.9234141064550748,
          -1.006326053603848,
          -0.15565505313829398,
          1.258680446450928,
          -0.82459549301541,
          -0.6941048482250396,
          -1.1526300782529277,
          -1.9408024035122222,
          -0.7066046066198953,
          -0.13820084983001243,
          0.33007567967062035,
          0.20516895683465802,
          0.7541000686165579,
          -0.3309113870390968,
          -0.4936760267518312,
          2.572271277233446,
          -0.02605875203151911,
          0.08045314789924392,
          0.1584800938610056,
          0.6803979387509251,
          -1.3445148460765042,
          1.3938329499040125,
          -0.799184564003873,
          -1.4607223497438997,
          -0.9460192341940437,
          -1.4607146767131882,
          0.33623646045912176,
          0.3717802061751832
         ],
         "xaxis": "x11",
         "yaxis": "y11"
        },
        {
         "line": {
          "color": "rgba(128, 128, 128, 1.0)",
          "dash": "solid",
          "shape": "linear",
          "width": 1.3
         },
         "marker": {
          "size": 2,
          "symbol": "circle"
         },
         "mode": "markers",
         "name": "C",
         "text": "",
         "type": "scatter",
         "x": [
          -1.7283455634015321,
          0.7922665076440077,
          0.3327252928057696,
          -0.8646777098209107,
          -0.5533280925795223,
          -0.7426238658744095,
          -0.6321761148537716,
          0.23147476775382012,
          -0.20636980974607427,
          -0.8524000612482501,
          1.6127960625700868,
          -1.2494970560420666,
          2.117783435195244,
          -1.4261041758635733,
          -0.8427016784683329,
          -0.41215725897321814,
          1.482039530159061,
          -0.8294156366297977,
          -1.7444749996017128,
          -1.1463065894063043,
          -0.23140954513387316,
          0.04924343091891973,
          -0.7911997067028309,
          0.2542396734334467,
          -0.42101767485548325,
          0.0343237840568151,
          0.016933566682258896,
          1.3545581510054157,
          0.4476058590792905,
          0.22846633647061299,
          -0.6360477412520456,
          0.3247900932617839,
          -0.13851588260334996,
          0.19749265328712912,
          0.2551145633023773,
          -0.6318291814297596,
          -0.05162998288644609,
          0.29304285314602707,
          0.6519757198392621,
          0.362920745861988,
          2.3164946789860945,
          3.0661980875647856,
          -0.2963504023189624,
          -0.8127184586877536,
          -2.2064787773448824,
          -0.7134226445069347,
          -0.043722477341506236,
          -0.7139044754895482,
          -0.538276291943493,
          1.4108829924568982,
          1.251182397487324,
          0.17089238880915805,
          0.07540264426533289,
          0.19832996717543896,
          0.056562449238566036,
          0.7629953537674873,
          0.6954930495616684,
          0.8775097179137081,
          0.4712989663064789,
          0.7950901130031898,
          -0.42165087555391284,
          -1.341972307314644,
          -0.26419586310475707,
          1.2067552694961743,
          -1.107541927537456,
          0.30012534153536796,
          0.8901680688026227,
          0.7432940876917533,
          -0.5969048140606085,
          -1.1202383151916753,
          0.09471779691404093,
          -0.47167306445998836,
          -1.3923362588099217,
          0.714730829804552,
          0.1628551757050395,
          2.850378514067846,
          -0.5917785616485799,
          0.7138285756081543,
          0.5268855062743794,
          0.07111881361464277,
          -0.5760903855312549,
          -0.860973377436933,
          -1.058674135434395,
          0.18239213480830674,
          1.4508107303228437,
          0.8075923242860772,
          -1.062296403867526,
          0.49907103447837614,
          -0.4316824341811029,
          -0.6290765911934332,
          -0.9120857969862319,
          -0.23865807635605688,
          0.3266174181627085,
          -0.06769282445930531,
          -0.15757269703186888,
          1.0894928964241457,
          1.0508563645876903,
          0.1780094976605929,
          1.218131315660249,
          0.38432102125585577
         ],
         "xaxis": "x12",
         "y": [
          -0.6050978556691786,
          -0.9035483715588414,
          1.3999062316779856,
          0.20326625575656562,
          0.7748660360296203,
          1.382118835963103,
          -0.3449663271423684,
          -0.3125784862581155,
          -0.3921021582767679,
          -0.4672365319648652,
          -0.9176971919965744,
          -0.9407683863484179,
          -0.02051094093615628,
          -0.4845090081884112,
          -0.9027760486508982,
          0.45408000372627855,
          1.7797168946307709,
          -0.849954913019187,
          -0.9497738918589689,
          1.115584553680479,
          0.47623968737877737,
          0.6777243804013798,
          -2.423385402585716,
          -0.05998903497391833,
          0.9528474830183917,
          1.9451072560078173,
          -0.7205616932622801,
          0.24869698730886125,
          0.12593843046885547,
          -0.7613039250440969,
          -1.1934815064129642,
          0.32847093291618723,
          0.03042686379748063,
          0.3638589261743581,
          0.8672123584073379,
          -0.5191918572545234,
          0.045873495741145395,
          -0.4991378312981569,
          0.4760864075563409,
          2.133103606272648,
          -1.6368622660538275,
          -0.8647663574169911,
          -0.2386827785058121,
          0.6514580767202643,
          -2.39366962919686,
          0.7847164416846397,
          1.4776485033235072,
          -0.8468678129426838,
          -0.1399453487715599,
          -1.4576847799303292,
          -0.16729265391285816,
          0.8104599304351691,
          0.44724150958933034,
          -0.239863791295954,
          -0.39865955278054077,
          0.392382842023195,
          0.21053559716010317,
          -0.7026716843649459,
          0.20157416306770357,
          -1.2431794473942575,
          0.9913120029212691,
          -0.17674562111069766,
          -0.8865370921684598,
          1.2678131780640376,
          0.6474985704541698,
          -0.675859866962432,
          2.2130088393476632,
          -0.8751745286308837,
          -0.7309748412210775,
          -0.7061573864067572,
          1.7191649168663734,
          -0.90654523833935,
          0.9234141064550748,
          -1.006326053603848,
          -0.15565505313829398,
          1.258680446450928,
          -0.82459549301541,
          -0.6941048482250396,
          -1.1526300782529277,
          -1.9408024035122222,
          -0.7066046066198953,
          -0.13820084983001243,
          0.33007567967062035,
          0.20516895683465802,
          0.7541000686165579,
          -0.3309113870390968,
          -0.4936760267518312,
          2.572271277233446,
          -0.02605875203151911,
          0.08045314789924392,
          0.1584800938610056,
          0.6803979387509251,
          -1.3445148460765042,
          1.3938329499040125,
          -0.799184564003873,
          -1.4607223497438997,
          -0.9460192341940437,
          -1.4607146767131882,
          0.33623646045912176,
          0.3717802061751832
         ],
         "yaxis": "y12"
        },
        {
         "line": {
          "color": "rgba(128, 128, 128, 1.0)",
          "dash": "solid",
          "shape": "linear",
          "width": 1.3
         },
         "marker": {
          "size": 2,
          "symbol": "circle"
         },
         "mode": "markers",
         "name": "D",
         "text": "",
         "type": "scatter",
         "x": [
          0.20858928925374165,
          -0.4342659365804992,
          0.15224425972204558,
          -1.4076364859048878,
          -1.8787133030357686,
          1.1141016130474,
          -0.014856903124838405,
          2.2980934492830407,
          -0.04537892657460305,
          0.37251593394002713,
          1.3160112807008706,
          -0.17426433245318806,
          -1.0676051347476219,
          0.35048603503154846,
          1.3995954370148027,
          0.31417325524307427,
          -0.03901252898133603,
          -0.7815522712797063,
          -1.4657470354223352,
          -0.10963875683423577,
          0.3414618118686473,
          1.8556025363714947,
          0.3857059012861465,
          0.9980034374445319,
          1.2369036414452386,
          -2.2112045923282877,
          -0.8039465980537963,
          1.2501257231512457,
          0.28072647683673607,
          0.8479650419673018,
          0.821856776990302,
          0.33703944666886576,
          0.2994135796999949,
          -1.0020739050520817,
          1.0492375923262964,
          1.4499683923774385,
          0.6771778865444542,
          -1.174173436607878,
          0.9380903401986462,
          0.7830429803693706,
          1.5612080447999004,
          -0.689867946889579,
          -0.012595428200974368,
          -0.07720029034540583,
          1.4459983734283515,
          -0.9818107095001324,
          1.192692753425027,
          -0.0427350127227039,
          -0.770256799555548,
          -2.325516663796394,
          -0.6431928762709359,
          0.3153997366164689,
          0.3874379394644579,
          1.039847925443799,
          -0.9392276561472361,
          0.030043034312859172,
          1.1374541985603328,
          -0.6299169960910088,
          -0.9632572236552438,
          0.46429902371477966,
          -0.21188270820025484,
          -1.071565489388745,
          -0.18972067388602754,
          -1.2528521719399608,
          0.15881994888242676,
          -0.0378086230861681,
          1.1167572500107146,
          0.0006074965995330983,
          -0.15191943738908428,
          1.55982623930444,
          0.6060812113709677,
          0.07197403153804605,
          -0.1892256296041631,
          0.3744916234702504,
          0.5371723431024327,
          0.3056813222755168,
          3.2724431765187476,
          0.5606360026261016,
          0.0797615201136642,
          2.1426154923643996,
          0.595063512231104,
          -2.0077243015777624,
          -1.3920962454797994,
          -1.496551961908376,
          0.7760365739615019,
          0.8822518019486779,
          1.0019935837931249,
          -0.6634189590571933,
          0.07849718855217555,
          0.059596466005808625,
          1.075688755634055,
          1.9898092690768672,
          0.05738664500122117,
          -1.1337520231610325,
          -0.25843487309297164,
          0.4268716302195559,
          -2.323477988994405,
          1.8390982353041838,
          1.2639675884889168,
          1.654235242842938
         ],
         "xaxis": "x13",
         "y": [
          -1.7283455634015321,
          0.7922665076440077,
          0.3327252928057696,
          -0.8646777098209107,
          -0.5533280925795223,
          -0.7426238658744095,
          -0.6321761148537716,
          0.23147476775382012,
          -0.20636980974607427,
          -0.8524000612482501,
          1.6127960625700868,
          -1.2494970560420666,
          2.117783435195244,
          -1.4261041758635733,
          -0.8427016784683329,
          -0.41215725897321814,
          1.482039530159061,
          -0.8294156366297977,
          -1.7444749996017128,
          -1.1463065894063043,
          -0.23140954513387316,
          0.04924343091891973,
          -0.7911997067028309,
          0.2542396734334467,
          -0.42101767485548325,
          0.0343237840568151,
          0.016933566682258896,
          1.3545581510054157,
          0.4476058590792905,
          0.22846633647061299,
          -0.6360477412520456,
          0.3247900932617839,
          -0.13851588260334996,
          0.19749265328712912,
          0.2551145633023773,
          -0.6318291814297596,
          -0.05162998288644609,
          0.29304285314602707,
          0.6519757198392621,
          0.362920745861988,
          2.3164946789860945,
          3.0661980875647856,
          -0.2963504023189624,
          -0.8127184586877536,
          -2.2064787773448824,
          -0.7134226445069347,
          -0.043722477341506236,
          -0.7139044754895482,
          -0.538276291943493,
          1.4108829924568982,
          1.251182397487324,
          0.17089238880915805,
          0.07540264426533289,
          0.19832996717543896,
          0.056562449238566036,
          0.7629953537674873,
          0.6954930495616684,
          0.8775097179137081,
          0.4712989663064789,
          0.7950901130031898,
          -0.42165087555391284,
          -1.341972307314644,
          -0.26419586310475707,
          1.2067552694961743,
          -1.107541927537456,
          0.30012534153536796,
          0.8901680688026227,
          0.7432940876917533,
          -0.5969048140606085,
          -1.1202383151916753,
          0.09471779691404093,
          -0.47167306445998836,
          -1.3923362588099217,
          0.714730829804552,
          0.1628551757050395,
          2.850378514067846,
          -0.5917785616485799,
          0.7138285756081543,
          0.5268855062743794,
          0.07111881361464277,
          -0.5760903855312549,
          -0.860973377436933,
          -1.058674135434395,
          0.18239213480830674,
          1.4508107303228437,
          0.8075923242860772,
          -1.062296403867526,
          0.49907103447837614,
          -0.4316824341811029,
          -0.6290765911934332,
          -0.9120857969862319,
          -0.23865807635605688,
          0.3266174181627085,
          -0.06769282445930531,
          -0.15757269703186888,
          1.0894928964241457,
          1.0508563645876903,
          0.1780094976605929,
          1.218131315660249,
          0.38432102125585577
         ],
         "yaxis": "y13"
        },
        {
         "line": {
          "color": "rgba(128, 128, 128, 1.0)",
          "dash": "solid",
          "shape": "linear",
          "width": 1.3
         },
         "marker": {
          "size": 2,
          "symbol": "circle"
         },
         "mode": "markers",
         "name": "D",
         "text": "",
         "type": "scatter",
         "x": [
          -1.0899935075648546,
          -0.3283429263413677,
          0.9249715866272701,
          2.265847442190619,
          -1.9679748652286901,
          0.3522242836497475,
          -0.7922871395287938,
          -0.9258406713634908,
          0.8115272195253244,
          -1.477270976719303,
          0.1618159952438024,
          -0.4331539457009914,
          0.039311567111366276,
          -0.02441439939200614,
          0.6172117332234927,
          -2.340081944963553,
          3.1702114209761914,
          -0.36332764722503386,
          -0.4907725595838416,
          0.7908863334448771,
          -1.3709915008208202,
          0.5630076301719508,
          -0.08132772990151602,
          0.23855039987494617,
          -0.36783653113759457,
          -2.0583162396779198,
          0.41011426019927305,
          0.7360262123316557,
          0.8578455480892391,
          0.6692212126530874,
          -0.29193924207135413,
          -0.010428464535667108,
          0.5827342576436385,
          0.8631295668999309,
          -0.3887628842023507,
          0.5621355659822822,
          0.41242643202681245,
          0.5400452510501995,
          -0.8622450348007333,
          0.8373961616003691,
          0.7075403616234199,
          1.50682059694962,
          -0.8579989529337081,
          1.966217498627032,
          -0.8842888279114438,
          -0.14063222009410747,
          0.1560775565914649,
          -1.0318998613338433,
          0.6938332181045966,
          0.34902727031895114,
          -1.2083396070051455,
          2.2505048443521325,
          1.4625590755465416,
          -0.7392605820861616,
          1.290122175953878,
          0.03743177695407034,
          0.15447966905151658,
          -0.5941001153821971,
          0.41401637666917435,
          0.43185474659107764,
          -0.48564289964242224,
          0.2120732808572052,
          -1.2176504747328385,
          -0.15447459880849224,
          0.04952072542198867,
          0.016467999256636306,
          -0.5074883377420486,
          0.2853198976723749,
          1.617705760844643,
          1.677555201770505,
          0.27528939747803033,
          1.2810400539729732,
          -0.33070951242102525,
          1.044671936262385,
          0.07747716330923368,
          0.3114697652518498,
          -1.156964461310973,
          0.7046737117632361,
          0.17166399704921553,
          0.046391761412236276,
          2.0237011484840295,
          1.0508124503427356,
          0.7633037621767298,
          0.910230795208631,
          -0.6860382779231162,
          0.8414355798852678,
          0.20068154971940383,
          -0.43766497984189995,
          -1.4456137666739453,
          0.04206249677159624,
          -1.7378780010870498,
          0.3317607911741303,
          -0.3960625890982911,
          0.20891188425239193,
          1.7533600297381258,
          -0.5744757529482349,
          -1.2890173304854928,
          -0.8397499635573618,
          -0.2703194128703838,
          0.4006493372053976
         ],
         "xaxis": "x14",
         "y": [
          -1.7283455634015321,
          0.7922665076440077,
          0.3327252928057696,
          -0.8646777098209107,
          -0.5533280925795223,
          -0.7426238658744095,
          -0.6321761148537716,
          0.23147476775382012,
          -0.20636980974607427,
          -0.8524000612482501,
          1.6127960625700868,
          -1.2494970560420666,
          2.117783435195244,
          -1.4261041758635733,
          -0.8427016784683329,
          -0.41215725897321814,
          1.482039530159061,
          -0.8294156366297977,
          -1.7444749996017128,
          -1.1463065894063043,
          -0.23140954513387316,
          0.04924343091891973,
          -0.7911997067028309,
          0.2542396734334467,
          -0.42101767485548325,
          0.0343237840568151,
          0.016933566682258896,
          1.3545581510054157,
          0.4476058590792905,
          0.22846633647061299,
          -0.6360477412520456,
          0.3247900932617839,
          -0.13851588260334996,
          0.19749265328712912,
          0.2551145633023773,
          -0.6318291814297596,
          -0.05162998288644609,
          0.29304285314602707,
          0.6519757198392621,
          0.362920745861988,
          2.3164946789860945,
          3.0661980875647856,
          -0.2963504023189624,
          -0.8127184586877536,
          -2.2064787773448824,
          -0.7134226445069347,
          -0.043722477341506236,
          -0.7139044754895482,
          -0.538276291943493,
          1.4108829924568982,
          1.251182397487324,
          0.17089238880915805,
          0.07540264426533289,
          0.19832996717543896,
          0.056562449238566036,
          0.7629953537674873,
          0.6954930495616684,
          0.8775097179137081,
          0.4712989663064789,
          0.7950901130031898,
          -0.42165087555391284,
          -1.341972307314644,
          -0.26419586310475707,
          1.2067552694961743,
          -1.107541927537456,
          0.30012534153536796,
          0.8901680688026227,
          0.7432940876917533,
          -0.5969048140606085,
          -1.1202383151916753,
          0.09471779691404093,
          -0.47167306445998836,
          -1.3923362588099217,
          0.714730829804552,
          0.1628551757050395,
          2.850378514067846,
          -0.5917785616485799,
          0.7138285756081543,
          0.5268855062743794,
          0.07111881361464277,
          -0.5760903855312549,
          -0.860973377436933,
          -1.058674135434395,
          0.18239213480830674,
          1.4508107303228437,
          0.8075923242860772,
          -1.062296403867526,
          0.49907103447837614,
          -0.4316824341811029,
          -0.6290765911934332,
          -0.9120857969862319,
          -0.23865807635605688,
          0.3266174181627085,
          -0.06769282445930531,
          -0.15757269703186888,
          1.0894928964241457,
          1.0508563645876903,
          0.1780094976605929,
          1.218131315660249,
          0.38432102125585577
         ],
         "yaxis": "y14"
        },
        {
         "line": {
          "color": "rgba(128, 128, 128, 1.0)",
          "dash": "solid",
          "shape": "linear",
          "width": 1.3
         },
         "marker": {
          "size": 2,
          "symbol": "circle"
         },
         "mode": "markers",
         "name": "D",
         "text": "",
         "type": "scatter",
         "x": [
          -0.6050978556691786,
          -0.9035483715588414,
          1.3999062316779856,
          0.20326625575656562,
          0.7748660360296203,
          1.382118835963103,
          -0.3449663271423684,
          -0.3125784862581155,
          -0.3921021582767679,
          -0.4672365319648652,
          -0.9176971919965744,
          -0.9407683863484179,
          -0.02051094093615628,
          -0.4845090081884112,
          -0.9027760486508982,
          0.45408000372627855,
          1.7797168946307709,
          -0.849954913019187,
          -0.9497738918589689,
          1.115584553680479,
          0.47623968737877737,
          0.6777243804013798,
          -2.423385402585716,
          -0.05998903497391833,
          0.9528474830183917,
          1.9451072560078173,
          -0.7205616932622801,
          0.24869698730886125,
          0.12593843046885547,
          -0.7613039250440969,
          -1.1934815064129642,
          0.32847093291618723,
          0.03042686379748063,
          0.3638589261743581,
          0.8672123584073379,
          -0.5191918572545234,
          0.045873495741145395,
          -0.4991378312981569,
          0.4760864075563409,
          2.133103606272648,
          -1.6368622660538275,
          -0.8647663574169911,
          -0.2386827785058121,
          0.6514580767202643,
          -2.39366962919686,
          0.7847164416846397,
          1.4776485033235072,
          -0.8468678129426838,
          -0.1399453487715599,
          -1.4576847799303292,
          -0.16729265391285816,
          0.8104599304351691,
          0.44724150958933034,
          -0.239863791295954,
          -0.39865955278054077,
          0.392382842023195,
          0.21053559716010317,
          -0.7026716843649459,
          0.20157416306770357,
          -1.2431794473942575,
          0.9913120029212691,
          -0.17674562111069766,
          -0.8865370921684598,
          1.2678131780640376,
          0.6474985704541698,
          -0.675859866962432,
          2.2130088393476632,
          -0.8751745286308837,
          -0.7309748412210775,
          -0.7061573864067572,
          1.7191649168663734,
          -0.90654523833935,
          0.9234141064550748,
          -1.006326053603848,
          -0.15565505313829398,
          1.258680446450928,
          -0.82459549301541,
          -0.6941048482250396,
          -1.1526300782529277,
          -1.9408024035122222,
          -0.7066046066198953,
          -0.13820084983001243,
          0.33007567967062035,
          0.20516895683465802,
          0.7541000686165579,
          -0.3309113870390968,
          -0.4936760267518312,
          2.572271277233446,
          -0.02605875203151911,
          0.08045314789924392,
          0.1584800938610056,
          0.6803979387509251,
          -1.3445148460765042,
          1.3938329499040125,
          -0.799184564003873,
          -1.4607223497438997,
          -0.9460192341940437,
          -1.4607146767131882,
          0.33623646045912176,
          0.3717802061751832
         ],
         "xaxis": "x15",
         "y": [
          -1.7283455634015321,
          0.7922665076440077,
          0.3327252928057696,
          -0.8646777098209107,
          -0.5533280925795223,
          -0.7426238658744095,
          -0.6321761148537716,
          0.23147476775382012,
          -0.20636980974607427,
          -0.8524000612482501,
          1.6127960625700868,
          -1.2494970560420666,
          2.117783435195244,
          -1.4261041758635733,
          -0.8427016784683329,
          -0.41215725897321814,
          1.482039530159061,
          -0.8294156366297977,
          -1.7444749996017128,
          -1.1463065894063043,
          -0.23140954513387316,
          0.04924343091891973,
          -0.7911997067028309,
          0.2542396734334467,
          -0.42101767485548325,
          0.0343237840568151,
          0.016933566682258896,
          1.3545581510054157,
          0.4476058590792905,
          0.22846633647061299,
          -0.6360477412520456,
          0.3247900932617839,
          -0.13851588260334996,
          0.19749265328712912,
          0.2551145633023773,
          -0.6318291814297596,
          -0.05162998288644609,
          0.29304285314602707,
          0.6519757198392621,
          0.362920745861988,
          2.3164946789860945,
          3.0661980875647856,
          -0.2963504023189624,
          -0.8127184586877536,
          -2.2064787773448824,
          -0.7134226445069347,
          -0.043722477341506236,
          -0.7139044754895482,
          -0.538276291943493,
          1.4108829924568982,
          1.251182397487324,
          0.17089238880915805,
          0.07540264426533289,
          0.19832996717543896,
          0.056562449238566036,
          0.7629953537674873,
          0.6954930495616684,
          0.8775097179137081,
          0.4712989663064789,
          0.7950901130031898,
          -0.42165087555391284,
          -1.341972307314644,
          -0.26419586310475707,
          1.2067552694961743,
          -1.107541927537456,
          0.30012534153536796,
          0.8901680688026227,
          0.7432940876917533,
          -0.5969048140606085,
          -1.1202383151916753,
          0.09471779691404093,
          -0.47167306445998836,
          -1.3923362588099217,
          0.714730829804552,
          0.1628551757050395,
          2.850378514067846,
          -0.5917785616485799,
          0.7138285756081543,
          0.5268855062743794,
          0.07111881361464277,
          -0.5760903855312549,
          -0.860973377436933,
          -1.058674135434395,
          0.18239213480830674,
          1.4508107303228437,
          0.8075923242860772,
          -1.062296403867526,
          0.49907103447837614,
          -0.4316824341811029,
          -0.6290765911934332,
          -0.9120857969862319,
          -0.23865807635605688,
          0.3266174181627085,
          -0.06769282445930531,
          -0.15757269703186888,
          1.0894928964241457,
          1.0508563645876903,
          0.1780094976605929,
          1.218131315660249,
          0.38432102125585577
         ],
         "yaxis": "y15"
        },
        {
         "histfunc": "count",
         "histnorm": "",
         "marker": {
          "color": "rgba(128, 0, 128, 1.0)",
          "line": {
           "color": "#4D5663",
           "width": 1.3
          }
         },
         "name": "D",
         "nbinsx": 10,
         "opacity": 0.8,
         "orientation": "v",
         "type": "histogram",
         "x": [
          -1.7283455634015321,
          0.7922665076440077,
          0.3327252928057696,
          -0.8646777098209107,
          -0.5533280925795223,
          -0.7426238658744095,
          -0.6321761148537716,
          0.23147476775382012,
          -0.20636980974607427,
          -0.8524000612482501,
          1.6127960625700868,
          -1.2494970560420666,
          2.117783435195244,
          -1.4261041758635733,
          -0.8427016784683329,
          -0.41215725897321814,
          1.482039530159061,
          -0.8294156366297977,
          -1.7444749996017128,
          -1.1463065894063043,
          -0.23140954513387316,
          0.04924343091891973,
          -0.7911997067028309,
          0.2542396734334467,
          -0.42101767485548325,
          0.0343237840568151,
          0.016933566682258896,
          1.3545581510054157,
          0.4476058590792905,
          0.22846633647061299,
          -0.6360477412520456,
          0.3247900932617839,
          -0.13851588260334996,
          0.19749265328712912,
          0.2551145633023773,
          -0.6318291814297596,
          -0.05162998288644609,
          0.29304285314602707,
          0.6519757198392621,
          0.362920745861988,
          2.3164946789860945,
          3.0661980875647856,
          -0.2963504023189624,
          -0.8127184586877536,
          -2.2064787773448824,
          -0.7134226445069347,
          -0.043722477341506236,
          -0.7139044754895482,
          -0.538276291943493,
          1.4108829924568982,
          1.251182397487324,
          0.17089238880915805,
          0.07540264426533289,
          0.19832996717543896,
          0.056562449238566036,
          0.7629953537674873,
          0.6954930495616684,
          0.8775097179137081,
          0.4712989663064789,
          0.7950901130031898,
          -0.42165087555391284,
          -1.341972307314644,
          -0.26419586310475707,
          1.2067552694961743,
          -1.107541927537456,
          0.30012534153536796,
          0.8901680688026227,
          0.7432940876917533,
          -0.5969048140606085,
          -1.1202383151916753,
          0.09471779691404093,
          -0.47167306445998836,
          -1.3923362588099217,
          0.714730829804552,
          0.1628551757050395,
          2.850378514067846,
          -0.5917785616485799,
          0.7138285756081543,
          0.5268855062743794,
          0.07111881361464277,
          -0.5760903855312549,
          -0.860973377436933,
          -1.058674135434395,
          0.18239213480830674,
          1.4508107303228437,
          0.8075923242860772,
          -1.062296403867526,
          0.49907103447837614,
          -0.4316824341811029,
          -0.6290765911934332,
          -0.9120857969862319,
          -0.23865807635605688,
          0.3266174181627085,
          -0.06769282445930531,
          -0.15757269703186888,
          1.0894928964241457,
          1.0508563645876903,
          0.1780094976605929,
          1.218131315660249,
          0.38432102125585577
         ],
         "xaxis": "x16",
         "yaxis": "y16"
        }
       ],
       "layout": {
        "bargap": 0.02,
        "legend": {
         "bgcolor": "#F5F6F9",
         "font": {
          "color": "#4D5663"
         }
        },
        "paper_bgcolor": "#F5F6F9",
        "plot_bgcolor": "#F5F6F9",
        "showlegend": false,
        "template": {
         "data": {
          "bar": [
           {
            "error_x": {
             "color": "#2a3f5f"
            },
            "error_y": {
             "color": "#2a3f5f"
            },
            "marker": {
             "line": {
              "color": "#E5ECF6",
              "width": 0.5
             },
             "pattern": {
              "fillmode": "overlay",
              "size": 10,
              "solidity": 0.2
             }
            },
            "type": "bar"
           }
          ],
          "barpolar": [
           {
            "marker": {
             "line": {
              "color": "#E5ECF6",
              "width": 0.5
             },
             "pattern": {
              "fillmode": "overlay",
              "size": 10,
              "solidity": 0.2
             }
            },
            "type": "barpolar"
           }
          ],
          "carpet": [
           {
            "aaxis": {
             "endlinecolor": "#2a3f5f",
             "gridcolor": "white",
             "linecolor": "white",
             "minorgridcolor": "white",
             "startlinecolor": "#2a3f5f"
            },
            "baxis": {
             "endlinecolor": "#2a3f5f",
             "gridcolor": "white",
             "linecolor": "white",
             "minorgridcolor": "white",
             "startlinecolor": "#2a3f5f"
            },
            "type": "carpet"
           }
          ],
          "choropleth": [
           {
            "colorbar": {
             "outlinewidth": 0,
             "ticks": ""
            },
            "type": "choropleth"
           }
          ],
          "contour": [
           {
            "colorbar": {
             "outlinewidth": 0,
             "ticks": ""
            },
            "colorscale": [
             [
              0,
              "#0d0887"
             ],
             [
              0.1111111111111111,
              "#46039f"
             ],
             [
              0.2222222222222222,
              "#7201a8"
             ],
             [
              0.3333333333333333,
              "#9c179e"
             ],
             [
              0.4444444444444444,
              "#bd3786"
             ],
             [
              0.5555555555555556,
              "#d8576b"
             ],
             [
              0.6666666666666666,
              "#ed7953"
             ],
             [
              0.7777777777777778,
              "#fb9f3a"
             ],
             [
              0.8888888888888888,
              "#fdca26"
             ],
             [
              1,
              "#f0f921"
             ]
            ],
            "type": "contour"
           }
          ],
          "contourcarpet": [
           {
            "colorbar": {
             "outlinewidth": 0,
             "ticks": ""
            },
            "type": "contourcarpet"
           }
          ],
          "heatmap": [
           {
            "colorbar": {
             "outlinewidth": 0,
             "ticks": ""
            },
            "colorscale": [
             [
              0,
              "#0d0887"
             ],
             [
              0.1111111111111111,
              "#46039f"
             ],
             [
              0.2222222222222222,
              "#7201a8"
             ],
             [
              0.3333333333333333,
              "#9c179e"
             ],
             [
              0.4444444444444444,
              "#bd3786"
             ],
             [
              0.5555555555555556,
              "#d8576b"
             ],
             [
              0.6666666666666666,
              "#ed7953"
             ],
             [
              0.7777777777777778,
              "#fb9f3a"
             ],
             [
              0.8888888888888888,
              "#fdca26"
             ],
             [
              1,
              "#f0f921"
             ]
            ],
            "type": "heatmap"
           }
          ],
          "heatmapgl": [
           {
            "colorbar": {
             "outlinewidth": 0,
             "ticks": ""
            },
            "colorscale": [
             [
              0,
              "#0d0887"
             ],
             [
              0.1111111111111111,
              "#46039f"
             ],
             [
              0.2222222222222222,
              "#7201a8"
             ],
             [
              0.3333333333333333,
              "#9c179e"
             ],
             [
              0.4444444444444444,
              "#bd3786"
             ],
             [
              0.5555555555555556,
              "#d8576b"
             ],
             [
              0.6666666666666666,
              "#ed7953"
             ],
             [
              0.7777777777777778,
              "#fb9f3a"
             ],
             [
              0.8888888888888888,
              "#fdca26"
             ],
             [
              1,
              "#f0f921"
             ]
            ],
            "type": "heatmapgl"
           }
          ],
          "histogram": [
           {
            "marker": {
             "pattern": {
              "fillmode": "overlay",
              "size": 10,
              "solidity": 0.2
             }
            },
            "type": "histogram"
           }
          ],
          "histogram2d": [
           {
            "colorbar": {
             "outlinewidth": 0,
             "ticks": ""
            },
            "colorscale": [
             [
              0,
              "#0d0887"
             ],
             [
              0.1111111111111111,
              "#46039f"
             ],
             [
              0.2222222222222222,
              "#7201a8"
             ],
             [
              0.3333333333333333,
              "#9c179e"
             ],
             [
              0.4444444444444444,
              "#bd3786"
             ],
             [
              0.5555555555555556,
              "#d8576b"
             ],
             [
              0.6666666666666666,
              "#ed7953"
             ],
             [
              0.7777777777777778,
              "#fb9f3a"
             ],
             [
              0.8888888888888888,
              "#fdca26"
             ],
             [
              1,
              "#f0f921"
             ]
            ],
            "type": "histogram2d"
           }
          ],
          "histogram2dcontour": [
           {
            "colorbar": {
             "outlinewidth": 0,
             "ticks": ""
            },
            "colorscale": [
             [
              0,
              "#0d0887"
             ],
             [
              0.1111111111111111,
              "#46039f"
             ],
             [
              0.2222222222222222,
              "#7201a8"
             ],
             [
              0.3333333333333333,
              "#9c179e"
             ],
             [
              0.4444444444444444,
              "#bd3786"
             ],
             [
              0.5555555555555556,
              "#d8576b"
             ],
             [
              0.6666666666666666,
              "#ed7953"
             ],
             [
              0.7777777777777778,
              "#fb9f3a"
             ],
             [
              0.8888888888888888,
              "#fdca26"
             ],
             [
              1,
              "#f0f921"
             ]
            ],
            "type": "histogram2dcontour"
           }
          ],
          "mesh3d": [
           {
            "colorbar": {
             "outlinewidth": 0,
             "ticks": ""
            },
            "type": "mesh3d"
           }
          ],
          "parcoords": [
           {
            "line": {
             "colorbar": {
              "outlinewidth": 0,
              "ticks": ""
             }
            },
            "type": "parcoords"
           }
          ],
          "pie": [
           {
            "automargin": true,
            "type": "pie"
           }
          ],
          "scatter": [
           {
            "marker": {
             "colorbar": {
              "outlinewidth": 0,
              "ticks": ""
             }
            },
            "type": "scatter"
           }
          ],
          "scatter3d": [
           {
            "line": {
             "colorbar": {
              "outlinewidth": 0,
              "ticks": ""
             }
            },
            "marker": {
             "colorbar": {
              "outlinewidth": 0,
              "ticks": ""
             }
            },
            "type": "scatter3d"
           }
          ],
          "scattercarpet": [
           {
            "marker": {
             "colorbar": {
              "outlinewidth": 0,
              "ticks": ""
             }
            },
            "type": "scattercarpet"
           }
          ],
          "scattergeo": [
           {
            "marker": {
             "colorbar": {
              "outlinewidth": 0,
              "ticks": ""
             }
            },
            "type": "scattergeo"
           }
          ],
          "scattergl": [
           {
            "marker": {
             "colorbar": {
              "outlinewidth": 0,
              "ticks": ""
             }
            },
            "type": "scattergl"
           }
          ],
          "scattermapbox": [
           {
            "marker": {
             "colorbar": {
              "outlinewidth": 0,
              "ticks": ""
             }
            },
            "type": "scattermapbox"
           }
          ],
          "scatterpolar": [
           {
            "marker": {
             "colorbar": {
              "outlinewidth": 0,
              "ticks": ""
             }
            },
            "type": "scatterpolar"
           }
          ],
          "scatterpolargl": [
           {
            "marker": {
             "colorbar": {
              "outlinewidth": 0,
              "ticks": ""
             }
            },
            "type": "scatterpolargl"
           }
          ],
          "scatterternary": [
           {
            "marker": {
             "colorbar": {
              "outlinewidth": 0,
              "ticks": ""
             }
            },
            "type": "scatterternary"
           }
          ],
          "surface": [
           {
            "colorbar": {
             "outlinewidth": 0,
             "ticks": ""
            },
            "colorscale": [
             [
              0,
              "#0d0887"
             ],
             [
              0.1111111111111111,
              "#46039f"
             ],
             [
              0.2222222222222222,
              "#7201a8"
             ],
             [
              0.3333333333333333,
              "#9c179e"
             ],
             [
              0.4444444444444444,
              "#bd3786"
             ],
             [
              0.5555555555555556,
              "#d8576b"
             ],
             [
              0.6666666666666666,
              "#ed7953"
             ],
             [
              0.7777777777777778,
              "#fb9f3a"
             ],
             [
              0.8888888888888888,
              "#fdca26"
             ],
             [
              1,
              "#f0f921"
             ]
            ],
            "type": "surface"
           }
          ],
          "table": [
           {
            "cells": {
             "fill": {
              "color": "#EBF0F8"
             },
             "line": {
              "color": "white"
             }
            },
            "header": {
             "fill": {
              "color": "#C8D4E3"
             },
             "line": {
              "color": "white"
             }
            },
            "type": "table"
           }
          ]
         },
         "layout": {
          "annotationdefaults": {
           "arrowcolor": "#2a3f5f",
           "arrowhead": 0,
           "arrowwidth": 1
          },
          "autotypenumbers": "strict",
          "coloraxis": {
           "colorbar": {
            "outlinewidth": 0,
            "ticks": ""
           }
          },
          "colorscale": {
           "diverging": [
            [
             0,
             "#8e0152"
            ],
            [
             0.1,
             "#c51b7d"
            ],
            [
             0.2,
             "#de77ae"
            ],
            [
             0.3,
             "#f1b6da"
            ],
            [
             0.4,
             "#fde0ef"
            ],
            [
             0.5,
             "#f7f7f7"
            ],
            [
             0.6,
             "#e6f5d0"
            ],
            [
             0.7,
             "#b8e186"
            ],
            [
             0.8,
             "#7fbc41"
            ],
            [
             0.9,
             "#4d9221"
            ],
            [
             1,
             "#276419"
            ]
           ],
           "sequential": [
            [
             0,
             "#0d0887"
            ],
            [
             0.1111111111111111,
             "#46039f"
            ],
            [
             0.2222222222222222,
             "#7201a8"
            ],
            [
             0.3333333333333333,
             "#9c179e"
            ],
            [
             0.4444444444444444,
             "#bd3786"
            ],
            [
             0.5555555555555556,
             "#d8576b"
            ],
            [
             0.6666666666666666,
             "#ed7953"
            ],
            [
             0.7777777777777778,
             "#fb9f3a"
            ],
            [
             0.8888888888888888,
             "#fdca26"
            ],
            [
             1,
             "#f0f921"
            ]
           ],
           "sequentialminus": [
            [
             0,
             "#0d0887"
            ],
            [
             0.1111111111111111,
             "#46039f"
            ],
            [
             0.2222222222222222,
             "#7201a8"
            ],
            [
             0.3333333333333333,
             "#9c179e"
            ],
            [
             0.4444444444444444,
             "#bd3786"
            ],
            [
             0.5555555555555556,
             "#d8576b"
            ],
            [
             0.6666666666666666,
             "#ed7953"
            ],
            [
             0.7777777777777778,
             "#fb9f3a"
            ],
            [
             0.8888888888888888,
             "#fdca26"
            ],
            [
             1,
             "#f0f921"
            ]
           ]
          },
          "colorway": [
           "#636efa",
           "#EF553B",
           "#00cc96",
           "#ab63fa",
           "#FFA15A",
           "#19d3f3",
           "#FF6692",
           "#B6E880",
           "#FF97FF",
           "#FECB52"
          ],
          "font": {
           "color": "#2a3f5f"
          },
          "geo": {
           "bgcolor": "white",
           "lakecolor": "white",
           "landcolor": "#E5ECF6",
           "showlakes": true,
           "showland": true,
           "subunitcolor": "white"
          },
          "hoverlabel": {
           "align": "left"
          },
          "hovermode": "closest",
          "mapbox": {
           "style": "light"
          },
          "paper_bgcolor": "white",
          "plot_bgcolor": "#E5ECF6",
          "polar": {
           "angularaxis": {
            "gridcolor": "white",
            "linecolor": "white",
            "ticks": ""
           },
           "bgcolor": "#E5ECF6",
           "radialaxis": {
            "gridcolor": "white",
            "linecolor": "white",
            "ticks": ""
           }
          },
          "scene": {
           "xaxis": {
            "backgroundcolor": "#E5ECF6",
            "gridcolor": "white",
            "gridwidth": 2,
            "linecolor": "white",
            "showbackground": true,
            "ticks": "",
            "zerolinecolor": "white"
           },
           "yaxis": {
            "backgroundcolor": "#E5ECF6",
            "gridcolor": "white",
            "gridwidth": 2,
            "linecolor": "white",
            "showbackground": true,
            "ticks": "",
            "zerolinecolor": "white"
           },
           "zaxis": {
            "backgroundcolor": "#E5ECF6",
            "gridcolor": "white",
            "gridwidth": 2,
            "linecolor": "white",
            "showbackground": true,
            "ticks": "",
            "zerolinecolor": "white"
           }
          },
          "shapedefaults": {
           "line": {
            "color": "#2a3f5f"
           }
          },
          "ternary": {
           "aaxis": {
            "gridcolor": "white",
            "linecolor": "white",
            "ticks": ""
           },
           "baxis": {
            "gridcolor": "white",
            "linecolor": "white",
            "ticks": ""
           },
           "bgcolor": "#E5ECF6",
           "caxis": {
            "gridcolor": "white",
            "linecolor": "white",
            "ticks": ""
           }
          },
          "title": {
           "x": 0.05
          },
          "xaxis": {
           "automargin": true,
           "gridcolor": "white",
           "linecolor": "white",
           "ticks": "",
           "title": {
            "standoff": 15
           },
           "zerolinecolor": "white",
           "zerolinewidth": 2
          },
          "yaxis": {
           "automargin": true,
           "gridcolor": "white",
           "linecolor": "white",
           "ticks": "",
           "title": {
            "standoff": 15
           },
           "zerolinecolor": "white",
           "zerolinewidth": 2
          }
         }
        },
        "title": {
         "font": {
          "color": "#4D5663"
         }
        },
        "xaxis": {
         "anchor": "y",
         "domain": [
          0,
          0.2125
         ],
         "gridcolor": "#E1E5ED",
         "showgrid": false,
         "tickfont": {
          "color": "#4D5663"
         },
         "title": {
          "font": {
           "color": "#4D5663"
          },
          "text": ""
         },
         "zerolinecolor": "#E1E5ED"
        },
        "xaxis10": {
         "anchor": "y10",
         "domain": [
          0.2625,
          0.475
         ],
         "gridcolor": "#E1E5ED",
         "showgrid": false,
         "tickfont": {
          "color": "#4D5663"
         },
         "title": {
          "font": {
           "color": "#4D5663"
          },
          "text": ""
         },
         "zerolinecolor": "#E1E5ED"
        },
        "xaxis11": {
         "anchor": "y11",
         "domain": [
          0.525,
          0.7375
         ],
         "gridcolor": "#E1E5ED",
         "showgrid": false,
         "tickfont": {
          "color": "#4D5663"
         },
         "title": {
          "font": {
           "color": "#4D5663"
          },
          "text": ""
         },
         "zerolinecolor": "#E1E5ED"
        },
        "xaxis12": {
         "anchor": "y12",
         "domain": [
          0.7875,
          1
         ],
         "gridcolor": "#E1E5ED",
         "showgrid": false,
         "tickfont": {
          "color": "#4D5663"
         },
         "title": {
          "font": {
           "color": "#4D5663"
          },
          "text": ""
         },
         "zerolinecolor": "#E1E5ED"
        },
        "xaxis13": {
         "anchor": "y13",
         "domain": [
          0,
          0.2125
         ],
         "gridcolor": "#E1E5ED",
         "showgrid": false,
         "tickfont": {
          "color": "#4D5663"
         },
         "title": {
          "font": {
           "color": "#4D5663"
          },
          "text": ""
         },
         "zerolinecolor": "#E1E5ED"
        },
        "xaxis14": {
         "anchor": "y14",
         "domain": [
          0.2625,
          0.475
         ],
         "gridcolor": "#E1E5ED",
         "showgrid": false,
         "tickfont": {
          "color": "#4D5663"
         },
         "title": {
          "font": {
           "color": "#4D5663"
          },
          "text": ""
         },
         "zerolinecolor": "#E1E5ED"
        },
        "xaxis15": {
         "anchor": "y15",
         "domain": [
          0.525,
          0.7375
         ],
         "gridcolor": "#E1E5ED",
         "showgrid": false,
         "tickfont": {
          "color": "#4D5663"
         },
         "title": {
          "font": {
           "color": "#4D5663"
          },
          "text": ""
         },
         "zerolinecolor": "#E1E5ED"
        },
        "xaxis16": {
         "anchor": "y16",
         "domain": [
          0.7875,
          1
         ],
         "gridcolor": "#E1E5ED",
         "showgrid": false,
         "tickfont": {
          "color": "#4D5663"
         },
         "title": {
          "font": {
           "color": "#4D5663"
          },
          "text": ""
         },
         "zerolinecolor": "#E1E5ED"
        },
        "xaxis2": {
         "anchor": "y2",
         "domain": [
          0.2625,
          0.475
         ],
         "gridcolor": "#E1E5ED",
         "showgrid": false,
         "tickfont": {
          "color": "#4D5663"
         },
         "title": {
          "font": {
           "color": "#4D5663"
          },
          "text": ""
         },
         "zerolinecolor": "#E1E5ED"
        },
        "xaxis3": {
         "anchor": "y3",
         "domain": [
          0.525,
          0.7375
         ],
         "gridcolor": "#E1E5ED",
         "showgrid": false,
         "tickfont": {
          "color": "#4D5663"
         },
         "title": {
          "font": {
           "color": "#4D5663"
          },
          "text": ""
         },
         "zerolinecolor": "#E1E5ED"
        },
        "xaxis4": {
         "anchor": "y4",
         "domain": [
          0.7875,
          1
         ],
         "gridcolor": "#E1E5ED",
         "showgrid": false,
         "tickfont": {
          "color": "#4D5663"
         },
         "title": {
          "font": {
           "color": "#4D5663"
          },
          "text": ""
         },
         "zerolinecolor": "#E1E5ED"
        },
        "xaxis5": {
         "anchor": "y5",
         "domain": [
          0,
          0.2125
         ],
         "gridcolor": "#E1E5ED",
         "showgrid": false,
         "tickfont": {
          "color": "#4D5663"
         },
         "title": {
          "font": {
           "color": "#4D5663"
          },
          "text": ""
         },
         "zerolinecolor": "#E1E5ED"
        },
        "xaxis6": {
         "anchor": "y6",
         "domain": [
          0.2625,
          0.475
         ],
         "gridcolor": "#E1E5ED",
         "showgrid": false,
         "tickfont": {
          "color": "#4D5663"
         },
         "title": {
          "font": {
           "color": "#4D5663"
          },
          "text": ""
         },
         "zerolinecolor": "#E1E5ED"
        },
        "xaxis7": {
         "anchor": "y7",
         "domain": [
          0.525,
          0.7375
         ],
         "gridcolor": "#E1E5ED",
         "showgrid": false,
         "tickfont": {
          "color": "#4D5663"
         },
         "title": {
          "font": {
           "color": "#4D5663"
          },
          "text": ""
         },
         "zerolinecolor": "#E1E5ED"
        },
        "xaxis8": {
         "anchor": "y8",
         "domain": [
          0.7875,
          1
         ],
         "gridcolor": "#E1E5ED",
         "showgrid": false,
         "tickfont": {
          "color": "#4D5663"
         },
         "title": {
          "font": {
           "color": "#4D5663"
          },
          "text": ""
         },
         "zerolinecolor": "#E1E5ED"
        },
        "xaxis9": {
         "anchor": "y9",
         "domain": [
          0,
          0.2125
         ],
         "gridcolor": "#E1E5ED",
         "showgrid": false,
         "tickfont": {
          "color": "#4D5663"
         },
         "title": {
          "font": {
           "color": "#4D5663"
          },
          "text": ""
         },
         "zerolinecolor": "#E1E5ED"
        },
        "yaxis": {
         "anchor": "x",
         "domain": [
          0.8025,
          1
         ],
         "gridcolor": "#E1E5ED",
         "showgrid": false,
         "tickfont": {
          "color": "#4D5663"
         },
         "title": {
          "font": {
           "color": "#4D5663"
          },
          "text": ""
         },
         "zerolinecolor": "#E1E5ED"
        },
        "yaxis10": {
         "anchor": "x10",
         "domain": [
          0.2675,
          0.465
         ],
         "gridcolor": "#E1E5ED",
         "showgrid": false,
         "tickfont": {
          "color": "#4D5663"
         },
         "title": {
          "font": {
           "color": "#4D5663"
          },
          "text": ""
         },
         "zerolinecolor": "#E1E5ED"
        },
        "yaxis11": {
         "anchor": "x11",
         "domain": [
          0.2675,
          0.465
         ],
         "gridcolor": "#E1E5ED",
         "showgrid": false,
         "tickfont": {
          "color": "#4D5663"
         },
         "title": {
          "font": {
           "color": "#4D5663"
          },
          "text": ""
         },
         "zerolinecolor": "#E1E5ED"
        },
        "yaxis12": {
         "anchor": "x12",
         "domain": [
          0.2675,
          0.465
         ],
         "gridcolor": "#E1E5ED",
         "showgrid": false,
         "tickfont": {
          "color": "#4D5663"
         },
         "title": {
          "font": {
           "color": "#4D5663"
          },
          "text": ""
         },
         "zerolinecolor": "#E1E5ED"
        },
        "yaxis13": {
         "anchor": "x13",
         "domain": [
          0,
          0.1975
         ],
         "gridcolor": "#E1E5ED",
         "showgrid": false,
         "tickfont": {
          "color": "#4D5663"
         },
         "title": {
          "font": {
           "color": "#4D5663"
          },
          "text": ""
         },
         "zerolinecolor": "#E1E5ED"
        },
        "yaxis14": {
         "anchor": "x14",
         "domain": [
          0,
          0.1975
         ],
         "gridcolor": "#E1E5ED",
         "showgrid": false,
         "tickfont": {
          "color": "#4D5663"
         },
         "title": {
          "font": {
           "color": "#4D5663"
          },
          "text": ""
         },
         "zerolinecolor": "#E1E5ED"
        },
        "yaxis15": {
         "anchor": "x15",
         "domain": [
          0,
          0.1975
         ],
         "gridcolor": "#E1E5ED",
         "showgrid": false,
         "tickfont": {
          "color": "#4D5663"
         },
         "title": {
          "font": {
           "color": "#4D5663"
          },
          "text": ""
         },
         "zerolinecolor": "#E1E5ED"
        },
        "yaxis16": {
         "anchor": "x16",
         "domain": [
          0,
          0.1975
         ],
         "gridcolor": "#E1E5ED",
         "showgrid": false,
         "tickfont": {
          "color": "#4D5663"
         },
         "title": {
          "font": {
           "color": "#4D5663"
          },
          "text": ""
         },
         "zerolinecolor": "#E1E5ED"
        },
        "yaxis2": {
         "anchor": "x2",
         "domain": [
          0.8025,
          1
         ],
         "gridcolor": "#E1E5ED",
         "showgrid": false,
         "tickfont": {
          "color": "#4D5663"
         },
         "title": {
          "font": {
           "color": "#4D5663"
          },
          "text": ""
         },
         "zerolinecolor": "#E1E5ED"
        },
        "yaxis3": {
         "anchor": "x3",
         "domain": [
          0.8025,
          1
         ],
         "gridcolor": "#E1E5ED",
         "showgrid": false,
         "tickfont": {
          "color": "#4D5663"
         },
         "title": {
          "font": {
           "color": "#4D5663"
          },
          "text": ""
         },
         "zerolinecolor": "#E1E5ED"
        },
        "yaxis4": {
         "anchor": "x4",
         "domain": [
          0.8025,
          1
         ],
         "gridcolor": "#E1E5ED",
         "showgrid": false,
         "tickfont": {
          "color": "#4D5663"
         },
         "title": {
          "font": {
           "color": "#4D5663"
          },
          "text": ""
         },
         "zerolinecolor": "#E1E5ED"
        },
        "yaxis5": {
         "anchor": "x5",
         "domain": [
          0.535,
          0.7325
         ],
         "gridcolor": "#E1E5ED",
         "showgrid": false,
         "tickfont": {
          "color": "#4D5663"
         },
         "title": {
          "font": {
           "color": "#4D5663"
          },
          "text": ""
         },
         "zerolinecolor": "#E1E5ED"
        },
        "yaxis6": {
         "anchor": "x6",
         "domain": [
          0.535,
          0.7325
         ],
         "gridcolor": "#E1E5ED",
         "showgrid": false,
         "tickfont": {
          "color": "#4D5663"
         },
         "title": {
          "font": {
           "color": "#4D5663"
          },
          "text": ""
         },
         "zerolinecolor": "#E1E5ED"
        },
        "yaxis7": {
         "anchor": "x7",
         "domain": [
          0.535,
          0.7325
         ],
         "gridcolor": "#E1E5ED",
         "showgrid": false,
         "tickfont": {
          "color": "#4D5663"
         },
         "title": {
          "font": {
           "color": "#4D5663"
          },
          "text": ""
         },
         "zerolinecolor": "#E1E5ED"
        },
        "yaxis8": {
         "anchor": "x8",
         "domain": [
          0.535,
          0.7325
         ],
         "gridcolor": "#E1E5ED",
         "showgrid": false,
         "tickfont": {
          "color": "#4D5663"
         },
         "title": {
          "font": {
           "color": "#4D5663"
          },
          "text": ""
         },
         "zerolinecolor": "#E1E5ED"
        },
        "yaxis9": {
         "anchor": "x9",
         "domain": [
          0.2675,
          0.465
         ],
         "gridcolor": "#E1E5ED",
         "showgrid": false,
         "tickfont": {
          "color": "#4D5663"
         },
         "title": {
          "font": {
           "color": "#4D5663"
          },
          "text": ""
         },
         "zerolinecolor": "#E1E5ED"
        }
       }
      },
      "text/html": [
       "<div>                            <div id=\"ca6f9131-dc7b-4e16-a414-f705afb7d006\" class=\"plotly-graph-div\" style=\"height:525px; width:100%;\"></div>            <script type=\"text/javascript\">                require([\"plotly\"], function(Plotly) {                    window.PLOTLYENV=window.PLOTLYENV || {};\n",
       "                    window.PLOTLYENV.BASE_URL='https://plot.ly';                                    if (document.getElementById(\"ca6f9131-dc7b-4e16-a414-f705afb7d006\")) {                    Plotly.newPlot(                        \"ca6f9131-dc7b-4e16-a414-f705afb7d006\",                        [{\"histfunc\":\"count\",\"histnorm\":\"\",\"marker\":{\"color\":\"rgba(255, 153, 51, 1.0)\",\"line\":{\"color\":\"#4D5663\",\"width\":1.3}},\"name\":\"A\",\"nbinsx\":10,\"opacity\":0.8,\"orientation\":\"v\",\"type\":\"histogram\",\"x\":[0.20858928925374165,-0.4342659365804992,0.15224425972204558,-1.4076364859048878,-1.8787133030357686,1.1141016130474,-0.014856903124838405,2.2980934492830407,-0.04537892657460305,0.37251593394002713,1.3160112807008706,-0.17426433245318806,-1.0676051347476219,0.35048603503154846,1.3995954370148027,0.31417325524307427,-0.03901252898133603,-0.7815522712797063,-1.4657470354223352,-0.10963875683423577,0.3414618118686473,1.8556025363714947,0.3857059012861465,0.9980034374445319,1.2369036414452386,-2.2112045923282877,-0.8039465980537963,1.2501257231512457,0.28072647683673607,0.8479650419673018,0.821856776990302,0.33703944666886576,0.2994135796999949,-1.0020739050520817,1.0492375923262964,1.4499683923774385,0.6771778865444542,-1.174173436607878,0.9380903401986462,0.7830429803693706,1.5612080447999004,-0.689867946889579,-0.012595428200974368,-0.07720029034540583,1.4459983734283515,-0.9818107095001324,1.192692753425027,-0.0427350127227039,-0.770256799555548,-2.325516663796394,-0.6431928762709359,0.3153997366164689,0.3874379394644579,1.039847925443799,-0.9392276561472361,0.030043034312859172,1.1374541985603328,-0.6299169960910088,-0.9632572236552438,0.46429902371477966,-0.21188270820025484,-1.071565489388745,-0.18972067388602754,-1.2528521719399608,0.15881994888242676,-0.0378086230861681,1.1167572500107146,0.0006074965995330983,-0.15191943738908428,1.55982623930444,0.6060812113709677,0.07197403153804605,-0.1892256296041631,0.3744916234702504,0.5371723431024327,0.3056813222755168,3.2724431765187476,0.5606360026261016,0.0797615201136642,2.1426154923643996,0.595063512231104,-2.0077243015777624,-1.3920962454797994,-1.496551961908376,0.7760365739615019,0.8822518019486779,1.0019935837931249,-0.6634189590571933,0.07849718855217555,0.059596466005808625,1.075688755634055,1.9898092690768672,0.05738664500122117,-1.1337520231610325,-0.25843487309297164,0.4268716302195559,-2.323477988994405,1.8390982353041838,1.2639675884889168,1.654235242842938],\"xaxis\":\"x\",\"yaxis\":\"y\"},{\"line\":{\"color\":\"rgba(128, 128, 128, 1.0)\",\"dash\":\"solid\",\"shape\":\"linear\",\"width\":1.3},\"marker\":{\"size\":2,\"symbol\":\"circle\"},\"mode\":\"markers\",\"name\":\"A\",\"text\":\"\",\"type\":\"scatter\",\"x\":[-1.0899935075648546,-0.3283429263413677,0.9249715866272701,2.265847442190619,-1.9679748652286901,0.3522242836497475,-0.7922871395287938,-0.9258406713634908,0.8115272195253244,-1.477270976719303,0.1618159952438024,-0.4331539457009914,0.039311567111366276,-0.02441439939200614,0.6172117332234927,-2.340081944963553,3.1702114209761914,-0.36332764722503386,-0.4907725595838416,0.7908863334448771,-1.3709915008208202,0.5630076301719508,-0.08132772990151602,0.23855039987494617,-0.36783653113759457,-2.0583162396779198,0.41011426019927305,0.7360262123316557,0.8578455480892391,0.6692212126530874,-0.29193924207135413,-0.010428464535667108,0.5827342576436385,0.8631295668999309,-0.3887628842023507,0.5621355659822822,0.41242643202681245,0.5400452510501995,-0.8622450348007333,0.8373961616003691,0.7075403616234199,1.50682059694962,-0.8579989529337081,1.966217498627032,-0.8842888279114438,-0.14063222009410747,0.1560775565914649,-1.0318998613338433,0.6938332181045966,0.34902727031895114,-1.2083396070051455,2.2505048443521325,1.4625590755465416,-0.7392605820861616,1.290122175953878,0.03743177695407034,0.15447966905151658,-0.5941001153821971,0.41401637666917435,0.43185474659107764,-0.48564289964242224,0.2120732808572052,-1.2176504747328385,-0.15447459880849224,0.04952072542198867,0.016467999256636306,-0.5074883377420486,0.2853198976723749,1.617705760844643,1.677555201770505,0.27528939747803033,1.2810400539729732,-0.33070951242102525,1.044671936262385,0.07747716330923368,0.3114697652518498,-1.156964461310973,0.7046737117632361,0.17166399704921553,0.046391761412236276,2.0237011484840295,1.0508124503427356,0.7633037621767298,0.910230795208631,-0.6860382779231162,0.8414355798852678,0.20068154971940383,-0.43766497984189995,-1.4456137666739453,0.04206249677159624,-1.7378780010870498,0.3317607911741303,-0.3960625890982911,0.20891188425239193,1.7533600297381258,-0.5744757529482349,-1.2890173304854928,-0.8397499635573618,-0.2703194128703838,0.4006493372053976],\"xaxis\":\"x2\",\"y\":[0.20858928925374165,-0.4342659365804992,0.15224425972204558,-1.4076364859048878,-1.8787133030357686,1.1141016130474,-0.014856903124838405,2.2980934492830407,-0.04537892657460305,0.37251593394002713,1.3160112807008706,-0.17426433245318806,-1.0676051347476219,0.35048603503154846,1.3995954370148027,0.31417325524307427,-0.03901252898133603,-0.7815522712797063,-1.4657470354223352,-0.10963875683423577,0.3414618118686473,1.8556025363714947,0.3857059012861465,0.9980034374445319,1.2369036414452386,-2.2112045923282877,-0.8039465980537963,1.2501257231512457,0.28072647683673607,0.8479650419673018,0.821856776990302,0.33703944666886576,0.2994135796999949,-1.0020739050520817,1.0492375923262964,1.4499683923774385,0.6771778865444542,-1.174173436607878,0.9380903401986462,0.7830429803693706,1.5612080447999004,-0.689867946889579,-0.012595428200974368,-0.07720029034540583,1.4459983734283515,-0.9818107095001324,1.192692753425027,-0.0427350127227039,-0.770256799555548,-2.325516663796394,-0.6431928762709359,0.3153997366164689,0.3874379394644579,1.039847925443799,-0.9392276561472361,0.030043034312859172,1.1374541985603328,-0.6299169960910088,-0.9632572236552438,0.46429902371477966,-0.21188270820025484,-1.071565489388745,-0.18972067388602754,-1.2528521719399608,0.15881994888242676,-0.0378086230861681,1.1167572500107146,0.0006074965995330983,-0.15191943738908428,1.55982623930444,0.6060812113709677,0.07197403153804605,-0.1892256296041631,0.3744916234702504,0.5371723431024327,0.3056813222755168,3.2724431765187476,0.5606360026261016,0.0797615201136642,2.1426154923643996,0.595063512231104,-2.0077243015777624,-1.3920962454797994,-1.496551961908376,0.7760365739615019,0.8822518019486779,1.0019935837931249,-0.6634189590571933,0.07849718855217555,0.059596466005808625,1.075688755634055,1.9898092690768672,0.05738664500122117,-1.1337520231610325,-0.25843487309297164,0.4268716302195559,-2.323477988994405,1.8390982353041838,1.2639675884889168,1.654235242842938],\"yaxis\":\"y2\"},{\"line\":{\"color\":\"rgba(128, 128, 128, 1.0)\",\"dash\":\"solid\",\"shape\":\"linear\",\"width\":1.3},\"marker\":{\"size\":2,\"symbol\":\"circle\"},\"mode\":\"markers\",\"name\":\"A\",\"text\":\"\",\"type\":\"scatter\",\"x\":[-0.6050978556691786,-0.9035483715588414,1.3999062316779856,0.20326625575656562,0.7748660360296203,1.382118835963103,-0.3449663271423684,-0.3125784862581155,-0.3921021582767679,-0.4672365319648652,-0.9176971919965744,-0.9407683863484179,-0.02051094093615628,-0.4845090081884112,-0.9027760486508982,0.45408000372627855,1.7797168946307709,-0.849954913019187,-0.9497738918589689,1.115584553680479,0.47623968737877737,0.6777243804013798,-2.423385402585716,-0.05998903497391833,0.9528474830183917,1.9451072560078173,-0.7205616932622801,0.24869698730886125,0.12593843046885547,-0.7613039250440969,-1.1934815064129642,0.32847093291618723,0.03042686379748063,0.3638589261743581,0.8672123584073379,-0.5191918572545234,0.045873495741145395,-0.4991378312981569,0.4760864075563409,2.133103606272648,-1.6368622660538275,-0.8647663574169911,-0.2386827785058121,0.6514580767202643,-2.39366962919686,0.7847164416846397,1.4776485033235072,-0.8468678129426838,-0.1399453487715599,-1.4576847799303292,-0.16729265391285816,0.8104599304351691,0.44724150958933034,-0.239863791295954,-0.39865955278054077,0.392382842023195,0.21053559716010317,-0.7026716843649459,0.20157416306770357,-1.2431794473942575,0.9913120029212691,-0.17674562111069766,-0.8865370921684598,1.2678131780640376,0.6474985704541698,-0.675859866962432,2.2130088393476632,-0.8751745286308837,-0.7309748412210775,-0.7061573864067572,1.7191649168663734,-0.90654523833935,0.9234141064550748,-1.006326053603848,-0.15565505313829398,1.258680446450928,-0.82459549301541,-0.6941048482250396,-1.1526300782529277,-1.9408024035122222,-0.7066046066198953,-0.13820084983001243,0.33007567967062035,0.20516895683465802,0.7541000686165579,-0.3309113870390968,-0.4936760267518312,2.572271277233446,-0.02605875203151911,0.08045314789924392,0.1584800938610056,0.6803979387509251,-1.3445148460765042,1.3938329499040125,-0.799184564003873,-1.4607223497438997,-0.9460192341940437,-1.4607146767131882,0.33623646045912176,0.3717802061751832],\"xaxis\":\"x3\",\"y\":[0.20858928925374165,-0.4342659365804992,0.15224425972204558,-1.4076364859048878,-1.8787133030357686,1.1141016130474,-0.014856903124838405,2.2980934492830407,-0.04537892657460305,0.37251593394002713,1.3160112807008706,-0.17426433245318806,-1.0676051347476219,0.35048603503154846,1.3995954370148027,0.31417325524307427,-0.03901252898133603,-0.7815522712797063,-1.4657470354223352,-0.10963875683423577,0.3414618118686473,1.8556025363714947,0.3857059012861465,0.9980034374445319,1.2369036414452386,-2.2112045923282877,-0.8039465980537963,1.2501257231512457,0.28072647683673607,0.8479650419673018,0.821856776990302,0.33703944666886576,0.2994135796999949,-1.0020739050520817,1.0492375923262964,1.4499683923774385,0.6771778865444542,-1.174173436607878,0.9380903401986462,0.7830429803693706,1.5612080447999004,-0.689867946889579,-0.012595428200974368,-0.07720029034540583,1.4459983734283515,-0.9818107095001324,1.192692753425027,-0.0427350127227039,-0.770256799555548,-2.325516663796394,-0.6431928762709359,0.3153997366164689,0.3874379394644579,1.039847925443799,-0.9392276561472361,0.030043034312859172,1.1374541985603328,-0.6299169960910088,-0.9632572236552438,0.46429902371477966,-0.21188270820025484,-1.071565489388745,-0.18972067388602754,-1.2528521719399608,0.15881994888242676,-0.0378086230861681,1.1167572500107146,0.0006074965995330983,-0.15191943738908428,1.55982623930444,0.6060812113709677,0.07197403153804605,-0.1892256296041631,0.3744916234702504,0.5371723431024327,0.3056813222755168,3.2724431765187476,0.5606360026261016,0.0797615201136642,2.1426154923643996,0.595063512231104,-2.0077243015777624,-1.3920962454797994,-1.496551961908376,0.7760365739615019,0.8822518019486779,1.0019935837931249,-0.6634189590571933,0.07849718855217555,0.059596466005808625,1.075688755634055,1.9898092690768672,0.05738664500122117,-1.1337520231610325,-0.25843487309297164,0.4268716302195559,-2.323477988994405,1.8390982353041838,1.2639675884889168,1.654235242842938],\"yaxis\":\"y3\"},{\"line\":{\"color\":\"rgba(128, 128, 128, 1.0)\",\"dash\":\"solid\",\"shape\":\"linear\",\"width\":1.3},\"marker\":{\"size\":2,\"symbol\":\"circle\"},\"mode\":\"markers\",\"name\":\"A\",\"text\":\"\",\"type\":\"scatter\",\"x\":[-1.7283455634015321,0.7922665076440077,0.3327252928057696,-0.8646777098209107,-0.5533280925795223,-0.7426238658744095,-0.6321761148537716,0.23147476775382012,-0.20636980974607427,-0.8524000612482501,1.6127960625700868,-1.2494970560420666,2.117783435195244,-1.4261041758635733,-0.8427016784683329,-0.41215725897321814,1.482039530159061,-0.8294156366297977,-1.7444749996017128,-1.1463065894063043,-0.23140954513387316,0.04924343091891973,-0.7911997067028309,0.2542396734334467,-0.42101767485548325,0.0343237840568151,0.016933566682258896,1.3545581510054157,0.4476058590792905,0.22846633647061299,-0.6360477412520456,0.3247900932617839,-0.13851588260334996,0.19749265328712912,0.2551145633023773,-0.6318291814297596,-0.05162998288644609,0.29304285314602707,0.6519757198392621,0.362920745861988,2.3164946789860945,3.0661980875647856,-0.2963504023189624,-0.8127184586877536,-2.2064787773448824,-0.7134226445069347,-0.043722477341506236,-0.7139044754895482,-0.538276291943493,1.4108829924568982,1.251182397487324,0.17089238880915805,0.07540264426533289,0.19832996717543896,0.056562449238566036,0.7629953537674873,0.6954930495616684,0.8775097179137081,0.4712989663064789,0.7950901130031898,-0.42165087555391284,-1.341972307314644,-0.26419586310475707,1.2067552694961743,-1.107541927537456,0.30012534153536796,0.8901680688026227,0.7432940876917533,-0.5969048140606085,-1.1202383151916753,0.09471779691404093,-0.47167306445998836,-1.3923362588099217,0.714730829804552,0.1628551757050395,2.850378514067846,-0.5917785616485799,0.7138285756081543,0.5268855062743794,0.07111881361464277,-0.5760903855312549,-0.860973377436933,-1.058674135434395,0.18239213480830674,1.4508107303228437,0.8075923242860772,-1.062296403867526,0.49907103447837614,-0.4316824341811029,-0.6290765911934332,-0.9120857969862319,-0.23865807635605688,0.3266174181627085,-0.06769282445930531,-0.15757269703186888,1.0894928964241457,1.0508563645876903,0.1780094976605929,1.218131315660249,0.38432102125585577],\"xaxis\":\"x4\",\"y\":[0.20858928925374165,-0.4342659365804992,0.15224425972204558,-1.4076364859048878,-1.8787133030357686,1.1141016130474,-0.014856903124838405,2.2980934492830407,-0.04537892657460305,0.37251593394002713,1.3160112807008706,-0.17426433245318806,-1.0676051347476219,0.35048603503154846,1.3995954370148027,0.31417325524307427,-0.03901252898133603,-0.7815522712797063,-1.4657470354223352,-0.10963875683423577,0.3414618118686473,1.8556025363714947,0.3857059012861465,0.9980034374445319,1.2369036414452386,-2.2112045923282877,-0.8039465980537963,1.2501257231512457,0.28072647683673607,0.8479650419673018,0.821856776990302,0.33703944666886576,0.2994135796999949,-1.0020739050520817,1.0492375923262964,1.4499683923774385,0.6771778865444542,-1.174173436607878,0.9380903401986462,0.7830429803693706,1.5612080447999004,-0.689867946889579,-0.012595428200974368,-0.07720029034540583,1.4459983734283515,-0.9818107095001324,1.192692753425027,-0.0427350127227039,-0.770256799555548,-2.325516663796394,-0.6431928762709359,0.3153997366164689,0.3874379394644579,1.039847925443799,-0.9392276561472361,0.030043034312859172,1.1374541985603328,-0.6299169960910088,-0.9632572236552438,0.46429902371477966,-0.21188270820025484,-1.071565489388745,-0.18972067388602754,-1.2528521719399608,0.15881994888242676,-0.0378086230861681,1.1167572500107146,0.0006074965995330983,-0.15191943738908428,1.55982623930444,0.6060812113709677,0.07197403153804605,-0.1892256296041631,0.3744916234702504,0.5371723431024327,0.3056813222755168,3.2724431765187476,0.5606360026261016,0.0797615201136642,2.1426154923643996,0.595063512231104,-2.0077243015777624,-1.3920962454797994,-1.496551961908376,0.7760365739615019,0.8822518019486779,1.0019935837931249,-0.6634189590571933,0.07849718855217555,0.059596466005808625,1.075688755634055,1.9898092690768672,0.05738664500122117,-1.1337520231610325,-0.25843487309297164,0.4268716302195559,-2.323477988994405,1.8390982353041838,1.2639675884889168,1.654235242842938],\"yaxis\":\"y4\"},{\"line\":{\"color\":\"rgba(128, 128, 128, 1.0)\",\"dash\":\"solid\",\"shape\":\"linear\",\"width\":1.3},\"marker\":{\"size\":2,\"symbol\":\"circle\"},\"mode\":\"markers\",\"name\":\"B\",\"text\":\"\",\"type\":\"scatter\",\"x\":[0.20858928925374165,-0.4342659365804992,0.15224425972204558,-1.4076364859048878,-1.8787133030357686,1.1141016130474,-0.014856903124838405,2.2980934492830407,-0.04537892657460305,0.37251593394002713,1.3160112807008706,-0.17426433245318806,-1.0676051347476219,0.35048603503154846,1.3995954370148027,0.31417325524307427,-0.03901252898133603,-0.7815522712797063,-1.4657470354223352,-0.10963875683423577,0.3414618118686473,1.8556025363714947,0.3857059012861465,0.9980034374445319,1.2369036414452386,-2.2112045923282877,-0.8039465980537963,1.2501257231512457,0.28072647683673607,0.8479650419673018,0.821856776990302,0.33703944666886576,0.2994135796999949,-1.0020739050520817,1.0492375923262964,1.4499683923774385,0.6771778865444542,-1.174173436607878,0.9380903401986462,0.7830429803693706,1.5612080447999004,-0.689867946889579,-0.012595428200974368,-0.07720029034540583,1.4459983734283515,-0.9818107095001324,1.192692753425027,-0.0427350127227039,-0.770256799555548,-2.325516663796394,-0.6431928762709359,0.3153997366164689,0.3874379394644579,1.039847925443799,-0.9392276561472361,0.030043034312859172,1.1374541985603328,-0.6299169960910088,-0.9632572236552438,0.46429902371477966,-0.21188270820025484,-1.071565489388745,-0.18972067388602754,-1.2528521719399608,0.15881994888242676,-0.0378086230861681,1.1167572500107146,0.0006074965995330983,-0.15191943738908428,1.55982623930444,0.6060812113709677,0.07197403153804605,-0.1892256296041631,0.3744916234702504,0.5371723431024327,0.3056813222755168,3.2724431765187476,0.5606360026261016,0.0797615201136642,2.1426154923643996,0.595063512231104,-2.0077243015777624,-1.3920962454797994,-1.496551961908376,0.7760365739615019,0.8822518019486779,1.0019935837931249,-0.6634189590571933,0.07849718855217555,0.059596466005808625,1.075688755634055,1.9898092690768672,0.05738664500122117,-1.1337520231610325,-0.25843487309297164,0.4268716302195559,-2.323477988994405,1.8390982353041838,1.2639675884889168,1.654235242842938],\"xaxis\":\"x5\",\"y\":[-1.0899935075648546,-0.3283429263413677,0.9249715866272701,2.265847442190619,-1.9679748652286901,0.3522242836497475,-0.7922871395287938,-0.9258406713634908,0.8115272195253244,-1.477270976719303,0.1618159952438024,-0.4331539457009914,0.039311567111366276,-0.02441439939200614,0.6172117332234927,-2.340081944963553,3.1702114209761914,-0.36332764722503386,-0.4907725595838416,0.7908863334448771,-1.3709915008208202,0.5630076301719508,-0.08132772990151602,0.23855039987494617,-0.36783653113759457,-2.0583162396779198,0.41011426019927305,0.7360262123316557,0.8578455480892391,0.6692212126530874,-0.29193924207135413,-0.010428464535667108,0.5827342576436385,0.8631295668999309,-0.3887628842023507,0.5621355659822822,0.41242643202681245,0.5400452510501995,-0.8622450348007333,0.8373961616003691,0.7075403616234199,1.50682059694962,-0.8579989529337081,1.966217498627032,-0.8842888279114438,-0.14063222009410747,0.1560775565914649,-1.0318998613338433,0.6938332181045966,0.34902727031895114,-1.2083396070051455,2.2505048443521325,1.4625590755465416,-0.7392605820861616,1.290122175953878,0.03743177695407034,0.15447966905151658,-0.5941001153821971,0.41401637666917435,0.43185474659107764,-0.48564289964242224,0.2120732808572052,-1.2176504747328385,-0.15447459880849224,0.04952072542198867,0.016467999256636306,-0.5074883377420486,0.2853198976723749,1.617705760844643,1.677555201770505,0.27528939747803033,1.2810400539729732,-0.33070951242102525,1.044671936262385,0.07747716330923368,0.3114697652518498,-1.156964461310973,0.7046737117632361,0.17166399704921553,0.046391761412236276,2.0237011484840295,1.0508124503427356,0.7633037621767298,0.910230795208631,-0.6860382779231162,0.8414355798852678,0.20068154971940383,-0.43766497984189995,-1.4456137666739453,0.04206249677159624,-1.7378780010870498,0.3317607911741303,-0.3960625890982911,0.20891188425239193,1.7533600297381258,-0.5744757529482349,-1.2890173304854928,-0.8397499635573618,-0.2703194128703838,0.4006493372053976],\"yaxis\":\"y5\"},{\"histfunc\":\"count\",\"histnorm\":\"\",\"marker\":{\"color\":\"rgba(55, 128, 191, 1.0)\",\"line\":{\"color\":\"#4D5663\",\"width\":1.3}},\"name\":\"B\",\"nbinsx\":10,\"opacity\":0.8,\"orientation\":\"v\",\"type\":\"histogram\",\"x\":[-1.0899935075648546,-0.3283429263413677,0.9249715866272701,2.265847442190619,-1.9679748652286901,0.3522242836497475,-0.7922871395287938,-0.9258406713634908,0.8115272195253244,-1.477270976719303,0.1618159952438024,-0.4331539457009914,0.039311567111366276,-0.02441439939200614,0.6172117332234927,-2.340081944963553,3.1702114209761914,-0.36332764722503386,-0.4907725595838416,0.7908863334448771,-1.3709915008208202,0.5630076301719508,-0.08132772990151602,0.23855039987494617,-0.36783653113759457,-2.0583162396779198,0.41011426019927305,0.7360262123316557,0.8578455480892391,0.6692212126530874,-0.29193924207135413,-0.010428464535667108,0.5827342576436385,0.8631295668999309,-0.3887628842023507,0.5621355659822822,0.41242643202681245,0.5400452510501995,-0.8622450348007333,0.8373961616003691,0.7075403616234199,1.50682059694962,-0.8579989529337081,1.966217498627032,-0.8842888279114438,-0.14063222009410747,0.1560775565914649,-1.0318998613338433,0.6938332181045966,0.34902727031895114,-1.2083396070051455,2.2505048443521325,1.4625590755465416,-0.7392605820861616,1.290122175953878,0.03743177695407034,0.15447966905151658,-0.5941001153821971,0.41401637666917435,0.43185474659107764,-0.48564289964242224,0.2120732808572052,-1.2176504747328385,-0.15447459880849224,0.04952072542198867,0.016467999256636306,-0.5074883377420486,0.2853198976723749,1.617705760844643,1.677555201770505,0.27528939747803033,1.2810400539729732,-0.33070951242102525,1.044671936262385,0.07747716330923368,0.3114697652518498,-1.156964461310973,0.7046737117632361,0.17166399704921553,0.046391761412236276,2.0237011484840295,1.0508124503427356,0.7633037621767298,0.910230795208631,-0.6860382779231162,0.8414355798852678,0.20068154971940383,-0.43766497984189995,-1.4456137666739453,0.04206249677159624,-1.7378780010870498,0.3317607911741303,-0.3960625890982911,0.20891188425239193,1.7533600297381258,-0.5744757529482349,-1.2890173304854928,-0.8397499635573618,-0.2703194128703838,0.4006493372053976],\"xaxis\":\"x6\",\"yaxis\":\"y6\"},{\"line\":{\"color\":\"rgba(128, 128, 128, 1.0)\",\"dash\":\"solid\",\"shape\":\"linear\",\"width\":1.3},\"marker\":{\"size\":2,\"symbol\":\"circle\"},\"mode\":\"markers\",\"name\":\"B\",\"text\":\"\",\"type\":\"scatter\",\"x\":[-0.6050978556691786,-0.9035483715588414,1.3999062316779856,0.20326625575656562,0.7748660360296203,1.382118835963103,-0.3449663271423684,-0.3125784862581155,-0.3921021582767679,-0.4672365319648652,-0.9176971919965744,-0.9407683863484179,-0.02051094093615628,-0.4845090081884112,-0.9027760486508982,0.45408000372627855,1.7797168946307709,-0.849954913019187,-0.9497738918589689,1.115584553680479,0.47623968737877737,0.6777243804013798,-2.423385402585716,-0.05998903497391833,0.9528474830183917,1.9451072560078173,-0.7205616932622801,0.24869698730886125,0.12593843046885547,-0.7613039250440969,-1.1934815064129642,0.32847093291618723,0.03042686379748063,0.3638589261743581,0.8672123584073379,-0.5191918572545234,0.045873495741145395,-0.4991378312981569,0.4760864075563409,2.133103606272648,-1.6368622660538275,-0.8647663574169911,-0.2386827785058121,0.6514580767202643,-2.39366962919686,0.7847164416846397,1.4776485033235072,-0.8468678129426838,-0.1399453487715599,-1.4576847799303292,-0.16729265391285816,0.8104599304351691,0.44724150958933034,-0.239863791295954,-0.39865955278054077,0.392382842023195,0.21053559716010317,-0.7026716843649459,0.20157416306770357,-1.2431794473942575,0.9913120029212691,-0.17674562111069766,-0.8865370921684598,1.2678131780640376,0.6474985704541698,-0.675859866962432,2.2130088393476632,-0.8751745286308837,-0.7309748412210775,-0.7061573864067572,1.7191649168663734,-0.90654523833935,0.9234141064550748,-1.006326053603848,-0.15565505313829398,1.258680446450928,-0.82459549301541,-0.6941048482250396,-1.1526300782529277,-1.9408024035122222,-0.7066046066198953,-0.13820084983001243,0.33007567967062035,0.20516895683465802,0.7541000686165579,-0.3309113870390968,-0.4936760267518312,2.572271277233446,-0.02605875203151911,0.08045314789924392,0.1584800938610056,0.6803979387509251,-1.3445148460765042,1.3938329499040125,-0.799184564003873,-1.4607223497438997,-0.9460192341940437,-1.4607146767131882,0.33623646045912176,0.3717802061751832],\"xaxis\":\"x7\",\"y\":[-1.0899935075648546,-0.3283429263413677,0.9249715866272701,2.265847442190619,-1.9679748652286901,0.3522242836497475,-0.7922871395287938,-0.9258406713634908,0.8115272195253244,-1.477270976719303,0.1618159952438024,-0.4331539457009914,0.039311567111366276,-0.02441439939200614,0.6172117332234927,-2.340081944963553,3.1702114209761914,-0.36332764722503386,-0.4907725595838416,0.7908863334448771,-1.3709915008208202,0.5630076301719508,-0.08132772990151602,0.23855039987494617,-0.36783653113759457,-2.0583162396779198,0.41011426019927305,0.7360262123316557,0.8578455480892391,0.6692212126530874,-0.29193924207135413,-0.010428464535667108,0.5827342576436385,0.8631295668999309,-0.3887628842023507,0.5621355659822822,0.41242643202681245,0.5400452510501995,-0.8622450348007333,0.8373961616003691,0.7075403616234199,1.50682059694962,-0.8579989529337081,1.966217498627032,-0.8842888279114438,-0.14063222009410747,0.1560775565914649,-1.0318998613338433,0.6938332181045966,0.34902727031895114,-1.2083396070051455,2.2505048443521325,1.4625590755465416,-0.7392605820861616,1.290122175953878,0.03743177695407034,0.15447966905151658,-0.5941001153821971,0.41401637666917435,0.43185474659107764,-0.48564289964242224,0.2120732808572052,-1.2176504747328385,-0.15447459880849224,0.04952072542198867,0.016467999256636306,-0.5074883377420486,0.2853198976723749,1.617705760844643,1.677555201770505,0.27528939747803033,1.2810400539729732,-0.33070951242102525,1.044671936262385,0.07747716330923368,0.3114697652518498,-1.156964461310973,0.7046737117632361,0.17166399704921553,0.046391761412236276,2.0237011484840295,1.0508124503427356,0.7633037621767298,0.910230795208631,-0.6860382779231162,0.8414355798852678,0.20068154971940383,-0.43766497984189995,-1.4456137666739453,0.04206249677159624,-1.7378780010870498,0.3317607911741303,-0.3960625890982911,0.20891188425239193,1.7533600297381258,-0.5744757529482349,-1.2890173304854928,-0.8397499635573618,-0.2703194128703838,0.4006493372053976],\"yaxis\":\"y7\"},{\"line\":{\"color\":\"rgba(128, 128, 128, 1.0)\",\"dash\":\"solid\",\"shape\":\"linear\",\"width\":1.3},\"marker\":{\"size\":2,\"symbol\":\"circle\"},\"mode\":\"markers\",\"name\":\"B\",\"text\":\"\",\"type\":\"scatter\",\"x\":[-1.7283455634015321,0.7922665076440077,0.3327252928057696,-0.8646777098209107,-0.5533280925795223,-0.7426238658744095,-0.6321761148537716,0.23147476775382012,-0.20636980974607427,-0.8524000612482501,1.6127960625700868,-1.2494970560420666,2.117783435195244,-1.4261041758635733,-0.8427016784683329,-0.41215725897321814,1.482039530159061,-0.8294156366297977,-1.7444749996017128,-1.1463065894063043,-0.23140954513387316,0.04924343091891973,-0.7911997067028309,0.2542396734334467,-0.42101767485548325,0.0343237840568151,0.016933566682258896,1.3545581510054157,0.4476058590792905,0.22846633647061299,-0.6360477412520456,0.3247900932617839,-0.13851588260334996,0.19749265328712912,0.2551145633023773,-0.6318291814297596,-0.05162998288644609,0.29304285314602707,0.6519757198392621,0.362920745861988,2.3164946789860945,3.0661980875647856,-0.2963504023189624,-0.8127184586877536,-2.2064787773448824,-0.7134226445069347,-0.043722477341506236,-0.7139044754895482,-0.538276291943493,1.4108829924568982,1.251182397487324,0.17089238880915805,0.07540264426533289,0.19832996717543896,0.056562449238566036,0.7629953537674873,0.6954930495616684,0.8775097179137081,0.4712989663064789,0.7950901130031898,-0.42165087555391284,-1.341972307314644,-0.26419586310475707,1.2067552694961743,-1.107541927537456,0.30012534153536796,0.8901680688026227,0.7432940876917533,-0.5969048140606085,-1.1202383151916753,0.09471779691404093,-0.47167306445998836,-1.3923362588099217,0.714730829804552,0.1628551757050395,2.850378514067846,-0.5917785616485799,0.7138285756081543,0.5268855062743794,0.07111881361464277,-0.5760903855312549,-0.860973377436933,-1.058674135434395,0.18239213480830674,1.4508107303228437,0.8075923242860772,-1.062296403867526,0.49907103447837614,-0.4316824341811029,-0.6290765911934332,-0.9120857969862319,-0.23865807635605688,0.3266174181627085,-0.06769282445930531,-0.15757269703186888,1.0894928964241457,1.0508563645876903,0.1780094976605929,1.218131315660249,0.38432102125585577],\"xaxis\":\"x8\",\"y\":[-1.0899935075648546,-0.3283429263413677,0.9249715866272701,2.265847442190619,-1.9679748652286901,0.3522242836497475,-0.7922871395287938,-0.9258406713634908,0.8115272195253244,-1.477270976719303,0.1618159952438024,-0.4331539457009914,0.039311567111366276,-0.02441439939200614,0.6172117332234927,-2.340081944963553,3.1702114209761914,-0.36332764722503386,-0.4907725595838416,0.7908863334448771,-1.3709915008208202,0.5630076301719508,-0.08132772990151602,0.23855039987494617,-0.36783653113759457,-2.0583162396779198,0.41011426019927305,0.7360262123316557,0.8578455480892391,0.6692212126530874,-0.29193924207135413,-0.010428464535667108,0.5827342576436385,0.8631295668999309,-0.3887628842023507,0.5621355659822822,0.41242643202681245,0.5400452510501995,-0.8622450348007333,0.8373961616003691,0.7075403616234199,1.50682059694962,-0.8579989529337081,1.966217498627032,-0.8842888279114438,-0.14063222009410747,0.1560775565914649,-1.0318998613338433,0.6938332181045966,0.34902727031895114,-1.2083396070051455,2.2505048443521325,1.4625590755465416,-0.7392605820861616,1.290122175953878,0.03743177695407034,0.15447966905151658,-0.5941001153821971,0.41401637666917435,0.43185474659107764,-0.48564289964242224,0.2120732808572052,-1.2176504747328385,-0.15447459880849224,0.04952072542198867,0.016467999256636306,-0.5074883377420486,0.2853198976723749,1.617705760844643,1.677555201770505,0.27528939747803033,1.2810400539729732,-0.33070951242102525,1.044671936262385,0.07747716330923368,0.3114697652518498,-1.156964461310973,0.7046737117632361,0.17166399704921553,0.046391761412236276,2.0237011484840295,1.0508124503427356,0.7633037621767298,0.910230795208631,-0.6860382779231162,0.8414355798852678,0.20068154971940383,-0.43766497984189995,-1.4456137666739453,0.04206249677159624,-1.7378780010870498,0.3317607911741303,-0.3960625890982911,0.20891188425239193,1.7533600297381258,-0.5744757529482349,-1.2890173304854928,-0.8397499635573618,-0.2703194128703838,0.4006493372053976],\"yaxis\":\"y8\"},{\"line\":{\"color\":\"rgba(128, 128, 128, 1.0)\",\"dash\":\"solid\",\"shape\":\"linear\",\"width\":1.3},\"marker\":{\"size\":2,\"symbol\":\"circle\"},\"mode\":\"markers\",\"name\":\"C\",\"text\":\"\",\"type\":\"scatter\",\"x\":[0.20858928925374165,-0.4342659365804992,0.15224425972204558,-1.4076364859048878,-1.8787133030357686,1.1141016130474,-0.014856903124838405,2.2980934492830407,-0.04537892657460305,0.37251593394002713,1.3160112807008706,-0.17426433245318806,-1.0676051347476219,0.35048603503154846,1.3995954370148027,0.31417325524307427,-0.03901252898133603,-0.7815522712797063,-1.4657470354223352,-0.10963875683423577,0.3414618118686473,1.8556025363714947,0.3857059012861465,0.9980034374445319,1.2369036414452386,-2.2112045923282877,-0.8039465980537963,1.2501257231512457,0.28072647683673607,0.8479650419673018,0.821856776990302,0.33703944666886576,0.2994135796999949,-1.0020739050520817,1.0492375923262964,1.4499683923774385,0.6771778865444542,-1.174173436607878,0.9380903401986462,0.7830429803693706,1.5612080447999004,-0.689867946889579,-0.012595428200974368,-0.07720029034540583,1.4459983734283515,-0.9818107095001324,1.192692753425027,-0.0427350127227039,-0.770256799555548,-2.325516663796394,-0.6431928762709359,0.3153997366164689,0.3874379394644579,1.039847925443799,-0.9392276561472361,0.030043034312859172,1.1374541985603328,-0.6299169960910088,-0.9632572236552438,0.46429902371477966,-0.21188270820025484,-1.071565489388745,-0.18972067388602754,-1.2528521719399608,0.15881994888242676,-0.0378086230861681,1.1167572500107146,0.0006074965995330983,-0.15191943738908428,1.55982623930444,0.6060812113709677,0.07197403153804605,-0.1892256296041631,0.3744916234702504,0.5371723431024327,0.3056813222755168,3.2724431765187476,0.5606360026261016,0.0797615201136642,2.1426154923643996,0.595063512231104,-2.0077243015777624,-1.3920962454797994,-1.496551961908376,0.7760365739615019,0.8822518019486779,1.0019935837931249,-0.6634189590571933,0.07849718855217555,0.059596466005808625,1.075688755634055,1.9898092690768672,0.05738664500122117,-1.1337520231610325,-0.25843487309297164,0.4268716302195559,-2.323477988994405,1.8390982353041838,1.2639675884889168,1.654235242842938],\"xaxis\":\"x9\",\"y\":[-0.6050978556691786,-0.9035483715588414,1.3999062316779856,0.20326625575656562,0.7748660360296203,1.382118835963103,-0.3449663271423684,-0.3125784862581155,-0.3921021582767679,-0.4672365319648652,-0.9176971919965744,-0.9407683863484179,-0.02051094093615628,-0.4845090081884112,-0.9027760486508982,0.45408000372627855,1.7797168946307709,-0.849954913019187,-0.9497738918589689,1.115584553680479,0.47623968737877737,0.6777243804013798,-2.423385402585716,-0.05998903497391833,0.9528474830183917,1.9451072560078173,-0.7205616932622801,0.24869698730886125,0.12593843046885547,-0.7613039250440969,-1.1934815064129642,0.32847093291618723,0.03042686379748063,0.3638589261743581,0.8672123584073379,-0.5191918572545234,0.045873495741145395,-0.4991378312981569,0.4760864075563409,2.133103606272648,-1.6368622660538275,-0.8647663574169911,-0.2386827785058121,0.6514580767202643,-2.39366962919686,0.7847164416846397,1.4776485033235072,-0.8468678129426838,-0.1399453487715599,-1.4576847799303292,-0.16729265391285816,0.8104599304351691,0.44724150958933034,-0.239863791295954,-0.39865955278054077,0.392382842023195,0.21053559716010317,-0.7026716843649459,0.20157416306770357,-1.2431794473942575,0.9913120029212691,-0.17674562111069766,-0.8865370921684598,1.2678131780640376,0.6474985704541698,-0.675859866962432,2.2130088393476632,-0.8751745286308837,-0.7309748412210775,-0.7061573864067572,1.7191649168663734,-0.90654523833935,0.9234141064550748,-1.006326053603848,-0.15565505313829398,1.258680446450928,-0.82459549301541,-0.6941048482250396,-1.1526300782529277,-1.9408024035122222,-0.7066046066198953,-0.13820084983001243,0.33007567967062035,0.20516895683465802,0.7541000686165579,-0.3309113870390968,-0.4936760267518312,2.572271277233446,-0.02605875203151911,0.08045314789924392,0.1584800938610056,0.6803979387509251,-1.3445148460765042,1.3938329499040125,-0.799184564003873,-1.4607223497438997,-0.9460192341940437,-1.4607146767131882,0.33623646045912176,0.3717802061751832],\"yaxis\":\"y9\"},{\"line\":{\"color\":\"rgba(128, 128, 128, 1.0)\",\"dash\":\"solid\",\"shape\":\"linear\",\"width\":1.3},\"marker\":{\"size\":2,\"symbol\":\"circle\"},\"mode\":\"markers\",\"name\":\"C\",\"text\":\"\",\"type\":\"scatter\",\"x\":[-1.0899935075648546,-0.3283429263413677,0.9249715866272701,2.265847442190619,-1.9679748652286901,0.3522242836497475,-0.7922871395287938,-0.9258406713634908,0.8115272195253244,-1.477270976719303,0.1618159952438024,-0.4331539457009914,0.039311567111366276,-0.02441439939200614,0.6172117332234927,-2.340081944963553,3.1702114209761914,-0.36332764722503386,-0.4907725595838416,0.7908863334448771,-1.3709915008208202,0.5630076301719508,-0.08132772990151602,0.23855039987494617,-0.36783653113759457,-2.0583162396779198,0.41011426019927305,0.7360262123316557,0.8578455480892391,0.6692212126530874,-0.29193924207135413,-0.010428464535667108,0.5827342576436385,0.8631295668999309,-0.3887628842023507,0.5621355659822822,0.41242643202681245,0.5400452510501995,-0.8622450348007333,0.8373961616003691,0.7075403616234199,1.50682059694962,-0.8579989529337081,1.966217498627032,-0.8842888279114438,-0.14063222009410747,0.1560775565914649,-1.0318998613338433,0.6938332181045966,0.34902727031895114,-1.2083396070051455,2.2505048443521325,1.4625590755465416,-0.7392605820861616,1.290122175953878,0.03743177695407034,0.15447966905151658,-0.5941001153821971,0.41401637666917435,0.43185474659107764,-0.48564289964242224,0.2120732808572052,-1.2176504747328385,-0.15447459880849224,0.04952072542198867,0.016467999256636306,-0.5074883377420486,0.2853198976723749,1.617705760844643,1.677555201770505,0.27528939747803033,1.2810400539729732,-0.33070951242102525,1.044671936262385,0.07747716330923368,0.3114697652518498,-1.156964461310973,0.7046737117632361,0.17166399704921553,0.046391761412236276,2.0237011484840295,1.0508124503427356,0.7633037621767298,0.910230795208631,-0.6860382779231162,0.8414355798852678,0.20068154971940383,-0.43766497984189995,-1.4456137666739453,0.04206249677159624,-1.7378780010870498,0.3317607911741303,-0.3960625890982911,0.20891188425239193,1.7533600297381258,-0.5744757529482349,-1.2890173304854928,-0.8397499635573618,-0.2703194128703838,0.4006493372053976],\"xaxis\":\"x10\",\"y\":[-0.6050978556691786,-0.9035483715588414,1.3999062316779856,0.20326625575656562,0.7748660360296203,1.382118835963103,-0.3449663271423684,-0.3125784862581155,-0.3921021582767679,-0.4672365319648652,-0.9176971919965744,-0.9407683863484179,-0.02051094093615628,-0.4845090081884112,-0.9027760486508982,0.45408000372627855,1.7797168946307709,-0.849954913019187,-0.9497738918589689,1.115584553680479,0.47623968737877737,0.6777243804013798,-2.423385402585716,-0.05998903497391833,0.9528474830183917,1.9451072560078173,-0.7205616932622801,0.24869698730886125,0.12593843046885547,-0.7613039250440969,-1.1934815064129642,0.32847093291618723,0.03042686379748063,0.3638589261743581,0.8672123584073379,-0.5191918572545234,0.045873495741145395,-0.4991378312981569,0.4760864075563409,2.133103606272648,-1.6368622660538275,-0.8647663574169911,-0.2386827785058121,0.6514580767202643,-2.39366962919686,0.7847164416846397,1.4776485033235072,-0.8468678129426838,-0.1399453487715599,-1.4576847799303292,-0.16729265391285816,0.8104599304351691,0.44724150958933034,-0.239863791295954,-0.39865955278054077,0.392382842023195,0.21053559716010317,-0.7026716843649459,0.20157416306770357,-1.2431794473942575,0.9913120029212691,-0.17674562111069766,-0.8865370921684598,1.2678131780640376,0.6474985704541698,-0.675859866962432,2.2130088393476632,-0.8751745286308837,-0.7309748412210775,-0.7061573864067572,1.7191649168663734,-0.90654523833935,0.9234141064550748,-1.006326053603848,-0.15565505313829398,1.258680446450928,-0.82459549301541,-0.6941048482250396,-1.1526300782529277,-1.9408024035122222,-0.7066046066198953,-0.13820084983001243,0.33007567967062035,0.20516895683465802,0.7541000686165579,-0.3309113870390968,-0.4936760267518312,2.572271277233446,-0.02605875203151911,0.08045314789924392,0.1584800938610056,0.6803979387509251,-1.3445148460765042,1.3938329499040125,-0.799184564003873,-1.4607223497438997,-0.9460192341940437,-1.4607146767131882,0.33623646045912176,0.3717802061751832],\"yaxis\":\"y10\"},{\"histfunc\":\"count\",\"histnorm\":\"\",\"marker\":{\"color\":\"rgba(50, 171, 96, 1.0)\",\"line\":{\"color\":\"#4D5663\",\"width\":1.3}},\"name\":\"C\",\"nbinsx\":10,\"opacity\":0.8,\"orientation\":\"v\",\"type\":\"histogram\",\"x\":[-0.6050978556691786,-0.9035483715588414,1.3999062316779856,0.20326625575656562,0.7748660360296203,1.382118835963103,-0.3449663271423684,-0.3125784862581155,-0.3921021582767679,-0.4672365319648652,-0.9176971919965744,-0.9407683863484179,-0.02051094093615628,-0.4845090081884112,-0.9027760486508982,0.45408000372627855,1.7797168946307709,-0.849954913019187,-0.9497738918589689,1.115584553680479,0.47623968737877737,0.6777243804013798,-2.423385402585716,-0.05998903497391833,0.9528474830183917,1.9451072560078173,-0.7205616932622801,0.24869698730886125,0.12593843046885547,-0.7613039250440969,-1.1934815064129642,0.32847093291618723,0.03042686379748063,0.3638589261743581,0.8672123584073379,-0.5191918572545234,0.045873495741145395,-0.4991378312981569,0.4760864075563409,2.133103606272648,-1.6368622660538275,-0.8647663574169911,-0.2386827785058121,0.6514580767202643,-2.39366962919686,0.7847164416846397,1.4776485033235072,-0.8468678129426838,-0.1399453487715599,-1.4576847799303292,-0.16729265391285816,0.8104599304351691,0.44724150958933034,-0.239863791295954,-0.39865955278054077,0.392382842023195,0.21053559716010317,-0.7026716843649459,0.20157416306770357,-1.2431794473942575,0.9913120029212691,-0.17674562111069766,-0.8865370921684598,1.2678131780640376,0.6474985704541698,-0.675859866962432,2.2130088393476632,-0.8751745286308837,-0.7309748412210775,-0.7061573864067572,1.7191649168663734,-0.90654523833935,0.9234141064550748,-1.006326053603848,-0.15565505313829398,1.258680446450928,-0.82459549301541,-0.6941048482250396,-1.1526300782529277,-1.9408024035122222,-0.7066046066198953,-0.13820084983001243,0.33007567967062035,0.20516895683465802,0.7541000686165579,-0.3309113870390968,-0.4936760267518312,2.572271277233446,-0.02605875203151911,0.08045314789924392,0.1584800938610056,0.6803979387509251,-1.3445148460765042,1.3938329499040125,-0.799184564003873,-1.4607223497438997,-0.9460192341940437,-1.4607146767131882,0.33623646045912176,0.3717802061751832],\"xaxis\":\"x11\",\"yaxis\":\"y11\"},{\"line\":{\"color\":\"rgba(128, 128, 128, 1.0)\",\"dash\":\"solid\",\"shape\":\"linear\",\"width\":1.3},\"marker\":{\"size\":2,\"symbol\":\"circle\"},\"mode\":\"markers\",\"name\":\"C\",\"text\":\"\",\"type\":\"scatter\",\"x\":[-1.7283455634015321,0.7922665076440077,0.3327252928057696,-0.8646777098209107,-0.5533280925795223,-0.7426238658744095,-0.6321761148537716,0.23147476775382012,-0.20636980974607427,-0.8524000612482501,1.6127960625700868,-1.2494970560420666,2.117783435195244,-1.4261041758635733,-0.8427016784683329,-0.41215725897321814,1.482039530159061,-0.8294156366297977,-1.7444749996017128,-1.1463065894063043,-0.23140954513387316,0.04924343091891973,-0.7911997067028309,0.2542396734334467,-0.42101767485548325,0.0343237840568151,0.016933566682258896,1.3545581510054157,0.4476058590792905,0.22846633647061299,-0.6360477412520456,0.3247900932617839,-0.13851588260334996,0.19749265328712912,0.2551145633023773,-0.6318291814297596,-0.05162998288644609,0.29304285314602707,0.6519757198392621,0.362920745861988,2.3164946789860945,3.0661980875647856,-0.2963504023189624,-0.8127184586877536,-2.2064787773448824,-0.7134226445069347,-0.043722477341506236,-0.7139044754895482,-0.538276291943493,1.4108829924568982,1.251182397487324,0.17089238880915805,0.07540264426533289,0.19832996717543896,0.056562449238566036,0.7629953537674873,0.6954930495616684,0.8775097179137081,0.4712989663064789,0.7950901130031898,-0.42165087555391284,-1.341972307314644,-0.26419586310475707,1.2067552694961743,-1.107541927537456,0.30012534153536796,0.8901680688026227,0.7432940876917533,-0.5969048140606085,-1.1202383151916753,0.09471779691404093,-0.47167306445998836,-1.3923362588099217,0.714730829804552,0.1628551757050395,2.850378514067846,-0.5917785616485799,0.7138285756081543,0.5268855062743794,0.07111881361464277,-0.5760903855312549,-0.860973377436933,-1.058674135434395,0.18239213480830674,1.4508107303228437,0.8075923242860772,-1.062296403867526,0.49907103447837614,-0.4316824341811029,-0.6290765911934332,-0.9120857969862319,-0.23865807635605688,0.3266174181627085,-0.06769282445930531,-0.15757269703186888,1.0894928964241457,1.0508563645876903,0.1780094976605929,1.218131315660249,0.38432102125585577],\"xaxis\":\"x12\",\"y\":[-0.6050978556691786,-0.9035483715588414,1.3999062316779856,0.20326625575656562,0.7748660360296203,1.382118835963103,-0.3449663271423684,-0.3125784862581155,-0.3921021582767679,-0.4672365319648652,-0.9176971919965744,-0.9407683863484179,-0.02051094093615628,-0.4845090081884112,-0.9027760486508982,0.45408000372627855,1.7797168946307709,-0.849954913019187,-0.9497738918589689,1.115584553680479,0.47623968737877737,0.6777243804013798,-2.423385402585716,-0.05998903497391833,0.9528474830183917,1.9451072560078173,-0.7205616932622801,0.24869698730886125,0.12593843046885547,-0.7613039250440969,-1.1934815064129642,0.32847093291618723,0.03042686379748063,0.3638589261743581,0.8672123584073379,-0.5191918572545234,0.045873495741145395,-0.4991378312981569,0.4760864075563409,2.133103606272648,-1.6368622660538275,-0.8647663574169911,-0.2386827785058121,0.6514580767202643,-2.39366962919686,0.7847164416846397,1.4776485033235072,-0.8468678129426838,-0.1399453487715599,-1.4576847799303292,-0.16729265391285816,0.8104599304351691,0.44724150958933034,-0.239863791295954,-0.39865955278054077,0.392382842023195,0.21053559716010317,-0.7026716843649459,0.20157416306770357,-1.2431794473942575,0.9913120029212691,-0.17674562111069766,-0.8865370921684598,1.2678131780640376,0.6474985704541698,-0.675859866962432,2.2130088393476632,-0.8751745286308837,-0.7309748412210775,-0.7061573864067572,1.7191649168663734,-0.90654523833935,0.9234141064550748,-1.006326053603848,-0.15565505313829398,1.258680446450928,-0.82459549301541,-0.6941048482250396,-1.1526300782529277,-1.9408024035122222,-0.7066046066198953,-0.13820084983001243,0.33007567967062035,0.20516895683465802,0.7541000686165579,-0.3309113870390968,-0.4936760267518312,2.572271277233446,-0.02605875203151911,0.08045314789924392,0.1584800938610056,0.6803979387509251,-1.3445148460765042,1.3938329499040125,-0.799184564003873,-1.4607223497438997,-0.9460192341940437,-1.4607146767131882,0.33623646045912176,0.3717802061751832],\"yaxis\":\"y12\"},{\"line\":{\"color\":\"rgba(128, 128, 128, 1.0)\",\"dash\":\"solid\",\"shape\":\"linear\",\"width\":1.3},\"marker\":{\"size\":2,\"symbol\":\"circle\"},\"mode\":\"markers\",\"name\":\"D\",\"text\":\"\",\"type\":\"scatter\",\"x\":[0.20858928925374165,-0.4342659365804992,0.15224425972204558,-1.4076364859048878,-1.8787133030357686,1.1141016130474,-0.014856903124838405,2.2980934492830407,-0.04537892657460305,0.37251593394002713,1.3160112807008706,-0.17426433245318806,-1.0676051347476219,0.35048603503154846,1.3995954370148027,0.31417325524307427,-0.03901252898133603,-0.7815522712797063,-1.4657470354223352,-0.10963875683423577,0.3414618118686473,1.8556025363714947,0.3857059012861465,0.9980034374445319,1.2369036414452386,-2.2112045923282877,-0.8039465980537963,1.2501257231512457,0.28072647683673607,0.8479650419673018,0.821856776990302,0.33703944666886576,0.2994135796999949,-1.0020739050520817,1.0492375923262964,1.4499683923774385,0.6771778865444542,-1.174173436607878,0.9380903401986462,0.7830429803693706,1.5612080447999004,-0.689867946889579,-0.012595428200974368,-0.07720029034540583,1.4459983734283515,-0.9818107095001324,1.192692753425027,-0.0427350127227039,-0.770256799555548,-2.325516663796394,-0.6431928762709359,0.3153997366164689,0.3874379394644579,1.039847925443799,-0.9392276561472361,0.030043034312859172,1.1374541985603328,-0.6299169960910088,-0.9632572236552438,0.46429902371477966,-0.21188270820025484,-1.071565489388745,-0.18972067388602754,-1.2528521719399608,0.15881994888242676,-0.0378086230861681,1.1167572500107146,0.0006074965995330983,-0.15191943738908428,1.55982623930444,0.6060812113709677,0.07197403153804605,-0.1892256296041631,0.3744916234702504,0.5371723431024327,0.3056813222755168,3.2724431765187476,0.5606360026261016,0.0797615201136642,2.1426154923643996,0.595063512231104,-2.0077243015777624,-1.3920962454797994,-1.496551961908376,0.7760365739615019,0.8822518019486779,1.0019935837931249,-0.6634189590571933,0.07849718855217555,0.059596466005808625,1.075688755634055,1.9898092690768672,0.05738664500122117,-1.1337520231610325,-0.25843487309297164,0.4268716302195559,-2.323477988994405,1.8390982353041838,1.2639675884889168,1.654235242842938],\"xaxis\":\"x13\",\"y\":[-1.7283455634015321,0.7922665076440077,0.3327252928057696,-0.8646777098209107,-0.5533280925795223,-0.7426238658744095,-0.6321761148537716,0.23147476775382012,-0.20636980974607427,-0.8524000612482501,1.6127960625700868,-1.2494970560420666,2.117783435195244,-1.4261041758635733,-0.8427016784683329,-0.41215725897321814,1.482039530159061,-0.8294156366297977,-1.7444749996017128,-1.1463065894063043,-0.23140954513387316,0.04924343091891973,-0.7911997067028309,0.2542396734334467,-0.42101767485548325,0.0343237840568151,0.016933566682258896,1.3545581510054157,0.4476058590792905,0.22846633647061299,-0.6360477412520456,0.3247900932617839,-0.13851588260334996,0.19749265328712912,0.2551145633023773,-0.6318291814297596,-0.05162998288644609,0.29304285314602707,0.6519757198392621,0.362920745861988,2.3164946789860945,3.0661980875647856,-0.2963504023189624,-0.8127184586877536,-2.2064787773448824,-0.7134226445069347,-0.043722477341506236,-0.7139044754895482,-0.538276291943493,1.4108829924568982,1.251182397487324,0.17089238880915805,0.07540264426533289,0.19832996717543896,0.056562449238566036,0.7629953537674873,0.6954930495616684,0.8775097179137081,0.4712989663064789,0.7950901130031898,-0.42165087555391284,-1.341972307314644,-0.26419586310475707,1.2067552694961743,-1.107541927537456,0.30012534153536796,0.8901680688026227,0.7432940876917533,-0.5969048140606085,-1.1202383151916753,0.09471779691404093,-0.47167306445998836,-1.3923362588099217,0.714730829804552,0.1628551757050395,2.850378514067846,-0.5917785616485799,0.7138285756081543,0.5268855062743794,0.07111881361464277,-0.5760903855312549,-0.860973377436933,-1.058674135434395,0.18239213480830674,1.4508107303228437,0.8075923242860772,-1.062296403867526,0.49907103447837614,-0.4316824341811029,-0.6290765911934332,-0.9120857969862319,-0.23865807635605688,0.3266174181627085,-0.06769282445930531,-0.15757269703186888,1.0894928964241457,1.0508563645876903,0.1780094976605929,1.218131315660249,0.38432102125585577],\"yaxis\":\"y13\"},{\"line\":{\"color\":\"rgba(128, 128, 128, 1.0)\",\"dash\":\"solid\",\"shape\":\"linear\",\"width\":1.3},\"marker\":{\"size\":2,\"symbol\":\"circle\"},\"mode\":\"markers\",\"name\":\"D\",\"text\":\"\",\"type\":\"scatter\",\"x\":[-1.0899935075648546,-0.3283429263413677,0.9249715866272701,2.265847442190619,-1.9679748652286901,0.3522242836497475,-0.7922871395287938,-0.9258406713634908,0.8115272195253244,-1.477270976719303,0.1618159952438024,-0.4331539457009914,0.039311567111366276,-0.02441439939200614,0.6172117332234927,-2.340081944963553,3.1702114209761914,-0.36332764722503386,-0.4907725595838416,0.7908863334448771,-1.3709915008208202,0.5630076301719508,-0.08132772990151602,0.23855039987494617,-0.36783653113759457,-2.0583162396779198,0.41011426019927305,0.7360262123316557,0.8578455480892391,0.6692212126530874,-0.29193924207135413,-0.010428464535667108,0.5827342576436385,0.8631295668999309,-0.3887628842023507,0.5621355659822822,0.41242643202681245,0.5400452510501995,-0.8622450348007333,0.8373961616003691,0.7075403616234199,1.50682059694962,-0.8579989529337081,1.966217498627032,-0.8842888279114438,-0.14063222009410747,0.1560775565914649,-1.0318998613338433,0.6938332181045966,0.34902727031895114,-1.2083396070051455,2.2505048443521325,1.4625590755465416,-0.7392605820861616,1.290122175953878,0.03743177695407034,0.15447966905151658,-0.5941001153821971,0.41401637666917435,0.43185474659107764,-0.48564289964242224,0.2120732808572052,-1.2176504747328385,-0.15447459880849224,0.04952072542198867,0.016467999256636306,-0.5074883377420486,0.2853198976723749,1.617705760844643,1.677555201770505,0.27528939747803033,1.2810400539729732,-0.33070951242102525,1.044671936262385,0.07747716330923368,0.3114697652518498,-1.156964461310973,0.7046737117632361,0.17166399704921553,0.046391761412236276,2.0237011484840295,1.0508124503427356,0.7633037621767298,0.910230795208631,-0.6860382779231162,0.8414355798852678,0.20068154971940383,-0.43766497984189995,-1.4456137666739453,0.04206249677159624,-1.7378780010870498,0.3317607911741303,-0.3960625890982911,0.20891188425239193,1.7533600297381258,-0.5744757529482349,-1.2890173304854928,-0.8397499635573618,-0.2703194128703838,0.4006493372053976],\"xaxis\":\"x14\",\"y\":[-1.7283455634015321,0.7922665076440077,0.3327252928057696,-0.8646777098209107,-0.5533280925795223,-0.7426238658744095,-0.6321761148537716,0.23147476775382012,-0.20636980974607427,-0.8524000612482501,1.6127960625700868,-1.2494970560420666,2.117783435195244,-1.4261041758635733,-0.8427016784683329,-0.41215725897321814,1.482039530159061,-0.8294156366297977,-1.7444749996017128,-1.1463065894063043,-0.23140954513387316,0.04924343091891973,-0.7911997067028309,0.2542396734334467,-0.42101767485548325,0.0343237840568151,0.016933566682258896,1.3545581510054157,0.4476058590792905,0.22846633647061299,-0.6360477412520456,0.3247900932617839,-0.13851588260334996,0.19749265328712912,0.2551145633023773,-0.6318291814297596,-0.05162998288644609,0.29304285314602707,0.6519757198392621,0.362920745861988,2.3164946789860945,3.0661980875647856,-0.2963504023189624,-0.8127184586877536,-2.2064787773448824,-0.7134226445069347,-0.043722477341506236,-0.7139044754895482,-0.538276291943493,1.4108829924568982,1.251182397487324,0.17089238880915805,0.07540264426533289,0.19832996717543896,0.056562449238566036,0.7629953537674873,0.6954930495616684,0.8775097179137081,0.4712989663064789,0.7950901130031898,-0.42165087555391284,-1.341972307314644,-0.26419586310475707,1.2067552694961743,-1.107541927537456,0.30012534153536796,0.8901680688026227,0.7432940876917533,-0.5969048140606085,-1.1202383151916753,0.09471779691404093,-0.47167306445998836,-1.3923362588099217,0.714730829804552,0.1628551757050395,2.850378514067846,-0.5917785616485799,0.7138285756081543,0.5268855062743794,0.07111881361464277,-0.5760903855312549,-0.860973377436933,-1.058674135434395,0.18239213480830674,1.4508107303228437,0.8075923242860772,-1.062296403867526,0.49907103447837614,-0.4316824341811029,-0.6290765911934332,-0.9120857969862319,-0.23865807635605688,0.3266174181627085,-0.06769282445930531,-0.15757269703186888,1.0894928964241457,1.0508563645876903,0.1780094976605929,1.218131315660249,0.38432102125585577],\"yaxis\":\"y14\"},{\"line\":{\"color\":\"rgba(128, 128, 128, 1.0)\",\"dash\":\"solid\",\"shape\":\"linear\",\"width\":1.3},\"marker\":{\"size\":2,\"symbol\":\"circle\"},\"mode\":\"markers\",\"name\":\"D\",\"text\":\"\",\"type\":\"scatter\",\"x\":[-0.6050978556691786,-0.9035483715588414,1.3999062316779856,0.20326625575656562,0.7748660360296203,1.382118835963103,-0.3449663271423684,-0.3125784862581155,-0.3921021582767679,-0.4672365319648652,-0.9176971919965744,-0.9407683863484179,-0.02051094093615628,-0.4845090081884112,-0.9027760486508982,0.45408000372627855,1.7797168946307709,-0.849954913019187,-0.9497738918589689,1.115584553680479,0.47623968737877737,0.6777243804013798,-2.423385402585716,-0.05998903497391833,0.9528474830183917,1.9451072560078173,-0.7205616932622801,0.24869698730886125,0.12593843046885547,-0.7613039250440969,-1.1934815064129642,0.32847093291618723,0.03042686379748063,0.3638589261743581,0.8672123584073379,-0.5191918572545234,0.045873495741145395,-0.4991378312981569,0.4760864075563409,2.133103606272648,-1.6368622660538275,-0.8647663574169911,-0.2386827785058121,0.6514580767202643,-2.39366962919686,0.7847164416846397,1.4776485033235072,-0.8468678129426838,-0.1399453487715599,-1.4576847799303292,-0.16729265391285816,0.8104599304351691,0.44724150958933034,-0.239863791295954,-0.39865955278054077,0.392382842023195,0.21053559716010317,-0.7026716843649459,0.20157416306770357,-1.2431794473942575,0.9913120029212691,-0.17674562111069766,-0.8865370921684598,1.2678131780640376,0.6474985704541698,-0.675859866962432,2.2130088393476632,-0.8751745286308837,-0.7309748412210775,-0.7061573864067572,1.7191649168663734,-0.90654523833935,0.9234141064550748,-1.006326053603848,-0.15565505313829398,1.258680446450928,-0.82459549301541,-0.6941048482250396,-1.1526300782529277,-1.9408024035122222,-0.7066046066198953,-0.13820084983001243,0.33007567967062035,0.20516895683465802,0.7541000686165579,-0.3309113870390968,-0.4936760267518312,2.572271277233446,-0.02605875203151911,0.08045314789924392,0.1584800938610056,0.6803979387509251,-1.3445148460765042,1.3938329499040125,-0.799184564003873,-1.4607223497438997,-0.9460192341940437,-1.4607146767131882,0.33623646045912176,0.3717802061751832],\"xaxis\":\"x15\",\"y\":[-1.7283455634015321,0.7922665076440077,0.3327252928057696,-0.8646777098209107,-0.5533280925795223,-0.7426238658744095,-0.6321761148537716,0.23147476775382012,-0.20636980974607427,-0.8524000612482501,1.6127960625700868,-1.2494970560420666,2.117783435195244,-1.4261041758635733,-0.8427016784683329,-0.41215725897321814,1.482039530159061,-0.8294156366297977,-1.7444749996017128,-1.1463065894063043,-0.23140954513387316,0.04924343091891973,-0.7911997067028309,0.2542396734334467,-0.42101767485548325,0.0343237840568151,0.016933566682258896,1.3545581510054157,0.4476058590792905,0.22846633647061299,-0.6360477412520456,0.3247900932617839,-0.13851588260334996,0.19749265328712912,0.2551145633023773,-0.6318291814297596,-0.05162998288644609,0.29304285314602707,0.6519757198392621,0.362920745861988,2.3164946789860945,3.0661980875647856,-0.2963504023189624,-0.8127184586877536,-2.2064787773448824,-0.7134226445069347,-0.043722477341506236,-0.7139044754895482,-0.538276291943493,1.4108829924568982,1.251182397487324,0.17089238880915805,0.07540264426533289,0.19832996717543896,0.056562449238566036,0.7629953537674873,0.6954930495616684,0.8775097179137081,0.4712989663064789,0.7950901130031898,-0.42165087555391284,-1.341972307314644,-0.26419586310475707,1.2067552694961743,-1.107541927537456,0.30012534153536796,0.8901680688026227,0.7432940876917533,-0.5969048140606085,-1.1202383151916753,0.09471779691404093,-0.47167306445998836,-1.3923362588099217,0.714730829804552,0.1628551757050395,2.850378514067846,-0.5917785616485799,0.7138285756081543,0.5268855062743794,0.07111881361464277,-0.5760903855312549,-0.860973377436933,-1.058674135434395,0.18239213480830674,1.4508107303228437,0.8075923242860772,-1.062296403867526,0.49907103447837614,-0.4316824341811029,-0.6290765911934332,-0.9120857969862319,-0.23865807635605688,0.3266174181627085,-0.06769282445930531,-0.15757269703186888,1.0894928964241457,1.0508563645876903,0.1780094976605929,1.218131315660249,0.38432102125585577],\"yaxis\":\"y15\"},{\"histfunc\":\"count\",\"histnorm\":\"\",\"marker\":{\"color\":\"rgba(128, 0, 128, 1.0)\",\"line\":{\"color\":\"#4D5663\",\"width\":1.3}},\"name\":\"D\",\"nbinsx\":10,\"opacity\":0.8,\"orientation\":\"v\",\"type\":\"histogram\",\"x\":[-1.7283455634015321,0.7922665076440077,0.3327252928057696,-0.8646777098209107,-0.5533280925795223,-0.7426238658744095,-0.6321761148537716,0.23147476775382012,-0.20636980974607427,-0.8524000612482501,1.6127960625700868,-1.2494970560420666,2.117783435195244,-1.4261041758635733,-0.8427016784683329,-0.41215725897321814,1.482039530159061,-0.8294156366297977,-1.7444749996017128,-1.1463065894063043,-0.23140954513387316,0.04924343091891973,-0.7911997067028309,0.2542396734334467,-0.42101767485548325,0.0343237840568151,0.016933566682258896,1.3545581510054157,0.4476058590792905,0.22846633647061299,-0.6360477412520456,0.3247900932617839,-0.13851588260334996,0.19749265328712912,0.2551145633023773,-0.6318291814297596,-0.05162998288644609,0.29304285314602707,0.6519757198392621,0.362920745861988,2.3164946789860945,3.0661980875647856,-0.2963504023189624,-0.8127184586877536,-2.2064787773448824,-0.7134226445069347,-0.043722477341506236,-0.7139044754895482,-0.538276291943493,1.4108829924568982,1.251182397487324,0.17089238880915805,0.07540264426533289,0.19832996717543896,0.056562449238566036,0.7629953537674873,0.6954930495616684,0.8775097179137081,0.4712989663064789,0.7950901130031898,-0.42165087555391284,-1.341972307314644,-0.26419586310475707,1.2067552694961743,-1.107541927537456,0.30012534153536796,0.8901680688026227,0.7432940876917533,-0.5969048140606085,-1.1202383151916753,0.09471779691404093,-0.47167306445998836,-1.3923362588099217,0.714730829804552,0.1628551757050395,2.850378514067846,-0.5917785616485799,0.7138285756081543,0.5268855062743794,0.07111881361464277,-0.5760903855312549,-0.860973377436933,-1.058674135434395,0.18239213480830674,1.4508107303228437,0.8075923242860772,-1.062296403867526,0.49907103447837614,-0.4316824341811029,-0.6290765911934332,-0.9120857969862319,-0.23865807635605688,0.3266174181627085,-0.06769282445930531,-0.15757269703186888,1.0894928964241457,1.0508563645876903,0.1780094976605929,1.218131315660249,0.38432102125585577],\"xaxis\":\"x16\",\"yaxis\":\"y16\"}],                        {\"bargap\":0.02,\"legend\":{\"bgcolor\":\"#F5F6F9\",\"font\":{\"color\":\"#4D5663\"}},\"paper_bgcolor\":\"#F5F6F9\",\"plot_bgcolor\":\"#F5F6F9\",\"showlegend\":false,\"template\":{\"data\":{\"bar\":[{\"error_x\":{\"color\":\"#2a3f5f\"},\"error_y\":{\"color\":\"#2a3f5f\"},\"marker\":{\"line\":{\"color\":\"#E5ECF6\",\"width\":0.5},\"pattern\":{\"fillmode\":\"overlay\",\"size\":10,\"solidity\":0.2}},\"type\":\"bar\"}],\"barpolar\":[{\"marker\":{\"line\":{\"color\":\"#E5ECF6\",\"width\":0.5},\"pattern\":{\"fillmode\":\"overlay\",\"size\":10,\"solidity\":0.2}},\"type\":\"barpolar\"}],\"carpet\":[{\"aaxis\":{\"endlinecolor\":\"#2a3f5f\",\"gridcolor\":\"white\",\"linecolor\":\"white\",\"minorgridcolor\":\"white\",\"startlinecolor\":\"#2a3f5f\"},\"baxis\":{\"endlinecolor\":\"#2a3f5f\",\"gridcolor\":\"white\",\"linecolor\":\"white\",\"minorgridcolor\":\"white\",\"startlinecolor\":\"#2a3f5f\"},\"type\":\"carpet\"}],\"choropleth\":[{\"colorbar\":{\"outlinewidth\":0,\"ticks\":\"\"},\"type\":\"choropleth\"}],\"contour\":[{\"colorbar\":{\"outlinewidth\":0,\"ticks\":\"\"},\"colorscale\":[[0.0,\"#0d0887\"],[0.1111111111111111,\"#46039f\"],[0.2222222222222222,\"#7201a8\"],[0.3333333333333333,\"#9c179e\"],[0.4444444444444444,\"#bd3786\"],[0.5555555555555556,\"#d8576b\"],[0.6666666666666666,\"#ed7953\"],[0.7777777777777778,\"#fb9f3a\"],[0.8888888888888888,\"#fdca26\"],[1.0,\"#f0f921\"]],\"type\":\"contour\"}],\"contourcarpet\":[{\"colorbar\":{\"outlinewidth\":0,\"ticks\":\"\"},\"type\":\"contourcarpet\"}],\"heatmap\":[{\"colorbar\":{\"outlinewidth\":0,\"ticks\":\"\"},\"colorscale\":[[0.0,\"#0d0887\"],[0.1111111111111111,\"#46039f\"],[0.2222222222222222,\"#7201a8\"],[0.3333333333333333,\"#9c179e\"],[0.4444444444444444,\"#bd3786\"],[0.5555555555555556,\"#d8576b\"],[0.6666666666666666,\"#ed7953\"],[0.7777777777777778,\"#fb9f3a\"],[0.8888888888888888,\"#fdca26\"],[1.0,\"#f0f921\"]],\"type\":\"heatmap\"}],\"heatmapgl\":[{\"colorbar\":{\"outlinewidth\":0,\"ticks\":\"\"},\"colorscale\":[[0.0,\"#0d0887\"],[0.1111111111111111,\"#46039f\"],[0.2222222222222222,\"#7201a8\"],[0.3333333333333333,\"#9c179e\"],[0.4444444444444444,\"#bd3786\"],[0.5555555555555556,\"#d8576b\"],[0.6666666666666666,\"#ed7953\"],[0.7777777777777778,\"#fb9f3a\"],[0.8888888888888888,\"#fdca26\"],[1.0,\"#f0f921\"]],\"type\":\"heatmapgl\"}],\"histogram\":[{\"marker\":{\"pattern\":{\"fillmode\":\"overlay\",\"size\":10,\"solidity\":0.2}},\"type\":\"histogram\"}],\"histogram2d\":[{\"colorbar\":{\"outlinewidth\":0,\"ticks\":\"\"},\"colorscale\":[[0.0,\"#0d0887\"],[0.1111111111111111,\"#46039f\"],[0.2222222222222222,\"#7201a8\"],[0.3333333333333333,\"#9c179e\"],[0.4444444444444444,\"#bd3786\"],[0.5555555555555556,\"#d8576b\"],[0.6666666666666666,\"#ed7953\"],[0.7777777777777778,\"#fb9f3a\"],[0.8888888888888888,\"#fdca26\"],[1.0,\"#f0f921\"]],\"type\":\"histogram2d\"}],\"histogram2dcontour\":[{\"colorbar\":{\"outlinewidth\":0,\"ticks\":\"\"},\"colorscale\":[[0.0,\"#0d0887\"],[0.1111111111111111,\"#46039f\"],[0.2222222222222222,\"#7201a8\"],[0.3333333333333333,\"#9c179e\"],[0.4444444444444444,\"#bd3786\"],[0.5555555555555556,\"#d8576b\"],[0.6666666666666666,\"#ed7953\"],[0.7777777777777778,\"#fb9f3a\"],[0.8888888888888888,\"#fdca26\"],[1.0,\"#f0f921\"]],\"type\":\"histogram2dcontour\"}],\"mesh3d\":[{\"colorbar\":{\"outlinewidth\":0,\"ticks\":\"\"},\"type\":\"mesh3d\"}],\"parcoords\":[{\"line\":{\"colorbar\":{\"outlinewidth\":0,\"ticks\":\"\"}},\"type\":\"parcoords\"}],\"pie\":[{\"automargin\":true,\"type\":\"pie\"}],\"scatter\":[{\"marker\":{\"colorbar\":{\"outlinewidth\":0,\"ticks\":\"\"}},\"type\":\"scatter\"}],\"scatter3d\":[{\"line\":{\"colorbar\":{\"outlinewidth\":0,\"ticks\":\"\"}},\"marker\":{\"colorbar\":{\"outlinewidth\":0,\"ticks\":\"\"}},\"type\":\"scatter3d\"}],\"scattercarpet\":[{\"marker\":{\"colorbar\":{\"outlinewidth\":0,\"ticks\":\"\"}},\"type\":\"scattercarpet\"}],\"scattergeo\":[{\"marker\":{\"colorbar\":{\"outlinewidth\":0,\"ticks\":\"\"}},\"type\":\"scattergeo\"}],\"scattergl\":[{\"marker\":{\"colorbar\":{\"outlinewidth\":0,\"ticks\":\"\"}},\"type\":\"scattergl\"}],\"scattermapbox\":[{\"marker\":{\"colorbar\":{\"outlinewidth\":0,\"ticks\":\"\"}},\"type\":\"scattermapbox\"}],\"scatterpolar\":[{\"marker\":{\"colorbar\":{\"outlinewidth\":0,\"ticks\":\"\"}},\"type\":\"scatterpolar\"}],\"scatterpolargl\":[{\"marker\":{\"colorbar\":{\"outlinewidth\":0,\"ticks\":\"\"}},\"type\":\"scatterpolargl\"}],\"scatterternary\":[{\"marker\":{\"colorbar\":{\"outlinewidth\":0,\"ticks\":\"\"}},\"type\":\"scatterternary\"}],\"surface\":[{\"colorbar\":{\"outlinewidth\":0,\"ticks\":\"\"},\"colorscale\":[[0.0,\"#0d0887\"],[0.1111111111111111,\"#46039f\"],[0.2222222222222222,\"#7201a8\"],[0.3333333333333333,\"#9c179e\"],[0.4444444444444444,\"#bd3786\"],[0.5555555555555556,\"#d8576b\"],[0.6666666666666666,\"#ed7953\"],[0.7777777777777778,\"#fb9f3a\"],[0.8888888888888888,\"#fdca26\"],[1.0,\"#f0f921\"]],\"type\":\"surface\"}],\"table\":[{\"cells\":{\"fill\":{\"color\":\"#EBF0F8\"},\"line\":{\"color\":\"white\"}},\"header\":{\"fill\":{\"color\":\"#C8D4E3\"},\"line\":{\"color\":\"white\"}},\"type\":\"table\"}]},\"layout\":{\"annotationdefaults\":{\"arrowcolor\":\"#2a3f5f\",\"arrowhead\":0,\"arrowwidth\":1},\"autotypenumbers\":\"strict\",\"coloraxis\":{\"colorbar\":{\"outlinewidth\":0,\"ticks\":\"\"}},\"colorscale\":{\"diverging\":[[0,\"#8e0152\"],[0.1,\"#c51b7d\"],[0.2,\"#de77ae\"],[0.3,\"#f1b6da\"],[0.4,\"#fde0ef\"],[0.5,\"#f7f7f7\"],[0.6,\"#e6f5d0\"],[0.7,\"#b8e186\"],[0.8,\"#7fbc41\"],[0.9,\"#4d9221\"],[1,\"#276419\"]],\"sequential\":[[0.0,\"#0d0887\"],[0.1111111111111111,\"#46039f\"],[0.2222222222222222,\"#7201a8\"],[0.3333333333333333,\"#9c179e\"],[0.4444444444444444,\"#bd3786\"],[0.5555555555555556,\"#d8576b\"],[0.6666666666666666,\"#ed7953\"],[0.7777777777777778,\"#fb9f3a\"],[0.8888888888888888,\"#fdca26\"],[1.0,\"#f0f921\"]],\"sequentialminus\":[[0.0,\"#0d0887\"],[0.1111111111111111,\"#46039f\"],[0.2222222222222222,\"#7201a8\"],[0.3333333333333333,\"#9c179e\"],[0.4444444444444444,\"#bd3786\"],[0.5555555555555556,\"#d8576b\"],[0.6666666666666666,\"#ed7953\"],[0.7777777777777778,\"#fb9f3a\"],[0.8888888888888888,\"#fdca26\"],[1.0,\"#f0f921\"]]},\"colorway\":[\"#636efa\",\"#EF553B\",\"#00cc96\",\"#ab63fa\",\"#FFA15A\",\"#19d3f3\",\"#FF6692\",\"#B6E880\",\"#FF97FF\",\"#FECB52\"],\"font\":{\"color\":\"#2a3f5f\"},\"geo\":{\"bgcolor\":\"white\",\"lakecolor\":\"white\",\"landcolor\":\"#E5ECF6\",\"showlakes\":true,\"showland\":true,\"subunitcolor\":\"white\"},\"hoverlabel\":{\"align\":\"left\"},\"hovermode\":\"closest\",\"mapbox\":{\"style\":\"light\"},\"paper_bgcolor\":\"white\",\"plot_bgcolor\":\"#E5ECF6\",\"polar\":{\"angularaxis\":{\"gridcolor\":\"white\",\"linecolor\":\"white\",\"ticks\":\"\"},\"bgcolor\":\"#E5ECF6\",\"radialaxis\":{\"gridcolor\":\"white\",\"linecolor\":\"white\",\"ticks\":\"\"}},\"scene\":{\"xaxis\":{\"backgroundcolor\":\"#E5ECF6\",\"gridcolor\":\"white\",\"gridwidth\":2,\"linecolor\":\"white\",\"showbackground\":true,\"ticks\":\"\",\"zerolinecolor\":\"white\"},\"yaxis\":{\"backgroundcolor\":\"#E5ECF6\",\"gridcolor\":\"white\",\"gridwidth\":2,\"linecolor\":\"white\",\"showbackground\":true,\"ticks\":\"\",\"zerolinecolor\":\"white\"},\"zaxis\":{\"backgroundcolor\":\"#E5ECF6\",\"gridcolor\":\"white\",\"gridwidth\":2,\"linecolor\":\"white\",\"showbackground\":true,\"ticks\":\"\",\"zerolinecolor\":\"white\"}},\"shapedefaults\":{\"line\":{\"color\":\"#2a3f5f\"}},\"ternary\":{\"aaxis\":{\"gridcolor\":\"white\",\"linecolor\":\"white\",\"ticks\":\"\"},\"baxis\":{\"gridcolor\":\"white\",\"linecolor\":\"white\",\"ticks\":\"\"},\"bgcolor\":\"#E5ECF6\",\"caxis\":{\"gridcolor\":\"white\",\"linecolor\":\"white\",\"ticks\":\"\"}},\"title\":{\"x\":0.05},\"xaxis\":{\"automargin\":true,\"gridcolor\":\"white\",\"linecolor\":\"white\",\"ticks\":\"\",\"title\":{\"standoff\":15},\"zerolinecolor\":\"white\",\"zerolinewidth\":2},\"yaxis\":{\"automargin\":true,\"gridcolor\":\"white\",\"linecolor\":\"white\",\"ticks\":\"\",\"title\":{\"standoff\":15},\"zerolinecolor\":\"white\",\"zerolinewidth\":2}}},\"title\":{\"font\":{\"color\":\"#4D5663\"}},\"xaxis\":{\"anchor\":\"y\",\"domain\":[0.0,0.2125],\"gridcolor\":\"#E1E5ED\",\"showgrid\":false,\"tickfont\":{\"color\":\"#4D5663\"},\"title\":{\"font\":{\"color\":\"#4D5663\"},\"text\":\"\"},\"zerolinecolor\":\"#E1E5ED\"},\"xaxis10\":{\"anchor\":\"y10\",\"domain\":[0.2625,0.475],\"gridcolor\":\"#E1E5ED\",\"showgrid\":false,\"tickfont\":{\"color\":\"#4D5663\"},\"title\":{\"font\":{\"color\":\"#4D5663\"},\"text\":\"\"},\"zerolinecolor\":\"#E1E5ED\"},\"xaxis11\":{\"anchor\":\"y11\",\"domain\":[0.525,0.7375],\"gridcolor\":\"#E1E5ED\",\"showgrid\":false,\"tickfont\":{\"color\":\"#4D5663\"},\"title\":{\"font\":{\"color\":\"#4D5663\"},\"text\":\"\"},\"zerolinecolor\":\"#E1E5ED\"},\"xaxis12\":{\"anchor\":\"y12\",\"domain\":[0.7875,1.0],\"gridcolor\":\"#E1E5ED\",\"showgrid\":false,\"tickfont\":{\"color\":\"#4D5663\"},\"title\":{\"font\":{\"color\":\"#4D5663\"},\"text\":\"\"},\"zerolinecolor\":\"#E1E5ED\"},\"xaxis13\":{\"anchor\":\"y13\",\"domain\":[0.0,0.2125],\"gridcolor\":\"#E1E5ED\",\"showgrid\":false,\"tickfont\":{\"color\":\"#4D5663\"},\"title\":{\"font\":{\"color\":\"#4D5663\"},\"text\":\"\"},\"zerolinecolor\":\"#E1E5ED\"},\"xaxis14\":{\"anchor\":\"y14\",\"domain\":[0.2625,0.475],\"gridcolor\":\"#E1E5ED\",\"showgrid\":false,\"tickfont\":{\"color\":\"#4D5663\"},\"title\":{\"font\":{\"color\":\"#4D5663\"},\"text\":\"\"},\"zerolinecolor\":\"#E1E5ED\"},\"xaxis15\":{\"anchor\":\"y15\",\"domain\":[0.525,0.7375],\"gridcolor\":\"#E1E5ED\",\"showgrid\":false,\"tickfont\":{\"color\":\"#4D5663\"},\"title\":{\"font\":{\"color\":\"#4D5663\"},\"text\":\"\"},\"zerolinecolor\":\"#E1E5ED\"},\"xaxis16\":{\"anchor\":\"y16\",\"domain\":[0.7875,1.0],\"gridcolor\":\"#E1E5ED\",\"showgrid\":false,\"tickfont\":{\"color\":\"#4D5663\"},\"title\":{\"font\":{\"color\":\"#4D5663\"},\"text\":\"\"},\"zerolinecolor\":\"#E1E5ED\"},\"xaxis2\":{\"anchor\":\"y2\",\"domain\":[0.2625,0.475],\"gridcolor\":\"#E1E5ED\",\"showgrid\":false,\"tickfont\":{\"color\":\"#4D5663\"},\"title\":{\"font\":{\"color\":\"#4D5663\"},\"text\":\"\"},\"zerolinecolor\":\"#E1E5ED\"},\"xaxis3\":{\"anchor\":\"y3\",\"domain\":[0.525,0.7375],\"gridcolor\":\"#E1E5ED\",\"showgrid\":false,\"tickfont\":{\"color\":\"#4D5663\"},\"title\":{\"font\":{\"color\":\"#4D5663\"},\"text\":\"\"},\"zerolinecolor\":\"#E1E5ED\"},\"xaxis4\":{\"anchor\":\"y4\",\"domain\":[0.7875,1.0],\"gridcolor\":\"#E1E5ED\",\"showgrid\":false,\"tickfont\":{\"color\":\"#4D5663\"},\"title\":{\"font\":{\"color\":\"#4D5663\"},\"text\":\"\"},\"zerolinecolor\":\"#E1E5ED\"},\"xaxis5\":{\"anchor\":\"y5\",\"domain\":[0.0,0.2125],\"gridcolor\":\"#E1E5ED\",\"showgrid\":false,\"tickfont\":{\"color\":\"#4D5663\"},\"title\":{\"font\":{\"color\":\"#4D5663\"},\"text\":\"\"},\"zerolinecolor\":\"#E1E5ED\"},\"xaxis6\":{\"anchor\":\"y6\",\"domain\":[0.2625,0.475],\"gridcolor\":\"#E1E5ED\",\"showgrid\":false,\"tickfont\":{\"color\":\"#4D5663\"},\"title\":{\"font\":{\"color\":\"#4D5663\"},\"text\":\"\"},\"zerolinecolor\":\"#E1E5ED\"},\"xaxis7\":{\"anchor\":\"y7\",\"domain\":[0.525,0.7375],\"gridcolor\":\"#E1E5ED\",\"showgrid\":false,\"tickfont\":{\"color\":\"#4D5663\"},\"title\":{\"font\":{\"color\":\"#4D5663\"},\"text\":\"\"},\"zerolinecolor\":\"#E1E5ED\"},\"xaxis8\":{\"anchor\":\"y8\",\"domain\":[0.7875,1.0],\"gridcolor\":\"#E1E5ED\",\"showgrid\":false,\"tickfont\":{\"color\":\"#4D5663\"},\"title\":{\"font\":{\"color\":\"#4D5663\"},\"text\":\"\"},\"zerolinecolor\":\"#E1E5ED\"},\"xaxis9\":{\"anchor\":\"y9\",\"domain\":[0.0,0.2125],\"gridcolor\":\"#E1E5ED\",\"showgrid\":false,\"tickfont\":{\"color\":\"#4D5663\"},\"title\":{\"font\":{\"color\":\"#4D5663\"},\"text\":\"\"},\"zerolinecolor\":\"#E1E5ED\"},\"yaxis\":{\"anchor\":\"x\",\"domain\":[0.8025,1.0],\"gridcolor\":\"#E1E5ED\",\"showgrid\":false,\"tickfont\":{\"color\":\"#4D5663\"},\"title\":{\"font\":{\"color\":\"#4D5663\"},\"text\":\"\"},\"zerolinecolor\":\"#E1E5ED\"},\"yaxis10\":{\"anchor\":\"x10\",\"domain\":[0.2675,0.465],\"gridcolor\":\"#E1E5ED\",\"showgrid\":false,\"tickfont\":{\"color\":\"#4D5663\"},\"title\":{\"font\":{\"color\":\"#4D5663\"},\"text\":\"\"},\"zerolinecolor\":\"#E1E5ED\"},\"yaxis11\":{\"anchor\":\"x11\",\"domain\":[0.2675,0.465],\"gridcolor\":\"#E1E5ED\",\"showgrid\":false,\"tickfont\":{\"color\":\"#4D5663\"},\"title\":{\"font\":{\"color\":\"#4D5663\"},\"text\":\"\"},\"zerolinecolor\":\"#E1E5ED\"},\"yaxis12\":{\"anchor\":\"x12\",\"domain\":[0.2675,0.465],\"gridcolor\":\"#E1E5ED\",\"showgrid\":false,\"tickfont\":{\"color\":\"#4D5663\"},\"title\":{\"font\":{\"color\":\"#4D5663\"},\"text\":\"\"},\"zerolinecolor\":\"#E1E5ED\"},\"yaxis13\":{\"anchor\":\"x13\",\"domain\":[0.0,0.1975],\"gridcolor\":\"#E1E5ED\",\"showgrid\":false,\"tickfont\":{\"color\":\"#4D5663\"},\"title\":{\"font\":{\"color\":\"#4D5663\"},\"text\":\"\"},\"zerolinecolor\":\"#E1E5ED\"},\"yaxis14\":{\"anchor\":\"x14\",\"domain\":[0.0,0.1975],\"gridcolor\":\"#E1E5ED\",\"showgrid\":false,\"tickfont\":{\"color\":\"#4D5663\"},\"title\":{\"font\":{\"color\":\"#4D5663\"},\"text\":\"\"},\"zerolinecolor\":\"#E1E5ED\"},\"yaxis15\":{\"anchor\":\"x15\",\"domain\":[0.0,0.1975],\"gridcolor\":\"#E1E5ED\",\"showgrid\":false,\"tickfont\":{\"color\":\"#4D5663\"},\"title\":{\"font\":{\"color\":\"#4D5663\"},\"text\":\"\"},\"zerolinecolor\":\"#E1E5ED\"},\"yaxis16\":{\"anchor\":\"x16\",\"domain\":[0.0,0.1975],\"gridcolor\":\"#E1E5ED\",\"showgrid\":false,\"tickfont\":{\"color\":\"#4D5663\"},\"title\":{\"font\":{\"color\":\"#4D5663\"},\"text\":\"\"},\"zerolinecolor\":\"#E1E5ED\"},\"yaxis2\":{\"anchor\":\"x2\",\"domain\":[0.8025,1.0],\"gridcolor\":\"#E1E5ED\",\"showgrid\":false,\"tickfont\":{\"color\":\"#4D5663\"},\"title\":{\"font\":{\"color\":\"#4D5663\"},\"text\":\"\"},\"zerolinecolor\":\"#E1E5ED\"},\"yaxis3\":{\"anchor\":\"x3\",\"domain\":[0.8025,1.0],\"gridcolor\":\"#E1E5ED\",\"showgrid\":false,\"tickfont\":{\"color\":\"#4D5663\"},\"title\":{\"font\":{\"color\":\"#4D5663\"},\"text\":\"\"},\"zerolinecolor\":\"#E1E5ED\"},\"yaxis4\":{\"anchor\":\"x4\",\"domain\":[0.8025,1.0],\"gridcolor\":\"#E1E5ED\",\"showgrid\":false,\"tickfont\":{\"color\":\"#4D5663\"},\"title\":{\"font\":{\"color\":\"#4D5663\"},\"text\":\"\"},\"zerolinecolor\":\"#E1E5ED\"},\"yaxis5\":{\"anchor\":\"x5\",\"domain\":[0.535,0.7325],\"gridcolor\":\"#E1E5ED\",\"showgrid\":false,\"tickfont\":{\"color\":\"#4D5663\"},\"title\":{\"font\":{\"color\":\"#4D5663\"},\"text\":\"\"},\"zerolinecolor\":\"#E1E5ED\"},\"yaxis6\":{\"anchor\":\"x6\",\"domain\":[0.535,0.7325],\"gridcolor\":\"#E1E5ED\",\"showgrid\":false,\"tickfont\":{\"color\":\"#4D5663\"},\"title\":{\"font\":{\"color\":\"#4D5663\"},\"text\":\"\"},\"zerolinecolor\":\"#E1E5ED\"},\"yaxis7\":{\"anchor\":\"x7\",\"domain\":[0.535,0.7325],\"gridcolor\":\"#E1E5ED\",\"showgrid\":false,\"tickfont\":{\"color\":\"#4D5663\"},\"title\":{\"font\":{\"color\":\"#4D5663\"},\"text\":\"\"},\"zerolinecolor\":\"#E1E5ED\"},\"yaxis8\":{\"anchor\":\"x8\",\"domain\":[0.535,0.7325],\"gridcolor\":\"#E1E5ED\",\"showgrid\":false,\"tickfont\":{\"color\":\"#4D5663\"},\"title\":{\"font\":{\"color\":\"#4D5663\"},\"text\":\"\"},\"zerolinecolor\":\"#E1E5ED\"},\"yaxis9\":{\"anchor\":\"x9\",\"domain\":[0.2675,0.465],\"gridcolor\":\"#E1E5ED\",\"showgrid\":false,\"tickfont\":{\"color\":\"#4D5663\"},\"title\":{\"font\":{\"color\":\"#4D5663\"},\"text\":\"\"},\"zerolinecolor\":\"#E1E5ED\"}},                        {\"showLink\": true, \"linkText\": \"Export to plot.ly\", \"plotlyServerURL\": \"https://plot.ly\", \"responsive\": true}                    ).then(function(){\n",
       "                            \n",
       "var gd = document.getElementById('ca6f9131-dc7b-4e16-a414-f705afb7d006');\n",
       "var x = new MutationObserver(function (mutations, observer) {{\n",
       "        var display = window.getComputedStyle(gd).display;\n",
       "        if (!display || display === 'none') {{\n",
       "            console.log([gd, 'removed!']);\n",
       "            Plotly.purge(gd);\n",
       "            observer.disconnect();\n",
       "        }}\n",
       "}});\n",
       "\n",
       "// Listen for the removal of the full notebook cells\n",
       "var notebookContainer = gd.closest('#notebook-container');\n",
       "if (notebookContainer) {{\n",
       "    x.observe(notebookContainer, {childList: true});\n",
       "}}\n",
       "\n",
       "// Listen for the clearing of the current output cell\n",
       "var outputEl = gd.closest('.output');\n",
       "if (outputEl) {{\n",
       "    x.observe(outputEl, {childList: true});\n",
       "}}\n",
       "\n",
       "                        })                };                });            </script>        </div>"
      ]
     },
     "metadata": {},
     "output_type": "display_data"
    }
   ],
   "source": [
    "df.scatter_matrix()"
   ]
  },
  {
   "cell_type": "code",
   "execution_count": null,
   "id": "5f0adad0",
   "metadata": {},
   "outputs": [],
   "source": []
  }
 ],
 "metadata": {
  "kernelspec": {
   "display_name": "Python 3",
   "language": "python",
   "name": "python3"
  },
  "language_info": {
   "codemirror_mode": {
    "name": "ipython",
    "version": 3
   },
   "file_extension": ".py",
   "mimetype": "text/x-python",
   "name": "python",
   "nbconvert_exporter": "python",
   "pygments_lexer": "ipython3",
   "version": "3.8.5"
  }
 },
 "nbformat": 4,
 "nbformat_minor": 5
}
