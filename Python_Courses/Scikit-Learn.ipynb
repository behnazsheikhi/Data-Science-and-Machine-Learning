{
 "cells": [
  {
   "cell_type": "markdown",
   "id": "2821a9fb",
   "metadata": {},
   "source": [
    "# import model"
   ]
  },
  {
   "cell_type": "code",
   "execution_count": 8,
   "id": "863e9258",
   "metadata": {},
   "outputs": [],
   "source": [
    "# from sklearn.family import model"
   ]
  },
  {
   "cell_type": "code",
   "execution_count": 9,
   "id": "7c7c22d2",
   "metadata": {},
   "outputs": [],
   "source": [
    "from sklearn.linear_model import LinearRegression"
   ]
  },
  {
   "cell_type": "markdown",
   "id": "9ec8cf67",
   "metadata": {},
   "source": [
    "# Set Parameter to the Model"
   ]
  },
  {
   "cell_type": "code",
   "execution_count": 7,
   "id": "fd9534bd",
   "metadata": {},
   "outputs": [
    {
     "name": "stdout",
     "output_type": "stream",
     "text": [
      "LinearRegression(normalize=True)\n"
     ]
    }
   ],
   "source": [
    "model=LinearRegression(normalize=True)\n",
    "print(model)"
   ]
  },
  {
   "cell_type": "code",
   "execution_count": 10,
   "id": "2f89a075",
   "metadata": {},
   "outputs": [],
   "source": [
    "import numpy as np"
   ]
  },
  {
   "cell_type": "code",
   "execution_count": 14,
   "id": "d7d902d2",
   "metadata": {},
   "outputs": [],
   "source": [
    "from sklearn.model_selection import train_test_split"
   ]
  },
  {
   "cell_type": "code",
   "execution_count": 19,
   "id": "7f615016",
   "metadata": {},
   "outputs": [
    {
     "name": "stdout",
     "output_type": "stream",
     "text": [
      "[[0 1]\n",
      " [2 3]\n",
      " [4 5]\n",
      " [6 7]\n",
      " [8 9]]\n",
      "range(0, 5)\n"
     ]
    }
   ],
   "source": [
    "x,y=np.arange(10).reshape((5,2)),range(5)\n",
    "print(x)\n",
    "print(y)"
   ]
  },
  {
   "cell_type": "code",
   "execution_count": 21,
   "id": "54d309cf",
   "metadata": {},
   "outputs": [
    {
     "name": "stdout",
     "output_type": "stream",
     "text": [
      "x_train:[[4 5]\n",
      " [2 3]\n",
      " [6 7]]\n",
      "x_test:[[8 9]\n",
      " [0 1]]\n",
      "y_train:[2, 1, 3]\n",
      "y_test:[4, 0]\n"
     ]
    }
   ],
   "source": [
    "x_train,x_test,y_train,y_test=train_test_split(x,y,test_size=0.3)\n",
    "print('x_train:{}'.format(x_train))\n",
    "print('x_test:{}'.format(x_test))\n",
    "print('y_train:{}'.format(y_train))\n",
    "print('y_test:{}'.format(y_test))"
   ]
  },
  {
   "cell_type": "code",
   "execution_count": null,
   "id": "becf3c52",
   "metadata": {},
   "outputs": [],
   "source": []
  }
 ],
 "metadata": {
  "kernelspec": {
   "display_name": "Python 3",
   "language": "python",
   "name": "python3"
  },
  "language_info": {
   "codemirror_mode": {
    "name": "ipython",
    "version": 3
   },
   "file_extension": ".py",
   "mimetype": "text/x-python",
   "name": "python",
   "nbconvert_exporter": "python",
   "pygments_lexer": "ipython3",
   "version": "3.8.10"
  }
 },
 "nbformat": 4,
 "nbformat_minor": 5
}
